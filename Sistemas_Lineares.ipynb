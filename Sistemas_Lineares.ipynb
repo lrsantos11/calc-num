{
 "cells": [
  {
   "cell_type": "markdown",
   "metadata": {},
   "source": [
    "# Sistemas Lineares\n",
    "\n",
    "Um dos problemas mais clássicos em computação científica é a resolução de sistemas lineares. Isso se dá por pelo menos dois motivos:\n",
    "\n",
    "1. Sabemos resolvê-los bem. Ou seja, temos confiança que conseguimos resolver com alta precisão e de forma eficiente sistemas lineares com um número enorme de variáveis.\n",
    "\n",
    "1. Outros problemas importantes podem ser reduzidos à solução de um ou mais sistemas lineares (potencialmente grandes, potencialmente infinitos).\n",
    "\n",
    "Por isso vamos estudá-los durante as próximas aulas. Vamos começar estabelecendo um pouco de notação e recordando o que já sabemos sobre a solução de sistemas lineares.\n",
    "\n",
    "Lembramos inicialmente que qualquer sistema linear de $n$ variáveis e $n$ incógnitas pode ser descrito em forma matricial. Ou seja, podemos descrever o problema de resolução de sistemas por uma equação.\n",
    "\\begin{equation*}\n",
    "Ax = b,\n",
    "\\end{equation*}\n",
    "em que $A$ é uma matriz de $\\mathbb{R}^{n \\times n}$ e $b$ um vetor do $\\mathbb{R}^n$. É claro que também é possível usar o mesmo tipo de notação para sistemas com números diferentes entre variáveis e incógnitas e nesse caso a matriz deixa de ser quadrada.\n",
    "\n",
    "Uma primeira pergunta natural é: Quão fácil é resolver um sistema? A resposta para isso não é única. Pensando em um sistema geral, com centenas de variáveis por exemplo, ficamos com a impressão que é muito difícil. Mas se a matriz $A$ tiver estrutura especial, pode ser que a resolução do sistema seja fácil. Dois exemplos são:\n",
    "\n",
    "* $A$ é a identidade. Nesse caso o solução é trivial $x = b$.\n",
    "* $A$ é diagonal (todos os elementos fora da diagonal principal de $A$ são nulos). Mais uma vez a solução do sistema também é fácil, basta definir $x_i = b_i / a_{ii},\\ i = 1, \\ldots, n$, considerando que todos os elementos da diagonal são não nulos.\n",
    "   \n",
    "## Sistemas triangulares\n",
    "   \n",
    "Outro caso interessante ocorre quando $A$ é triangular inferior, ou superior, com todos os elementos da diagonal não nulos. Nesse caso podemos resolver o sistema por substituição. Vejamos um exemplo triangular superior.\n",
    "\n",
    "\\begin{equation*}\n",
    "\\left\\{\n",
    "\\begin{array}{lclclcll}\n",
    "a_{11}x_1 &+& a_{12}x_2 &+& a_{13}x_3 &+& a_{14}x_4 &= b_1 \\\\\n",
    "          & & a_{22}x_2 &+& a_{23}x_3 &+& a_{24}x_4 &= b_2 \\\\\n",
    "          & &           & & a_{33}x_3 &+& a_{34}x_4 &= b_3 \\\\\n",
    "          & &           & &           & & a_{44}x_4 &= b_4. \n",
    "\\end{array}\n",
    "\\right.\n",
    "\\end{equation*}\n",
    "\n",
    "Nesse caso é fácil achar o valor de $x_4$ usando a última equação. Susbtituindo o valor encontrado na penúltima equação passa a ser fácil encontrar encontrar o valor de $x_3$ e a assim por diante. Obtemos:\n",
    "\n",
    "\\begin{align*}\n",
    "x_4 &= b_4 / a_{44} \\\\\n",
    "x_3 &= (b_3 - a_{34} x_4)/a_{33} \\\\\n",
    "x_2 &= (b_2 - a_{23} x_3 - a_{24} x_4)/a_{22} \\\\\n",
    "x_1 &= (b_1 - a_{12}x_2 - a_{13} x_3 - a_{14} x_4)/a_{11}. \\\\\n",
    "\\end{align*}\n",
    "\n",
    "Isso pode ser facilmente generalizado para o caso de mais variáveis. Chegamos à fórmula\n",
    "\\begin{equation}\n",
    "x_i = \\frac{b_i - \\sum_{j = i + 1}^n a_{ij} x_j}{a_{ii}},\\ i = 1, \\ldots, n.\n",
    "\\end{equation}\n",
    "\n",
    "Agora, o curso de Cálculo Numérico não é apenas um curso de Matemática, então para nós não basta deduzir as fórmulas, temos que pensar um pouco como implementá-las. Vamos então apresentar uma rotina simples que resolve um sistema por (retro) substituição."
   ]
  },
  {
   "cell_type": "code",
   "execution_count": 4,
   "metadata": {},
   "outputs": [
    {
     "name": "stdout",
     "output_type": "stream",
     "text": [
      "Solucao obtida é [-0.904762, 0.266667, 0.457143]\n",
      "A*sol, deveria ser igual a b: [1.0, 4.0, 3.2][1.0, 4.0, 3.2]\n"
     ]
    }
   ],
   "source": [
    "# Funcao para resolver sistema triangular superior por retro substituicao\n",
    "function retro_substituicao(A, b)\n",
    "    n = length(b)\n",
    "    x = Array{Float64}(n)\n",
    "    x[n] = b[n]/A[n, n]\n",
    "    for i = n - 1:-1:1\n",
    "        # Note que abaixo usamos a notacao de Julia e outras linguagens\n",
    "        # que permite manipular múltiplos elementos de um vetor ou\n",
    "        # matriz por vez.\n",
    "        x[i] = (b[i] - dot(A[i, i + 1:end], x[i + 1:end]))/A[i, i]\n",
    "    end\n",
    "    return x\n",
    "end\n",
    "\n",
    "# Dados para teste\n",
    "A = [1.0 2 3; 0 3 7; 0 0 7]\n",
    "b = [1.0, 4, 3.2]\n",
    "\n",
    "# Resolve o sistema\n",
    "sol = retro_substituicao(A, b)\n",
    "println(\"Solucao obtida é \", sol)\n",
    "\n",
    "# Verifica a resposta\n",
    "println(\"A*sol, deveria ser igual a b: \", A*sol, b)"
   ]
  },
  {
   "cell_type": "markdown",
   "metadata": {},
   "source": [
    "Um exercício interessante é escrever a versão do código para resolução de sistemas que são triangulares inferiores. Nesse caso a variável da solução que pode ser obtida imediatamente é $x_1$ e não mais $x_n$. A partir dela se obtém $x_2$ continuando até $x_n$. Que tal fazer isso na caixa de programa abaixo?\n"
   ]
  },
  {
   "cell_type": "code",
   "execution_count": 2,
   "metadata": {
    "collapsed": true
   },
   "outputs": [],
   "source": [
    "# Tente implementar e testar uma rotina de substituicao para frente \n",
    "# (para sistemas triangulares inferiores) aqui e faca alguns testes.\n"
   ]
  },
  {
   "cell_type": "markdown",
   "metadata": {},
   "source": [
    "## Sistemas gerais\n",
    "\n",
    "Agora o que fazer quando nos deparamos com um sistema geral como abaixo?\n",
    "\n",
    "\\begin{equation}\n",
    "\\left\\{\n",
    "\\begin{array}{lclclcll}\n",
    "2x_1 &+& 3x_2 &+& x_3  &+& x_4  &= 3 \\\\\n",
    "4x_1 &+& 7x_2 &+& 4x_3 &+& 3x_4 &= 6 \\\\\n",
    "4x_1 &+& 7x_2 &+& 6x_3 &+& 4x_4 &= 4 \\\\\n",
    "6x_1 &+& 9x_2 &+& 9x_3 &+& 8x_4 &= 3.\n",
    "\\end{array}\n",
    "\\right.\n",
    "\\end{equation}\n",
    "\n",
    "Uma abordagem para isso, que é ensinada no ensino médio, é a ideia de *escalonamento*. Busca-se introduzir zeros nos coeficientes da primeira coluna das equações 2 em diante (para baixo). Depois transformamos em zeros os coeficientes da segunda coluna da equação 3 para frente e assim sucessivamente. O objetivo, é claro, é obter um sistema triangular equivalente ao sistema original. Para isso precisamos introduzir os zeros usando operações que preservem as soluções do sistema original. Isso pode ser feito usando-se operações elementares.\n",
    "\n",
    "### Operações elementares\n",
    "\n",
    "1. Multiplicar uma equação por um escalar não nulo.\n",
    "1. Trocar duas equações de lugar.\n",
    "1. Somar/Subtrair uma equação a outra.\n",
    "\n",
    "Por exemplo, podemos introduzir um zero no primeiro coeficiente da segunda equação multiplicando a primeira linha por $-2$ e somando o resultado a segunda. Obteríamos então o sistema:\n",
    "\\begin{equation}\n",
    "\\left\\{\n",
    "\\begin{array}{lclclcll}\n",
    "2x_1 &+& 3x_2 &+& x_3  &+& x_4  &= 3 \\\\\n",
    "     &+&  x_2 &+& 2x_3 &+& x_4  &= 0 \\\\\n",
    "4x_1 &+& 7x_2 &+& 6x_3 &+& 4x_4 &= 4 \\\\\n",
    "6x_1 &+& 9x_2 &+& 9x_3 &+& 8x_4 &= 3.\n",
    "\\end{array}\n",
    "\\right.\n",
    "\\end{equation}\n",
    "\n",
    "Outro fato interessante, que pode nos aproximar de uma implementação, é que as variáveis aparecem acima apenas por comodidade ou costume. A única informação que é realmente importante são os coeficientes e o lado direito. Isso sugere mais uma vez usar uma representação matricial do sistema. O sistema original poderia então ser representado por:\n",
    "\\begin{equation}\n",
    "\\left[\n",
    "\\begin{array}{llll|l}\n",
    "2 & 3 & 1 & 1 & 3 \\\\\n",
    "4 & 7 & 4 & 3 & 6 \\\\\n",
    "4 & 7 & 6 & 4 & 4 \\\\\n",
    "6 & 9 & 9 & 8 & 3.\n",
    "\\end{array}\n",
    "\\right].\n",
    "\\end{equation}\n",
    "\n",
    "Já o sistema transformado, após colocar um zero na posição $(2, 1)$ seria\n",
    "\\begin{equation}\n",
    "\\left[\n",
    "\\begin{array}{llll|l}\n",
    "2 & 3 & 1 & 1 & 3 \\\\\n",
    "0 & 1 & 2 & 1 & 0 \\\\\n",
    "4 & 7 & 6 & 4 & 4 \\\\\n",
    "6 & 9 & 9 & 8 & 3.\n",
    "\\end{array}\n",
    "\\right].\n",
    "\\end{equation}\n",
    "\n",
    "É claro que podemos colocar zeros também nas posições 3 e 4 da primeira coluna. Para isso basta somar à terceira linha mais uma vez $-2$ vezes a primeira. O coeficiente usado na multiplicação nada mais é do que o negativo valor da posição que se quer zerar divido pelo elemento que está na posição $1 \\times 1$. Já para colocar um zero na posição $(4, 1)$ devemos somar à quarta $-3$ vezes a primeira. Mais uma vez o coeficiente $-3$ usado é obtido através da divisão entre o negativo do número que está na posição que deve ser eliminada dividido pelo número que está em $(1, 1)$. Vamos fazer isso, mas usando Julia. "
   ]
  },
  {
   "cell_type": "code",
   "execution_count": 5,
   "metadata": {},
   "outputs": [
    {
     "name": "stdout",
     "output_type": "stream",
     "text": [
      "Sistema\n"
     ]
    },
    {
     "data": {
      "text/plain": [
       "4×5 Array{Float64,2}:\n",
       " 2.0  3.0  1.0  1.0  3.0\n",
       " 0.0  1.0  2.0  1.0  0.0\n",
       " 4.0  7.0  6.0  4.0  4.0\n",
       " 6.0  9.0  9.0  8.0  3.0"
      ]
     },
     "execution_count": 5,
     "metadata": {},
     "output_type": "execute_result"
    }
   ],
   "source": [
    "# Dados do sistema\n",
    "\n",
    "A = [2.0 3 1 1; 0 1 2 1; 4 7 6 4; 6 9 9 8]\n",
    "b = [3.0, 0, 4, 3]\n",
    "b = reshape(b, 4, 1)\n",
    "println(\"Sistema\")\n",
    "sistema = [A b]"
   ]
  },
  {
   "cell_type": "code",
   "execution_count": 6,
   "metadata": {},
   "outputs": [
    {
     "name": "stdout",
     "output_type": "stream",
     "text": [
      "Sistema\n"
     ]
    },
    {
     "data": {
      "text/plain": [
       "4×5 Array{Float64,2}:\n",
       " 2.0  3.0  1.0  1.0   3.0\n",
       " 0.0  1.0  2.0  1.0   0.0\n",
       " 0.0  1.0  4.0  2.0  -2.0\n",
       " 6.0  9.0  9.0  8.0   3.0"
      ]
     },
     "execution_count": 6,
     "metadata": {},
     "output_type": "execute_result"
    }
   ],
   "source": [
    "# Introduzindo zero na posicao (3, 1)\n",
    "m31 = sistema[3,1]/sistema[1,1]\n",
    "sistema[3, :] = sistema[3, :] - m31*sistema[1, :]\n",
    "println(\"Sistema\")\n",
    "sistema"
   ]
  },
  {
   "cell_type": "code",
   "execution_count": 8,
   "metadata": {},
   "outputs": [
    {
     "name": "stdout",
     "output_type": "stream",
     "text": [
      "Sistema:\n"
     ]
    },
    {
     "data": {
      "text/plain": [
       "4×5 Array{Float64,2}:\n",
       " 2.0  3.0  1.0  1.0   3.0\n",
       " 0.0  1.0  2.0  1.0   0.0\n",
       " 0.0  1.0  4.0  2.0  -2.0\n",
       " 0.0  0.0  6.0  5.0  -6.0"
      ]
     },
     "execution_count": 8,
     "metadata": {},
     "output_type": "execute_result"
    }
   ],
   "source": [
    "# Introduzindo zero na posicao (4, 1)\n",
    "m41 = sistema[4,1]/sistema[1,1]\n",
    "sistema[4, :] = sistema[4, :] - m41*sistema[1, :]\n",
    "println(\"Sistema:\")\n",
    "sistema"
   ]
  },
  {
   "cell_type": "markdown",
   "metadata": {},
   "source": [
    "Assim, ao terminarmos de colocar zeros na primeira coluna abaixo da posição $(1, 1)$, obtemos\n",
    "\\begin{equation}\n",
    "\\left[\n",
    "\\begin{array}{rrrr|r}\n",
    "2 & 3 & 1 & 1 & 3 \\\\\n",
    "0 & 1 & 2 & 1 & 0 \\\\\n",
    "0 & 1 & 4 & 2 & -2 \\\\\n",
    "0 & 0 & 6 & 5 & -6\n",
    "\\end{array}\n",
    "\\right].\n",
    "\\end{equation}\n",
    "\n",
    "O próximo passo para se obter um sistema triangular é colocar zeros abaixo da posição $(2, 2)$. Isso pode ser obtido somando à terceira linha o inverso da segunda. Por sorte, o elemento na posição $(4, 2)$ já é zero e não precisa ser modificado. Fazemos então:"
   ]
  },
  {
   "cell_type": "code",
   "execution_count": 9,
   "metadata": {},
   "outputs": [
    {
     "name": "stdout",
     "output_type": "stream",
     "text": [
      "Sistema:\n"
     ]
    },
    {
     "data": {
      "text/plain": [
       "4×5 Array{Float64,2}:\n",
       " 2.0  3.0  1.0  1.0   3.0\n",
       " 0.0  1.0  2.0  1.0   0.0\n",
       " 0.0  0.0  2.0  1.0  -2.0\n",
       " 0.0  0.0  6.0  5.0  -6.0"
      ]
     },
     "execution_count": 9,
     "metadata": {},
     "output_type": "execute_result"
    }
   ],
   "source": [
    "# Introduzindo zero na posicao (3, 2)\n",
    "m32 = sistema[3,2]/sistema[2,2]\n",
    "sistema[3,:] = sistema[3, :] - m32*sistema[2, :]\n",
    "println(\"Sistema:\")\n",
    "sistema"
   ]
  },
  {
   "cell_type": "markdown",
   "metadata": {},
   "source": [
    "Terminamos o processo introduzindo um zero na posição $(4, 3)$ usando um múltiplo da linha $3$."
   ]
  },
  {
   "cell_type": "code",
   "execution_count": 11,
   "metadata": {},
   "outputs": [
    {
     "name": "stdout",
     "output_type": "stream",
     "text": [
      "Sistema:\n"
     ]
    },
    {
     "data": {
      "text/plain": [
       "4×5 Array{Float64,2}:\n",
       " 2.0  3.0  1.0  1.0   3.0\n",
       " 0.0  1.0  2.0  1.0   0.0\n",
       " 0.0  0.0  2.0  1.0  -2.0\n",
       " 0.0  0.0  0.0  2.0   0.0"
      ]
     },
     "execution_count": 11,
     "metadata": {},
     "output_type": "execute_result"
    }
   ],
   "source": [
    "# Introduzindo zero na posicao (4, 3)\n",
    "m43 = sistema[4,3]/sistema[3,3]\n",
    "sistema[4, :] = sistema[4, :] - m43*sistema[3, :]\n",
    "println(\"Sistema:\")\n",
    "sistema"
   ]
  },
  {
   "cell_type": "markdown",
   "metadata": {},
   "source": [
    "Ao final temos o sistema\n",
    "\\begin{equation}\n",
    "\\left[\n",
    "\\begin{array}{rrrr|r}\n",
    "2 & 3 & 1 & 1 & 3 \\\\\n",
    "0 & 1 & 2 & 1 & 0 \\\\\n",
    "0 & 0 & 2 & 1 & -2 \\\\\n",
    "0 & 0 & 0 & 2 & 0\n",
    "\\end{array}\n",
    "\\right].\n",
    "\\end{equation}\n",
    "Ou usando a notação mais usual\n",
    "\\begin{equation}\n",
    "\\left\\{\n",
    "\\begin{array}{rcrcrcrcl}\n",
    "2x_1 & + & 3x_2 & + & 1x_3 & + & 1x_4 & = & 3 \\\\\n",
    "     & + & 1x_2 & + & 2x_3 & + & 1x_4 & = & 0 \\\\\n",
    "     &   &      &   & 2x_3 & + & 1x_4 & = & -2 \\\\\n",
    "     &   &      &   &      &   & 2x_4 & = & 0.\n",
    "\\end{array}\n",
    "\\right.\n",
    "\\end{equation}\n",
    "O sistema triangular superior que está pronto para ser resolvido por retro-substituição, apresentada acima. É claro que podemos escrever um programa em Julia que faz tudo de uma vez, pegando um sistema original e devolvendo a versão escalonada.\n"
   ]
  },
  {
   "cell_type": "code",
   "execution_count": 40,
   "metadata": {},
   "outputs": [
    {
     "name": "stdout",
     "output_type": "stream",
     "text": [
      "Sistema escalonado:\n"
     ]
    },
    {
     "data": {
      "text/plain": [
       "4×5 Array{Float64,2}:\n",
       " 2.0  3.0  1.0  1.0   3.0\n",
       " 0.0  1.0  2.0  1.0   0.0\n",
       " 0.0  0.0  2.0  1.0  -2.0\n",
       " 0.0  0.0  0.0  2.0   0.0"
      ]
     },
     "execution_count": 40,
     "metadata": {},
     "output_type": "execute_result"
    }
   ],
   "source": [
    "# Escalonamento em Julia\n",
    "function escalonamento(A, b)\n",
    "    n = length(b)\n",
    "    sistema = [copy(A) reshape(copy(b), n, 1)]\n",
    "    # Coloca zeros abaixo da posicao i x i usando a linha i\n",
    "    for i = 1:n - 1\n",
    "        coefs = sistema[i + 1:end, i]/sistema[i, i]\n",
    "        sistema[i + 1:end, i] = 0.0\n",
    "        sistema[i + 1:end, i + 1:end] -= coefs * (sistema[i, i + 1:end])' \n",
    "    end\n",
    "    return sistema\n",
    "end\n",
    "\n",
    "A = [2.0 3 1 1; 4 7 4 3; 4 7 6 4; 6 9 9 8]\n",
    "b = [3.0, 6, 4, 3]\n",
    "print(\"Sistema escalonado:\\n\")\n",
    "escalonamento(A, b)"
   ]
  },
  {
   "cell_type": "markdown",
   "metadata": {},
   "source": [
    "Veja que o sistema obtido ao final é examente o desejado.\n",
    "\n",
    "O código acima exige alguns comentários para explicar o que ocorre no laço `for`. A primeira linha dentro do `for` calcula os coeficientes que serão usados para multiplicar pela linha `i` (e depois somar nas debaixo). É interessante porque podemos calcular todos de uma vez. A segunda linha coloca zeros abaixo da posição `(i, i)`. Já sabemos que esses zeros vão aparecer lá, pois foi com esse objetivo que definimos os coeficientes. A última linha atualiza a matriz. Para entendê-la temos que entender como Julia interpreta um vetor `*` um vetor transposto. Julia faz o mais natural em Matemática que é considerar o vetor como uma matriz composta de uma única coluna e multiplica essa matriz pela de uma única linha gerada pelo vetor transposto. Com isso Julia gera uma matriz que tem dimensões iguais a número de elementos do primeiro vetor vezes o número de elementos do segundo vetor. A matriz resultante tem cada linha formada pela multiplicações do respectivo coeficiente pelo vetor transposto, que é exatamente o que queremos somar no sistema original. Veja o exemplo abaixo para isso ficar mais claro. Isso em Matemática é conhecido como um *produto externo*."
   ]
  },
  {
   "cell_type": "code",
   "execution_count": 33,
   "metadata": {},
   "outputs": [
    {
     "data": {
      "text/plain": [
       "9-element Array{Int64,1}:\n",
       " 1\n",
       " 2\n",
       " 3\n",
       " 4\n",
       " 5\n",
       " 6\n",
       " 7\n",
       " 8\n",
       " 9"
      ]
     },
     "execution_count": 33,
     "metadata": {},
     "output_type": "execute_result"
    }
   ],
   "source": [
    "M = collect(1:9)\n"
   ]
  },
  {
   "cell_type": "code",
   "execution_count": 34,
   "metadata": {},
   "outputs": [
    {
     "data": {
      "text/plain": [
       "5-element Array{Int64,1}:\n",
       " 1\n",
       " 2\n",
       " 3\n",
       " 4\n",
       " 5"
      ]
     },
     "execution_count": 34,
     "metadata": {},
     "output_type": "execute_result"
    }
   ],
   "source": [
    "coefs = collect(1:5)"
   ]
  },
  {
   "cell_type": "code",
   "execution_count": 35,
   "metadata": {},
   "outputs": [
    {
     "data": {
      "text/plain": [
       "5×9 Array{Int64,2}:\n",
       " 1   2   3   4   5   6   7   8   9\n",
       " 2   4   6   8  10  12  14  16  18\n",
       " 3   6   9  12  15  18  21  24  27\n",
       " 4   8  12  16  20  24  28  32  36\n",
       " 5  10  15  20  25  30  35  40  45"
      ]
     },
     "execution_count": 35,
     "metadata": {},
     "output_type": "execute_result"
    }
   ],
   "source": [
    "coefs * M'"
   ]
  },
  {
   "cell_type": "markdown",
   "metadata": {},
   "source": [
    "## Fatoração LU\n",
    "\n",
    "Se $A$ é uma matriz, uma *fatoração* de $A$ é um produto de outras matrizes, geralmente mais simples, que resulta em $A$. Isso é análogo ao caso de números inteiros que são fatorados em números primos.\n",
    "\n",
    "Um fato interessante sobre o processo de escalonamento é que ele encontra, implicitamente, uma fatoração especial de $A$. Se organizarmos as contas de escalonamento podemos mostrar que ela encontra uma matriz triangular inferior $L$ e outra superior $U$ tal que\n",
    "$$\n",
    "A = LU.\n",
    "$$\n",
    "\n",
    "Para vermos que isso é verdade vamos analisar como representar cada operação realizada pelo escalonamento através de produtos de matrizes. Com esse objetivo vamos pensar o que ocorre quando multiplicamos uma matriz $A$ à esquerda por uma outra matriz que é igual à identidade a menos de uma posição fora da diagonal. Por exemplo\n",
    "$$\n",
    "\\left( \\begin{array}{rrrr}\n",
    "1 & 0 & 0 & 0 \\\\\n",
    "0 & 1 & 0 & 0 \\\\\n",
    "-2 & 0 & 1 & 0 \\\\\n",
    "0 & 0 & 0 & 1\n",
    "\\end{array} \\right)\n",
    "\\left( \\begin{array}{rrrr}\n",
    "2 & 3 & 1 & 1 \\\\\n",
    "4 & 7 & 4 & 3 \\\\\n",
    "4 & 7 & 6 & 4 \\\\\n",
    "6 & 9 & 9 & 8\n",
    "\\end{array} \\right).\n",
    "$$\n",
    "Trabalhando um pouco nesse exemplo você verá que a matriz resultante é igual a matriz da direita com a terceira linha trocada pela linha que estava lá menos 2 vezes a primeira linha, ou seja\n",
    "$$\n",
    "\\left( \\begin{array}{rrrr}\n",
    "2 & 3 & 1 & 1 \\\\\n",
    "4 & 7 & 4 & 3 \\\\\n",
    "0 & 1 & 4 & 2 \\\\\n",
    "6 & 9 & 9 & 8\n",
    "\\end{array} \\right).\n",
    "$$\n",
    "De uma maneira geral, se multiplicarmos uma matriz $A$ à esquerda por uma matriz igual à identidade a menos de um elemento $c$ na posição $(i, j)$, obteremos uma matriz igual com a linha $i$ trocada por ela mesma somada a $c$ vezes a linha $j$. Esse é exatamente o tipo de operação usada pelo escalonamento. Ela pode ser interpretada como uma sequência de operações elementares do tipo multiplicar uma linha por um número não nulo e trocar uma linha por ela mesma mais outra. Logo o processo de escalonamento pode ser representada por multiplicações por matrizes. Por exemplo, para preencher com zeros a primeira coluna da matriz original acima, começando pela posição $(2, 1)$ até a posição $(4, 1)$ bastaria considerar os seguintes produtos por matrizes (leia da direita para a esquerda para entender mais facilmente).\n",
    "$$\n",
    "\\underbrace{\n",
    "\\left( \\begin{array}{rrrr}\n",
    "1 & 0 & 0 & 0 \\\\\n",
    "0 & 1 & 0 & 0 \\\\\n",
    "0 & 0 & 1 & 0 \\\\\n",
    "-3 & 0 & 0 & 1\n",
    "\\end{array} \\right)}_{L_{41}}\n",
    "\\underbrace{\n",
    "\\left( \\begin{array}{rrrr}\n",
    "1 & 0 & 0 & 0 \\\\\n",
    "0 & 1 & 0 & 0 \\\\\n",
    "-2 & 0 & 1 & 0 \\\\\n",
    "0 & 0 & 0 & 1\n",
    "\\end{array} \\right)}_{L_{31}}\n",
    "\\underbrace{\n",
    "\\left( \\begin{array}{rrrr}\n",
    "1 & 0 & 0 & 0 \\\\\n",
    "-2 & 1 & 0 & 0 \\\\\n",
    "0 & 0 & 1 & 0 \\\\\n",
    "0 & 0 & 0 & 1\n",
    "\\end{array} \\right)}_{L_{21}}\n",
    "\\underbrace{\n",
    "\\left( \\begin{array}{rrrr}\n",
    "2 & 3 & 1 & 1 \\\\\n",
    "4 & 7 & 4 & 3 \\\\\n",
    "4 & 7 & 6 & 4 \\\\\n",
    "6 & 9 & 9 & 8\n",
    "\\end{array} \\right)}_{A} = \n",
    "\\left( \\begin{array}{rrrr}\n",
    "2 & 3 & 1 & 1 \\\\\n",
    "0 & 1 & 2 & 1 \\\\\n",
    "0 & 1 & 4 & 2 \\\\\n",
    "0 & 0 & 6 & 5\n",
    "\\end{array} \\right).\n",
    "$$\n",
    "A notacão $L_{ij}$ representa matriz que coloca zero na posição $(i, j)$. De fato vamos verificar isso computacionalmente."
   ]
  },
  {
   "cell_type": "code",
   "execution_count": 43,
   "metadata": {},
   "outputs": [
    {
     "data": {
      "text/plain": [
       "4×4 Array{Float64,2}:\n",
       " 2.0  3.0  1.0  1.0\n",
       " 0.0  1.0  2.0  1.0\n",
       " 0.0  1.0  4.0  2.0\n",
       " 0.0  0.0  6.0  5.0"
      ]
     },
     "execution_count": 43,
     "metadata": {},
     "output_type": "execute_result"
    }
   ],
   "source": [
    "A = [2 3 1 1; 4 7 4 3; 4 7 6 4; 6 9 9 8]\n",
    "L21 = eye(4, 4)\n",
    "L21[2, 1] = -2\n",
    "L31 = eye(4, 4)\n",
    "L31[3, 1] = -2\n",
    "L41 = eye(4, 4)\n",
    "L41[4, 1] = -3\n",
    "\n",
    "L41*(L31*(L21*A))"
   ]
  },
  {
   "cell_type": "markdown",
   "metadata": {},
   "source": [
    "Compare o resultado obtido com o resultado do processo de escalonamento depois de colocar zeros abaixo do primeiro elemento da diagonal acima. Veja que a matriz de partida é a mesma. Outro fato interessante sobre as matrizes $L_1,\\ L_2,\\ L_3$ acima é que o seu produto é particularmente simples.\n",
    "$$\n",
    "\\underbrace{\n",
    "\\left( \\begin{array}{rrrr|r}\n",
    "1 & 0 & 0 & 0 \\\\\n",
    "0 & 1 & 0 & 0 \\\\\n",
    "0 & 0 & 1 & 0 \\\\\n",
    "-3 & 0 & 0 & 1\n",
    "\\end{array} \\right)}_{L_{41}}\n",
    "\\underbrace{\n",
    "\\left( \\begin{array}{rrrr|r}\n",
    "1 & 0 & 0 & 0 \\\\\n",
    "0 & 1 & 0 & 0 \\\\\n",
    "-2 & 0 & 1 & 0 \\\\\n",
    "0 & 0 & 0 & 1\n",
    "\\end{array} \\right)}_{L_{31}}\n",
    "\\underbrace{\n",
    "\\left( \\begin{array}{rrrr|r}\n",
    "1 & 0 & 0 & 0 \\\\\n",
    "-2 & 1 & 0 & 0 \\\\\n",
    "0 & 0 & 1 & 0 \\\\\n",
    "0 & 0 & 0 & 1\n",
    "\\end{array} \\right)}_{L_{21}} =\n",
    "\\underbrace{\n",
    "\\left( \\begin{array}{rrrr|r}\n",
    "1 & 0 & 0 & 0 \\\\\n",
    "-2 & 1 & 0 & 0 \\\\\n",
    "-2 & 0 & 1 & 0 \\\\\n",
    "-3 & 0 & 0 & 1\n",
    "\\end{array} \\right)}_{L_1}.\n",
    "$$\n",
    "\n"
   ]
  },
  {
   "cell_type": "markdown",
   "metadata": {},
   "source": [
    "Basta copiar abaixo da primeira diagonal da identidade os coeficientes que aparecem nas três matrizes na sua posição natural, formando assim a matriz que zera os elementos desejados da coluna $1$. Vamos chamar essa matriz de $L_1$. Para entender o porque isso acontece basta interpretar o produto da direita para a esquerda. Podemos mais uma vez confirmar isso computacionalmente. "
   ]
  },
  {
   "cell_type": "code",
   "execution_count": 44,
   "metadata": {},
   "outputs": [
    {
     "data": {
      "text/plain": [
       "4×4 Array{Float64,2}:\n",
       "  1.0  0.0  0.0  0.0\n",
       " -2.0  1.0  0.0  0.0\n",
       " -2.0  0.0  1.0  0.0\n",
       " -3.0  0.0  0.0  1.0"
      ]
     },
     "execution_count": 44,
     "metadata": {},
     "output_type": "execute_result"
    }
   ],
   "source": [
    "L1 = L41*L31*L21"
   ]
  },
  {
   "cell_type": "markdown",
   "metadata": {},
   "source": [
    "Outro fato interessante sobre as matrizes que se combinam para formar $L_1$ é que suas inversas são fáceis de calcular. Basta inverter o elemento de fora da diagonal. Por exemplo\n",
    "$$\n",
    "L_{31}^{-1} = \n",
    "\\left( \\begin{array}{rrrr|r}\n",
    "1 & 0 & 0 & 0 \\\\\n",
    "0 & 1 & 0 & 0 \\\\\n",
    "2 & 0 & 1 & 0 \\\\\n",
    "0 & 0 & 0 & 1\n",
    "\\end{array} \\right).\n",
    "$$\n",
    "Confirmando:"
   ]
  },
  {
   "cell_type": "code",
   "execution_count": 45,
   "metadata": {},
   "outputs": [
    {
     "data": {
      "text/plain": [
       "4×4 Array{Float64,2}:\n",
       " 1.0  0.0  0.0  0.0\n",
       " 0.0  1.0  0.0  0.0\n",
       " 0.0  0.0  1.0  0.0\n",
       " 0.0  0.0  0.0  1.0"
      ]
     },
     "execution_count": 45,
     "metadata": {},
     "output_type": "execute_result"
    }
   ],
   "source": [
    "L31menos1 = eye(4, 4)\n",
    "L31menos1[3, 1] = 2\n",
    "\n",
    "L31menos1*L31"
   ]
  },
  {
   "cell_type": "markdown",
   "metadata": {},
   "source": [
    "Isso pode ser entendido porque essa mudança de sinal desfaz a operação elementar representada por essas matrizes. Pense um pouco. \n",
    "\n",
    "Agora lembrando que o inverso de um produto é o produto invertido das inversas termos\n",
    "$$\n",
    "L_1^{-1} = (L_{41} L_{31} L_{21})^{-1} =  L_{21}^{-1} L_{31}^{-1} L_{41}^{-1} = \n",
    "\\left( \\begin{array}{rrrr|r}\n",
    "1 & 0 & 0 & 0 \\\\\n",
    "2 & 1 & 0 & 0 \\\\\n",
    "2 & 0 & 1 & 0 \\\\\n",
    "3 & 0 & 0 & 1\n",
    "\\end{array} \\right).\n",
    "$$\n",
    "De novo ocorre o fenômeno que é simples multiplicar essas matrizes, basta copiar os elementos adequados nas respostas.\n",
    "\n",
    "O restante do processo de escalonamento também pode continuar sendo representado por multiplicação por matrizes desse tipo. Continuamos o processo colocando zeros abaixo do segundo elemento da diagonal e por fim abaixo do terceiro. O processo todo seria então representado pelo produto.\n",
    "$$\n",
    "\\underbrace{\n",
    "\\underbrace{\n",
    "\\left( \\begin{array}{rrrr}\n",
    "1 & 0 & 0 & 0 \\\\\n",
    "0 & 1 & 0 & 0 \\\\\n",
    "0 & 0 & 1 & 0 \\\\\n",
    "0 & 0 & -3 & 1\n",
    "\\end{array} \\right)}_{L_{43}}\n",
    "}_{L_3}\n",
    "\\underbrace{\n",
    "\\underbrace{\n",
    "\\left( \\begin{array}{rrrr}\n",
    "1 & 0 & 0 & 0 \\\\\n",
    "0 & 1 & 0 & 0 \\\\\n",
    "0 & 0 & 1 & 0 \\\\\n",
    "0 & 0 & 0 & 1\n",
    "\\end{array} \\right)}_{L_{42}}\n",
    "\\underbrace{\n",
    "\\left( \\begin{array}{rrrr}\n",
    "1 & 0 & 0 & 0 \\\\\n",
    "0 & 1 & 0 & 0 \\\\\n",
    "0 & -1 & 1 & 0 \\\\\n",
    "0 & 0 & 0 & 1\n",
    "\\end{array} \\right)}_{L_{32}}\n",
    "}_{L_2}\n",
    "L_1\n",
    "\\underbrace{\n",
    "\\left( \\begin{array}{rrrr}\n",
    "2 & 3 & 1 & 1 \\\\\n",
    "4 & 7 & 4 & 3 \\\\\n",
    "4 & 7 & 6 & 4 \\\\\n",
    "6 & 9 & 9 & 8\n",
    "\\end{array} \\right)}_{A} = \n",
    "\\left( \\begin{array}{rrrr}\n",
    "2 & 3 & 1 & 1 \\\\\n",
    "0 & 1 & 2 & 1 \\\\\n",
    "0 & 0 & 2 & 1 \\\\\n",
    "0 & 0 & 0 & 2\n",
    "\\end{array} \\right).\n",
    "$$\n"
   ]
  },
  {
   "cell_type": "code",
   "execution_count": 15,
   "metadata": {},
   "outputs": [
    {
     "data": {
      "text/plain": [
       "4×4 Array{Float64,2}:\n",
       " 2.0  3.0  1.0  1.0\n",
       " 0.0  1.0  2.0  1.0\n",
       " 0.0  0.0  2.0  1.0\n",
       " 0.0  0.0  0.0  2.0"
      ]
     },
     "execution_count": 15,
     "metadata": {},
     "output_type": "execute_result"
    }
   ],
   "source": [
    "L2 = eye(4, 4)\n",
    "L2[3, 2] = -1\n",
    "L2[4, 2] = 0\n",
    "L3 = eye(4, 4)\n",
    "L3[4, 3] = -3\n",
    "\n",
    "(L3*(L2*(L1*A)))"
   ]
  },
  {
   "cell_type": "markdown",
   "metadata": {},
   "source": [
    "Agora, vamos partir dessa última equação. Temos\n",
    "$$\n",
    "L_3 L_2 L_1 A = U,\n",
    "$$\n",
    "em que $U$ é a matriz triangular superior que obtemos ao final do processo de escalonamento. Podemos então passar o produto das matrizes $L_k$ para o outro lado, usando suas inversas, que sabemos como calcular. Obtendo:\n",
    "$$\n",
    "A = L_1^{-1} L_2^{-1} L_3^{-1} U.\n",
    "$$\n",
    "Mais uma vez há um \"golpe de sorte\" e o produto $L_1^{-1} L_2^{-1} L_3^{-1}$ também tem uma expressão particularmente simples, bastando copiar os elementos que aparecem abaixo das diagonais de cada uma dessa matrizes na resposta. Isso ocorre porque o produto $L_{k}^{-1} \\dots L_{n - 1}^{-1}$ é composto por matrizes que têm zeros abaixo da diagonal na coluna $k - 1$, já que nessas posições sempre houve $0$ nas linhas que já foram combinadas. Agora quando se multiplica essa matriz intermediária à esquerda por $L_{k-1}$ na coluna $k - 1$ apenas os elementos de $L_{k - 1}$ que estão estão abaixo da diagonal na coluna $k - 1$ irão importar, sendo diretamente copiados. Faça uns exemplos manualmente para se convencer disso. Já a confirmação numérica podemos fazer agora."
   ]
  },
  {
   "cell_type": "code",
   "execution_count": 16,
   "metadata": {},
   "outputs": [
    {
     "data": {
      "text/plain": [
       "4×4 Array{Float64,2}:\n",
       " 1.0  0.0  0.0  0.0\n",
       " 2.0  1.0  0.0  0.0\n",
       " 2.0  1.0  1.0  0.0\n",
       " 3.0  0.0  3.0  1.0"
      ]
     },
     "execution_count": 16,
     "metadata": {},
     "output_type": "execute_result"
    }
   ],
   "source": [
    "inv(L3*L2*L1)"
   ]
  },
  {
   "cell_type": "markdown",
   "metadata": {},
   "source": [
    "De fato a inversa obtida também é uma matriz triangular inferior com os elementos das matrizes inversas copiados. A essa matriz $L_1^{-1} L_2^{-1} \\ldots L_{n - 1}^{-1}$ vamos chamar de matriz $L$. Dessa forma obtermos justamente a expressão desejada:\n",
    "$$\n",
    "A = LU.\n",
    "$$\n",
    "Não podemos deixar de observar que talvez fosse mais natural nomear a matriz $L_1^{-1} L_2^{-1} \\ldots L_{n - 1}^{-1}$ de $L^{-1}$. Isso não é feito para evitar uma notação pesada na importante igualdade $A = LU$. \n",
    "\n",
    "Deste modo fica natural adaptar o código de escalonamento para calcular a fatoração LU de uma matriz. Para isso basta guardar os coeficientes usados, com sinal adequado, na matriz $L$. A matriz $U$ é a matriz triangular superior final."
   ]
  },
  {
   "cell_type": "code",
   "execution_count": 47,
   "metadata": {
    "collapsed": true
   },
   "outputs": [],
   "source": [
    "# Fatoracao LU de uma matriz A sem pivoteamento\n",
    "function preLU(A)\n",
    "    # Reserva espaco para a resposta\n",
    "    n = size(A)[1]\n",
    "    L = eye(n)\n",
    "    U = copy(A)\n",
    "    # Coloca zeros abaixo da posicao i x i usando a linha i\n",
    "    for i = 1:n - 1\n",
    "        coefs = U[i + 1:end, i] / U[i, i]\n",
    "        L[i + 1:end, i] = coefs\n",
    "        U[i + 1:end, i] = 0.0\n",
    "        U[i + 1:end, i + 1:end] -= coefs * (U[i, i + 1:end])'\n",
    "    end\n",
    "    return L, U\n",
    "end\n",
    "\n",
    "A = [2.0 3 1 1; 4 7 4 3; 4 7 6 4; 6 9 9 8]\n",
    "b = [3.0, 6, 4, 3]\n",
    "L, U = preLU(A);"
   ]
  },
  {
   "cell_type": "code",
   "execution_count": 18,
   "metadata": {},
   "outputs": [
    {
     "data": {
      "text/plain": [
       "4×4 Array{Float64,2}:\n",
       " 1.0  0.0  0.0  0.0\n",
       " 2.0  1.0  0.0  0.0\n",
       " 2.0  1.0  1.0  0.0\n",
       " 3.0  0.0  3.0  1.0"
      ]
     },
     "execution_count": 18,
     "metadata": {},
     "output_type": "execute_result"
    }
   ],
   "source": [
    "L"
   ]
  },
  {
   "cell_type": "code",
   "execution_count": 19,
   "metadata": {},
   "outputs": [
    {
     "data": {
      "text/plain": [
       "4×4 Array{Float64,2}:\n",
       " 2.0  3.0  1.0  1.0\n",
       " 0.0  1.0  2.0  1.0\n",
       " 0.0  0.0  2.0  1.0\n",
       " 0.0  0.0  0.0  2.0"
      ]
     },
     "execution_count": 19,
     "metadata": {},
     "output_type": "execute_result"
    }
   ],
   "source": [
    "U"
   ]
  },
  {
   "cell_type": "code",
   "execution_count": 20,
   "metadata": {},
   "outputs": [
    {
     "data": {
      "text/plain": [
       "4×4 Array{Float64,2}:\n",
       " 2.0  3.0  1.0  1.0\n",
       " 4.0  7.0  4.0  3.0\n",
       " 4.0  7.0  6.0  4.0\n",
       " 6.0  9.0  9.0  8.0"
      ]
     },
     "execution_count": 20,
     "metadata": {},
     "output_type": "execute_result"
    }
   ],
   "source": [
    "L*U"
   ]
  },
  {
   "cell_type": "markdown",
   "metadata": {},
   "source": [
    "Vejam que de fato $LU$ é igual à matriz $A$ original. Na verdade, essa igualdade absoluta é obtida nesse caso por que todas as contas, apesar de serem feitas com ponto flutante, geraram números inteiros que podem ser representados. De uma forma geral esperamos que o resultado final sejam aproximadamente a $L$ e a $U$ desejadas. Voltaremos a discutir erros depois.\n",
    "\n",
    "## Utilizando a fatoração LU para resolver sistemas\n",
    "\n",
    "Começamos essa discussão falando sobre a solução de sistemas lineares mas fizemos um desvio acima para comentar sobre uma fatoração de matrizes. Vamos agora voltar a trilha original, vendo como usar a fatoração LU para resolver um sistema linear. Desejamos encontrar $x$ tal que\n",
    "$$\n",
    "Ax = b.\n",
    "$$\n",
    "Isso é equivalente a buscar $x$ tal que\n",
    "$$\n",
    "LUx = b.\n",
    "$$\n",
    "Como lidar com sistemas que tem produtos de matrizes como acima? Uma ideia é criar variáveis intermediárias, resolvendo o sistema da esquerda para a direita. Por exemplo, no caso acima podemos inicialmente buscar $y$ tal que\n",
    "$$\n",
    "L y = b.\n",
    "$$\n",
    "Isso é fácil de calcular porque o sistema é triangular inferior. Depois disso resolvemos\n",
    "$$\n",
    "U x = y.\n",
    "$$\n",
    "Assim, obtemos o $x$ desejado, solução do sistema original. Note que de novo basta resolver um sistema triangular, mas agora superior. De fato colocando as duas últimas expressões juntas temos\n",
    "$$\n",
    "U x = y \\implies L (U x) = b \\implies Ax = b.\n",
    "$$\n",
    "A primeira implicação usa a definição de $y$. Mais uma vez, podemos ver isso funcionando usando o código que já desenvolvemos até aqui. "
   ]
  },
  {
   "cell_type": "code",
   "execution_count": 49,
   "metadata": {},
   "outputs": [
    {
     "name": "stdout",
     "output_type": "stream",
     "text": [
      "Solucao = [-1.0, 2.0, -1.0, 0.0]\n",
      "Verificacao, Ax = [3.0, 6.0, 4.0, 3.0]\n"
     ]
    }
   ],
   "source": [
    "# Alem da rotina de retro substituicao para a resolucao de sistemas\n",
    "# triangulares superiores precisamos de uma outra que faca a resolucao\n",
    "# de sistemas triangulares inferiores. Isso tinha ficado como exercicio\n",
    "# antes e agora voces podem ver uma resposta.\n",
    "function substituicao(A, b)\n",
    "    n = length(b)\n",
    "    x = Array{Float64}(n)\n",
    "    x[1] = b[1]/A[1, 1]\n",
    "    for i = 2:n\n",
    "        x[i] = (b[i] - dot(A[i, 1:i], x[1:i]))/A[i, i]\n",
    "    end\n",
    "    return x\n",
    "end\n",
    "\n",
    "# Por fim, usamos as rotinas implementadas até agora para resolver um \n",
    "# sistema linear.\n",
    "A = [2.0 3 1 1; 4 7 4 3; 4 7 6 4; 6 9 9 8]\n",
    "b = [3.0, 6, 4, 3]\n",
    "L, U = preLU(A)\n",
    "y = substituicao(L, b)\n",
    "x = retro_substituicao(U, y)\n",
    "println(\"Solucao = \", x)\n",
    "println(\"Verificacao, Ax = \", A*x)"
   ]
  },
  {
   "cell_type": "markdown",
   "metadata": {},
   "source": [
    "Um fato que pode ser importante em alguns casos é que uma vez calculada a fatoração LU de uma matriz ela pode ser utilizada sempre no lugar de $A$. Assim, por exemplo, se quisermos resolver sistemas lineares com diferentes lados direitos (diferentes vetores $b$) a fatoração pode ser feita uma única vez.\n",
    "\n",
    "## Tempo de execução (complexidade)\n",
    "\n",
    "Ao escrevermos programas de computador é importante que tenhamos uma ideia do seu tempo de execução. Muitas vezes não basta inventar um algoritmo que esteja correto, é preciso que ele seja eficiente. Isso é um pouco menos importante nos dias de hoje do que era há algumas décadas, já que os computadores estão muito mais poderosos. Mas ainda é fácil escrever programas que demoram demais para realizar as suas tarefas.\n",
    "\n",
    "Quando falamos em programas numéricos, cujo principal objetivo é realizar longas sequencias de cálculos, podemos buscar adquirir uma ideia do tempo de execução ou complexidade de um algoritmo através da contagem do número de operações de ponto flutuantes realizadas. Isso é apenas uma aproximação da complexidade total do processo, já que outras operações que não envolvem cálculos com números reais não são contadas. Isso pode ser particularmente dramático por desprezar a movimentação de dados entre a memória e o processador, algo que é muito demorado em computadores modernos. A contagem do número de operações continua sendo usada, porém, porque geralmente uma implementação cuidadosa de um método numérico é tipicamente limitada por essas operações. \n",
    "\n",
    "Usaremos a sigla FLOP (de *Foating Point OPeration*) para designar uma operação básica de ponto flutuante como a soma, subtração, multiplicação, divisão ou extração de raiz quadrada. Nosso objetivo nessa seção é contar a quantidade de FLOPs de cada um dos principais algoritmos implementados até agora.\n",
    "\n",
    "### Substituição\n",
    "\n",
    "Vamos começar pela `retro_substituicao`. Olhando o seu código, vemos que a maior parte do trabalho ocorre dentro do laço `for`. Para calcular o novo `x[i]` precisamos executar uma subtração, uma divisão e o produto interno `dot(A[i, i + 1:end], x[i + 1:end])` entre dois vetores de $n - (i + 1) + 1 = n - i$ elementos. Esse produto interno precisa então de $n - i$ produtos de números reais e $n - i - 1$ somas. O total de operações realizadas nessa linha é então $2 + (n - i) + (n - i - 1) = 2(n - i)+ 1$. Dessa forma, podemos calcular o trabalho total:\n",
    "$$\n",
    "\\sum_{i = 1}^{n} 2(n - i)+ 1 =  \\sum_{i = 1}^{n} (2n + 1) - 2 \\sum_{i = 1}^{n} i = n(2n + 1) - n(n + 1) = n^2.\n",
    "$$\n",
    "Obs: vejam que usei o $i$ variando de $1$ até $n$, isso foi feito para contar também a primeira operação feita, para calcular o `x[n]` que está fora do laço.\n",
    "\n",
    "Vejam que o tempo é bem razoável, afinal uma matriz triangular tem cerca de $n^2 / 2$ entradas não nulas, então fazemos cerca de duas operações de ponto flutuante (FLOPs) por entrada da matriz. É difícil imaginar algo muito melhor do que isso.\n",
    "\n",
    "Por fim, como o algoritmo de `substituicao` (para frente) é apenas uma versão invertida da `retro_substituicao`, o número de operações será o mesmo. Faça os detalhes como exercício.\n",
    "\n",
    "### Fatoração LU\n",
    "\n",
    "Agora vamos para algo mais desafiador. Vamos tentar avaliar o tempo gasto na rotina `preLU`. De novo ela tem um único laço. Na primeira linha desse laço são executadas $n - 1$ divisões para calcular os coeficientes. Depois na quarta linha fazemos primeiro o produto externo de dois vetores (n - 1) o que precisa de $(n - i)^2$ produtos. Por fim atualizamos a matriz $U$ com $(n - i)^2$ subtrações, totalizado\n",
    "$$\n",
    "2(n - i)^2 + (n - i)\n",
    "$$\n",
    "FLOPs. Note que a segunda e terceira linha do laço não geram FLOPs, são realizadas apenas cópias de valores em memória. Estamos prontos para escrever a somatória que irá acumular todo o trabalho feito.\n",
    "$$\n",
    "\\sum_{i = 1}^{n - 1} 2(n - i)^2 + (n - i) = [2(n - 1)^2 + (n - 1)] + [2(n - 2)^2 + (n - 2)] + \\ldots + [2\\cdot2^2 + 2] + [2\\cdot1^2 + 1]. \n",
    "$$\n",
    "Note que lendo essa somatória de trás para frente chegamos a uma expressão um pouco mais simples.\n",
    "$$\n",
    "\\sum_{i = 1}^{n - 1} 2i^2 + i.\n",
    "$$\n",
    "\n",
    "Aqui nos deparamos com uma dificuldade. Como calcular a soma $\\sum_{i = 1}^n i^2$? Isso tem uma resposta conhecida que é\n",
    "$$\n",
    "\\sum_{i = 1}^n i^2 = \\frac{n (n + 1) (2n + 1)}{6}.\n",
    "$$\n",
    "Você pode encontrar várias demonstrações disso. Um exemplo legal é [essa](http://blog.jgc.org/2008/01/proof-that-sum-of-squares-of-first-n.html). Mas há várias outras demonstrações.\n",
    "\n",
    "Retornando ao nosso problema queremos\n",
    "\\begin{align*}\n",
    "    \\sum_{i = 1}^{n - 1} 2i^2 + i & = \\frac{(n-1)n(2n - 1)}{3} + \\frac{(n-1)n}{2} \\\\\n",
    "    &= (n-1)n \\left(\\frac{2n - 1}{3} + \\frac{1}{2} \\right) \\\\\n",
    "    &= (n - 1)n \\left( \\frac{2n}{3} + \\frac{1}{6} \\right) \\\\\n",
    "    &= \\frac{2n^3}{3} - \\frac{n^2}{2} - \\frac{n}{6} \\\\\n",
    "    &\\approx \\frac{2n^3}{3}.\n",
    "\\end{align*}\n",
    "A aproximação final vale para $n$ grande, que é o que interessa quando o problema aumenta.\n",
    "\n",
    "De fato, em geral nós estamos interessados apenas nos termos de maior grau, assim podemos simplificar muito as contas eliminando termos intermediários que não serão importantes (para $n$ grande). As contas acima ficariam com algo como\n",
    "\\begin{align*}\n",
    "    \\sum_{i = 1}^{n - 1} 2i^2 + i &\\approx \\sum_{i = 1}^{n - 1} 2i^2 \\\\\n",
    "    &= 2 \\frac{(n-1)n(2n - 1)}{6} \\\\\n",
    "    &\\approx \\frac{2n^3}{3}.\n",
    "\\end{align*}\n",
    "\n",
    "Note que o tempo de calcular uma fatoração LU é muito maior do que o tempo de resolver um sistema triangular por substituição, afinal ele cresce com o cubo da dimensão da matriz. Isso mostra que, para resolver um sistema linear fazendo primeiro a fatoração LU, a maior parte do trabalho está no processo de fatoração. Ele irá dominar o tempo de execução.\n",
    "\n",
    "## Pivoteamento\n",
    "\n",
    "O processo de fatoração LU descrito parece de fato muito interessante. Uma pergunta natural é se essa fatoração existe para qualquer matriz quadrada. A resposta para isso pode ser retirada do próprio processo de fatoração. Olhando o algoritmo vemos que o algoritmo consegue ir até o fim se, e somente se, a cada iteração o termo $a_{ii}$ usando para calcular os coeficientes for não nulo. Ou seja o algoritmo irá falhar se, e somente se, após $k - 1$ iterações encontrarmos a seguinte situação:\n",
    "$$\n",
    "\\tilde U = \\left(\n",
    "\\begin{array}{cccc|c|ccccc}\n",
    "X      &X      &X      &X      &\\dots  &X      &X      &\\dots &X \\\\\n",
    "0      &X      &X      &X      &\\dots  &X      &X      &\\dots &X \\\\\n",
    "0      &0      &X      &X      &\\dots  &X      &X      &\\dots &X \\\\\n",
    "\\vdots &\\vdots &\\ddots &\\ddots &\\dots  &\\vdots &\\vdots &\\dots &X \\\\ \\hline\n",
    "0      &0      &0      &\\dots  &0      &X      &X      &\\dots &X \\\\ \\hline\n",
    "\\vdots &\\vdots &\\vdots &\\vdots &X      &X      &X      &\\dots &X \\\\\n",
    "0      &0      &0      &0      &X      &X      &X      &\\dots &X\n",
    "\\end{array}\n",
    "\\right).\n",
    "$$\n",
    "Acima os elementos potencialmente não nulos estão denotados por $X$ e a linha e coluna $k$ estão destacadas. \n",
    "\n",
    "Agora na $k$-ésima iteração o objetivo é zerar os elementos abaixo da posição $k \\times k$ usando o elemento da diagonal que infelizmente é $0$ e o algoritmo não pode continuar. Em particular a porção superior esquerda com $k$ linhas e $k$ colunas dessa matriz, que vamos denotar por $U_k$, foi obtida através de um processo de escalonamento da mesma porção da matriz original, isso é de $A[1:k, 1:k]$. Relembrando a discussão que nos levou a descobrir a ideia da fatoração LU isso nos ensina que existem matrizes $L_1, \\ldots, L_{k -1} \\in \\mathbb{R}^{k \\times k}$ inversíveis tais que\n",
    "$$\n",
    "L_{k-1} \\dots L_1 A[1:k, 1: k] = \\tilde{U}[1:k, 1:k].\n",
    "$$\n",
    "Como as matrizes $L_{i},\\ i = 1, \\dots, k-1$ são inversíveis e a matriz $\\tilde{U}[1:k, 1:k]$ não é inversível pois tem a última linha de zeros, vemos que a matriz $A[1:k, 1:k]$ também não é inversível. Isso pode ser confirmado de muitas formas. Por exemplo lembrando que um sistema baseado em $A[1:k, 1:k]$ e em $\\tilde{U}[1:k, 1:k]$ tem que ter as mesmas soluções, com possíveis adaptações do lado direito. Claramente um sistema baseado em $\\tilde{U}[1:k, 1:k]$ pode ter nenhuma ou infinitas soluções, mas nunca solução única. Isso caracteriza uma matriz não inversível. Outra forma ainda mais fácil é usar a propriedade que o determinante de um produto de matrizes é igual ao produto dos determinantes e lembrar do fato que uma matriz é inversível se, e somente, se seu determinante for não nulo. Isso nos leva ao seguinte resultado:\n",
    "\n",
    "**Teorema.** Uma matriz $A \\in \\mathbb{R}^{n \\times n}$ pode ser fatorada pelo algoritmo `preLU`, que chamaremos de *fatoração LU sem pivoteamento*, se, e somente se, as submatrizes $A[1:k, 1:k],\\ k = 1 \\ldots n - 1$, tiverem determinantes não nulos.\n",
    "\n",
    "Obs: Os determinantes das submatrizes $A[1:k, 1:k],\\ k = 1 \\ldots n$ são conhecidos como *menores principais* de $A$.\n",
    "\n",
    "Mas o que fazer nesse caso? Olhando de novo para a matriz acima, podemos ter a ideia de tentar procurar na coluna $k$ abaixo da diagonal um elemento não nulo de $A$. Se isso for possível, trocamos a linha $k$ pela linha desse elemento (que seria equivalente a trocar duas equações de posição no sistema linear) e obtemos um sistema equivalente para o qual o algoritmo pode continuar. Essa operação de troca é de novo uma operação elementar, que pode ser representada por uma matriz identidade com as respectivas linhas trocadas, multiplicada à esquerda. Verifique.\n",
    "\n",
    "A aplicação dessa regra permite calcular uma fatoração LU, não mais de $A$ mas de uma versão de $A$ com linhas permutadas. Esse tipo de matriz pode ser representado pela multiplicação à esquerda de $A$ por uma matriz de permutação $P$ que é uma matriz identidade com linhas trocadas de lugar representando as várias trocas de linhas necessárias para levar o processo à cabo. Ou seja, ao final obteremos algo na forma\n",
    "$$\n",
    "PA = LU.\n",
    "$$\n",
    "\n",
    "Mais uma vez vemos que agora o método só pára se não encontrar nenhum elemento não nulo da posição $k \\times k$ para baixo, ou seja se a matriz parcial tiver a forma\n",
    "$$\n",
    "\\tilde{U} = \\left(\n",
    "\\begin{array}{cccc|c|cccc}\n",
    "X      &X      &X      &X      &\\dots   &X      &X      &\\dots &X \\\\\n",
    "0      &X      &X      &X      &\\dots  &X      &X      &\\dots &X \\\\\n",
    "0      &0      &X      &X      &\\dots  &X      &X      &\\dots &X \\\\\n",
    "\\vdots &\\vdots &\\ddots &\\ddots &\\dots  &\\vdots &\\vdots &\\dots &X \\\\ \\hline\n",
    "0      &0      &0      &\\dots  &0      &X      &X      &\\dots &X \\\\ \\hline\n",
    "\\vdots &\\vdots &\\vdots &\\vdots &\\vdots &X      &X      &\\dots &X \\\\\n",
    "0      &0      &0      &0      &0      &X      &X      &\\dots &X\n",
    "\\end{array}\n",
    "\\right).\n",
    "$$\n",
    "Mas essa matriz tem determinante nulo. Para ver isso, comece fazendo a expansão do seu determinante pela primeira coluna. Como a coluna é quase inteira de zero vemos que esse determinante é o $\\tilde{u}_{11} \\det(\\tilde{U}[2:n, 2:n])$. Continuando esse processo até a coluna $k$ obtemos \n",
    "$$\n",
    "\\det(\\tilde{U}) = \\tilde{u}_{11} \\tilde{u}_{22} \\ldots \\tilde{u}_{kk} \\det(\\tilde{u}[k+1:n, k+1:n]) = 0.\n",
    "$$\n",
    "A última igualdade vem do fato que $u_{kk} = 0$.\n",
    "\n",
    "Concluímos que o processo de fatoração LU com pivoteamento parcial somente pára se a matriz $\\tilde{U}$ encontrada for não inversível. Mais uma vez essa matriz é obtida a partir de $A$ pelo produto de matrizes triangulares inversíveis e portanto concluímos que o processo somente pára se $A$ é não inversível. Provamos um novo resultado.\n",
    "\n",
    "**Teorema** Se uma matriz $A \\in \\mathbb{R}^{n \\times n}$ for inversível, então ela admite fatoração LU com pivoteamento parcial.\n",
    "\n",
    "Nosso próximo desafio é adaptar a rotina `preLU` para incorporar o pivoteamento parcial. Para isso é necessário guardar a informação de onde as linhas foram parar, e trocar linhas de $U$ e $L$ quando o pivoteamento for feito. Veja abaixo"
   ]
  },
  {
   "cell_type": "code",
   "execution_count": 50,
   "metadata": {
    "collapsed": true
   },
   "outputs": [],
   "source": [
    "# Fatoracao LU de uma matriz A com pivoteamento parcial\n",
    "function LU(A)\n",
    "    # Reserva espaco para a resposta\n",
    "    n = size(A)[1]\n",
    "    # Cria um vetor para guardar a posição das linhas\n",
    "    P = collect(1:n)\n",
    "    L = eye(n)\n",
    "    U = copy(A)\n",
    "    # Coloca zeros abaixo da posicao i x i trazendo para linha i a com \n",
    "    # maior pivot.\n",
    "    for i = 1:n - 1\n",
    "        # Busca o maior pivot em valor absoluto\n",
    "        maxind = indmax(abs.(U[i:end, i])) + i - 1\n",
    "        # Troca as linhas de lugar e guarda a informação.\n",
    "        U[i, i:end], U[maxind, i:end] = U[maxind, i:end], U[i, i:end]\n",
    "        L[i, 1:i-1], L[maxind, 1:i-1] = L[maxind, 1:i-1], L[i, 1:i-1]\n",
    "        P[i], P[maxind] = P[maxind], P[i]\n",
    "        # Continua com a fatoração LU.\n",
    "        coefs = U[i + 1:end, i] / U[i, i]\n",
    "        L[i + 1:end, i] = coefs\n",
    "        U[i + 1:end, i] = 0.0\n",
    "        U[i + 1:end, i + 1:end] -= coefs *(U[i, i + 1:end])'\n",
    "    end\n",
    "    return P, L, U\n",
    "end\n",
    "\n",
    "#A = [2.0 3 1 1; 4 7 4 3; 4 7 6 4; 6 9 9 8]\n",
    "A = [1.0 2 1 1; 2 3 1 1; 2 4 5 1; 1 1 1 1]\n",
    "b = [3.0, 6, 4, 3]\n",
    "P, L, U = LU(A);"
   ]
  },
  {
   "cell_type": "code",
   "execution_count": 52,
   "metadata": {},
   "outputs": [
    {
     "data": {
      "text/plain": [
       "4-element Array{Int64,1}:\n",
       " 2\n",
       " 3\n",
       " 4\n",
       " 1"
      ]
     },
     "execution_count": 52,
     "metadata": {},
     "output_type": "execute_result"
    }
   ],
   "source": [
    "P"
   ]
  },
  {
   "cell_type": "code",
   "execution_count": 51,
   "metadata": {},
   "outputs": [
    {
     "data": {
      "text/plain": [
       "4×4 Array{Float64,2}:\n",
       " 1.0   0.0   0.0  0.0\n",
       " 1.0   1.0   0.0  0.0\n",
       " 0.5  -0.5   1.0  0.0\n",
       " 0.5   0.5  -0.6  1.0"
      ]
     },
     "execution_count": 51,
     "metadata": {},
     "output_type": "execute_result"
    }
   ],
   "source": [
    "L"
   ]
  },
  {
   "cell_type": "code",
   "execution_count": 53,
   "metadata": {},
   "outputs": [
    {
     "data": {
      "text/plain": [
       "4×4 Array{Float64,2}:\n",
       " 2.0  3.0  1.0  1.0\n",
       " 0.0  1.0  4.0  0.0\n",
       " 0.0  0.0  2.5  0.5\n",
       " 0.0  0.0  0.0  0.8"
      ]
     },
     "execution_count": 53,
     "metadata": {},
     "output_type": "execute_result"
    }
   ],
   "source": [
    "U"
   ]
  },
  {
   "cell_type": "code",
   "execution_count": 26,
   "metadata": {},
   "outputs": [
    {
     "data": {
      "text/plain": [
       "4×4 Array{Float64,2}:\n",
       " 2.0  3.0  1.0  1.0\n",
       " 2.0  4.0  5.0  1.0\n",
       " 1.0  1.0  1.0  1.0\n",
       " 1.0  2.0  1.0  1.0"
      ]
     },
     "execution_count": 26,
     "metadata": {},
     "output_type": "execute_result"
    }
   ],
   "source": [
    "L*U"
   ]
  },
  {
   "cell_type": "markdown",
   "metadata": {},
   "source": [
    "Note que a matriz $LU$ obtida ao final é igual à matriz $A$ com a primeira linha trocada com a quarta, como está indicado no vetor que guardas as permutações `P`. \n",
    "\n",
    "Como podemos usar isso para resolver um sistema $Ax = b$? Como a matriz $LU$ ao final representa o mesmo sistema com algumas equações com ordem trocada, basta aplicar a mesma troca de ordem para componentes de $b$ e resolver o sistema usando $LU$. Vejamos a implementação."
   ]
  },
  {
   "cell_type": "code",
   "execution_count": 54,
   "metadata": {},
   "outputs": [
    {
     "name": "stdout",
     "output_type": "stream",
     "text": [
      "Solucao = [-1.0, 2.0, -1.0, -0.0]\n",
      "Verificacao, Ax = [3.0, 6.0, 4.0, 3.0]\n"
     ]
    }
   ],
   "source": [
    "# Resolve sistema Ax = b por LU com pivoteamento parcial.\n",
    "function resolve_LU(A, b)\n",
    "    P, L, U = LU(A)\n",
    "    # Troca as coordenadas de b de lugar.\n",
    "    b = b[P]\n",
    "    y = substituicao(L, b)\n",
    "    x = retro_substituicao(U, y)\n",
    "    return x\n",
    "end\n",
    "\n",
    "# Por fim, usamos as rotinas implementadas até agora para resolver um sistema linea.\n",
    "A = [2.0 3 1 1; 4 7 4 3; 4 7 6 4; 6 9 9 8]\n",
    "b = [3.0, 6, 4, 3]\n",
    "x = resolve_LU(A, b)\n",
    "println(\"Solucao = \", x)\n",
    "println(\"Verificacao, Ax = \", A*x)"
   ]
  },
  {
   "cell_type": "markdown",
   "metadata": {},
   "source": [
    "\n",
    "### Pivoteamento completo\n",
    "\n",
    "Uma alternativa ao pivoteamento parcial é o pivoteamento completo. Nessa variação, no início da iteração $k$ o algoritmo não procura trazer para a posição $(k, k)$ da diagonal o maior elemento em módulo da da parte da colua $k$ de $\\tilde{U}$ que está abaixo da diagonal. Podemos querer ser mais gulosos e procurar o maior elemento em toda a porção inferior direita de $\\tilde{U}$, ou seja em $\\tilde{U}[k:n, k:n]$. Imagine que esse elemento está na posição $(i, j)$. Podemos trazer esse elemento para a posição $(k, k)$ trocando a linha $i$ com a $k$ de lugar e depois as colunas $j$ e $k$. Esse método pode continuar sempre, a menos que toda a matriz $\\tilde{U}[k:n, k:n]$ seja composta por zeros, ou seja o algoritmo só para se ele se deparar com a configuração\n",
    "$$\n",
    "\\tilde{U} = \\left(\n",
    "\\begin{array}{cccc|c|cccc}\n",
    "X      &X      &X      &X      &\\dots  &X      &X      &\\dots &X \\\\\n",
    "0      &X      &X      &X      &\\dots  &X      &X      &\\dots &X \\\\\n",
    "0      &0      &X      &X      &\\dots  &X      &X      &\\dots &X \\\\\n",
    "\\vdots &\\vdots &\\ddots &\\ddots &\\dots  &\\vdots &\\vdots &\\dots &X \\\\ \\hline\n",
    "0      &0      &0      &\\dots  &0      &0      &0      &\\dots &0 \\\\ \\hline\n",
    "\\vdots &\\vdots &\\vdots &\\vdots &\\vdots &0      &0      &\\dots &0 \\\\\n",
    "0      &0      &0      &0      &0      &0      &0      &\\dots &0\n",
    "\\end{array}\n",
    "\\right).\n",
    "$$\n",
    "Mas nesse caso a matriz $\\tilde{U}$ já é triangular superior! O método pode parar pois não há mais o que fazer. Observe ainda que já sabíamos que o processo de troca de duas linhas pode ser representado pela multiplicação à esquerda de uma matriz permutação obtida da identidade trocando-se duas de suas linhas. Já a troca de colunas pode ser representada por uma multiplicação por uma matriz de permutação à direita. Isso pode ser explorado para provar o seguinte teorema:\n",
    "\n",
    "**Teorema** Toda matriz quadrada $A \\in \\mathbb{R}^{n \\times n}$ admite uma fatoração LU com pivoteamento completo. Ou seja, existem matrizes de permutação $P$ e $Q$, obtidas trocando-se linhas e colunas da matriz identidade de lugar, uma matriz triangular inferior $L$ e uma matriz triangular superior $U$ tal que\n",
    "$$\n",
    "P A Q = LU.\n",
    "$$\n",
    "\n",
    "\n",
    "\n",
    "# Erros numéricos e número de condição\n",
    "\n",
    "Bom, conseguimos então escrever uma rotina que é capaz de calcular a fatoração PLU de qualquer matriz inversível dada. Ela pode então ser usada para resolver sistemas. Porém, a necessidade de pivoteamento foi introduzida apenas em um caso muito radical, que é quando o elemento da diagonal encontrado é 0. Já a implementação faz algo ainda mais robusto. Ela sempre traz para a diagonal o maior elemento em módulo. Será que isso era realmente necessário? Ou será que estamos fazendo trabalho à toa e deveríamos mover elementos apenas no caso de encontrar zero?\n",
    "\n",
    "Vamos pensar um pouco analisando o seguinte caso."
   ]
  },
  {
   "cell_type": "code",
   "execution_count": 28,
   "metadata": {},
   "outputs": [
    {
     "data": {
      "text/plain": [
       "2×2 Array{Float64,2}:\n",
       " 1.0e-20  1.0\n",
       " 1.0      1.0"
      ]
     },
     "execution_count": 28,
     "metadata": {},
     "output_type": "execute_result"
    }
   ],
   "source": [
    "A = [1.0e-20 1; 1 1]"
   ]
  },
  {
   "cell_type": "code",
   "execution_count": 29,
   "metadata": {},
   "outputs": [
    {
     "data": {
      "text/plain": [
       "2×2 Array{Float64,2}:\n",
       " 1.0     0.0\n",
       " 1.0e20  1.0"
      ]
     },
     "execution_count": 29,
     "metadata": {},
     "output_type": "execute_result"
    }
   ],
   "source": [
    "L, U = preLU(A)\n",
    "L"
   ]
  },
  {
   "cell_type": "code",
   "execution_count": 30,
   "metadata": {},
   "outputs": [
    {
     "data": {
      "text/plain": [
       "2×2 Array{Float64,2}:\n",
       " 1.0e-20   1.0   \n",
       " 0.0      -1.0e20"
      ]
     },
     "execution_count": 30,
     "metadata": {},
     "output_type": "execute_result"
    }
   ],
   "source": [
    "U"
   ]
  },
  {
   "cell_type": "code",
   "execution_count": 31,
   "metadata": {},
   "outputs": [
    {
     "data": {
      "text/plain": [
       "2×2 Array{Float64,2}:\n",
       " 1.0e-20  1.0\n",
       " 1.0      0.0"
      ]
     },
     "execution_count": 31,
     "metadata": {},
     "output_type": "execute_result"
    }
   ],
   "source": [
    "L*U"
   ]
  },
  {
   "cell_type": "markdown",
   "metadata": {},
   "source": [
    "Notem que a matriz $LU$ obtida é muito diferente de $A$, isso pode ser visto claramente comparando os elementos $(2, 2)$. Como entender o que aconteceu? Nesse caso a única coisa que o algoritmo `preLU` faz é alterar a última linha para\n",
    "$$\n",
    "[1.0,\\quad 1.0] - 10^{20} [ 10^{-20},\\quad 1].\n",
    "$$\n",
    "Se as contas tivessem sido realizadas exatamente teríamos ao final\n",
    "$$\n",
    "[0,\\quad 1-10^{20}].\n",
    "$$\n",
    "Porém as contas não são realizadas exatamente, elas são realizadas em ponto flutuante no computador e sabemos que a precisão é de cerca de 16 casas decimais ($\\epsilon_{mac} \\approx 10^{-16}$). Nesse caso o $1$ é tão menor em módulo que o $-10^{20}$ que ele acaba sendo ignorado. Mas depois ele faz falta ao se tentar remontar a matriz $A$ a partir dos seus fatores. A situação também se mostra muito ruim se tentamos usar os fatores calculados para resolver um sistema\n",
    "\n",
    "\n"
   ]
  },
  {
   "cell_type": "code",
   "execution_count": 32,
   "metadata": {},
   "outputs": [
    {
     "name": "stdout",
     "output_type": "stream",
     "text": [
      "b = [1.0,0.0]\n",
      "Solucao = [0.0,1.0]\n",
      "Verificacao, Ax = [1.0,1.0]\n"
     ]
    }
   ],
   "source": [
    "b = [1.0, 0]\n",
    "y = substituicao(L, b)\n",
    "x = retro_substituicao(U, y)\n",
    "println(\"b = \", b)\n",
    "println(\"Solucao = \", x)\n",
    "println(\"Verificacao, Ax = \", A*x)"
   ]
  },
  {
   "cell_type": "markdown",
   "metadata": {},
   "source": [
    "Note que o valor do $Ax$ obtido, aproximadamente $(1, 1)'$, é muito diferente do lado direito original $(1, 0)'$. Isso pode sempre ocorrer quando o valor o pivot for muito pequeno em módulo, já que ele entra dividindo a linha da matriz que será somada às outras. Nesse caso a linha dividida pelo pivot pode ficar muito grande e ao usar esses coeficientes para gerar a linha que será somada às outras essa linha fica tão grande que tende a apagar a informação das demais. Isso mostra que não devemos apenas trocar linhas quando o valor na diagonal for $0$, queremos também evitar valores pequenos. Este é o motivo de porque é desejável sempre trocar as linhas de forma a trazer o maior valor possível para a posição do pivot. De fato veja o que obteríamos se usássemos a rotina com pivoteamento parcial."
   ]
  },
  {
   "cell_type": "code",
   "execution_count": 33,
   "metadata": {},
   "outputs": [
    {
     "data": {
      "text/plain": [
       "2×2 Array{Float64,2}:\n",
       " 1.0      0.0\n",
       " 1.0e-20  1.0"
      ]
     },
     "execution_count": 33,
     "metadata": {},
     "output_type": "execute_result"
    }
   ],
   "source": [
    "P, L, U = LU(A)\n",
    "L"
   ]
  },
  {
   "cell_type": "code",
   "execution_count": 34,
   "metadata": {},
   "outputs": [
    {
     "data": {
      "text/plain": [
       "2×2 Array{Float64,2}:\n",
       " 1.0  1.0\n",
       " 0.0  1.0"
      ]
     },
     "execution_count": 34,
     "metadata": {},
     "output_type": "execute_result"
    }
   ],
   "source": [
    "U"
   ]
  },
  {
   "cell_type": "code",
   "execution_count": 35,
   "metadata": {},
   "outputs": [
    {
     "data": {
      "text/plain": [
       "2×2 Array{Float64,2}:\n",
       " 1.0      1.0\n",
       " 1.0e-20  1.0"
      ]
     },
     "execution_count": 35,
     "metadata": {},
     "output_type": "execute_result"
    }
   ],
   "source": [
    "L*U"
   ]
  },
  {
   "cell_type": "markdown",
   "metadata": {},
   "source": [
    "Veja que a matriz $LU$ obtida recupera a matriz $A$ original com as linhas trocadas como esperado. Além disso se resolvermos o sistema teremos."
   ]
  },
  {
   "cell_type": "code",
   "execution_count": 36,
   "metadata": {},
   "outputs": [
    {
     "name": "stdout",
     "output_type": "stream",
     "text": [
      "b = [1.0,0.0]\n",
      "Solucao = [-1.0,1.0]\n",
      "Verificacao, Ax = [1.0,0.0]\n"
     ]
    }
   ],
   "source": [
    "x = resolve_LU(A, b)\n",
    "println(\"b = \", b)\n",
    "println(\"Solucao = \", x)\n",
    "println(\"Verificacao, Ax = \", A*x)"
   ]
  },
  {
   "cell_type": "markdown",
   "metadata": {},
   "source": [
    "Veja que agora o valor correto do lado direito correto é recuperado.\n",
    "\n",
    "### Número de condição\n",
    "\n",
    "Vimos anteriormente que a menos que tomemos cuidado de fazer pivoteamento parcial a fatoração LU pode falhar em resolver sistemas lineares simples. Pelo menos a precisão final obtida pode ser muito ruim.\n",
    "\n",
    "Vamos agora ver que há sistemas lineares que tem uma propriedade intrínseca que impede que eles sejam resolvidos com alta precisão. Para entender isso vamos apresentar dois casos de sistemas no plano e relembrar um pouco sobre a sua solução geométrica.\n",
    "\n",
    "Dado um sistema de duas equações e duas icógnitas, por exemplo\n",
    "\\begin{align*}\n",
    "x + y &= 2 \\\\\n",
    "x - 2y &= -1.\n",
    "\\end{align*}\n",
    "Aprendemos que podemos resolvê-lo graficamente desenhando as retas que representam cada uma das duas equações e procurando o seu ponto de cruzamento. Nesse caso teríamos."
   ]
  },
  {
   "cell_type": "code",
   "execution_count": 56,
   "metadata": {},
   "outputs": [
    {
     "data": {
      "text/html": [
       "<?xml version=\"1.0\" encoding=\"utf-8\"?>\n",
       "<svg xmlns=\"http://www.w3.org/2000/svg\" xmlns:xlink=\"http://www.w3.org/1999/xlink\" width=\"600\" height=\"400\" viewBox=\"0 0 600 400\">\n",
       "<defs>\n",
       "  <clipPath id=\"clip9300\">\n",
       "    <rect x=\"0\" y=\"0\" width=\"600\" height=\"400\"/>\n",
       "  </clipPath>\n",
       "</defs>\n",
       "<polygon clip-path=\"url(#clip9300)\" points=\"\n",
       "0,400 600,400 600,0 0,0 \n",
       "  \" fill=\"#ffffff\" fill-opacity=\"1\"/>\n",
       "<defs>\n",
       "  <clipPath id=\"clip9301\">\n",
       "    <rect x=\"120\" y=\"0\" width=\"421\" height=\"400\"/>\n",
       "  </clipPath>\n",
       "</defs>\n",
       "<polygon clip-path=\"url(#clip9300)\" points=\"\n",
       "32.4745,375.869 580.315,375.869 580.315,11.811 32.4745,11.811 \n",
       "  \" fill=\"#ffffff\" fill-opacity=\"1\"/>\n",
       "<defs>\n",
       "  <clipPath id=\"clip9302\">\n",
       "    <rect x=\"32\" y=\"11\" width=\"549\" height=\"365\"/>\n",
       "  </clipPath>\n",
       "</defs>\n",
       "<polyline clip-path=\"url(#clip9302)\" style=\"stroke:#000000; stroke-width:0.5; stroke-opacity:0.1; fill:none\" points=\"\n",
       "  32.4745,375.869 32.4745,11.811 \n",
       "  \"/>\n",
       "<polyline clip-path=\"url(#clip9302)\" style=\"stroke:#000000; stroke-width:0.5; stroke-opacity:0.1; fill:none\" points=\"\n",
       "  169.435,375.869 169.435,11.811 \n",
       "  \"/>\n",
       "<polyline clip-path=\"url(#clip9302)\" style=\"stroke:#000000; stroke-width:0.5; stroke-opacity:0.1; fill:none\" points=\"\n",
       "  306.395,375.869 306.395,11.811 \n",
       "  \"/>\n",
       "<polyline clip-path=\"url(#clip9302)\" style=\"stroke:#000000; stroke-width:0.5; stroke-opacity:0.1; fill:none\" points=\"\n",
       "  443.355,375.869 443.355,11.811 \n",
       "  \"/>\n",
       "<polyline clip-path=\"url(#clip9302)\" style=\"stroke:#000000; stroke-width:0.5; stroke-opacity:0.1; fill:none\" points=\"\n",
       "  580.315,375.869 580.315,11.811 \n",
       "  \"/>\n",
       "<polyline clip-path=\"url(#clip9302)\" style=\"stroke:#000000; stroke-width:0.5; stroke-opacity:0.1; fill:none\" points=\"\n",
       "  32.4745,375.869 580.315,375.869 \n",
       "  \"/>\n",
       "<polyline clip-path=\"url(#clip9302)\" style=\"stroke:#000000; stroke-width:0.5; stroke-opacity:0.1; fill:none\" points=\"\n",
       "  32.4745,284.854 580.315,284.854 \n",
       "  \"/>\n",
       "<polyline clip-path=\"url(#clip9302)\" style=\"stroke:#000000; stroke-width:0.5; stroke-opacity:0.1; fill:none\" points=\"\n",
       "  32.4745,193.84 580.315,193.84 \n",
       "  \"/>\n",
       "<polyline clip-path=\"url(#clip9302)\" style=\"stroke:#000000; stroke-width:0.5; stroke-opacity:0.1; fill:none\" points=\"\n",
       "  32.4745,102.825 580.315,102.825 \n",
       "  \"/>\n",
       "<polyline clip-path=\"url(#clip9302)\" style=\"stroke:#000000; stroke-width:0.5; stroke-opacity:0.1; fill:none\" points=\"\n",
       "  32.4745,11.811 580.315,11.811 \n",
       "  \"/>\n",
       "<polyline clip-path=\"url(#clip9300)\" style=\"stroke:#000000; stroke-width:1; stroke-opacity:1; fill:none\" points=\"\n",
       "  32.4745,375.869 580.315,375.869 \n",
       "  \"/>\n",
       "<polyline clip-path=\"url(#clip9300)\" style=\"stroke:#000000; stroke-width:1; stroke-opacity:1; fill:none\" points=\"\n",
       "  32.4745,375.869 32.4745,11.811 \n",
       "  \"/>\n",
       "<polyline clip-path=\"url(#clip9300)\" style=\"stroke:#000000; stroke-width:1; stroke-opacity:1; fill:none\" points=\"\n",
       "  32.4745,375.869 32.4745,370.408 \n",
       "  \"/>\n",
       "<polyline clip-path=\"url(#clip9300)\" style=\"stroke:#000000; stroke-width:1; stroke-opacity:1; fill:none\" points=\"\n",
       "  169.435,375.869 169.435,370.408 \n",
       "  \"/>\n",
       "<polyline clip-path=\"url(#clip9300)\" style=\"stroke:#000000; stroke-width:1; stroke-opacity:1; fill:none\" points=\"\n",
       "  306.395,375.869 306.395,370.408 \n",
       "  \"/>\n",
       "<polyline clip-path=\"url(#clip9300)\" style=\"stroke:#000000; stroke-width:1; stroke-opacity:1; fill:none\" points=\"\n",
       "  443.355,375.869 443.355,370.408 \n",
       "  \"/>\n",
       "<polyline clip-path=\"url(#clip9300)\" style=\"stroke:#000000; stroke-width:1; stroke-opacity:1; fill:none\" points=\"\n",
       "  580.315,375.869 580.315,370.408 \n",
       "  \"/>\n",
       "<polyline clip-path=\"url(#clip9300)\" style=\"stroke:#000000; stroke-width:1; stroke-opacity:1; fill:none\" points=\"\n",
       "  32.4745,375.869 40.6921,375.869 \n",
       "  \"/>\n",
       "<polyline clip-path=\"url(#clip9300)\" style=\"stroke:#000000; stroke-width:1; stroke-opacity:1; fill:none\" points=\"\n",
       "  32.4745,284.854 40.6921,284.854 \n",
       "  \"/>\n",
       "<polyline clip-path=\"url(#clip9300)\" style=\"stroke:#000000; stroke-width:1; stroke-opacity:1; fill:none\" points=\"\n",
       "  32.4745,193.84 40.6921,193.84 \n",
       "  \"/>\n",
       "<polyline clip-path=\"url(#clip9300)\" style=\"stroke:#000000; stroke-width:1; stroke-opacity:1; fill:none\" points=\"\n",
       "  32.4745,102.825 40.6921,102.825 \n",
       "  \"/>\n",
       "<polyline clip-path=\"url(#clip9300)\" style=\"stroke:#000000; stroke-width:1; stroke-opacity:1; fill:none\" points=\"\n",
       "  32.4745,11.811 40.6921,11.811 \n",
       "  \"/>\n",
       "<g clip-path=\"url(#clip9300)\">\n",
       "<text style=\"fill:#000000; fill-opacity:1; font-family:Arial,Helvetica Neue,Helvetica,sans-serif; font-size:12; text-anchor:middle;\" transform=\"rotate(0, 32.4745, 389.669)\" x=\"32.4745\" y=\"389.669\">0.0</text>\n",
       "</g>\n",
       "<g clip-path=\"url(#clip9300)\">\n",
       "<text style=\"fill:#000000; fill-opacity:1; font-family:Arial,Helvetica Neue,Helvetica,sans-serif; font-size:12; text-anchor:middle;\" transform=\"rotate(0, 169.435, 389.669)\" x=\"169.435\" y=\"389.669\">0.5</text>\n",
       "</g>\n",
       "<g clip-path=\"url(#clip9300)\">\n",
       "<text style=\"fill:#000000; fill-opacity:1; font-family:Arial,Helvetica Neue,Helvetica,sans-serif; font-size:12; text-anchor:middle;\" transform=\"rotate(0, 306.395, 389.669)\" x=\"306.395\" y=\"389.669\">1.0</text>\n",
       "</g>\n",
       "<g clip-path=\"url(#clip9300)\">\n",
       "<text style=\"fill:#000000; fill-opacity:1; font-family:Arial,Helvetica Neue,Helvetica,sans-serif; font-size:12; text-anchor:middle;\" transform=\"rotate(0, 443.355, 389.669)\" x=\"443.355\" y=\"389.669\">1.5</text>\n",
       "</g>\n",
       "<g clip-path=\"url(#clip9300)\">\n",
       "<text style=\"fill:#000000; fill-opacity:1; font-family:Arial,Helvetica Neue,Helvetica,sans-serif; font-size:12; text-anchor:middle;\" transform=\"rotate(0, 580.315, 389.669)\" x=\"580.315\" y=\"389.669\">2.0</text>\n",
       "</g>\n",
       "<g clip-path=\"url(#clip9300)\">\n",
       "<text style=\"fill:#000000; fill-opacity:1; font-family:Arial,Helvetica Neue,Helvetica,sans-serif; font-size:12; text-anchor:end;\" transform=\"rotate(0, 26.4745, 380.369)\" x=\"26.4745\" y=\"380.369\">0.0</text>\n",
       "</g>\n",
       "<g clip-path=\"url(#clip9300)\">\n",
       "<text style=\"fill:#000000; fill-opacity:1; font-family:Arial,Helvetica Neue,Helvetica,sans-serif; font-size:12; text-anchor:end;\" transform=\"rotate(0, 26.4745, 289.354)\" x=\"26.4745\" y=\"289.354\">0.5</text>\n",
       "</g>\n",
       "<g clip-path=\"url(#clip9300)\">\n",
       "<text style=\"fill:#000000; fill-opacity:1; font-family:Arial,Helvetica Neue,Helvetica,sans-serif; font-size:12; text-anchor:end;\" transform=\"rotate(0, 26.4745, 198.34)\" x=\"26.4745\" y=\"198.34\">1.0</text>\n",
       "</g>\n",
       "<g clip-path=\"url(#clip9300)\">\n",
       "<text style=\"fill:#000000; fill-opacity:1; font-family:Arial,Helvetica Neue,Helvetica,sans-serif; font-size:12; text-anchor:end;\" transform=\"rotate(0, 26.4745, 107.325)\" x=\"26.4745\" y=\"107.325\">1.5</text>\n",
       "</g>\n",
       "<g clip-path=\"url(#clip9300)\">\n",
       "<text style=\"fill:#000000; fill-opacity:1; font-family:Arial,Helvetica Neue,Helvetica,sans-serif; font-size:12; text-anchor:end;\" transform=\"rotate(0, 26.4745, 16.311)\" x=\"26.4745\" y=\"16.311\">2.0</text>\n",
       "</g>\n",
       "<polyline clip-path=\"url(#clip9302)\" style=\"stroke:#009af9; stroke-width:1; stroke-opacity:1; fill:none\" points=\"\n",
       "  32.4745,11.811 38.0082,15.4884 43.542,19.1657 49.0757,22.8431 54.6095,26.5204 60.1432,30.1978 65.6769,33.8751 71.2107,37.5525 76.7444,41.2298 82.2782,44.9072 \n",
       "  87.8119,48.5845 93.3457,52.2619 98.8794,55.9392 104.413,59.6166 109.947,63.2939 115.481,66.9713 121.014,70.6486 126.548,74.326 132.082,78.0033 137.616,81.6807 \n",
       "  143.149,85.358 148.683,89.0354 154.217,92.7127 159.751,96.3901 165.284,100.067 170.818,103.745 176.352,107.422 181.886,111.099 187.419,114.777 192.953,118.454 \n",
       "  198.487,122.132 204.02,125.809 209.554,129.486 215.088,133.164 220.622,136.841 226.155,140.518 231.689,144.196 237.223,147.873 242.757,151.55 248.29,155.228 \n",
       "  253.824,158.905 259.358,162.582 264.892,166.26 270.425,169.937 275.959,173.614 281.493,177.292 287.027,180.969 292.56,184.646 298.094,188.324 303.628,192.001 \n",
       "  309.162,195.679 314.695,199.356 320.229,203.033 325.763,206.711 331.297,210.388 336.83,214.065 342.364,217.743 347.898,221.42 353.432,225.097 358.965,228.775 \n",
       "  364.499,232.452 370.033,236.129 375.567,239.807 381.1,243.484 386.634,247.161 392.168,250.839 397.701,254.516 403.235,258.193 408.769,261.871 414.303,265.548 \n",
       "  419.836,269.226 425.37,272.903 430.904,276.58 436.438,280.258 441.971,283.935 447.505,287.612 453.039,291.29 458.573,294.967 464.106,298.644 469.64,302.322 \n",
       "  475.174,305.999 480.708,309.676 486.241,313.354 491.775,317.031 497.309,320.708 502.843,324.386 508.376,328.063 513.91,331.74 519.444,335.418 524.978,339.095 \n",
       "  530.511,342.773 536.045,346.45 541.579,350.127 547.113,353.805 552.646,357.482 558.18,361.159 563.714,364.837 569.247,368.514 574.781,372.191 580.315,375.869 \n",
       "  \n",
       "  \"/>\n",
       "<polyline clip-path=\"url(#clip9302)\" style=\"stroke:#e26f46; stroke-width:1; stroke-opacity:1; fill:none\" points=\"\n",
       "  32.4745,284.854 38.0082,283.016 43.542,281.177 49.0757,279.338 54.6095,277.5 60.1432,275.661 65.6769,273.822 71.2107,271.984 76.7444,270.145 82.2782,268.306 \n",
       "  87.8119,266.468 93.3457,264.629 98.8794,262.79 104.413,260.951 109.947,259.113 115.481,257.274 121.014,255.435 126.548,253.597 132.082,251.758 137.616,249.919 \n",
       "  143.149,248.081 148.683,246.242 154.217,244.403 159.751,242.565 165.284,240.726 170.818,238.887 176.352,237.049 181.886,235.21 187.419,233.371 192.953,231.533 \n",
       "  198.487,229.694 204.02,227.855 209.554,226.017 215.088,224.178 220.622,222.339 226.155,220.501 231.689,218.662 237.223,216.823 242.757,214.985 248.29,213.146 \n",
       "  253.824,211.307 259.358,209.469 264.892,207.63 270.425,205.791 275.959,203.953 281.493,202.114 287.027,200.275 292.56,198.437 298.094,196.598 303.628,194.759 \n",
       "  309.162,192.921 314.695,191.082 320.229,189.243 325.763,187.404 331.297,185.566 336.83,183.727 342.364,181.888 347.898,180.05 353.432,178.211 358.965,176.372 \n",
       "  364.499,174.534 370.033,172.695 375.567,170.856 381.1,169.018 386.634,167.179 392.168,165.34 397.701,163.502 403.235,161.663 408.769,159.824 414.303,157.986 \n",
       "  419.836,156.147 425.37,154.308 430.904,152.47 436.438,150.631 441.971,148.792 447.505,146.954 453.039,145.115 458.573,143.276 464.106,141.438 469.64,139.599 \n",
       "  475.174,137.76 480.708,135.922 486.241,134.083 491.775,132.244 497.309,130.406 502.843,128.567 508.376,126.728 513.91,124.89 519.444,123.051 524.978,121.212 \n",
       "  530.511,119.374 536.045,117.535 541.579,115.696 547.113,113.857 552.646,112.019 558.18,110.18 563.714,108.341 569.247,106.503 574.781,104.664 580.315,102.825 \n",
       "  \n",
       "  \"/>\n",
       "</svg>\n"
      ]
     },
     "execution_count": 56,
     "metadata": {},
     "output_type": "execute_result"
    }
   ],
   "source": [
    "using Plots\n",
    "gr()\n",
    "x = linspace(0.0, 2.0, 100)\n",
    "# Para obter as funções abaixo basta resolver as equações para y.\n",
    "plot(x, 2 - x,lab=\"\")\n",
    "plot!(x, (x + 1)/2,lab=\"\")"
   ]
  },
  {
   "cell_type": "markdown",
   "metadata": {},
   "source": [
    "Nessa imagem vemos claramento o ponto de cruzamento que é $(1, 1)$. A situação ficaria bem menos clara se as duas retas fossem quase paralelas. Isso ocorre por exemplo com o sistema\n",
    "\\begin{align*}\n",
    "x + y &= 2 \\\\\n",
    "(1.0 + 10^{-1})x + y &= 2 + 10^{-1}.\n",
    "\\end{align*}\n",
    "\n",
    "Nesse caso a figura fica:"
   ]
  },
  {
   "cell_type": "code",
   "execution_count": 57,
   "metadata": {},
   "outputs": [
    {
     "data": {
      "text/html": [
       "<?xml version=\"1.0\" encoding=\"utf-8\"?>\n",
       "<svg xmlns=\"http://www.w3.org/2000/svg\" xmlns:xlink=\"http://www.w3.org/1999/xlink\" width=\"600\" height=\"400\" viewBox=\"0 0 600 400\">\n",
       "<defs>\n",
       "  <clipPath id=\"clip9500\">\n",
       "    <rect x=\"0\" y=\"0\" width=\"600\" height=\"400\"/>\n",
       "  </clipPath>\n",
       "</defs>\n",
       "<polygon clip-path=\"url(#clip9500)\" points=\"\n",
       "0,400 600,400 600,0 0,0 \n",
       "  \" fill=\"#ffffff\" fill-opacity=\"1\"/>\n",
       "<defs>\n",
       "  <clipPath id=\"clip9501\">\n",
       "    <rect x=\"120\" y=\"0\" width=\"421\" height=\"400\"/>\n",
       "  </clipPath>\n",
       "</defs>\n",
       "<polygon clip-path=\"url(#clip9500)\" points=\"\n",
       "32.4745,375.869 580.315,375.869 580.315,11.811 32.4745,11.811 \n",
       "  \" fill=\"#ffffff\" fill-opacity=\"1\"/>\n",
       "<defs>\n",
       "  <clipPath id=\"clip9502\">\n",
       "    <rect x=\"32\" y=\"11\" width=\"549\" height=\"365\"/>\n",
       "  </clipPath>\n",
       "</defs>\n",
       "<polyline clip-path=\"url(#clip9502)\" style=\"stroke:#000000; stroke-width:0.5; stroke-opacity:0.1; fill:none\" points=\"\n",
       "  32.4745,375.869 32.4745,11.811 \n",
       "  \"/>\n",
       "<polyline clip-path=\"url(#clip9502)\" style=\"stroke:#000000; stroke-width:0.5; stroke-opacity:0.1; fill:none\" points=\"\n",
       "  169.435,375.869 169.435,11.811 \n",
       "  \"/>\n",
       "<polyline clip-path=\"url(#clip9502)\" style=\"stroke:#000000; stroke-width:0.5; stroke-opacity:0.1; fill:none\" points=\"\n",
       "  306.395,375.869 306.395,11.811 \n",
       "  \"/>\n",
       "<polyline clip-path=\"url(#clip9502)\" style=\"stroke:#000000; stroke-width:0.5; stroke-opacity:0.1; fill:none\" points=\"\n",
       "  443.355,375.869 443.355,11.811 \n",
       "  \"/>\n",
       "<polyline clip-path=\"url(#clip9502)\" style=\"stroke:#000000; stroke-width:0.5; stroke-opacity:0.1; fill:none\" points=\"\n",
       "  580.315,375.869 580.315,11.811 \n",
       "  \"/>\n",
       "<polyline clip-path=\"url(#clip9502)\" style=\"stroke:#000000; stroke-width:0.5; stroke-opacity:0.1; fill:none\" points=\"\n",
       "  32.4745,359.321 580.315,359.321 \n",
       "  \"/>\n",
       "<polyline clip-path=\"url(#clip9502)\" style=\"stroke:#000000; stroke-width:0.5; stroke-opacity:0.1; fill:none\" points=\"\n",
       "  32.4745,276.58 580.315,276.58 \n",
       "  \"/>\n",
       "<polyline clip-path=\"url(#clip9502)\" style=\"stroke:#000000; stroke-width:0.5; stroke-opacity:0.1; fill:none\" points=\"\n",
       "  32.4745,193.84 580.315,193.84 \n",
       "  \"/>\n",
       "<polyline clip-path=\"url(#clip9502)\" style=\"stroke:#000000; stroke-width:0.5; stroke-opacity:0.1; fill:none\" points=\"\n",
       "  32.4745,111.099 580.315,111.099 \n",
       "  \"/>\n",
       "<polyline clip-path=\"url(#clip9502)\" style=\"stroke:#000000; stroke-width:0.5; stroke-opacity:0.1; fill:none\" points=\"\n",
       "  32.4745,28.3591 580.315,28.3591 \n",
       "  \"/>\n",
       "<polyline clip-path=\"url(#clip9500)\" style=\"stroke:#000000; stroke-width:1; stroke-opacity:1; fill:none\" points=\"\n",
       "  32.4745,375.869 580.315,375.869 \n",
       "  \"/>\n",
       "<polyline clip-path=\"url(#clip9500)\" style=\"stroke:#000000; stroke-width:1; stroke-opacity:1; fill:none\" points=\"\n",
       "  32.4745,375.869 32.4745,11.811 \n",
       "  \"/>\n",
       "<polyline clip-path=\"url(#clip9500)\" style=\"stroke:#000000; stroke-width:1; stroke-opacity:1; fill:none\" points=\"\n",
       "  32.4745,375.869 32.4745,370.408 \n",
       "  \"/>\n",
       "<polyline clip-path=\"url(#clip9500)\" style=\"stroke:#000000; stroke-width:1; stroke-opacity:1; fill:none\" points=\"\n",
       "  169.435,375.869 169.435,370.408 \n",
       "  \"/>\n",
       "<polyline clip-path=\"url(#clip9500)\" style=\"stroke:#000000; stroke-width:1; stroke-opacity:1; fill:none\" points=\"\n",
       "  306.395,375.869 306.395,370.408 \n",
       "  \"/>\n",
       "<polyline clip-path=\"url(#clip9500)\" style=\"stroke:#000000; stroke-width:1; stroke-opacity:1; fill:none\" points=\"\n",
       "  443.355,375.869 443.355,370.408 \n",
       "  \"/>\n",
       "<polyline clip-path=\"url(#clip9500)\" style=\"stroke:#000000; stroke-width:1; stroke-opacity:1; fill:none\" points=\"\n",
       "  580.315,375.869 580.315,370.408 \n",
       "  \"/>\n",
       "<polyline clip-path=\"url(#clip9500)\" style=\"stroke:#000000; stroke-width:1; stroke-opacity:1; fill:none\" points=\"\n",
       "  32.4745,359.321 40.6921,359.321 \n",
       "  \"/>\n",
       "<polyline clip-path=\"url(#clip9500)\" style=\"stroke:#000000; stroke-width:1; stroke-opacity:1; fill:none\" points=\"\n",
       "  32.4745,276.58 40.6921,276.58 \n",
       "  \"/>\n",
       "<polyline clip-path=\"url(#clip9500)\" style=\"stroke:#000000; stroke-width:1; stroke-opacity:1; fill:none\" points=\"\n",
       "  32.4745,193.84 40.6921,193.84 \n",
       "  \"/>\n",
       "<polyline clip-path=\"url(#clip9500)\" style=\"stroke:#000000; stroke-width:1; stroke-opacity:1; fill:none\" points=\"\n",
       "  32.4745,111.099 40.6921,111.099 \n",
       "  \"/>\n",
       "<polyline clip-path=\"url(#clip9500)\" style=\"stroke:#000000; stroke-width:1; stroke-opacity:1; fill:none\" points=\"\n",
       "  32.4745,28.3591 40.6921,28.3591 \n",
       "  \"/>\n",
       "<g clip-path=\"url(#clip9500)\">\n",
       "<text style=\"fill:#000000; fill-opacity:1; font-family:Arial,Helvetica Neue,Helvetica,sans-serif; font-size:12; text-anchor:middle;\" transform=\"rotate(0, 32.4745, 389.669)\" x=\"32.4745\" y=\"389.669\">0.0</text>\n",
       "</g>\n",
       "<g clip-path=\"url(#clip9500)\">\n",
       "<text style=\"fill:#000000; fill-opacity:1; font-family:Arial,Helvetica Neue,Helvetica,sans-serif; font-size:12; text-anchor:middle;\" transform=\"rotate(0, 169.435, 389.669)\" x=\"169.435\" y=\"389.669\">0.5</text>\n",
       "</g>\n",
       "<g clip-path=\"url(#clip9500)\">\n",
       "<text style=\"fill:#000000; fill-opacity:1; font-family:Arial,Helvetica Neue,Helvetica,sans-serif; font-size:12; text-anchor:middle;\" transform=\"rotate(0, 306.395, 389.669)\" x=\"306.395\" y=\"389.669\">1.0</text>\n",
       "</g>\n",
       "<g clip-path=\"url(#clip9500)\">\n",
       "<text style=\"fill:#000000; fill-opacity:1; font-family:Arial,Helvetica Neue,Helvetica,sans-serif; font-size:12; text-anchor:middle;\" transform=\"rotate(0, 443.355, 389.669)\" x=\"443.355\" y=\"389.669\">1.5</text>\n",
       "</g>\n",
       "<g clip-path=\"url(#clip9500)\">\n",
       "<text style=\"fill:#000000; fill-opacity:1; font-family:Arial,Helvetica Neue,Helvetica,sans-serif; font-size:12; text-anchor:middle;\" transform=\"rotate(0, 580.315, 389.669)\" x=\"580.315\" y=\"389.669\">2.0</text>\n",
       "</g>\n",
       "<g clip-path=\"url(#clip9500)\">\n",
       "<text style=\"fill:#000000; fill-opacity:1; font-family:Arial,Helvetica Neue,Helvetica,sans-serif; font-size:12; text-anchor:end;\" transform=\"rotate(0, 26.4745, 363.821)\" x=\"26.4745\" y=\"363.821\">0.0</text>\n",
       "</g>\n",
       "<g clip-path=\"url(#clip9500)\">\n",
       "<text style=\"fill:#000000; fill-opacity:1; font-family:Arial,Helvetica Neue,Helvetica,sans-serif; font-size:12; text-anchor:end;\" transform=\"rotate(0, 26.4745, 281.08)\" x=\"26.4745\" y=\"281.08\">0.5</text>\n",
       "</g>\n",
       "<g clip-path=\"url(#clip9500)\">\n",
       "<text style=\"fill:#000000; fill-opacity:1; font-family:Arial,Helvetica Neue,Helvetica,sans-serif; font-size:12; text-anchor:end;\" transform=\"rotate(0, 26.4745, 198.34)\" x=\"26.4745\" y=\"198.34\">1.0</text>\n",
       "</g>\n",
       "<g clip-path=\"url(#clip9500)\">\n",
       "<text style=\"fill:#000000; fill-opacity:1; font-family:Arial,Helvetica Neue,Helvetica,sans-serif; font-size:12; text-anchor:end;\" transform=\"rotate(0, 26.4745, 115.599)\" x=\"26.4745\" y=\"115.599\">1.5</text>\n",
       "</g>\n",
       "<g clip-path=\"url(#clip9500)\">\n",
       "<text style=\"fill:#000000; fill-opacity:1; font-family:Arial,Helvetica Neue,Helvetica,sans-serif; font-size:12; text-anchor:end;\" transform=\"rotate(0, 26.4745, 32.8591)\" x=\"26.4745\" y=\"32.8591\">2.0</text>\n",
       "</g>\n",
       "<polyline clip-path=\"url(#clip9502)\" style=\"stroke:#009af9; stroke-width:1; stroke-opacity:1; fill:none\" points=\"\n",
       "  32.4745,28.3591 38.0082,31.7021 43.542,35.0452 49.0757,38.3882 54.6095,41.7313 60.1432,45.0743 65.6769,48.4174 71.2107,51.7604 76.7444,55.1035 82.2782,58.4465 \n",
       "  87.8119,61.7896 93.3457,65.1326 98.8794,68.4756 104.413,71.8187 109.947,75.1617 115.481,78.5048 121.014,81.8478 126.548,85.1909 132.082,88.5339 137.616,91.877 \n",
       "  143.149,95.22 148.683,98.5631 154.217,101.906 159.751,105.249 165.284,108.592 170.818,111.935 176.352,115.278 181.886,118.621 187.419,121.964 192.953,125.307 \n",
       "  198.487,128.65 204.02,131.994 209.554,135.337 215.088,138.68 220.622,142.023 226.155,145.366 231.689,148.709 237.223,152.052 242.757,155.395 248.29,158.738 \n",
       "  253.824,162.081 259.358,165.424 264.892,168.767 270.425,172.11 275.959,175.453 281.493,178.796 287.027,182.139 292.56,185.482 298.094,188.825 303.628,192.168 \n",
       "  309.162,195.511 314.695,198.854 320.229,202.197 325.763,205.541 331.297,208.884 336.83,212.227 342.364,215.57 347.898,218.913 353.432,222.256 358.965,225.599 \n",
       "  364.499,228.942 370.033,232.285 375.567,235.628 381.1,238.971 386.634,242.314 392.168,245.657 397.701,249 403.235,252.343 408.769,255.686 414.303,259.029 \n",
       "  419.836,262.372 425.37,265.715 430.904,269.058 436.438,272.401 441.971,275.744 447.505,279.088 453.039,282.431 458.573,285.774 464.106,289.117 469.64,292.46 \n",
       "  475.174,295.803 480.708,299.146 486.241,302.489 491.775,305.832 497.309,309.175 502.843,312.518 508.376,315.861 513.91,319.204 519.444,322.547 524.978,325.89 \n",
       "  530.511,329.233 536.045,332.576 541.579,335.919 547.113,339.262 552.646,342.605 558.18,345.948 563.714,349.291 569.247,352.635 574.781,355.978 580.315,359.321 \n",
       "  \n",
       "  \"/>\n",
       "<polyline clip-path=\"url(#clip9502)\" style=\"stroke:#e26f46; stroke-width:1; stroke-opacity:1; fill:none\" points=\"\n",
       "  32.4745,11.811 38.0082,15.4884 43.542,19.1657 49.0757,22.8431 54.6095,26.5204 60.1432,30.1978 65.6769,33.8751 71.2107,37.5525 76.7444,41.2298 82.2782,44.9072 \n",
       "  87.8119,48.5845 93.3457,52.2619 98.8794,55.9392 104.413,59.6166 109.947,63.2939 115.481,66.9713 121.014,70.6486 126.548,74.326 132.082,78.0033 137.616,81.6807 \n",
       "  143.149,85.358 148.683,89.0354 154.217,92.7127 159.751,96.3901 165.284,100.067 170.818,103.745 176.352,107.422 181.886,111.099 187.419,114.777 192.953,118.454 \n",
       "  198.487,122.132 204.02,125.809 209.554,129.486 215.088,133.164 220.622,136.841 226.155,140.518 231.689,144.196 237.223,147.873 242.757,151.55 248.29,155.228 \n",
       "  253.824,158.905 259.358,162.582 264.892,166.26 270.425,169.937 275.959,173.614 281.493,177.292 287.027,180.969 292.56,184.646 298.094,188.324 303.628,192.001 \n",
       "  309.162,195.679 314.695,199.356 320.229,203.033 325.763,206.711 331.297,210.388 336.83,214.065 342.364,217.743 347.898,221.42 353.432,225.097 358.965,228.775 \n",
       "  364.499,232.452 370.033,236.129 375.567,239.807 381.1,243.484 386.634,247.161 392.168,250.839 397.701,254.516 403.235,258.193 408.769,261.871 414.303,265.548 \n",
       "  419.836,269.226 425.37,272.903 430.904,276.58 436.438,280.258 441.971,283.935 447.505,287.612 453.039,291.29 458.573,294.967 464.106,298.644 469.64,302.322 \n",
       "  475.174,305.999 480.708,309.676 486.241,313.354 491.775,317.031 497.309,320.708 502.843,324.386 508.376,328.063 513.91,331.74 519.444,335.418 524.978,339.095 \n",
       "  530.511,342.773 536.045,346.45 541.579,350.127 547.113,353.805 552.646,357.482 558.18,361.159 563.714,364.837 569.247,368.514 574.781,372.191 580.315,375.869 \n",
       "  \n",
       "  \"/>\n",
       "</svg>\n"
      ]
     },
     "execution_count": 57,
     "metadata": {},
     "output_type": "execute_result"
    }
   ],
   "source": [
    "plot(x, 2 - x,lab=\"\")\n",
    "plot!(x, 2.1 - 1.1x,lab=\"\")"
   ]
  },
  {
   "cell_type": "markdown",
   "metadata": {},
   "source": [
    "Agora o ponto de intersecção continua sendo $(1, 1)$ mas isso é muito menos claro visualmente. A única solução é ir tentando aumentar a imagem próximo à região de intersecção (zoom) para tentar ver melhor. Por outro lado se você imaginar que as linhas tem espessura fixa o zoom não vai adiantar muito. Há uma precisão máxima que pode ser obtida. De forma análoga ao caso de linhas de espessura fixa, a precisão que pode ser atingida com números do tipo ponto flutuante é também limitada.\n",
    "\n",
    "Dessa forma, é de se esperar que quando queremos resolver um sistema associado a equações quase paralelas o computador tenha problemas. Vamos ver isso."
   ]
  },
  {
   "cell_type": "code",
   "execution_count": 58,
   "metadata": {},
   "outputs": [
    {
     "name": "stdout",
     "output_type": "stream",
     "text": [
      "Solucao calculada = 1.0000000055511151 0.9999999944488848\n",
      "Erro relativo = 7.850462371923499e-9\n"
     ]
    }
   ],
   "source": [
    "# Constroi um sistema que tem solucao exata (1, 1) mas com a segunda \n",
    "# equacao muito parecida com a primeira.\n",
    "pertubacao = 1.0e-8\n",
    "A = [1.0 1.0; 1.0 + pertubacao 1.0 - pertubacao]\n",
    "b = [2.0 2.0]\n",
    "x = resolve_LU(A, b)\n",
    "println(\"Solucao calculada = \", x[1], \" \", x[2])\n",
    "println(\"Erro relativo = \", norm(x - ones(2)))"
   ]
  },
  {
   "cell_type": "markdown",
   "metadata": {},
   "source": [
    "Veja que a solução calculada já erra na nona casa. Isso é confirmado pelo calculo do erro relativo. Um fato interessante é que é possível calcular um valor a partir da matriz que nos diz quando esperar que problemas numéricos como os que vimos acima podem ocorrer. Mas para isso precisamos fazer um pequeno desvio e falar sobre normas de matrizes.\n",
    "\n",
    "### Distâncias e normas de vetores e matrizes.\n",
    "\n",
    "Em Matemática chamamos de norma, ou comprimento de um vetor $x \\in \\mathbb{R}^n$, uma função $x \\mapsto \\| x \\| \\in \\mathbb{R}$ tal que:\n",
    "\n",
    "1. $\\| x \\| \\geq 0$ para todo $x \\in \\mathbb{R}^n$ e $\\| x \\| = 0$ somente se $x = 0$.\n",
    "\n",
    "1. $\\| \\alpha x \\| = |\\alpha| \\| x \\|$, para todo $x \\in \\mathbb{R}^n$ e $\\alpha \\in \\mathbb{R}$.\n",
    "\n",
    "1. $\\| x + y \\| \\leq \\| x \\| + \\| y \\|$ para todos $x, y \\in \\mathbb{R}^n$ (desigualdade triangular).\n",
    "\n",
    "A ideia por detrás dessa definição é capturar diferentes formas de medir tamanho ou distância, mas preservando a propriedade que vetores pequenos tem tamanhos pequenos, somente o vetor nulo tem tamanho $0$ e que o tamanho do lado de um triângulo é menor ou igual a soma dos tamanhos dos outros dois lados.\n",
    "\n",
    "Com a norma definida podemos definir a distância entre dois vetores como a norma de sua diferença, como é natural.\n",
    "\n",
    "Vejamos agora alguns os exemplos mais importantes de norma nesse curso.\n",
    "\n",
    "\\begin{align*}\n",
    "\\| x \\|_1 &= | x_1 | + | x_2 | + \\ldots + | x_n |. \\\\\n",
    "\\| x \\|_2 &= \\sqrt{x_1^2 + x_2^2 + \\ldots + x_n^2}. \\\\\n",
    "\\| x \\|_\\infty &= \\max \\{ | x_1 |, | x_2 |, \\ldots, | x_n | \\}.\n",
    "\\end{align*}\n",
    "\n",
    "É fácil mostrar que as definições acima obedecem às três propriedades que definem uma norma usando as propriedades relacionadas da função módulo.\n",
    "\n",
    "Uma pergunta natural é: porque se preocupar com formas alternativas de medir comprimento de vetor ou distância entre dois vetores que não seja a distância usual, euclidiana, que é capturada na definição da norma 2? Para entender disso imagine que você mora em uma cidade com ruas formando um quadriculado. Se você está em um ponto $(x_1, y_1)$ nessa cidade e quer ir para o ponto $(x_2, y_2)$ é fácil entender que o mínimo que você precisa se movimentar é justamente $| x_1 - x_ 2 |$ na horizontal $| y_1 - y_2 |$ na vertical. Ou seja, na prática a distância entre esses pontos é $| x_1 - x_ 2 | + | y_1 - y_2 |$ que está justamente relacionada à norma 1.\n",
    "\n",
    "Da mesma forma que podemos estar interessados em definir o comprimento ou de vetores podemos também querer definir o comprimento ou tamanho de matrizes. Isso é usualmente feito referindo-se a normas de vetores. Vamos mais uma vez apresentar as definições mais importantes para o curso. Seja $A \\in \\mathbb{R}^{n \\times n}$ temos\n",
    "\\begin{align*}\n",
    "\\| A \\|_1 &= \\max \\{ \\| a_{1:n, i} \\|_1,\\ i = 1, \\ldots, n \\} \\quad\\quad \\text{(máxima norma 1 das colunas de A)}. \\\\\n",
    "\\| A \\|_2 &= \\max_{\\| x \\|_2 = 1} \\{ \\| Ax \\|_2 \\}.\\\\\n",
    "\\| A \\|_\\infty &= \\max \\{ \\| a_{i, 1:n} \\|_1,\\ i = 1, \\ldots, n \\} \\quad\\quad \\text{(máxima norma 1 das linhas de A)}. \\\\\n",
    "\\end{align*}\n",
    "\n",
    "Uma propriedade fundamental que relaciona as normas de matrizes com as respectivas normas de vetores é apresentada a seguir.\n",
    "\n",
    "**Proposição.** \n",
    "$$\n",
    "\\| Ax \\|_\\dagger \\leq \\| A \\|_\\dagger \\| x \\|_\\dagger,\n",
    "$$\n",
    "em que $\\dagger$  pode ser substituido (nas três posições ao mesmo tempo) por $1$, $2$, ou $\\infty$.\n",
    "\n",
    "Vejamos um exemplo numérico."
   ]
  },
  {
   "cell_type": "code",
   "execution_count": 59,
   "metadata": {},
   "outputs": [
    {
     "name": "stdout",
     "output_type": "stream",
     "text": [
      "norm(A, 1) = 115.0\n",
      "norm(A, 2) = 74.2540539375446\n",
      "norm(A, Inf) = 75.0\n"
     ]
    }
   ],
   "source": [
    "A = reshape(1:25, 5, 5)\n",
    "@show norm(A, 1)\n",
    "@show norm(A, 2)\n",
    "\n",
    "@show norm(A, Inf);"
   ]
  },
  {
   "cell_type": "markdown",
   "metadata": {},
   "source": [
    "De posse dessas definições, estamos prontos para retomar o nosso objetivo original: apresentar um valor que pode ser calculado a partir da matriz associada ao sistema que desejamos resolver e que seja capaz de estimar a risco de corremos de ter grandes erros numéricos.\n",
    "\n",
    "### Número de condição\n",
    "\n",
    "Esse valor é conhecido como *número de condição* e pode ser entendido como uma forma de estimar o quanto a matriz está perto de ser não-inversível, ou seja o quão perto suas linhas (ou colunas) estão de se tornarem linearmente dependentes. Ele é dado por\n",
    "$$\n",
    "\\kappa(A) = \\| A \\| \\| A^{-1} \\|.\n",
    "$$\n",
    "\n",
    "Vamos inicialmente calcular o número de condição das duas matrizes associados aos sistemas no plano vistos anteriormente:"
   ]
  },
  {
   "cell_type": "code",
   "execution_count": 51,
   "metadata": {},
   "outputs": [
    {
     "data": {
      "text/plain": [
       "1.7675918792439989"
      ]
     },
     "execution_count": 51,
     "metadata": {},
     "output_type": "execute_result"
    }
   ],
   "source": [
    "A = [1 1; 1 -2]\n",
    "norm(A)*norm(inv(A))"
   ]
  },
  {
   "cell_type": "code",
   "execution_count": 52,
   "metadata": {},
   "outputs": [
    {
     "data": {
      "text/plain": [
       "2.0000000032571724e8"
      ]
     },
     "execution_count": 52,
     "metadata": {},
     "output_type": "execute_result"
    }
   ],
   "source": [
    "A = [1.0 1.0; 1.0 + pertubacao 1.0 - pertubacao]\n",
    "norm(A)*norm(inv(A))"
   ]
  },
  {
   "cell_type": "markdown",
   "metadata": {},
   "source": [
    "Como vocês podem ver o número de condição da segunda matriz é muito grande, da ordem de $10^8$. Isso sugere que é possível que encontremos dificuldades numéricos ao calcular a fatoração LU (mesmo usando pivoteamento) dessa matriz ou ao tentar resolver um sistema linear baseado nela, como já observamos.\n",
    "\n",
    "### Continuando com número de condição (leitura opcional)\n",
    "\n",
    "*Falta escrever*."
   ]
  },
  {
   "cell_type": "markdown",
   "metadata": {},
   "source": [
    "## Métodos iterativos\n",
    "\n",
    "Os metodos que apresentamos acima, escalonamento (eliminação de Gauss) e fatoração LU, têm como característica a modificação do sistema original para colocá-lo em um formato que pode ser resolvido rapidamente. O grosso do trabalho, que é da ordem $O(\\frac{2}{3} n^3)$, é gasto nesse processo de transformação do sistema ou da respectiva matriz. Até que ele seja terminado não se obtém nenhuma aproximação da solução. Esse tipo de método tem então uma característica do tipo \"tudo ou nada\". Ou o usuário espera que todo o trabalho seja feito ou ele sai sem nenhuma resposta. Esses métodos são conhecidos como métodos diretos.\n",
    "\n",
    "Uma alternativa ao métodos diretos são os métodos iterativos. Neles o objetivo é aproximar, o mais rapidamente possível, a resposta. O que se perde é que em geral não é possível calculá-la exatamente. Esses métodos são usados quando, por exemplo, $n$ é muito grande e então não é possível esperar que um método direto termine o seu trabalho. Outra situação onde pode ser desejável usar métodos iterativos é quando a matriz $A$ possui muitos elementos nulos. Nesse caso dizemos que $A$ é uma matriz *esparsa*. Voltaremos a comentar isso depois.\n",
    "\n",
    "Vamos apresentar agora as ideias por trás do método iterativo mais simples. Ele se baseia em uma observação trivial. Para fixar as ideias vamos iniciar com um sistema $2$ por $2$.\n",
    "$$\n",
    "\\left\\{ \\begin{array}{rcrcl}\n",
    "2.5x &-& y &=& 1.5 \\\\\n",
    "x &-& 2y &=& -1.\n",
    "\\end{array}\\right.\n",
    "$$\n",
    "Podemos facilmente resolver o sistema e verificarque é solução é em $(x, y) = (1, 1)$. Veja o gráfico dele abaixo"
   ]
  },
  {
   "cell_type": "code",
   "execution_count": 60,
   "metadata": {},
   "outputs": [
    {
     "data": {
      "text/html": [
       "<?xml version=\"1.0\" encoding=\"utf-8\"?>\n",
       "<svg xmlns=\"http://www.w3.org/2000/svg\" xmlns:xlink=\"http://www.w3.org/1999/xlink\" width=\"600\" height=\"400\" viewBox=\"0 0 600 400\">\n",
       "<defs>\n",
       "  <clipPath id=\"clip9700\">\n",
       "    <rect x=\"0\" y=\"0\" width=\"600\" height=\"400\"/>\n",
       "  </clipPath>\n",
       "</defs>\n",
       "<polygon clip-path=\"url(#clip9700)\" points=\"\n",
       "0,400 600,400 600,0 0,0 \n",
       "  \" fill=\"#ffffff\" fill-opacity=\"1\"/>\n",
       "<defs>\n",
       "  <clipPath id=\"clip9701\">\n",
       "    <rect x=\"120\" y=\"0\" width=\"421\" height=\"400\"/>\n",
       "  </clipPath>\n",
       "</defs>\n",
       "<polygon clip-path=\"url(#clip9700)\" points=\"\n",
       "32.4745,375.869 580.315,375.869 580.315,11.811 32.4745,11.811 \n",
       "  \" fill=\"#ffffff\" fill-opacity=\"1\"/>\n",
       "<defs>\n",
       "  <clipPath id=\"clip9702\">\n",
       "    <rect x=\"32\" y=\"11\" width=\"549\" height=\"365\"/>\n",
       "  </clipPath>\n",
       "</defs>\n",
       "<polyline clip-path=\"url(#clip9702)\" style=\"stroke:#000000; stroke-width:0.5; stroke-opacity:0.1; fill:none\" points=\"\n",
       "  123.781,375.869 123.781,11.811 \n",
       "  \"/>\n",
       "<polyline clip-path=\"url(#clip9702)\" style=\"stroke:#000000; stroke-width:0.5; stroke-opacity:0.1; fill:none\" points=\"\n",
       "  237.915,375.869 237.915,11.811 \n",
       "  \"/>\n",
       "<polyline clip-path=\"url(#clip9702)\" style=\"stroke:#000000; stroke-width:0.5; stroke-opacity:0.1; fill:none\" points=\"\n",
       "  352.048,375.869 352.048,11.811 \n",
       "  \"/>\n",
       "<polyline clip-path=\"url(#clip9702)\" style=\"stroke:#000000; stroke-width:0.5; stroke-opacity:0.1; fill:none\" points=\"\n",
       "  466.182,375.869 466.182,11.811 \n",
       "  \"/>\n",
       "<polyline clip-path=\"url(#clip9702)\" style=\"stroke:#000000; stroke-width:0.5; stroke-opacity:0.1; fill:none\" points=\"\n",
       "  580.315,375.869 580.315,11.811 \n",
       "  \"/>\n",
       "<polyline clip-path=\"url(#clip9702)\" style=\"stroke:#000000; stroke-width:0.5; stroke-opacity:0.1; fill:none\" points=\"\n",
       "  32.4745,375.869 580.315,375.869 \n",
       "  \"/>\n",
       "<polyline clip-path=\"url(#clip9702)\" style=\"stroke:#000000; stroke-width:0.5; stroke-opacity:0.1; fill:none\" points=\"\n",
       "  32.4745,315.192 580.315,315.192 \n",
       "  \"/>\n",
       "<polyline clip-path=\"url(#clip9702)\" style=\"stroke:#000000; stroke-width:0.5; stroke-opacity:0.1; fill:none\" points=\"\n",
       "  32.4745,254.516 580.315,254.516 \n",
       "  \"/>\n",
       "<polyline clip-path=\"url(#clip9702)\" style=\"stroke:#000000; stroke-width:0.5; stroke-opacity:0.1; fill:none\" points=\"\n",
       "  32.4745,193.84 580.315,193.84 \n",
       "  \"/>\n",
       "<polyline clip-path=\"url(#clip9702)\" style=\"stroke:#000000; stroke-width:0.5; stroke-opacity:0.1; fill:none\" points=\"\n",
       "  32.4745,133.164 580.315,133.164 \n",
       "  \"/>\n",
       "<polyline clip-path=\"url(#clip9702)\" style=\"stroke:#000000; stroke-width:0.5; stroke-opacity:0.1; fill:none\" points=\"\n",
       "  32.4745,72.4873 580.315,72.4873 \n",
       "  \"/>\n",
       "<polyline clip-path=\"url(#clip9702)\" style=\"stroke:#000000; stroke-width:0.5; stroke-opacity:0.1; fill:none\" points=\"\n",
       "  32.4745,11.811 580.315,11.811 \n",
       "  \"/>\n",
       "<polyline clip-path=\"url(#clip9700)\" style=\"stroke:#000000; stroke-width:1; stroke-opacity:1; fill:none\" points=\"\n",
       "  32.4745,375.869 580.315,375.869 \n",
       "  \"/>\n",
       "<polyline clip-path=\"url(#clip9700)\" style=\"stroke:#000000; stroke-width:1; stroke-opacity:1; fill:none\" points=\"\n",
       "  32.4745,375.869 32.4745,11.811 \n",
       "  \"/>\n",
       "<polyline clip-path=\"url(#clip9700)\" style=\"stroke:#000000; stroke-width:1; stroke-opacity:1; fill:none\" points=\"\n",
       "  123.781,375.869 123.781,370.408 \n",
       "  \"/>\n",
       "<polyline clip-path=\"url(#clip9700)\" style=\"stroke:#000000; stroke-width:1; stroke-opacity:1; fill:none\" points=\"\n",
       "  237.915,375.869 237.915,370.408 \n",
       "  \"/>\n",
       "<polyline clip-path=\"url(#clip9700)\" style=\"stroke:#000000; stroke-width:1; stroke-opacity:1; fill:none\" points=\"\n",
       "  352.048,375.869 352.048,370.408 \n",
       "  \"/>\n",
       "<polyline clip-path=\"url(#clip9700)\" style=\"stroke:#000000; stroke-width:1; stroke-opacity:1; fill:none\" points=\"\n",
       "  466.182,375.869 466.182,370.408 \n",
       "  \"/>\n",
       "<polyline clip-path=\"url(#clip9700)\" style=\"stroke:#000000; stroke-width:1; stroke-opacity:1; fill:none\" points=\"\n",
       "  580.315,375.869 580.315,370.408 \n",
       "  \"/>\n",
       "<polyline clip-path=\"url(#clip9700)\" style=\"stroke:#000000; stroke-width:1; stroke-opacity:1; fill:none\" points=\"\n",
       "  32.4745,375.869 40.6921,375.869 \n",
       "  \"/>\n",
       "<polyline clip-path=\"url(#clip9700)\" style=\"stroke:#000000; stroke-width:1; stroke-opacity:1; fill:none\" points=\"\n",
       "  32.4745,315.192 40.6921,315.192 \n",
       "  \"/>\n",
       "<polyline clip-path=\"url(#clip9700)\" style=\"stroke:#000000; stroke-width:1; stroke-opacity:1; fill:none\" points=\"\n",
       "  32.4745,254.516 40.6921,254.516 \n",
       "  \"/>\n",
       "<polyline clip-path=\"url(#clip9700)\" style=\"stroke:#000000; stroke-width:1; stroke-opacity:1; fill:none\" points=\"\n",
       "  32.4745,193.84 40.6921,193.84 \n",
       "  \"/>\n",
       "<polyline clip-path=\"url(#clip9700)\" style=\"stroke:#000000; stroke-width:1; stroke-opacity:1; fill:none\" points=\"\n",
       "  32.4745,133.164 40.6921,133.164 \n",
       "  \"/>\n",
       "<polyline clip-path=\"url(#clip9700)\" style=\"stroke:#000000; stroke-width:1; stroke-opacity:1; fill:none\" points=\"\n",
       "  32.4745,72.4873 40.6921,72.4873 \n",
       "  \"/>\n",
       "<polyline clip-path=\"url(#clip9700)\" style=\"stroke:#000000; stroke-width:1; stroke-opacity:1; fill:none\" points=\"\n",
       "  32.4745,11.811 40.6921,11.811 \n",
       "  \"/>\n",
       "<g clip-path=\"url(#clip9700)\">\n",
       "<text style=\"fill:#000000; fill-opacity:1; font-family:Arial,Helvetica Neue,Helvetica,sans-serif; font-size:12; text-anchor:middle;\" transform=\"rotate(0, 123.781, 389.669)\" x=\"123.781\" y=\"389.669\">1.00</text>\n",
       "</g>\n",
       "<g clip-path=\"url(#clip9700)\">\n",
       "<text style=\"fill:#000000; fill-opacity:1; font-family:Arial,Helvetica Neue,Helvetica,sans-serif; font-size:12; text-anchor:middle;\" transform=\"rotate(0, 237.915, 389.669)\" x=\"237.915\" y=\"389.669\">1.25</text>\n",
       "</g>\n",
       "<g clip-path=\"url(#clip9700)\">\n",
       "<text style=\"fill:#000000; fill-opacity:1; font-family:Arial,Helvetica Neue,Helvetica,sans-serif; font-size:12; text-anchor:middle;\" transform=\"rotate(0, 352.048, 389.669)\" x=\"352.048\" y=\"389.669\">1.50</text>\n",
       "</g>\n",
       "<g clip-path=\"url(#clip9700)\">\n",
       "<text style=\"fill:#000000; fill-opacity:1; font-family:Arial,Helvetica Neue,Helvetica,sans-serif; font-size:12; text-anchor:middle;\" transform=\"rotate(0, 466.182, 389.669)\" x=\"466.182\" y=\"389.669\">1.75</text>\n",
       "</g>\n",
       "<g clip-path=\"url(#clip9700)\">\n",
       "<text style=\"fill:#000000; fill-opacity:1; font-family:Arial,Helvetica Neue,Helvetica,sans-serif; font-size:12; text-anchor:middle;\" transform=\"rotate(0, 580.315, 389.669)\" x=\"580.315\" y=\"389.669\">2.00</text>\n",
       "</g>\n",
       "<g clip-path=\"url(#clip9700)\">\n",
       "<text style=\"fill:#000000; fill-opacity:1; font-family:Arial,Helvetica Neue,Helvetica,sans-serif; font-size:12; text-anchor:end;\" transform=\"rotate(0, 26.4745, 380.369)\" x=\"26.4745\" y=\"380.369\">0.5</text>\n",
       "</g>\n",
       "<g clip-path=\"url(#clip9700)\">\n",
       "<text style=\"fill:#000000; fill-opacity:1; font-family:Arial,Helvetica Neue,Helvetica,sans-serif; font-size:12; text-anchor:end;\" transform=\"rotate(0, 26.4745, 319.692)\" x=\"26.4745\" y=\"319.692\">1.0</text>\n",
       "</g>\n",
       "<g clip-path=\"url(#clip9700)\">\n",
       "<text style=\"fill:#000000; fill-opacity:1; font-family:Arial,Helvetica Neue,Helvetica,sans-serif; font-size:12; text-anchor:end;\" transform=\"rotate(0, 26.4745, 259.016)\" x=\"26.4745\" y=\"259.016\">1.5</text>\n",
       "</g>\n",
       "<g clip-path=\"url(#clip9700)\">\n",
       "<text style=\"fill:#000000; fill-opacity:1; font-family:Arial,Helvetica Neue,Helvetica,sans-serif; font-size:12; text-anchor:end;\" transform=\"rotate(0, 26.4745, 198.34)\" x=\"26.4745\" y=\"198.34\">2.0</text>\n",
       "</g>\n",
       "<g clip-path=\"url(#clip9700)\">\n",
       "<text style=\"fill:#000000; fill-opacity:1; font-family:Arial,Helvetica Neue,Helvetica,sans-serif; font-size:12; text-anchor:end;\" transform=\"rotate(0, 26.4745, 137.664)\" x=\"26.4745\" y=\"137.664\">2.5</text>\n",
       "</g>\n",
       "<g clip-path=\"url(#clip9700)\">\n",
       "<text style=\"fill:#000000; fill-opacity:1; font-family:Arial,Helvetica Neue,Helvetica,sans-serif; font-size:12; text-anchor:end;\" transform=\"rotate(0, 26.4745, 76.9873)\" x=\"26.4745\" y=\"76.9873\">3.0</text>\n",
       "</g>\n",
       "<g clip-path=\"url(#clip9700)\">\n",
       "<text style=\"fill:#000000; fill-opacity:1; font-family:Arial,Helvetica Neue,Helvetica,sans-serif; font-size:12; text-anchor:end;\" transform=\"rotate(0, 26.4745, 16.311)\" x=\"26.4745\" y=\"16.311\">3.5</text>\n",
       "</g>\n",
       "<polyline clip-path=\"url(#clip9702)\" style=\"stroke:#0000ff; stroke-width:1; stroke-opacity:1; fill:none\" points=\"\n",
       "  32.4745,375.869 38.0082,372.191 43.542,368.514 49.0757,364.837 54.6095,361.159 60.1432,357.482 65.6769,353.805 71.2107,350.127 76.7444,346.45 82.2782,342.773 \n",
       "  87.8119,339.095 93.3457,335.418 98.8794,331.74 104.413,328.063 109.947,324.386 115.481,320.708 121.014,317.031 126.548,313.354 132.082,309.676 137.616,305.999 \n",
       "  143.149,302.322 148.683,298.644 154.217,294.967 159.751,291.29 165.284,287.612 170.818,283.935 176.352,280.258 181.886,276.58 187.419,272.903 192.953,269.226 \n",
       "  198.487,265.548 204.02,261.871 209.554,258.193 215.088,254.516 220.622,250.839 226.155,247.161 231.689,243.484 237.223,239.807 242.757,236.129 248.29,232.452 \n",
       "  253.824,228.775 259.358,225.097 264.892,221.42 270.425,217.743 275.959,214.065 281.493,210.388 287.027,206.711 292.56,203.033 298.094,199.356 303.628,195.679 \n",
       "  309.162,192.001 314.695,188.324 320.229,184.646 325.763,180.969 331.297,177.292 336.83,173.614 342.364,169.937 347.898,166.26 353.432,162.582 358.965,158.905 \n",
       "  364.499,155.228 370.033,151.55 375.567,147.873 381.1,144.196 386.634,140.518 392.168,136.841 397.701,133.164 403.235,129.486 408.769,125.809 414.303,122.132 \n",
       "  419.836,118.454 425.37,114.777 430.904,111.099 436.438,107.422 441.971,103.745 447.505,100.067 453.039,96.3901 458.573,92.7127 464.106,89.0354 469.64,85.358 \n",
       "  475.174,81.6807 480.708,78.0033 486.241,74.326 491.775,70.6486 497.309,66.9713 502.843,63.2939 508.376,59.6166 513.91,55.9392 519.444,52.2619 524.978,48.5845 \n",
       "  530.511,44.9072 536.045,41.2298 541.579,37.5525 547.113,33.8751 552.646,30.1978 558.18,26.5204 563.714,22.8431 569.247,19.1657 574.781,15.4884 580.315,11.811 \n",
       "  \n",
       "  \"/>\n",
       "<polyline clip-path=\"url(#clip9702)\" style=\"stroke:#ff0000; stroke-width:1; stroke-opacity:1; fill:none\" points=\"\n",
       "  32.4745,327.328 38.0082,326.592 43.542,325.857 49.0757,325.121 54.6095,324.386 60.1432,323.65 65.6769,322.915 71.2107,322.179 76.7444,321.444 82.2782,320.708 \n",
       "  87.8119,319.973 93.3457,319.237 98.8794,318.502 104.413,317.767 109.947,317.031 115.481,316.296 121.014,315.56 126.548,314.825 132.082,314.089 137.616,313.354 \n",
       "  143.149,312.618 148.683,311.883 154.217,311.147 159.751,310.412 165.284,309.676 170.818,308.941 176.352,308.205 181.886,307.47 187.419,306.735 192.953,305.999 \n",
       "  198.487,305.264 204.02,304.528 209.554,303.793 215.088,303.057 220.622,302.322 226.155,301.586 231.689,300.851 237.223,300.115 242.757,299.38 248.29,298.644 \n",
       "  253.824,297.909 259.358,297.173 264.892,296.438 270.425,295.702 275.959,294.967 281.493,294.232 287.027,293.496 292.56,292.761 298.094,292.025 303.628,291.29 \n",
       "  309.162,290.554 314.695,289.819 320.229,289.083 325.763,288.348 331.297,287.612 336.83,286.877 342.364,286.141 347.898,285.406 353.432,284.67 358.965,283.935 \n",
       "  364.499,283.199 370.033,282.464 375.567,281.729 381.1,280.993 386.634,280.258 392.168,279.522 397.701,278.787 403.235,278.051 408.769,277.316 414.303,276.58 \n",
       "  419.836,275.845 425.37,275.109 430.904,274.374 436.438,273.638 441.971,272.903 447.505,272.167 453.039,271.432 458.573,270.696 464.106,269.961 469.64,269.226 \n",
       "  475.174,268.49 480.708,267.755 486.241,267.019 491.775,266.284 497.309,265.548 502.843,264.813 508.376,264.077 513.91,263.342 519.444,262.606 524.978,261.871 \n",
       "  530.511,261.135 536.045,260.4 541.579,259.664 547.113,258.929 552.646,258.193 558.18,257.458 563.714,256.723 569.247,255.987 574.781,255.252 580.315,254.516 \n",
       "  \n",
       "  \"/>\n",
       "</svg>\n"
      ]
     },
     "execution_count": 60,
     "metadata": {},
     "output_type": "execute_result"
    }
   ],
   "source": [
    "using Plots\n",
    "\n",
    "x = linspace(0.8, 2.0, 100)\n",
    "eq1(x) = 2.5*x - 1.5\n",
    "eq2(x) = 0.5*(1.0 + x)\n",
    "plot(x, eq1(x), c=\"blue\",lab=\"\")\n",
    "plot!(x, eq2(x), c=\"red\",lab=\"\")"
   ]
  },
  {
   "cell_type": "markdown",
   "metadata": {},
   "source": [
    "Uma outra forma de encarar as equações do sistema é vê-las como fórmulas de como calcular uma das variáveis das soluções se conhecêssemos a outra. Isso fica claro se reorganizarmos um pouco as duas equações.\n",
    "\\begin{align*}\n",
    "x &= (1.5 + y)/2.5 \\\\\n",
    "y &= (1 + x)/2.\n",
    "\\end{align*}\n",
    "A ideia do método de Jacobi é melhorar uma aproximação da solução que obtivemos até o momento $k$, que vamos denotar por $(x^k, y^k)$, usando essas duas equações como se elas estivessem partindo da solução exata. Isto é fazer\n",
    "\\begin{align*}\n",
    "x^{k+1} &= (1.5 + y^k)/2.5 \\\\\n",
    "y^{k+1} &= (1 + x^k)/2.\n",
    "\\end{align*}\n",
    "\n",
    "Geometricamente, o que a primeira equação faz é encontrar a coordenada $x$ do ponto na reta azul que tem coordenada $y = y^k$, ou seja a intersecção da reta azul com uma reta paralela ao eixo x que passar por $(x^k, y^k)$. Já a segunda equação busca a coordenada $y$ do ponto na reta vermelha que cruza com uma reta vertical que passa também por $(x^k, y^k)$.\n",
    "\n",
    "Para entender isso melhor, imagine que temos $(x^k, y^k) = (1.4, 1.3)$. O código abaixo representa as contas feitas a apresenta o novo ponto calculado bem como o ponto de partida. Note que o novo ponto se aproxima da solução que é a intersecção das retas."
   ]
  },
  {
   "cell_type": "code",
   "execution_count": 64,
   "metadata": {},
   "outputs": [
    {
     "data": {
      "text/plain": [
       "1.2:0.01:1.3"
      ]
     },
     "execution_count": 64,
     "metadata": {},
     "output_type": "execute_result"
    }
   ],
   "source": [
    "# Passo de Jacobi\n",
    "# Apresenta o grafico inicial\n",
    "plot(x, eq1(x), c=\"blue\")\n",
    "plot!(x, eq2(x), c=\"red\")\n",
    "\n",
    "# Apresenta o ponto de partida e as linhas que geram o novo ponto\n",
    "xk, yk = 1.4, 1.3\n",
    "unsx = ones(length(x))\n",
    "y = 0.5:0.01:3.0\n",
    "unsy = ones(length(y))\n",
    "# plot(xk, yk, marker=\"o\", color=\"black\")\n",
    "\n",
    "# Calcula o novo ponto e o apresenta\n",
    "xk1 = (1.5+ yk)/2.5\n",
    "yk1 = (1.0 + xk)/2\n",
    "deltax = xk1:0.01:xk\n",
    "deltay = yk1:0.01:yk\n",
    "# plot!(deltax, yk*ones(length(deltax)), color=\"black\", linestyle=\"--\")\n",
    "# plot!(xk*ones(length(deltay)), deltay, color=\"black\", linestyle=\"--\")\n",
    "# plot!(xk1, yk1, marker=\"o\", color=\"black\")\n",
    "# plot!(deltax, yk1*ones(length(deltax)), color=\"black\", linestyle=\"--\")\n",
    "# plot!(xk1*ones(length(deltay)), deltay, color=\"black\", linestyle=\"--\")"
   ]
  },
  {
   "cell_type": "markdown",
   "metadata": {},
   "source": [
    "Podemos ainda continuar fazendo isso, gerando então uma sequencia e ver se ela se aproxima ou não da solução:\n"
   ]
  },
  {
   "cell_type": "code",
   "execution_count": 6,
   "metadata": {},
   "outputs": [
    {
     "data": {
      "image/png": "[encoded data removed]",
      "text/plain": [
       "PyPlot.Figure(PyObject <matplotlib.figure.Figure object at 0x7efe5e8d6350>)"
      ]
     },
     "metadata": {},
     "output_type": "display_data"
    },
    {
     "name": "stdout",
     "output_type": "stream",
     "text": [
      "Ponto final calculado (1.024, 1.016)\n"
     ]
    }
   ],
   "source": [
    "# Método de Jacobi\n",
    "# Altere esses parametros para ver o novo comportamento.\n",
    "# Ponto incial\n",
    "xk, yk = 1.8, 2.5\n",
    "# Numero de iteracoes\n",
    "maxiter = 5\n",
    "\n",
    "# Apresenta o grafico inicial\n",
    "plot(x, eq1(x), color=\"blue\")\n",
    "plot(x, eq2(x), color=\"red\")\n",
    "\n",
    "# Apresenta o ponto de partida em verde e as linhas que geram o novo ponto\n",
    "unsx = ones(length(x))\n",
    "y = 0.5:0.01:3.0\n",
    "unsy = ones(length(y))\n",
    "plot(xk, yk, marker=\"o\", color=\"green\")\n",
    "\n",
    "# Calcula os novos pontos e os apresenta\n",
    "for i = 1:maxiter\n",
    "    xk1 = (1.5 + yk)/2.5\n",
    "    yk1 = (1.0 + xk)/2.0\n",
    "    deltax = xk1:0.01:xk\n",
    "    deltay = yk1:0.01:yk\n",
    "    plot(deltax, yk*ones(length(deltax)), color=\"black\", linestyle=\"--\")\n",
    "    plot(xk*ones(length(deltay)), deltay, color=\"black\", linestyle=\"--\")\n",
    "    plot(xk1, yk1, marker=\"o\", color=\"black\")\n",
    "    plot(deltax, yk1*ones(length(deltax)), color=\"black\", linestyle=\"--\")\n",
    "    plot(xk1*ones(length(deltay)), deltay, color=\"black\", linestyle=\"--\")\n",
    "    xk, yk = xk1, yk1\n",
    "end\n",
    "# Apresenta o ponto final em cyan\n",
    "plot(xk, yk, marker=\"o\", color=\"cyan\")\n",
    "show()\n",
    "println(\"Ponto final calculado (\", xk,\", \", yk, \")\")"
   ]
  },
  {
   "cell_type": "markdown",
   "metadata": {},
   "source": [
    "É interessante brincar um pouco com o código acima variando o número de passos dados e o ponto de partida. Note também que o último ponto computado é impresso logo após o gráfico. Verifique como ele muda quando você muda os parâmetros sugeridos.\n",
    "\n",
    "Vemos então que a ideia simples de Jacobi pode funcionar, pelo menos em alguns casos. Será possível identificar de antemão se o método funcionará ou não? Isso será o tema da subseção Análise de Convergência abaixo. Por enquanto vamos fazer mais um experimento.\n",
    "\n",
    "O que ocorreria se o sistema tivesse as duas equações trocadas? Ou seja se ele fosse\n",
    "$$\n",
    "\\left\\{ \\begin{array}{rcrcl}\n",
    "x &-& 2y &=& -1 \\\\\n",
    "2.5x &-& y &=& 1.5. \n",
    "\\end{array}\\right.\n",
    "$$\n",
    "Nesse caso as fórmulas de atualização seriam\n",
    "\\begin{align*}\n",
    "x^{k+1} &= -1 + 2y^k \\\\\n",
    "y^{k+1} &= 2.5x - 1.5.\n",
    "\\end{align*}\n",
    "\n",
    "Podemos copiar a implementação do método acima com as devidas modificações para ver o que ocorre. Vamos agora marcar o ponto inicial na cor magenta para destacar um fenômeno interessante. Observe também que o ponto inicial está bem mais perto da solução. Ele é $(0.01, 0.01)$."
   ]
  },
  {
   "cell_type": "code",
   "execution_count": 7,
   "metadata": {},
   "outputs": [
    {
     "data": {
      "image/png": "[encoded data removed]",
      "text/plain": [
       "PyPlot.Figure(PyObject <matplotlib.figure.Figure object at 0x7efe5c579c90>)"
      ]
     },
     "metadata": {},
     "output_type": "display_data"
    },
    {
     "name": "stdout",
     "output_type": "stream",
     "text": [
      "Ponto final calculado (1.4999999999999982, 1.6249999999999978 )\n"
     ]
    }
   ],
   "source": [
    "# Método de Jacobi\n",
    "# Altere esses parametros para ver o novo comportamento.\n",
    "# Ponto incial\n",
    "xk, yk = 1.01, 1.01\n",
    "# Numero de iteracoes\n",
    "maxiter = 5\n",
    "\n",
    "# Apresenta o grafico inicial\n",
    "plot(x, eq1(x), color=\"blue\")\n",
    "plot(x, eq2(x), color=\"red\")\n",
    "\n",
    "# Apresenta o ponto de partida e as linhas que geram o novo ponto\n",
    "unsx = ones(length(x))\n",
    "y = 0.5:0.01:3.0\n",
    "unsy = ones(length(y))\n",
    "plot(xk, yk, marker=\"o\", color=\"magenta\")\n",
    "\n",
    "# Calcula os novo ponto e o apresenta\n",
    "for i = 1:maxiter\n",
    "    xk1 = -1.0 + 2.0*yk\n",
    "    yk1 = 2.5*xk - 1.5\n",
    "    deltax = xk1:-0.01:xk\n",
    "    deltay = yk1:-0.01:yk\n",
    "    plot(deltax, yk*ones(length(deltax)), color=\"black\", linestyle=\"--\")\n",
    "    plot(xk*ones(length(deltay)), deltay, color=\"black\", linestyle=\"--\")\n",
    "    plot(xk1, yk1, marker=\"o\", color=\"black\")\n",
    "    plot(deltax, yk1*ones(length(deltax)), color=\"black\", linestyle=\"--\")\n",
    "    plot(xk1*ones(length(deltay)), deltay, color=\"black\", linestyle=\"--\")\n",
    "    xk, yk = xk1, yk1\n",
    "end\n",
    "# Ponto final\n",
    "plot(xk, yk, marker=\"o\", color=\"cyan\")\n",
    "show()\n",
    "println(\"Ponto final calculado (\", xk,\", \", yk,\" )\")"
   ]
  },
  {
   "cell_type": "markdown",
   "metadata": {},
   "source": [
    "O que observamos acima é um pouco surpreendente. A sequencia gerada pelo Método de Jacobi agora se afasta da solução. Isso ocorreu devido a simples troca da ordem das equações, o que mostra que o método é bastante sensível. Vamos entender isso melhor na seção sobre convergência abaixo. Ainda, destacamos que apesar de o método ter sido apresentado para o caso de duas equações e duas variáveis, a sua extensão para o caso com $n$ equações e variáveis é direta. Basta isolar a variável $i$ usando a linha $i$ e obtemos a fórmula geral.\n",
    "\\begin{equation}\n",
    "x^{k+1}_i = \\frac{b_i - \\sum_{j = 1}^{i - 1} a_{ij} x^k_j - \\sum_{j = i + 1}^{n} a_{ij} x^k_j}{a_{ii}},\\ i = 1, \\ldots, n.\n",
    "\\end{equation}\n",
    "\n",
    "Podemos também intrduzir uma pequena variação que busca melhorar o método de Jacobi. Para isso vamos escrever as fórmulas genéricas de Jacobi para um sistema de 3 variáveis e 3 equações com matriz associada $A = (a_{ij})$.\n",
    "\\begin{align*}\n",
    "x^{k+1}_1 &= \\frac{b_1 - a_{12} x^k_2 - a_{13}x^k_3}{a_{11}} \\\\\n",
    "x^{k+1}_2 &= \\frac{b_2 - a_{21} x^k_1 - a_{23}x^k_3}{a_{22}} \\\\\n",
    "x^{k+1}_3 &= \\frac{b_3 - a_{31} x^k_1 - a_{32}x^k_2}{a_{33}}.\n",
    "\\end{align*}\n",
    "Observe que no momento que vamos calcular $x^{k+1}_3$ já temos as novas aproximações das duas primeiras coordenadas $x^{k + 1}_1$ e $x^{k + 1}_2$. Se o método estiver indo bem, temos a expectativas que essas aproximações sejam melhores que os valores de $x^k$. Então por que não aproveitá-los? Essa é a ideia do método de Gauss-Seidel. Nele as novas coordenadas já computadas são aproveitadas no cômputo da próxima coordenada. No caso de 3 variáveis teríamos:\n",
    "\\begin{align*}\n",
    "x^{k+1}_1 &= \\frac{b_1 - a_{12} x^k_2 - a_{13}x^k_3}{a_{11}} \\\\\n",
    "x^{k+1}_2 &= \\frac{b_2 - a_{21} x^{k+1}_1 - a_{23}x^k_3}{a_{22}} \\\\\n",
    "x^{k+1}_3 &= \\frac{b_3 - a_{31} x^{k+1}_1 - a_{32}x^{k+1}_2}{a_{33}}.\n",
    "\\end{align*}\n",
    "Podemos também apresentar a versão geral do método de Gauss-Seidel, adaptando a fórmula geral do método de Jacobi acima.\n",
    "\\begin{equation}\n",
    "x^{k+1}_i = \\frac{b_i - \\sum_{j = 1}^{i - 1} a_{ij} x^{k+1}_j - \\sum_{j = i + 1}^{n} a_{ij} x^k_j}{a_{ii}},\\ i = 1, \\ldots, n.\n",
    "\\end{equation}\n",
    "\n",
    "Abaixo modificamos a implementação anterior do método de Jacobi para o sistema do início desta seção de modo usar a ideia de Gauss-Seidel. Note que a aproximação da solução obtida após um número fixo de iterações é melhor do que o método de Jacobi. Isso ocorre devido ao uso de informação mais recente à medida que as coordenadas são calculadas."
   ]
  },
  {
   "cell_type": "code",
   "execution_count": 72,
   "metadata": {},
   "outputs": [
    {
     "data": {
      "image/png": "[encoded data removed]",
      "text/plain": [
       "PyPlot.Figure(PyObject <matplotlib.figure.Figure object at 0x7f95b30a8850>)"
      ]
     },
     "metadata": {},
     "output_type": "display_data"
    },
    {
     "name": "stdout",
     "output_type": "stream",
     "text": [
      "Ponto final calculado (1.000704, 1.000352 )\n"
     ]
    }
   ],
   "source": [
    "# Método de Gauss-Seidel\n",
    "# Altere esses parametros para ver o novo comportamento.\n",
    "# Ponto incial\n",
    "xk, yk = 1.8, 2.1\n",
    "# Numero de iteracoes\n",
    "maxiter = 5\n",
    "\n",
    "# Apresenta o grafico inicial\n",
    "plot(x, eq1(x), color=\"blue\")\n",
    "plot(x, eq2(x), color=\"red\")\n",
    "\n",
    "# Apresenta o ponto de partida e as linhas que geram o novo ponto\n",
    "unsx = ones(length(x))\n",
    "y = 0.5:0.01:3.0\n",
    "unsy = ones(length(y))\n",
    "plot(xk, yk, marker=\"o\", color=\"green\")\n",
    "\n",
    "# Calcula os novo ponto e o apresenta\n",
    "for i = 1:maxiter\n",
    "    xk1 = (1.5 + yk)/2.5\n",
    "    yk1 = (1.0 + xk1)/2.0\n",
    "    deltax = xk1:0.01:xk\n",
    "    deltay = yk1:0.01:yk\n",
    "    plot(deltax, yk*ones(length(deltax)), color=\"black\", linestyle=\"--\")\n",
    "    plot(xk1, yk1, marker=\"o\", color=\"black\")\n",
    "    plot(xk1*ones(length(deltay)), deltay, color=\"black\", linestyle=\"--\")\n",
    "    xk, yk = xk1, yk1\n",
    "end\n",
    "plot(xk, yk, marker=\"o\", color=\"cyan\")\n",
    "show()\n",
    "println(\"Ponto final calculado (\", xk,\", \", yk,\" )\")"
   ]
  },
  {
   "cell_type": "markdown",
   "metadata": {},
   "source": [
    "Porém o método sofre de problemas semelhantes ao de Jacobi. Uma simples troca da ordem das equações faz com que o método se afaste da solução ao invés de se aproximar. Vamos agora começar a estudar quando podemos garantir que um método converge à solução do problema.\n",
    "\n",
    "## Convergência\n",
    "\n",
    "Nessa seção vamos supor que a matriz do sistema\n",
    "$$\n",
    "Ax = b\n",
    "$$\n",
    "é inversível. Isso garante que o sistema tem solução única que vamos denotar por $x^*$. \n",
    "\n",
    "Como vimos, os métodos de Jacobi e Gauss-Seidel não tentam calcular uma solução diretamente. Eles tentam melhorar uma aproximação da solução cada vez mais, gerando uma sequencia $x^1, x^2, x^2, \\ldots$. Quando podemos dizer que a solução obtida é suficiente boa? Quando podemos dizer que um método desses funciona?\n",
    "\n",
    "**Definição.** Seja $x^1, x^2, x^2, \\ldots$, uma sequência gerada por um método iterativo. Dizemos que o método *converge* se existe $x^*$ solução do problema de interesse tal que a sequencia calculada $\\{ x^k \\}$ converge para $x^*$. Ou seja se a distância entre $x^k$ e $x^*$ converge para 0 (zero).\n",
    "\n",
    "Nosso objetivo agora é apresentar condições que possam garantir que os métodos iterativos que estudamos convergem à solução $x^*$ do sistema $Ax = b$. Para isso vamos começar observando que uma forma interessante de se ver um método iterativo é como uma função que é calculada em uma aproximação $x$ do ponto desejado resultando em uma nova aproximação $x^+$ que é potencialmente melhor. Ou seja, podemos imaginar que um algoritmo pode muitas vezes ser descrito por uma função $\\phi: \\mathbb{R}^n \\rightarrow \\mathbb{R}^n$ e a regra\n",
    "$$\n",
    "x^{k + 1} = \\phi(x^k).\n",
    "$$\n",
    "Caso tal função de iteração $\\phi$ exista, é natural que ela tenha a propriedade de que se o ponto de partida já é a solução $x^*$ então a $\\phi$ diga que \"se deve ficar parado\" para não perder a solução. Isto é\n",
    "$$\n",
    "x^* = \\phi(x^*).\n",
    "$$\n",
    "Além disso, também é natural pedir que se o ponto não for uma solução então $\\phi$ devolva um ponto diferente. Caso contrário método iterativo poderia ficar parado em cima de pontos que não são soluções. Isso em linguagem matemática é o mesmo que dizer que $\\phi$ deve ter como único ponto fixo justamente a solução do problema de interesse.\n",
    "\n",
    "Retomando o problema de sistemas lineares, vamos tentar re-escrever os métodos de Jacobi e Gauss-Seidel descobrindo a expressão da função $\\phi$. Para isso é útil quebrar a matriz $A$ do sistema que desejamos resolver\n",
    "$$\n",
    "A x = b\n",
    "$$\n",
    "em três submatrizes. Vamos escrever $A = L + D + U$, em que $L$ contém os elementos abaixo da diagonal de $A$ (e tem zero na diagonal e acima dela), $D$ contém a diagonal de $A$ (e zero fora da diagonal) e $U$ possui os elementos que ficam acima da diagonal.\n",
    "\n",
    "Retomando a formula do Jacobi.\n",
    "\\begin{equation*}\n",
    "x^{k+1}_i = \\frac{b_i - \\sum_{j = 1}^{i - 1} a_{ij} x^k_j - \\sum_{j = i + 1}^{n} a_{ij} x^k_j}{a_{ii}},\\ i = 1, \\ldots, n,\n",
    "\\end{equation*}\n",
    "podemos escrevê-la de forma mais compacta como\n",
    "$$\n",
    "x^{k + 1} = D^{-1}(b - Lx^k - U x^k).\n",
    "$$\n",
    "Reorganizando os termos temos\n",
    "$$\n",
    "x^{k + 1} = -D^{-1}(L + U)x^k + D^{-1}b.\n",
    "$$\n",
    "Isso sugere a função de iteração\n",
    "$$\n",
    "\\phi_J(x) = -D^{-1}(L + U)x + D^{-1}b.\n",
    "$$\n",
    "No caso do método de Gauss-Seidel a situação é semelhante, porém um pouco mais interessante.\n",
    "\\begin{gather}\n",
    "x^{k + 1} = D^{-1}(b - Lx^{k+1} - U x^k) \\iff \\\\\n",
    "D x^{k + 1} = b - Lx^{k+1} - U x^k \\iff \\\\\n",
    "D x^{k + 1} + L x^{k + 1} = -Ux^k + b \\iff \\\\\n",
    "(D + L) x^{k + 1} = -Ux^k + b \\iff \\\\\n",
    "x^{k + 1} = -(D + L)^{-1}Ux^k + (D + L)^{-1}b.\n",
    "\\end{gather}\n",
    "Nesse caso a função de iteração é \n",
    "$$\n",
    "\\phi_{GS}(x) = -(D + L)^{-1}Ux + (D + L)^{-1}b.\n",
    "$$\n",
    "\n",
    "Nos dois casos vemos que a função de iteração pode ser escrita como \n",
    "$$\n",
    "\\phi(x) = Bx + c,\n",
    "$$ \n",
    "em que $B$ é uma matriz e c um vetor constante. Também nos dois casos como $x^*$ é tal que $A x^* = b$ temos $\\phi(x^*) = x^*$, como gostaríamos. Vamos ver isso no caso de Gauss-Seidel\n",
    "\\begin{align*}\n",
    "\\phi_{GS}(x^*) &= -(D + L)^{-1}Ux^* + (D + L)^{-1}b \\\\\n",
    "               &= -(A - U)^{-1}Ux^* + (A - U)^{-1}b \\\\\n",
    "               &= -(A - U)^{-1}Ux^* + (A - U)^{-1} A x^* \\\\\n",
    "               &= (A - U)^{-1}(-U + A)x^* \\\\\n",
    "               &= x^*.\n",
    "\\end{align*}\n",
    "A pergunta sobre a convergência dos métodos pode então ser repensada da seguinte forma: se $\\phi(x)$ tem a expressão $Bx + c$, quando podemos garantir que o $\\| x^k - x^* \\|$ converge para $0$? Para isso façamos algumas manipulações simples\n",
    "\\begin{align*}\n",
    "\\| x^{k + 1} - x^* \\|_\\dagger &= \\| \\phi(x^k) - x^* \\|_\\dagger \\\\\n",
    "                              &= \\| \\phi(x^k) - \\phi(x^*) \\|_\\dagger \\\\\n",
    "                              &= \\| Bx^k + c - Bx^* - c \\|_\\dagger \\\\\n",
    "                              &= \\| B(x^k - x^*) \\|_\\dagger \\\\\n",
    "                              &\\leq \\| B \\|_\\dagger \\| x^k - x^* \\|_\\dagger.\n",
    "\\end{align*}\n",
    "Na última passagem usamos a propriedade que relaciona a norma de matrizes com a respectiva norma de vetores.\n",
    "\n",
    "Aplicando isso recursivamente vemos que \n",
    "$$\n",
    "\\| x^{k + 1} - x^* \\|_\\dagger \\leq  \\| B \\|_\\dagger^k \\| x^1 - x^* \\|_\\dagger.\n",
    "$$\n",
    "Note que isso garante que $\\| x^{k + 1} - x^* \\|_\\dagger \\rightarrow 0$ sempre que $\\| B \\|_\\dagger < 1$. Podemos imediatamente enunciar o seguinte resultado:\n",
    "\n",
    "**Teorema.** Considere que um sistema linear $Ax = b$ com solução única. Considere também um método iterativo descrito por uma função $\\phi$ que tenha a solução do sistema como único ponto fixo. Se $\\phi$ é descrita por $\\phi(x) = Bx + c$ então o método converge sempre que $\\| B \\|_\\dagger < 1$ para alguma das normas consideradas.\n",
    "\n",
    "Obs: Note que acima não escrevemos \"converge na norma $\\| \\cdot \\|_\\dagger$\" mas simplesmente usamos \"converge\". Isso porque é fácil de provar, pelo menos paras as normas vistas nessa seção que se $\\| x^k - x^* \\|_\\dagger \\rightarrow 0$ para alguma das normas o mesmo ocorre para as outras. Isso ocorre porque é possível achar para cada par de normas uma constante, que geralmente depende da dimensão do espaço, tal que uma norma é menor do que essa constante vezes a outra.\n",
    "\n",
    "O que esse teorema nos ensina sobre os métodos de Jacobi e Gauss-Seidel? Por exemplo, no caso do método de Jacobi, em que a matriz $B = -D^{-1}(L + U)$ podemos ver que\n",
    "\n",
    "**Teorema.** A matriz associada ao método de Jacobi $B = -D^{-1}(L + U)$ tem norma infinito menor estrita que $1$ se \n",
    "$$\n",
    "| a_{ii} | > \\sum_{j = 1, j \\neq i}^n | a_{ij} |.\n",
    "$$\n",
    "**Prova.** Lembremos que a norma infinito de uma matriz é a máxima norma 1 de suas linhas. Mas os elementos da linha $i$ de $B$ são exatamente \n",
    "$$\n",
    "b_{ij} = \\begin{cases} \\frac{a_{ij}}{a_{ii}},\\ j = 1, \\ldots, n, I \\neq j \\\\ 0,\\ i = j. \\end{cases}\n",
    "$$\n",
    "Assim, a norma 1 da linha $i$ de b é igual a\n",
    "$$\n",
    "\\sum_{\\substack{j = 1\\\\ i \\neq j}}^n \\left| \\frac{a_{ij}}{a_{ii}} \\right| < 1.\n",
    "$$\n",
    "A última desigualdade segue imediatamente da hipótese do teorema. Ou seja, todas as linhas de $B$ tem norma $1$ menor que $1$ e portanto $\\| B \\|_\\infty < 1$. $\\blacksquare$\n",
    "\n",
    "Obs: Uma matriz cujos elementos da diagonal superam em módulo somas dos módulos dos outros elementos da mesma linha é chamada de *matriz diagonal dominante por linhas*. O que o teorema diz é que o método de Jacobi converge se a matriz do sistema for diagonal dominante por linhas. Observe que esse resultado ajuda a entender porque a ordem das equações, que estão relacionadas às linhas da matriz, é importante para a convergência. Se a linha escolhilda para isolar o termo $x_i$ tiver a constante que multiplica essa variável muito pequena em módulo o método pode não convergir. Isso é exatamente o que ocorre quando trocamos as ordem das duas equações no sistema usando como exemplo anteriormente.\n",
    "\n",
    "Acabamos essa seção com dois comentários e com um exemplo de implementação do método de Jacobi.\n",
    "\n",
    "1. Pode-se mostrar que o critério de dominância por linhas também é válido para Gauss-Seidel.\n",
    "\n",
    "1. O método de Gauss-Seidel é tipicamente mais rápido do que o de Jacobi. Porém ele estabelece uma ordem na qual as variáveis devem ser atualizadas e por isso é de paralelização mais difícil. Nesse sentido há problemas em que Jacobi ainda pode valer à pena se o ganho com seu palelismo inerente foi maior do que o ganho obtido por Gauss-Seidel por aproveitar os valores das vairáveis já atualizadas. Isso tem se tornado mais importante nos últimos anos em que o crescimento de poder computacional tem vindo mais do aumento do número de processadores do que no aumento de velocidade de cada unidade de processamento."
   ]
  },
  {
   "cell_type": "code",
   "execution_count": 8,
   "metadata": {},
   "outputs": [
    {
     "name": "stdout",
     "output_type": "stream",
     "text": [
      "Iter 0, Resíduo = 8.03e+00\n",
      "Iter 1, Resíduo = 4.00e+00\n",
      "Iter 2, Resíduo = 2.00e+00\n",
      "Iter 3, Resíduo = 9.95e-01\n",
      "Iter 4, Resíduo = 4.96e-01\n",
      "Iter 5, Resíduo = 2.47e-01\n",
      "Iter 6, Resíduo = 1.23e-01\n",
      "Iter 7, Resíduo = 6.15e-02\n",
      "Iter 8, Resíduo = 3.07e-02\n",
      "Iter 9, Resíduo = 1.53e-02\n",
      "Iter 10, Resíduo = 7.63e-03\n",
      "Iter 11, Resíduo = 3.80e-03\n",
      "Iter 12, Resíduo = 1.90e-03\n",
      "Iter 13, Resíduo = 9.46e-04\n",
      "Iter 14, Resíduo = 4.72e-04\n",
      "Iter 15, Resíduo = 2.35e-04\n",
      "Iter 16, Resíduo = 1.17e-04\n",
      "Iter 17, Resíduo = 5.85e-05\n",
      "Iter 18, Resíduo = 2.92e-05\n",
      "Iter 19, Resíduo = 1.45e-05\n",
      "Iter 20, Resíduo = 7.25e-06\n",
      "norm(A * x - b) = 7.253537207638278e-6\n"
     ]
    }
   ],
   "source": [
    "# Implementacao inocente do método de Jacobi\n",
    "function jacobi(A, b, maxiters=100, prec=1.0e-5)\n",
    "    # Pega a dimensão do problema\n",
    "    n = length(b)\n",
    "    \n",
    "    # Constroi as matrizes de interação\n",
    "    Dinv = 1.0 ./ diag(A)\n",
    "    LpU = copy(A)\n",
    "    for i = 1:n\n",
    "        LpU[i, i] = 0.0\n",
    "    end\n",
    "    \n",
    "    # Inicialização\n",
    "    iters = 0\n",
    "    c = Dinv .* b\n",
    "    x = copy(c)\n",
    "    \n",
    "    # Iterações de Jacobi\n",
    "    @printf \"Iter %d, Resíduo = %.2e\\n\" iters norm(A*x - b)\n",
    "    while iters < maxiters && norm(A*x - b) > prec\n",
    "        x = -Dinv .* (LpU*x) + c\n",
    "        iters += 1\n",
    "        @printf \"Iter %d, Resíduo = %.2e\\n\" iters norm(A*x - b)\n",
    "    end\n",
    "    return x\n",
    "end\n",
    "\n",
    "\n",
    "# Dimensão do problema de teste.\n",
    "n = 1000\n",
    "# Pega matriz e lado direitos aleatórios\n",
    "A = rand(n, n)\n",
    "b = rand(n)\n",
    "# Faz a matriz ficar diagonal dominante\n",
    "for i = 1:n\n",
    "    A[i, i] += 1001.0\n",
    "end\n",
    "\n",
    "# Testa o método\n",
    "x = jacobi(A, b)\n",
    "@show norm(A*x - b);"
   ]
  },
  {
   "cell_type": "code",
   "execution_count": null,
   "metadata": {
    "collapsed": true
   },
   "outputs": [],
   "source": []
  }
 ],
 "metadata": {
  "author": "Paulo J. S. Silva",
  "kernelspec": {
   "display_name": "Julia 0.6.2",
   "language": "julia",
   "name": "julia-0.6"
  },
  "language_info": {
   "file_extension": ".jl",
   "mimetype": "application/julia",
   "name": "julia",
   "version": "0.6.2"
  }
 },
 "nbformat": 4,
 "nbformat_minor": 2
}
