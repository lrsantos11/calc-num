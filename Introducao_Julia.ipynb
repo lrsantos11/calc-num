{
 "cells": [
  {
   "cell_type": "markdown",
   "metadata": {},
   "source": [
    "# Introdução à Linguagem Julia\n",
    "\n",
    "Julia é uma linguagem dinâmica de alto nível e alto desempenho.\n",
    "Ela se assemelha ao MatLab e ao Python na facilidade de escrita\n",
    "de código, mas sua velocidade pode ser comparável ao C e Fortran.\n",
    "\n",
    "A versão mais atual do Julia é a **0.6**."
   ]
  },
  {
   "cell_type": "markdown",
   "metadata": {},
   "source": [
    "# Jupyter\n",
    "\n",
    "O Jupyter é uma interface web para Julia, Python, e muitas outras.\n",
    "Ela **não** é o Julia, isto é, o Julia não depende do Jupyter para\n",
    "funcionar. No entanto, usando o Jupyter, aulas e apresentações\n",
    "ficam mais práticas.\n",
    "\n",
    "Cada *célula* do Jupyter pode ser executada com um `ctrl+enter`, ou\n",
    "um `ctrl+shift`, sendo que o último move a seleção para a célula de\n",
    "baixo.\n",
    "Você pode adicionar novas células usando o `+` no topo da página."
   ]
  },
  {
   "cell_type": "markdown",
   "metadata": {},
   "source": [
    "# O REPL - Terminal Interativo\n",
    "\n",
    "Ao abrir o Julia no Windows, ou digitar `julia` no terminal do Mac\n",
    "ou Linux, se abrirá um prompt tipo\n",
    "\n",
    "````julia\n",
    "julia>\n",
    "````\n",
    "\n",
    "O Jupyter também serve como esse prompt e todo comando digitado aqui\n",
    "pode ser digitado lá."
   ]
  },
  {
   "cell_type": "markdown",
   "metadata": {},
   "source": [
    "# Editor: JunoLab ou Atom\n",
    "\n",
    "[JunoLab](http://junolab.org/) é o editor oficial de Julia. Ainda não está 100%, mas já está usável.\n",
    "Você pode usar outros editores, mas o suporte à caracteres especiais é quase que exclusivo de um punhado.\n",
    "Em especial, o JunoLab é um dos melhores para isso.\n",
    "\n",
    "O JunoLab é feito em cima do [Atom](http://atom.io). Você pode baixar o Atom e instalar os pacotes específicos, se preferir ter mais controle."
   ]
  },
  {
   "cell_type": "markdown",
   "metadata": {},
   "source": [
    "## Jupyter vs Editor\n",
    "\n",
    "O Jupyter é utilizado para aulas, apresentações, workshops. A parte importante é a interatividade.\n",
    "\n",
    "O editor é usado para fazer códigos sérios. Para desenvolver os exercícios, projetos, e futuros pacotes, é necessário criar arquivos e ter um ambiente adequado."
   ]
  },
  {
   "cell_type": "code",
   "execution_count": 1,
   "metadata": {
    "scrolled": true
   },
   "outputs": [
    {
     "data": {
      "text/plain": [
       "MersenneTwister(UInt32[0x00000000], Base.dSFMT.DSFMT_state(Int32[748398797, 1073523691, -1738140313, 1073664641, -1492392947, 1073490074, -1625281839, 1073254801, 1875112882, 1073717145  …  943540191, 1073626624, 1091647724, 1073372234, -1273625233, -823628301, 835224507, 991807863, 382, 0]), [1.4506, 1.50345, 1.81463, 1.15431, 1.06684, 1.33807, 1.76401, 1.74007, 1.38336, 1.8005  …  1.79574, 1.57225, 1.85129, 1.25257, 1.8671, 1.06971, 1.34327, 1.92556, 1.61508, 1.1917], 382)"
      ]
     },
     "execution_count": 1,
     "metadata": {},
     "output_type": "execute_result"
    }
   ],
   "source": [
    "srand(0) # Para controle pessoal. Ignorar"
   ]
  },
  {
   "cell_type": "markdown",
   "metadata": {},
   "source": [
    "# Básico"
   ]
  },
  {
   "cell_type": "code",
   "execution_count": 2,
   "metadata": {},
   "outputs": [
    {
     "data": {
      "text/plain": [
       "5"
      ]
     },
     "execution_count": 2,
     "metadata": {},
     "output_type": "execute_result"
    }
   ],
   "source": [
    "2 + 3"
   ]
  },
  {
   "cell_type": "code",
   "execution_count": 3,
   "metadata": {},
   "outputs": [
    {
     "data": {
      "text/plain": [
       "15"
      ]
     },
     "execution_count": 3,
     "metadata": {},
     "output_type": "execute_result"
    }
   ],
   "source": [
    "3 * 5"
   ]
  },
  {
   "cell_type": "code",
   "execution_count": 4,
   "metadata": {},
   "outputs": [
    {
     "data": {
      "text/plain": [
       "343"
      ]
     },
     "execution_count": 4,
     "metadata": {},
     "output_type": "execute_result"
    }
   ],
   "source": [
    "7 ^ 3"
   ]
  },
  {
   "cell_type": "code",
   "execution_count": 5,
   "metadata": {},
   "outputs": [
    {
     "data": {
      "text/plain": [
       "7.38905609893065"
      ]
     },
     "execution_count": 5,
     "metadata": {},
     "output_type": "execute_result"
    }
   ],
   "source": [
    "exp(2)"
   ]
  },
  {
   "cell_type": "code",
   "execution_count": 6,
   "metadata": {},
   "outputs": [
    {
     "data": {
      "text/plain": [
       "0.7071063120935576"
      ]
     },
     "execution_count": 6,
     "metadata": {},
     "output_type": "execute_result"
    }
   ],
   "source": [
    "sin(3.14159/4)"
   ]
  },
  {
   "cell_type": "code",
   "execution_count": 7,
   "metadata": {},
   "outputs": [
    {
     "data": {
      "text/plain": [
       "π = 3.1415926535897..."
      ]
     },
     "execution_count": 7,
     "metadata": {},
     "output_type": "execute_result"
    }
   ],
   "source": [
    "pi"
   ]
  },
  {
   "cell_type": "code",
   "execution_count": 8,
   "metadata": {},
   "outputs": [
    {
     "data": {
      "text/plain": [
       "0.7071067811865475"
      ]
     },
     "execution_count": 8,
     "metadata": {},
     "output_type": "execute_result"
    }
   ],
   "source": [
    "sin(pi/4)"
   ]
  },
  {
   "cell_type": "code",
   "execution_count": 9,
   "metadata": {},
   "outputs": [
    {
     "data": {
      "text/plain": [
       "1.0"
      ]
     },
     "execution_count": 9,
     "metadata": {},
     "output_type": "execute_result"
    }
   ],
   "source": [
    "round(1.2)"
   ]
  },
  {
   "cell_type": "code",
   "execution_count": 10,
   "metadata": {},
   "outputs": [
    {
     "data": {
      "text/plain": [
       "3"
      ]
     },
     "execution_count": 10,
     "metadata": {},
     "output_type": "execute_result"
    }
   ],
   "source": [
    "abs(-3)"
   ]
  },
  {
   "cell_type": "code",
   "execution_count": 11,
   "metadata": {},
   "outputs": [
    {
     "data": {
      "text/plain": [
       "3"
      ]
     },
     "execution_count": 11,
     "metadata": {},
     "output_type": "execute_result"
    }
   ],
   "source": [
    "x = 3"
   ]
  },
  {
   "cell_type": "code",
   "execution_count": 12,
   "metadata": {},
   "outputs": [
    {
     "data": {
      "text/plain": [
       "9"
      ]
     },
     "execution_count": 12,
     "metadata": {},
     "output_type": "execute_result"
    }
   ],
   "source": [
    "x ^ 2"
   ]
  },
  {
   "cell_type": "code",
   "execution_count": 13,
   "metadata": {},
   "outputs": [
    {
     "data": {
      "text/plain": [
       "6"
      ]
     },
     "execution_count": 13,
     "metadata": {},
     "output_type": "execute_result"
    }
   ],
   "source": [
    "y = 2x"
   ]
  },
  {
   "cell_type": "code",
   "execution_count": 14,
   "metadata": {},
   "outputs": [
    {
     "data": {
      "text/plain": [
       "3"
      ]
     },
     "execution_count": 14,
     "metadata": {},
     "output_type": "execute_result"
    }
   ],
   "source": [
    "y - x"
   ]
  },
  {
   "cell_type": "code",
   "execution_count": 15,
   "metadata": {},
   "outputs": [
    {
     "data": {
      "text/plain": [
       "0.01"
      ]
     },
     "execution_count": 15,
     "metadata": {},
     "output_type": "execute_result"
    }
   ],
   "source": [
    "1e-2 # 10⁻²"
   ]
  },
  {
   "cell_type": "code",
   "execution_count": 16,
   "metadata": {},
   "outputs": [
    {
     "data": {
      "text/plain": [
       "1000.0"
      ]
     },
     "execution_count": 16,
     "metadata": {},
     "output_type": "execute_result"
    }
   ],
   "source": [
    "1e3 # 10³"
   ]
  },
  {
   "cell_type": "code",
   "execution_count": 17,
   "metadata": {},
   "outputs": [
    {
     "data": {
      "text/plain": [
       "5.551115123125783e-17"
      ]
     },
     "execution_count": 17,
     "metadata": {},
     "output_type": "execute_result"
    }
   ],
   "source": [
    "0.1 + 0.2 - 0.3"
   ]
  },
  {
   "cell_type": "markdown",
   "metadata": {},
   "source": [
    "# Álgebra Linear Numérica"
   ]
  },
  {
   "cell_type": "code",
   "execution_count": 18,
   "metadata": {},
   "outputs": [
    {
     "data": {
      "text/plain": [
       "3-element Array{Float64,1}:\n",
       " 0.823648\n",
       " 0.910357\n",
       " 0.164566"
      ]
     },
     "execution_count": 18,
     "metadata": {},
     "output_type": "execute_result"
    }
   ],
   "source": [
    "rand(3)"
   ]
  },
  {
   "cell_type": "code",
   "execution_count": 19,
   "metadata": {},
   "outputs": [
    {
     "data": {
      "text/plain": [
       "3-element Array{Float64,1}:\n",
       " 1.0\n",
       " 1.0\n",
       " 1.0"
      ]
     },
     "execution_count": 19,
     "metadata": {},
     "output_type": "execute_result"
    }
   ],
   "source": [
    "ones(3)"
   ]
  },
  {
   "cell_type": "code",
   "execution_count": 20,
   "metadata": {},
   "outputs": [
    {
     "data": {
      "text/plain": [
       "3-element Array{Float64,1}:\n",
       " 0.0\n",
       " 0.0\n",
       " 0.0"
      ]
     },
     "execution_count": 20,
     "metadata": {},
     "output_type": "execute_result"
    }
   ],
   "source": [
    "zeros(3)"
   ]
  },
  {
   "cell_type": "code",
   "execution_count": 21,
   "metadata": {},
   "outputs": [
    {
     "data": {
      "text/plain": [
       "2×4 Array{Float64,2}:\n",
       " 0.177329  0.203477   0.0682693  0.973216\n",
       " 0.27888   0.0423017  0.361828   0.585812"
      ]
     },
     "execution_count": 21,
     "metadata": {},
     "output_type": "execute_result"
    }
   ],
   "source": [
    "rand(2,4)"
   ]
  },
  {
   "cell_type": "code",
   "execution_count": 22,
   "metadata": {},
   "outputs": [
    {
     "data": {
      "text/plain": [
       "3-element Array{Float64,1}:\n",
       " 0.539289\n",
       " 0.260036\n",
       " 0.910047"
      ]
     },
     "execution_count": 22,
     "metadata": {},
     "output_type": "execute_result"
    }
   ],
   "source": [
    "v = rand(3)"
   ]
  },
  {
   "cell_type": "code",
   "execution_count": 23,
   "metadata": {},
   "outputs": [
    {
     "data": {
      "text/plain": [
       "2×3 Array{Float64,2}:\n",
       " 0.167036  0.575887  0.9678 \n",
       " 0.655448  0.868279  0.76769"
      ]
     },
     "execution_count": 23,
     "metadata": {},
     "output_type": "execute_result"
    }
   ],
   "source": [
    "A = rand(2, 3)"
   ]
  },
  {
   "cell_type": "code",
   "execution_count": 24,
   "metadata": {},
   "outputs": [
    {
     "data": {
      "text/plain": [
       "2-element Array{Float64,1}:\n",
       " 1.12057\n",
       " 1.27789"
      ]
     },
     "execution_count": 24,
     "metadata": {},
     "output_type": "execute_result"
    }
   ],
   "source": [
    "A * v"
   ]
  },
  {
   "cell_type": "code",
   "execution_count": 25,
   "metadata": {},
   "outputs": [
    {
     "data": {
      "text/plain": [
       "2-element Array{Float64,1}:\n",
       " 0.469304 \n",
       " 0.0623676"
      ]
     },
     "execution_count": 25,
     "metadata": {},
     "output_type": "execute_result"
    }
   ],
   "source": [
    "w = rand(2)"
   ]
  },
  {
   "cell_type": "code",
   "execution_count": 26,
   "metadata": {},
   "outputs": [
    {
     "data": {
      "text/plain": [
       "3-element Array{Float64,1}:\n",
       " 0.119269\n",
       " 0.324419\n",
       " 0.502071"
      ]
     },
     "execution_count": 26,
     "metadata": {},
     "output_type": "execute_result"
    }
   ],
   "source": [
    "A' * w"
   ]
  },
  {
   "cell_type": "code",
   "execution_count": 27,
   "metadata": {},
   "outputs": [
    {
     "data": {
      "text/plain": [
       "2×3 Array{Float64,2}:\n",
       " 0.353129  0.043141  0.0668464\n",
       " 0.767602  0.267985  0.156637 "
      ]
     },
     "execution_count": 27,
     "metadata": {},
     "output_type": "execute_result"
    }
   ],
   "source": [
    "B = rand(2, 3)"
   ]
  },
  {
   "cell_type": "code",
   "execution_count": 28,
   "metadata": {},
   "outputs": [
    {
     "data": {
      "text/plain": [
       "2×3 Array{Float64,2}:\n",
       " 0.520165  0.619028  1.03465 \n",
       " 1.42305   1.13626   0.924327"
      ]
     },
     "execution_count": 28,
     "metadata": {},
     "output_type": "execute_result"
    }
   ],
   "source": [
    "A + B"
   ]
  },
  {
   "cell_type": "code",
   "execution_count": 29,
   "metadata": {},
   "outputs": [
    {
     "data": {
      "text/plain": [
       "2×2 Array{Float64,2}:\n",
       " 0.148524  0.434139\n",
       " 0.320233  0.856057"
      ]
     },
     "execution_count": 29,
     "metadata": {},
     "output_type": "execute_result"
    }
   ],
   "source": [
    "A * B'"
   ]
  },
  {
   "cell_type": "code",
   "execution_count": 30,
   "metadata": {},
   "outputs": [
    {
     "data": {
      "text/plain": [
       "3×3 Array{Float64,2}:\n",
       " 0.562109  0.182856  0.113833\n",
       " 0.869855  0.25753   0.1745  \n",
       " 0.931038  0.247481  0.184942"
      ]
     },
     "execution_count": 30,
     "metadata": {},
     "output_type": "execute_result"
    }
   ],
   "source": [
    "A' * B"
   ]
  },
  {
   "cell_type": "code",
   "execution_count": 31,
   "metadata": {},
   "outputs": [
    {
     "data": {
      "text/plain": [
       "3-element Array{Float64,1}:\n",
       "  0.977784\n",
       " -0.704457\n",
       "  0.734381"
      ]
     },
     "execution_count": 31,
     "metadata": {},
     "output_type": "execute_result"
    }
   ],
   "source": [
    "A = rand(3, 3)\n",
    "b = rand(3)\n",
    "x = A\\b # Resolve o SL"
   ]
  },
  {
   "cell_type": "code",
   "execution_count": 32,
   "metadata": {},
   "outputs": [
    {
     "data": {
      "text/plain": [
       "3-element Array{Float64,1}:\n",
       " -2.77556e-17\n",
       "  1.11022e-16\n",
       "  0.0        "
      ]
     },
     "execution_count": 32,
     "metadata": {},
     "output_type": "execute_result"
    }
   ],
   "source": [
    "A * x - b # É pra ser zero (ou quase)"
   ]
  },
  {
   "cell_type": "code",
   "execution_count": 33,
   "metadata": {},
   "outputs": [
    {
     "data": {
      "text/plain": [
       "1.1443916996305594e-16"
      ]
     },
     "execution_count": 33,
     "metadata": {},
     "output_type": "execute_result"
    }
   ],
   "source": [
    "norm(A*x-b) # norm = ‖ ⋅ ‖"
   ]
  },
  {
   "cell_type": "code",
   "execution_count": 34,
   "metadata": {},
   "outputs": [
    {
     "data": {
      "text/plain": [
       "4.0"
      ]
     },
     "execution_count": 34,
     "metadata": {},
     "output_type": "execute_result"
    }
   ],
   "source": [
    "v = [1.0; 2.0; 3.0]\n",
    "w = [2.0; -2.0; 2.0]\n",
    "dot(v, w) # ⟨v,w⟩"
   ]
  },
  {
   "cell_type": "code",
   "execution_count": 35,
   "metadata": {},
   "outputs": [
    {
     "data": {
      "text/plain": [
       "0.2801734907127258"
      ]
     },
     "execution_count": 35,
     "metadata": {},
     "output_type": "execute_result"
    }
   ],
   "source": [
    "det(A)"
   ]
  },
  {
   "cell_type": "code",
   "execution_count": 36,
   "metadata": {},
   "outputs": [
    {
     "data": {
      "text/plain": [
       "3×3 Array{Float64,2}:\n",
       " 0.590834  0.914645  0.870025\n",
       " 0.765794  0.768688  0.861552\n",
       " 1.27754   1.56322   1.29784 "
      ]
     },
     "execution_count": 36,
     "metadata": {},
     "output_type": "execute_result"
    }
   ],
   "source": [
    "A^2 # A * A"
   ]
  },
  {
   "cell_type": "code",
   "execution_count": 37,
   "metadata": {},
   "outputs": [
    {
     "data": {
      "text/plain": [
       "3×3 Array{Float64,2}:\n",
       " 0.366384   0.836698  0.0143167\n",
       " 0.0184266  0.090045  0.588396 \n",
       " 0.702441   0.522512  0.643081 "
      ]
     },
     "execution_count": 37,
     "metadata": {},
     "output_type": "execute_result"
    }
   ],
   "source": [
    "A .^ 2 # Cada elemento de A ao quadrado"
   ]
  },
  {
   "cell_type": "code",
   "execution_count": 38,
   "metadata": {},
   "outputs": [
    {
     "data": {
      "text/plain": [
       "3×3 Array{Float64,2}:\n",
       " 0.951691  0.114269   0.104823\n",
       " 0.801119  0.0795545  0.838075\n",
       " 0.124323  0.776674   0.184115"
      ]
     },
     "execution_count": 38,
     "metadata": {},
     "output_type": "execute_result"
    }
   ],
   "source": [
    "B = rand(3, 3)"
   ]
  },
  {
   "cell_type": "code",
   "execution_count": 39,
   "metadata": {},
   "outputs": [
    {
     "data": {
      "text/plain": [
       "3×3 Array{Float64,2}:\n",
       " 0.576055  0.104523   0.0125423\n",
       " 0.108747  0.0238723  0.642862 \n",
       " 0.104197  0.561419   0.147646 "
      ]
     },
     "execution_count": 39,
     "metadata": {},
     "output_type": "execute_result"
    }
   ],
   "source": [
    "A .* B"
   ]
  },
  {
   "cell_type": "markdown",
   "metadata": {},
   "source": [
    "## Acesso aos elementos"
   ]
  },
  {
   "cell_type": "code",
   "execution_count": 40,
   "metadata": {},
   "outputs": [
    {
     "data": {
      "text/plain": [
       "3-element Array{Float64,1}:\n",
       " 1.0\n",
       " 2.0\n",
       " 3.0"
      ]
     },
     "execution_count": 40,
     "metadata": {},
     "output_type": "execute_result"
    }
   ],
   "source": [
    "v"
   ]
  },
  {
   "cell_type": "code",
   "execution_count": 41,
   "metadata": {},
   "outputs": [
    {
     "data": {
      "text/plain": [
       "1.0"
      ]
     },
     "execution_count": 41,
     "metadata": {},
     "output_type": "execute_result"
    }
   ],
   "source": [
    "v[1]"
   ]
  },
  {
   "cell_type": "code",
   "execution_count": 42,
   "metadata": {},
   "outputs": [
    {
     "data": {
      "text/plain": [
       "2.0"
      ]
     },
     "execution_count": 42,
     "metadata": {},
     "output_type": "execute_result"
    }
   ],
   "source": [
    "v[2]"
   ]
  },
  {
   "cell_type": "code",
   "execution_count": 43,
   "metadata": {},
   "outputs": [
    {
     "data": {
      "text/plain": [
       "3×3 Array{Float64,2}:\n",
       " 0.605297  0.914712  0.119653\n",
       " 0.135745  0.300075  0.76707 \n",
       " 0.838118  0.72285   0.801924"
      ]
     },
     "execution_count": 43,
     "metadata": {},
     "output_type": "execute_result"
    }
   ],
   "source": [
    "A"
   ]
  },
  {
   "cell_type": "code",
   "execution_count": 44,
   "metadata": {},
   "outputs": [
    {
     "data": {
      "text/plain": [
       "0.6052967398293401"
      ]
     },
     "execution_count": 44,
     "metadata": {},
     "output_type": "execute_result"
    }
   ],
   "source": [
    "A[1,1]"
   ]
  },
  {
   "cell_type": "code",
   "execution_count": 45,
   "metadata": {},
   "outputs": [
    {
     "data": {
      "text/plain": [
       "0.7670696322682211"
      ]
     },
     "execution_count": 45,
     "metadata": {},
     "output_type": "execute_result"
    }
   ],
   "source": [
    "A[2,3]"
   ]
  },
  {
   "cell_type": "code",
   "execution_count": 46,
   "metadata": {},
   "outputs": [
    {
     "data": {
      "text/plain": [
       "2-element Array{Float64,1}:\n",
       " 1.0\n",
       " 2.0"
      ]
     },
     "execution_count": 46,
     "metadata": {},
     "output_type": "execute_result"
    }
   ],
   "source": [
    "v[1:2]"
   ]
  },
  {
   "cell_type": "code",
   "execution_count": 47,
   "metadata": {},
   "outputs": [
    {
     "data": {
      "text/plain": [
       "3-element Array{Float64,1}:\n",
       " 0.914712\n",
       " 0.300075\n",
       " 0.72285 "
      ]
     },
     "execution_count": 47,
     "metadata": {},
     "output_type": "execute_result"
    }
   ],
   "source": [
    "A[:,2]"
   ]
  },
  {
   "cell_type": "code",
   "execution_count": 48,
   "metadata": {},
   "outputs": [
    {
     "data": {
      "text/plain": [
       "3-element Array{Float64,1}:\n",
       " 0.605297\n",
       " 0.914712\n",
       " 0.119653"
      ]
     },
     "execution_count": 48,
     "metadata": {},
     "output_type": "execute_result"
    }
   ],
   "source": [
    "A[1,:]"
   ]
  },
  {
   "cell_type": "code",
   "execution_count": 49,
   "metadata": {},
   "outputs": [
    {
     "data": {
      "text/plain": [
       "0.0"
      ]
     },
     "execution_count": 49,
     "metadata": {},
     "output_type": "execute_result"
    }
   ],
   "source": [
    "A[2,3] = 0.0"
   ]
  },
  {
   "cell_type": "code",
   "execution_count": 50,
   "metadata": {},
   "outputs": [
    {
     "data": {
      "text/plain": [
       "3×3 Array{Float64,2}:\n",
       " 0.605297  0.914712  0.119653\n",
       " 0.135745  0.300075  0.0     \n",
       " 0.838118  0.72285   0.801924"
      ]
     },
     "execution_count": 50,
     "metadata": {},
     "output_type": "execute_result"
    }
   ],
   "source": [
    "A"
   ]
  },
  {
   "cell_type": "code",
   "execution_count": 51,
   "metadata": {},
   "outputs": [
    {
     "data": {
      "text/plain": [
       "3×3 Array{Float64,2}:\n",
       " 1.0  0.0  0.0\n",
       " 0.0  1.0  0.0\n",
       " 0.0  0.0  1.0"
      ]
     },
     "execution_count": 51,
     "metadata": {},
     "output_type": "execute_result"
    }
   ],
   "source": [
    "eye(3)"
   ]
  },
  {
   "cell_type": "code",
   "execution_count": 52,
   "metadata": {},
   "outputs": [
    {
     "data": {
      "text/plain": [
       "(3, 3)"
      ]
     },
     "execution_count": 52,
     "metadata": {},
     "output_type": "execute_result"
    }
   ],
   "source": [
    "m, n = size(A)"
   ]
  },
  {
   "cell_type": "code",
   "execution_count": 53,
   "metadata": {},
   "outputs": [
    {
     "data": {
      "text/plain": [
       "3"
      ]
     },
     "execution_count": 53,
     "metadata": {},
     "output_type": "execute_result"
    }
   ],
   "source": [
    "length(v)"
   ]
  },
  {
   "cell_type": "markdown",
   "metadata": {},
   "source": [
    "## Matriz por blocos - concatenação"
   ]
  },
  {
   "cell_type": "code",
   "execution_count": 54,
   "metadata": {},
   "outputs": [
    {
     "data": {
      "text/plain": [
       "5×5 Array{Float64,2}:\n",
       " 0.312145  0.654922  0.735004  0.0  0.0\n",
       " 0.196407  0.586712  0.548342  0.0  0.0\n",
       " 0.873581  0.632696  0.476883  0.0  0.0\n",
       " 1.0       1.0       1.0       1.0  0.0\n",
       " 1.0       1.0       1.0       0.0  1.0"
      ]
     },
     "execution_count": 54,
     "metadata": {},
     "output_type": "execute_result"
    }
   ],
   "source": [
    "[rand(3,3) zeros(3,2); ones(2,3) eye(2,2)]"
   ]
  },
  {
   "cell_type": "markdown",
   "metadata": {},
   "source": [
    "# Funções"
   ]
  },
  {
   "cell_type": "code",
   "execution_count": 55,
   "metadata": {},
   "outputs": [
    {
     "data": {
      "text/plain": [
       "4"
      ]
     },
     "execution_count": 55,
     "metadata": {},
     "output_type": "execute_result"
    }
   ],
   "source": [
    "f(x) = x^2\n",
    "f(2)"
   ]
  },
  {
   "cell_type": "code",
   "execution_count": 56,
   "metadata": {},
   "outputs": [
    {
     "data": {
      "text/plain": [
       "9"
      ]
     },
     "execution_count": 56,
     "metadata": {},
     "output_type": "execute_result"
    }
   ],
   "source": [
    "f(-3)"
   ]
  },
  {
   "cell_type": "code",
   "execution_count": 57,
   "metadata": {},
   "outputs": [
    {
     "data": {
      "text/plain": [
       "g (generic function with 1 method)"
      ]
     },
     "execution_count": 57,
     "metadata": {},
     "output_type": "execute_result"
    }
   ],
   "source": [
    "g(a,b) = exp(a + b)"
   ]
  },
  {
   "cell_type": "code",
   "execution_count": 58,
   "metadata": {},
   "outputs": [
    {
     "data": {
      "text/plain": [
       "148.4131591025766"
      ]
     },
     "execution_count": 58,
     "metadata": {},
     "output_type": "execute_result"
    }
   ],
   "source": [
    "g(2,3)"
   ]
  },
  {
   "cell_type": "code",
   "execution_count": 59,
   "metadata": {},
   "outputs": [
    {
     "data": {
      "text/plain": [
       "1.0"
      ]
     },
     "execution_count": 59,
     "metadata": {},
     "output_type": "execute_result"
    }
   ],
   "source": [
    "g(3,-3)"
   ]
  },
  {
   "cell_type": "code",
   "execution_count": 60,
   "metadata": {},
   "outputs": [
    {
     "data": {
      "text/plain": [
       "(::#3) (generic function with 1 method)"
      ]
     },
     "execution_count": 60,
     "metadata": {},
     "output_type": "execute_result"
    }
   ],
   "source": [
    "h = x -> sin(x)"
   ]
  },
  {
   "cell_type": "code",
   "execution_count": 61,
   "metadata": {},
   "outputs": [
    {
     "data": {
      "text/plain": [
       "0.9092974268256817"
      ]
     },
     "execution_count": 61,
     "metadata": {},
     "output_type": "execute_result"
    }
   ],
   "source": [
    "h(2)"
   ]
  },
  {
   "cell_type": "code",
   "execution_count": 62,
   "metadata": {},
   "outputs": [
    {
     "data": {
      "text/plain": [
       "aprox_der (generic function with 1 method)"
      ]
     },
     "execution_count": 62,
     "metadata": {},
     "output_type": "execute_result"
    }
   ],
   "source": [
    "function aprox_der(f, a, h)\n",
    "    (f(a+h) - f(a))/h\n",
    "end"
   ]
  },
  {
   "cell_type": "code",
   "execution_count": 63,
   "metadata": {},
   "outputs": [
    {
     "data": {
      "text/plain": [
       "0.8660254013914681"
      ]
     },
     "execution_count": 63,
     "metadata": {},
     "output_type": "execute_result"
    }
   ],
   "source": [
    "aprox_der(h, pi/6, 1e-8)"
   ]
  },
  {
   "cell_type": "code",
   "execution_count": 64,
   "metadata": {},
   "outputs": [
    {
     "data": {
      "text/plain": [
       "aprox_der (generic function with 2 methods)"
      ]
     },
     "execution_count": 64,
     "metadata": {},
     "output_type": "execute_result"
    }
   ],
   "source": [
    "function aprox_der(f, a, h = 1e-8)\n",
    "    (f(a+h) - f(a))/h\n",
    "end"
   ]
  },
  {
   "cell_type": "code",
   "execution_count": 65,
   "metadata": {},
   "outputs": [
    {
     "data": {
      "text/plain": [
       "0.8660254013914681"
      ]
     },
     "execution_count": 65,
     "metadata": {},
     "output_type": "execute_result"
    }
   ],
   "source": [
    "aprox_der(h, pi/6)"
   ]
  },
  {
   "cell_type": "code",
   "execution_count": 66,
   "metadata": {},
   "outputs": [
    {
     "data": {
      "text/plain": [
       "6.999999868639861"
      ]
     },
     "execution_count": 66,
     "metadata": {},
     "output_type": "execute_result"
    }
   ],
   "source": [
    "aprox_der(x->x^2+3x+2, 2) # 2x + 3 com x = 2: 7"
   ]
  },
  {
   "cell_type": "markdown",
   "metadata": {},
   "source": [
    "### Exercício\n",
    "\n",
    "Escreva uma função usando `function` que recebe uma função `f`, um valor `a`, um valor `b`, e retorna `a * f(b)`."
   ]
  },
  {
   "cell_type": "markdown",
   "metadata": {},
   "source": [
    "## Vetor vs Array vs Array 1xN vs Array Nx1"
   ]
  },
  {
   "cell_type": "code",
   "execution_count": 67,
   "metadata": {},
   "outputs": [
    {
     "data": {
      "text/plain": [
       "3-element Array{Float64,1}:\n",
       " 1.0\n",
       " 1.0\n",
       " 1.0"
      ]
     },
     "execution_count": 67,
     "metadata": {},
     "output_type": "execute_result"
    }
   ],
   "source": [
    "ones(3)"
   ]
  },
  {
   "cell_type": "code",
   "execution_count": 68,
   "metadata": {},
   "outputs": [
    {
     "data": {
      "text/plain": [
       "1×3 Array{Float64,2}:\n",
       " 1.0  1.0  1.0"
      ]
     },
     "execution_count": 68,
     "metadata": {},
     "output_type": "execute_result"
    }
   ],
   "source": [
    "[1.0 1.0 1.0]"
   ]
  },
  {
   "cell_type": "code",
   "execution_count": 69,
   "metadata": {},
   "outputs": [
    {
     "data": {
      "text/plain": [
       "3-element Array{Float64,1}:\n",
       " 1.0\n",
       " 1.0\n",
       " 1.0"
      ]
     },
     "execution_count": 69,
     "metadata": {},
     "output_type": "execute_result"
    }
   ],
   "source": [
    "[1.0; 1.0; 1.0]"
   ]
  },
  {
   "cell_type": "code",
   "execution_count": 70,
   "metadata": {},
   "outputs": [
    {
     "data": {
      "text/plain": [
       "3-element Array{Float64,1}:\n",
       " 1.0\n",
       " 1.0\n",
       " 1.0"
      ]
     },
     "execution_count": 70,
     "metadata": {},
     "output_type": "execute_result"
    }
   ],
   "source": [
    "[1.0, 1.0, 1.0]"
   ]
  },
  {
   "cell_type": "code",
   "execution_count": 71,
   "metadata": {},
   "outputs": [
    {
     "data": {
      "text/plain": [
       "3×1 Array{Float64,2}:\n",
       " 1.0\n",
       " 1.0\n",
       " 1.0"
      ]
     },
     "execution_count": 71,
     "metadata": {},
     "output_type": "execute_result"
    }
   ],
   "source": [
    "[1.0 1.0 1.0]'"
   ]
  },
  {
   "cell_type": "code",
   "execution_count": 72,
   "metadata": {},
   "outputs": [
    {
     "data": {
      "text/plain": [
       "1×3 RowVector{Float64,Array{Float64,1}}:\n",
       " 1.0  1.0  1.0"
      ]
     },
     "execution_count": 72,
     "metadata": {},
     "output_type": "execute_result"
    }
   ],
   "source": [
    "ones(3)'"
   ]
  },
  {
   "cell_type": "code",
   "execution_count": 73,
   "metadata": {},
   "outputs": [
    {
     "data": {
      "text/plain": [
       "3-element Array{Float64,1}:\n",
       " 1.0\n",
       " 1.0\n",
       " 1.0"
      ]
     },
     "execution_count": 73,
     "metadata": {},
     "output_type": "execute_result"
    }
   ],
   "source": [
    "ones(3)''"
   ]
  },
  {
   "cell_type": "markdown",
   "metadata": {},
   "source": [
    "# Exercícios"
   ]
  },
  {
   "cell_type": "markdown",
   "metadata": {
    "collapsed": true
   },
   "source": [
    "1. Crie um vetor aleatório e mude o primeiro elemento para o seu oposto (i.e. mude o sinal)\n",
    "2. Crie um vetor com os ângulos importantes: 0, pi/6, pi/4, pi/3 e pi/2.\n",
    "3. Crie um vetor com o seno de cada ângulo e outro com o cosseno, usando o vetor acima.\n",
    "4. Calcule a tangente de cada angulo usando os dois vetores acima (tan = sen/cos)\n",
    "5. Crie uma função que recebe uma matriz A e um vetor v e retorna\n",
    "$\\dfrac{\\langle v, Av\\rangle}{\\langle v, v\\rangle}$"
   ]
  },
  {
   "cell_type": "markdown",
   "metadata": {},
   "source": [
    "# Loops e condicionais"
   ]
  },
  {
   "cell_type": "code",
   "execution_count": 74,
   "metadata": {},
   "outputs": [
    {
     "data": {
      "text/plain": [
       "5-element Array{Int64,1}:\n",
       " 1\n",
       " 2\n",
       " 3\n",
       " 4\n",
       " 5"
      ]
     },
     "execution_count": 74,
     "metadata": {},
     "output_type": "execute_result"
    }
   ],
   "source": [
    "collect(1:5)"
   ]
  },
  {
   "cell_type": "code",
   "execution_count": 75,
   "metadata": {},
   "outputs": [
    {
     "data": {
      "text/plain": [
       "3-element Array{Int64,1}:\n",
       " 1\n",
       " 3\n",
       " 5"
      ]
     },
     "execution_count": 75,
     "metadata": {},
     "output_type": "execute_result"
    }
   ],
   "source": [
    "collect(1:2:5)"
   ]
  },
  {
   "cell_type": "code",
   "execution_count": 76,
   "metadata": {},
   "outputs": [
    {
     "data": {
      "text/plain": [
       "11-element Array{Float64,1}:\n",
       " 0.0\n",
       " 0.1\n",
       " 0.2\n",
       " 0.3\n",
       " 0.4\n",
       " 0.5\n",
       " 0.6\n",
       " 0.7\n",
       " 0.8\n",
       " 0.9\n",
       " 1.0"
      ]
     },
     "execution_count": 76,
     "metadata": {},
     "output_type": "execute_result"
    }
   ],
   "source": [
    "collect(0.0:0.1:1.0)"
   ]
  },
  {
   "cell_type": "code",
   "execution_count": 77,
   "metadata": {},
   "outputs": [
    {
     "data": {
      "text/plain": [
       "10-element Array{Float64,1}:\n",
       " 0.0     \n",
       " 0.111111\n",
       " 0.222222\n",
       " 0.333333\n",
       " 0.444444\n",
       " 0.555556\n",
       " 0.666667\n",
       " 0.777778\n",
       " 0.888889\n",
       " 1.0     "
      ]
     },
     "execution_count": 77,
     "metadata": {},
     "output_type": "execute_result"
    }
   ],
   "source": [
    "collect(linspace(0, 1, 10))"
   ]
  },
  {
   "cell_type": "code",
   "execution_count": 78,
   "metadata": {},
   "outputs": [
    {
     "data": {
      "text/plain": [
       "10-element Array{Int64,1}:\n",
       " 10\n",
       "  9\n",
       "  8\n",
       "  7\n",
       "  6\n",
       "  5\n",
       "  4\n",
       "  3\n",
       "  2\n",
       "  1"
      ]
     },
     "execution_count": 78,
     "metadata": {},
     "output_type": "execute_result"
    }
   ],
   "source": [
    "collect(10:-1:1)"
   ]
  },
  {
   "cell_type": "code",
   "execution_count": 79,
   "metadata": {},
   "outputs": [
    {
     "name": "stdout",
     "output_type": "stream",
     "text": [
      "4.0\n",
      "6.25\n",
      "9.0\n"
     ]
    }
   ],
   "source": [
    "for i = 2.0:0.5:3.0\n",
    "    println(i^2) # Impressão e quebra linha\n",
    "end"
   ]
  },
  {
   "cell_type": "code",
   "execution_count": 80,
   "metadata": {
    "scrolled": true
   },
   "outputs": [
    {
     "name": "stdout",
     "output_type": "stream",
     "text": [
      "search: \u001b[1mp\u001b[22m\u001b[1mr\u001b[22m\u001b[1mi\u001b[22m\u001b[1mn\u001b[22m\u001b[1mt\u001b[22m\u001b[1ml\u001b[22m\u001b[1mn\u001b[22m \u001b[1mp\u001b[22m\u001b[1mr\u001b[22m\u001b[1mi\u001b[22m\u001b[1mn\u001b[22m\u001b[1mt\u001b[22m_with_co\u001b[1ml\u001b[22mor \u001b[1mp\u001b[22m\u001b[1mr\u001b[22m\u001b[1mi\u001b[22m\u001b[1mn\u001b[22m\u001b[1mt\u001b[22m \u001b[1mp\u001b[22m\u001b[1mr\u001b[22m\u001b[1mi\u001b[22m\u001b[1mn\u001b[22m\u001b[1mt\u001b[22m_shortest s\u001b[1mp\u001b[22m\u001b[1mr\u001b[22m\u001b[1mi\u001b[22m\u001b[1mn\u001b[22m\u001b[1mt\u001b[22m @\u001b[1mp\u001b[22m\u001b[1mr\u001b[22m\u001b[1mi\u001b[22m\u001b[1mn\u001b[22m\u001b[1mt\u001b[22mf is\u001b[1mp\u001b[22m\u001b[1mr\u001b[22m\u001b[1mi\u001b[22m\u001b[1mn\u001b[22m\u001b[1mt\u001b[22m\n",
      "\n"
     ]
    },
    {
     "data": {
      "text/markdown": [
       "```\n",
       "println(io::IO, xs...)\n",
       "```\n",
       "\n",
       "Print (using [`print`](@ref)) `xs` followed by a newline. If `io` is not supplied, prints to [`STDOUT`](@ref).\n"
      ],
      "text/plain": [
       "```\n",
       "println(io::IO, xs...)\n",
       "```\n",
       "\n",
       "Print (using [`print`](@ref)) `xs` followed by a newline. If `io` is not supplied, prints to [`STDOUT`](@ref).\n"
      ]
     },
     "execution_count": 80,
     "metadata": {},
     "output_type": "execute_result"
    }
   ],
   "source": [
    "?println"
   ]
  },
  {
   "cell_type": "code",
   "execution_count": 81,
   "metadata": {},
   "outputs": [
    {
     "name": "stdout",
     "output_type": "stream",
     "text": [
      "12345678910"
     ]
    }
   ],
   "source": [
    "for i = 1:10\n",
    "    print(i)\n",
    "end"
   ]
  },
  {
   "cell_type": "code",
   "execution_count": 82,
   "metadata": {},
   "outputs": [
    {
     "name": "stdout",
     "output_type": "stream",
     "text": [
      "i = 1\n",
      "i = 2\n",
      "i = 3\n",
      "i = 4\n",
      "i = 5\n",
      "i = 6\n",
      "i = 7\n",
      "i = 8\n",
      "i = 9\n",
      "i = 10\n"
     ]
    }
   ],
   "source": [
    "for i = 1:10\n",
    "    println(\"i = $i\")\n",
    "end"
   ]
  },
  {
   "cell_type": "code",
   "execution_count": 83,
   "metadata": {},
   "outputs": [
    {
     "name": "stdout",
     "output_type": "stream",
     "text": [
      "i = 001\n",
      "i = 002\n",
      "i = 003\n",
      "i = 004\n",
      "i = 005\n",
      "i = 006\n",
      "i = 007\n",
      "i = 008\n",
      "i = 009\n",
      "i = 010\n"
     ]
    }
   ],
   "source": [
    "for i = 1:10\n",
    "    @printf(\"i = %03d\\n\", i) # Notação de C\n",
    "end"
   ]
  },
  {
   "cell_type": "code",
   "execution_count": 84,
   "metadata": {
    "collapsed": true
   },
   "outputs": [],
   "source": [
    "x = rand(10)\n",
    "y = zeros(10)\n",
    "for i = 1:10\n",
    "    y[i] = x[i] * i\n",
    "end"
   ]
  },
  {
   "cell_type": "code",
   "execution_count": 85,
   "metadata": {},
   "outputs": [
    {
     "data": {
      "text/plain": [
       "10-element Array{Float64,1}:\n",
       "  1.0\n",
       "  2.0\n",
       "  3.0\n",
       "  4.0\n",
       "  5.0\n",
       "  6.0\n",
       "  7.0\n",
       "  8.0\n",
       "  9.0\n",
       " 10.0"
      ]
     },
     "execution_count": 85,
     "metadata": {},
     "output_type": "execute_result"
    }
   ],
   "source": [
    "y ./ x"
   ]
  },
  {
   "cell_type": "code",
   "execution_count": 86,
   "metadata": {},
   "outputs": [
    {
     "name": "stdout",
     "output_type": "stream",
     "text": [
      "sin(0.0) = 0.0\n",
      "sin(0.5235987755982988) = 0.49999999999999994\n",
      "sin(0.7853981633974483) = 0.7071067811865475\n",
      "sin(1.0471975511965976) = 0.8660254037844386\n",
      "sin(1.5707963267948966) = 1.0\n"
     ]
    }
   ],
   "source": [
    "for x in [0; pi/6; pi/4; pi/3; pi/2]\n",
    "    println(\"sin($x) = $(sin(x))\")\n",
    "end"
   ]
  },
  {
   "cell_type": "code",
   "execution_count": 87,
   "metadata": {},
   "outputs": [
    {
     "name": "stdout",
     "output_type": "stream",
     "text": [
      "3 6 9 12 15 18 "
     ]
    }
   ],
   "source": [
    "for i = 3:3:20\n",
    "    print(\"$i \")\n",
    "end"
   ]
  },
  {
   "cell_type": "code",
   "execution_count": 88,
   "metadata": {},
   "outputs": [
    {
     "name": "stdout",
     "output_type": "stream",
     "text": [
      "3^2 = 9\n",
      "5^2 = 25\n",
      "7^2 = 49\n",
      "9^2 = 81\n"
     ]
    }
   ],
   "source": [
    "for i in 3:2:10\n",
    "    println(\"$i^2 = $(i^2)\")\n",
    "end"
   ]
  },
  {
   "cell_type": "code",
   "execution_count": 89,
   "metadata": {},
   "outputs": [
    {
     "data": {
      "text/plain": [
       "2-element Array{Float64,1}:\n",
       " 2.0\n",
       " 3.0"
      ]
     },
     "execution_count": 89,
     "metadata": {},
     "output_type": "execute_result"
    }
   ],
   "source": [
    "Float64[2; 3]"
   ]
  },
  {
   "cell_type": "code",
   "execution_count": 90,
   "metadata": {},
   "outputs": [
    {
     "name": "stdout",
     "output_type": "stream",
     "text": [
      "x: a    Tipo: String\n",
      "x: 0    Tipo: Int64\n",
      "x: 3.14    Tipo: Float64\n",
      "x: e = 2.7182818284590...    Tipo: Irrational{:e}\n",
      "x: 3//4    Tipo: Rational{Int64}\n",
      "x: im    Tipo: Complex{Bool}\n",
      "x: [1.0, 1.0]    Tipo: Array{Float64,1}\n",
      "x: [1.0 1.0; 1.0 1.0]    Tipo: Array{Float64,2}\n"
     ]
    }
   ],
   "source": [
    "for x in Any[\"a\", 0, 3.14, e, 3//4, im, ones(2), ones(2,2)]\n",
    "    println(\"x: $x    Tipo: $(typeof(x))\")\n",
    "end"
   ]
  },
  {
   "cell_type": "code",
   "execution_count": 91,
   "metadata": {},
   "outputs": [
    {
     "ename": "LoadError",
     "evalue": "\u001b[91mArgumentError: invalid index: 3.0\u001b[39m",
     "output_type": "error",
     "traceback": [
      "\u001b[91mArgumentError: invalid index: 3.0\u001b[39m",
      "",
      "Stacktrace:",
      " [1] \u001b[1msetindex!\u001b[22m\u001b[22m\u001b[1m(\u001b[22m\u001b[22m::Array{Float64,1}, ::Int64, ::Float64\u001b[1m)\u001b[22m\u001b[22m at \u001b[1m./abstractarray.jl:967\u001b[22m\u001b[22m",
      " [2] \u001b[1minclude_string\u001b[22m\u001b[22m\u001b[1m(\u001b[22m\u001b[22m::String, ::String\u001b[1m)\u001b[22m\u001b[22m at \u001b[1m./loading.jl:515\u001b[22m\u001b[22m"
     ]
    }
   ],
   "source": [
    "n = 6\n",
    "v = ones(n)\n",
    "v[n/2] = 2\n",
    "v"
   ]
  },
  {
   "cell_type": "code",
   "execution_count": 92,
   "metadata": {},
   "outputs": [
    {
     "data": {
      "text/plain": [
       "3.0"
      ]
     },
     "execution_count": 92,
     "metadata": {},
     "output_type": "execute_result"
    }
   ],
   "source": [
    "n/2"
   ]
  },
  {
   "cell_type": "code",
   "execution_count": 93,
   "metadata": {},
   "outputs": [
    {
     "data": {
      "text/plain": [
       "3"
      ]
     },
     "execution_count": 93,
     "metadata": {},
     "output_type": "execute_result"
    }
   ],
   "source": [
    "div(n,2)"
   ]
  },
  {
   "cell_type": "code",
   "execution_count": 94,
   "metadata": {
    "scrolled": true
   },
   "outputs": [
    {
     "data": {
      "text/plain": [
       "3"
      ]
     },
     "execution_count": 94,
     "metadata": {},
     "output_type": "execute_result"
    }
   ],
   "source": [
    "round(Int, n/2)"
   ]
  },
  {
   "cell_type": "code",
   "execution_count": 95,
   "metadata": {},
   "outputs": [
    {
     "data": {
      "text/plain": [
       "2"
      ]
     },
     "execution_count": 95,
     "metadata": {},
     "output_type": "execute_result"
    }
   ],
   "source": [
    "10 % 4 # Resto da divisão de 10 por 4"
   ]
  },
  {
   "cell_type": "markdown",
   "metadata": {},
   "source": [
    "**Fatorial**: $ n! = n(n-1)\\dots2. 1 $"
   ]
  },
  {
   "cell_type": "code",
   "execution_count": 96,
   "metadata": {},
   "outputs": [
    {
     "data": {
      "text/plain": [
       "fatorial (generic function with 1 method)"
      ]
     },
     "execution_count": 96,
     "metadata": {},
     "output_type": "execute_result"
    }
   ],
   "source": [
    "function fatorial(n)\n",
    "    resultado = 1\n",
    "    for i = 1:n\n",
    "        resultado = resultado * i\n",
    "    end\n",
    "    return resultado\n",
    "end"
   ]
  },
  {
   "cell_type": "code",
   "execution_count": 97,
   "metadata": {},
   "outputs": [
    {
     "data": {
      "text/plain": [
       "24"
      ]
     },
     "execution_count": 97,
     "metadata": {},
     "output_type": "execute_result"
    }
   ],
   "source": [
    "fatorial(4)"
   ]
  },
  {
   "cell_type": "code",
   "execution_count": 98,
   "metadata": {},
   "outputs": [
    {
     "data": {
      "text/plain": [
       "120"
      ]
     },
     "execution_count": 98,
     "metadata": {},
     "output_type": "execute_result"
    }
   ],
   "source": [
    "fatorial(5)"
   ]
  },
  {
   "cell_type": "code",
   "execution_count": 99,
   "metadata": {},
   "outputs": [
    {
     "data": {
      "text/plain": [
       "1"
      ]
     },
     "execution_count": 99,
     "metadata": {},
     "output_type": "execute_result"
    }
   ],
   "source": [
    "fatorial(0)"
   ]
  },
  {
   "cell_type": "code",
   "execution_count": 100,
   "metadata": {},
   "outputs": [
    {
     "data": {
      "text/plain": [
       "24.0"
      ]
     },
     "execution_count": 100,
     "metadata": {},
     "output_type": "execute_result"
    }
   ],
   "source": [
    "fatorial(4.3)"
   ]
  },
  {
   "cell_type": "code",
   "execution_count": 101,
   "metadata": {},
   "outputs": [
    {
     "data": {
      "text/plain": [
       "1"
      ]
     },
     "execution_count": 101,
     "metadata": {},
     "output_type": "execute_result"
    }
   ],
   "source": [
    "fatorial(-2)"
   ]
  },
  {
   "cell_type": "code",
   "execution_count": 102,
   "metadata": {},
   "outputs": [
    {
     "data": {
      "text/plain": [
       "fatorial2 (generic function with 1 method)"
      ]
     },
     "execution_count": 102,
     "metadata": {},
     "output_type": "execute_result"
    }
   ],
   "source": [
    "function fatorial2(n :: Int)\n",
    "    resultado = 1\n",
    "    for i = 1:n\n",
    "        resultado = resultado * i\n",
    "    end\n",
    "    return resultado\n",
    "end"
   ]
  },
  {
   "cell_type": "code",
   "execution_count": 103,
   "metadata": {
    "scrolled": true
   },
   "outputs": [
    {
     "ename": "LoadError",
     "evalue": "\u001b[91mMethodError: no method matching fatorial2(::Float64)\u001b[0m\nClosest candidates are:\n  fatorial2(\u001b[91m::Int64\u001b[39m) at In[102]:2\u001b[39m",
     "output_type": "error",
     "traceback": [
      "\u001b[91mMethodError: no method matching fatorial2(::Float64)\u001b[0m\nClosest candidates are:\n  fatorial2(\u001b[91m::Int64\u001b[39m) at In[102]:2\u001b[39m",
      "",
      "Stacktrace:",
      " [1] \u001b[1minclude_string\u001b[22m\u001b[22m\u001b[1m(\u001b[22m\u001b[22m::String, ::String\u001b[1m)\u001b[22m\u001b[22m at \u001b[1m./loading.jl:515\u001b[22m\u001b[22m"
     ]
    }
   ],
   "source": [
    "fatorial2(3.4)"
   ]
  },
  {
   "cell_type": "markdown",
   "metadata": {},
   "source": [
    "**sinal**: $ \\mbox{sinal}(x) = \\left\\{\\begin{array}{rl}\n",
    "1, & x > 0 \\\\\n",
    "-1, & x < 0 \\\\\n",
    "0, & x = 0.\n",
    "\\end{array}\\right.$"
   ]
  },
  {
   "cell_type": "code",
   "execution_count": 104,
   "metadata": {},
   "outputs": [
    {
     "data": {
      "text/plain": [
       "sinal (generic function with 1 method)"
      ]
     },
     "execution_count": 104,
     "metadata": {},
     "output_type": "execute_result"
    }
   ],
   "source": [
    "function sinal(x)\n",
    "    if x > 0\n",
    "        return 1\n",
    "    elseif x < 0\n",
    "        return -1\n",
    "    else\n",
    "        return 0\n",
    "    end\n",
    "end"
   ]
  },
  {
   "cell_type": "code",
   "execution_count": 105,
   "metadata": {},
   "outputs": [
    {
     "data": {
      "text/plain": [
       "1"
      ]
     },
     "execution_count": 105,
     "metadata": {},
     "output_type": "execute_result"
    }
   ],
   "source": [
    "sinal(3.2)"
   ]
  },
  {
   "cell_type": "code",
   "execution_count": 106,
   "metadata": {},
   "outputs": [
    {
     "data": {
      "text/plain": [
       "-1"
      ]
     },
     "execution_count": 106,
     "metadata": {},
     "output_type": "execute_result"
    }
   ],
   "source": [
    "sinal(-1.2)"
   ]
  },
  {
   "cell_type": "code",
   "execution_count": 107,
   "metadata": {},
   "outputs": [
    {
     "data": {
      "text/plain": [
       "0"
      ]
     },
     "execution_count": 107,
     "metadata": {},
     "output_type": "execute_result"
    }
   ],
   "source": [
    "sinal(0.0)"
   ]
  },
  {
   "cell_type": "markdown",
   "metadata": {},
   "source": [
    "**Bháskara:**\n",
    "$ax^2 + bx + c = 0$ e $b^2 - 4ac \\geq 0$ implicam em\n",
    "$x = \\dfrac{-b \\pm \\sqrt{b^2 - 4ac}}{2a}. $"
   ]
  },
  {
   "cell_type": "code",
   "execution_count": 108,
   "metadata": {},
   "outputs": [
    {
     "data": {
      "text/plain": [
       "bhaskara (generic function with 1 method)"
      ]
     },
     "execution_count": 108,
     "metadata": {},
     "output_type": "execute_result"
    }
   ],
   "source": [
    "function bhaskara(a, b, c)\n",
    "    Δ = b^2 - 4 * a * c\n",
    "    if Δ < 0\n",
    "        error(\"Nos reais não tem solução\")\n",
    "    end\n",
    "    return (-b + sqrt(Δ)) / 2a, (-b - sqrt(Δ)) / 2a\n",
    "end"
   ]
  },
  {
   "cell_type": "code",
   "execution_count": 109,
   "metadata": {},
   "outputs": [
    {
     "data": {
      "text/plain": [
       "(1.0, -1.0)"
      ]
     },
     "execution_count": 109,
     "metadata": {},
     "output_type": "execute_result"
    }
   ],
   "source": [
    "bhaskara(1, 0, -1)"
   ]
  },
  {
   "cell_type": "code",
   "execution_count": 110,
   "metadata": {},
   "outputs": [
    {
     "ename": "LoadError",
     "evalue": "\u001b[91mNos reais não tem solução\u001b[39m",
     "output_type": "error",
     "traceback": [
      "\u001b[91mNos reais não tem solução\u001b[39m",
      "",
      "Stacktrace:",
      " [1] \u001b[1mbhaskara\u001b[22m\u001b[22m\u001b[1m(\u001b[22m\u001b[22m::Int64, ::Int64, ::Int64\u001b[1m)\u001b[22m\u001b[22m at \u001b[1m./In[108]:4\u001b[22m\u001b[22m",
      " [2] \u001b[1minclude_string\u001b[22m\u001b[22m\u001b[1m(\u001b[22m\u001b[22m::String, ::String\u001b[1m)\u001b[22m\u001b[22m at \u001b[1m./loading.jl:515\u001b[22m\u001b[22m"
     ]
    }
   ],
   "source": [
    "bhaskara(1, 0, 1)"
   ]
  },
  {
   "cell_type": "code",
   "execution_count": 111,
   "metadata": {},
   "outputs": [
    {
     "data": {
      "text/plain": [
       "(1.0, -1.0)"
      ]
     },
     "execution_count": 111,
     "metadata": {},
     "output_type": "execute_result"
    }
   ],
   "source": [
    "bhaskara(1, 0, -1)"
   ]
  },
  {
   "cell_type": "code",
   "execution_count": 112,
   "metadata": {},
   "outputs": [
    {
     "data": {
      "text/plain": [
       "(NaN, -Inf)"
      ]
     },
     "execution_count": 112,
     "metadata": {},
     "output_type": "execute_result"
    }
   ],
   "source": [
    "bhaskara(0, 1, 1)"
   ]
  },
  {
   "cell_type": "markdown",
   "metadata": {},
   "source": [
    "**MMC:**\n",
    "$\\mbox{mmc}(a, b)$ é o menor número natural que é múltiplo de $a$ e de $b$."
   ]
  },
  {
   "cell_type": "markdown",
   "metadata": {},
   "source": [
    "    or -> ||\n",
    "    and -> &&"
   ]
  },
  {
   "cell_type": "code",
   "execution_count": 113,
   "metadata": {},
   "outputs": [
    {
     "data": {
      "text/plain": [
       "mmc (generic function with 1 method)"
      ]
     },
     "execution_count": 113,
     "metadata": {},
     "output_type": "execute_result"
    }
   ],
   "source": [
    "function mmc(a::Int, b::Int)\n",
    "    if a < 1 || b < 1\n",
    "        error(\"Entrada deve ser de dois inteiros positivos\")\n",
    "    end\n",
    "    x = 1\n",
    "    while a > 1 || b > 1\n",
    "        achou = false\n",
    "        for j = 2:max(a,b)\n",
    "            if a % j == 0 || b % j == 0\n",
    "                x = x * j\n",
    "                achou = true\n",
    "            end\n",
    "            if a % j == 0\n",
    "                a = div(a, j)\n",
    "            end\n",
    "            if b % j == 0\n",
    "                b = div(b, j)\n",
    "            end\n",
    "            if achou\n",
    "                break\n",
    "            end\n",
    "        end\n",
    "    end\n",
    "    return x\n",
    "end"
   ]
  },
  {
   "cell_type": "code",
   "execution_count": 114,
   "metadata": {},
   "outputs": [
    {
     "data": {
      "text/plain": [
       "6"
      ]
     },
     "execution_count": 114,
     "metadata": {},
     "output_type": "execute_result"
    }
   ],
   "source": [
    "mmc(2,3)"
   ]
  },
  {
   "cell_type": "code",
   "execution_count": 115,
   "metadata": {},
   "outputs": [
    {
     "data": {
      "text/plain": [
       "35"
      ]
     },
     "execution_count": 115,
     "metadata": {},
     "output_type": "execute_result"
    }
   ],
   "source": [
    "mmc(5, 7)"
   ]
  },
  {
   "cell_type": "code",
   "execution_count": 116,
   "metadata": {},
   "outputs": [
    {
     "data": {
      "text/plain": [
       "24"
      ]
     },
     "execution_count": 116,
     "metadata": {},
     "output_type": "execute_result"
    }
   ],
   "source": [
    "mmc(6, 8)"
   ]
  },
  {
   "cell_type": "code",
   "execution_count": 117,
   "metadata": {},
   "outputs": [
    {
     "data": {
      "text/plain": [
       "84"
      ]
     },
     "execution_count": 117,
     "metadata": {},
     "output_type": "execute_result"
    }
   ],
   "source": [
    "mmc(12, 14)"
   ]
  },
  {
   "cell_type": "code",
   "execution_count": 118,
   "metadata": {},
   "outputs": [
    {
     "ename": "LoadError",
     "evalue": "\u001b[91mEntrada deve ser de dois inteiros positivos\u001b[39m",
     "output_type": "error",
     "traceback": [
      "\u001b[91mEntrada deve ser de dois inteiros positivos\u001b[39m",
      "",
      "Stacktrace:",
      " [1] \u001b[1mmmc\u001b[22m\u001b[22m\u001b[1m(\u001b[22m\u001b[22m::Int64, ::Int64\u001b[1m)\u001b[22m\u001b[22m at \u001b[1m./In[113]:3\u001b[22m\u001b[22m",
      " [2] \u001b[1minclude_string\u001b[22m\u001b[22m\u001b[1m(\u001b[22m\u001b[22m::String, ::String\u001b[1m)\u001b[22m\u001b[22m at \u001b[1m./loading.jl:515\u001b[22m\u001b[22m"
     ]
    }
   ],
   "source": [
    "mmc(-1, 0)"
   ]
  },
  {
   "cell_type": "code",
   "execution_count": 119,
   "metadata": {},
   "outputs": [
    {
     "ename": "LoadError",
     "evalue": "\u001b[91mMethodError: no method matching mmc(::Float64, ::Float64)\u001b[39m",
     "output_type": "error",
     "traceback": [
      "\u001b[91mMethodError: no method matching mmc(::Float64, ::Float64)\u001b[39m",
      "",
      "Stacktrace:",
      " [1] \u001b[1minclude_string\u001b[22m\u001b[22m\u001b[1m(\u001b[22m\u001b[22m::String, ::String\u001b[1m)\u001b[22m\u001b[22m at \u001b[1m./loading.jl:515\u001b[22m\u001b[22m"
     ]
    }
   ],
   "source": [
    "mmc(2.0, 3.0)"
   ]
  },
  {
   "cell_type": "markdown",
   "metadata": {},
   "source": [
    "## Exercício\n",
    "\n",
    "- Atualize a função fatorial para proibir números negativos não inteiros. Proíba também o fatorial de um número maior que 21.\n",
    "- Atualize a função de Bháskara para que retorne um erro caso $a$ seja 0.\n",
    "- Faça uma função que recebe um inteiro `n` e verifica se ele é primo."
   ]
  },
  {
   "cell_type": "markdown",
   "metadata": {},
   "source": [
    "## Arquivos"
   ]
  },
  {
   "cell_type": "markdown",
   "metadata": {},
   "source": [
    "A aula de arquivos deve ser feira fora do Jupyter para melhor entendimento.\n",
    "Use:\n",
    "\n",
    "- Atom/JunoLab para edição;\n",
    "- o terminal do Julia."
   ]
  },
  {
   "cell_type": "markdown",
   "metadata": {},
   "source": [
    "Dentro do terminal, use\n",
    "    \n",
    "    include(\"arquivo.jl\")\n",
    "   \n",
    "para incluir um arquivo e rodar todo seu conteúdo.\n",
    "\n",
    "O arquivo precisa estar na mesma pasta. Se não estiver você tem duas opções:\n",
    "- Navegar até a pasta corresponde, usando o comando `cd`; ou\n",
    "- incluir o arquivo passando o caminho inteiro: `include(\"~/Desktop/arquivo.jl\")`. (`~` em Linux quer dizer diretório pessoal padrão - em geral `/home/fulano/`."
   ]
  },
  {
   "cell_type": "markdown",
   "metadata": {},
   "source": [
    "## Pacotes"
   ]
  },
  {
   "cell_type": "markdown",
   "metadata": {},
   "source": [
    "O Julia não vem com tudo pré-instalado, assim como a maioria das linguagem de programação.\n",
    "Para encontrar um pacote que faça o que você quer, você pode buscar na lista http://pkg.julialang.org/ ou no Google."
   ]
  },
  {
   "cell_type": "markdown",
   "metadata": {},
   "source": [
    "### Instalação de pacotes"
   ]
  },
  {
   "cell_type": "markdown",
   "metadata": {},
   "source": [
    "Caso o pacote que você encontrou seja indexado, basta usar o comando `Pkg.add(\"Pacote\")`. A indexação depende do criador do pacote. Os principais pacotes estão indexados. Por exemplo:\n",
    "- Pacote `Plots`: comandos unificados de fazer gráficos.\n",
    "- Pacote `PyPlot`: para desenhar gráficos usando o `matplotlib`. Bonito, mas lento e demorado de instalar.\n",
    "- Pacote `GR`: outro pacote para desenhar gráficos. Mais rápido, mas menos bonito.\n",
    "- Pacote `Primes`: pacote para trabalhar com números primos.\n",
    "- Pacote `Combinatorics`: pacote para funções de combinátoria."
   ]
  },
  {
   "cell_type": "markdown",
   "metadata": {},
   "source": [
    "Caso o pacote não esteja indexado, ainda é possível instalá-lo, usando os comandos `Pkg.clone` e `Pkg.build`."
   ]
  },
  {
   "cell_type": "markdown",
   "metadata": {},
   "source": [
    "## Plots"
   ]
  },
  {
   "cell_type": "markdown",
   "metadata": {},
   "source": [
    "Utilizaremos os pacotes `Plots` e `PyPlot` para fazer nossos gráficos. Caso prefira o `GR`, mude o comando `pyplot` logo abaixo por `gr`.\n",
    "\n",
    "Para o help dos gráficos, veja [Julia Plots](https://juliaplots.github.io)."
   ]
  },
  {
   "cell_type": "code",
   "execution_count": 120,
   "metadata": {},
   "outputs": [
    {
     "name": "stderr",
     "output_type": "stream",
     "text": [
      "WARNING: using Plots.h in module Main conflicts with an existing identifier.\n",
      "WARNING: using Plots.w in module Main conflicts with an existing identifier.\n",
      "WARNING: Compat.UTF8String is deprecated, use String instead.\n",
      "  likely near In[120]:68\n"
     ]
    },
    {
     "data": {
      "text/plain": [
       "Plots.PyPlotBackend()"
      ]
     },
     "execution_count": 120,
     "metadata": {},
     "output_type": "execute_result"
    }
   ],
   "source": [
    "using Plots\n",
    "pyplot(size=(400,300)) # ou gr()"
   ]
  },
  {
   "cell_type": "code",
   "execution_count": 121,
   "metadata": {},
   "outputs": [
    {
     "data": {
      "text/html": [
       "<img src=\"data:image/png;base64,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\" />"
      ]
     },
     "execution_count": 121,
     "metadata": {},
     "output_type": "execute_result"
    }
   ],
   "source": [
    "plot([1; 2; 3], [3; 1; 2]) # plot(x, y)"
   ]
  },
  {
   "cell_type": "code",
   "execution_count": 122,
   "metadata": {},
   "outputs": [
    {
     "data": {
      "text/html": [
       "<img src=\"data:image/png;base64,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\" />"
      ]
     },
     "execution_count": 122,
     "metadata": {},
     "output_type": "execute_result"
    }
   ],
   "source": [
    "x = linspace(0, 1, 100) # 100 elementos igual. esp. de 0 a 1\n",
    "y = x.^2\n",
    "plot(x, y)"
   ]
  },
  {
   "cell_type": "code",
   "execution_count": 123,
   "metadata": {
    "scrolled": true
   },
   "outputs": [
    {
     "data": {
      "text/html": [
       "<img src=\"data:image/png;base64,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\" />"
      ]
     },
     "execution_count": 123,
     "metadata": {},
     "output_type": "execute_result"
    }
   ],
   "source": [
    "scatter(x, 4 * x .* (1 - x))"
   ]
  },
  {
   "cell_type": "code",
   "execution_count": 124,
   "metadata": {},
   "outputs": [
    {
     "data": {
      "text/html": [
       "<img src=\"data:image/png;base64,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\" />"
      ]
     },
     "execution_count": 124,
     "metadata": {},
     "output_type": "execute_result"
    }
   ],
   "source": [
    "scatter(x, rand(100))"
   ]
  },
  {
   "cell_type": "code",
   "execution_count": 125,
   "metadata": {},
   "outputs": [
    {
     "data": {
      "text/html": [
       "<img src=\"data:image/png;base64,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\" />"
      ]
     },
     "execution_count": 125,
     "metadata": {},
     "output_type": "execute_result"
    }
   ],
   "source": [
    "f(x) = x * sin(x)\n",
    "plot(f, 0, 4pi) # plot(f, a, b)"
   ]
  },
  {
   "cell_type": "code",
   "execution_count": 126,
   "metadata": {},
   "outputs": [
    {
     "data": {
      "text/html": [
       "<img src=\"data:image/png;base64,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\" />"
      ]
     },
     "execution_count": 126,
     "metadata": {},
     "output_type": "execute_result"
    }
   ],
   "source": [
    "plot(x->exp(x) * x, -1, 1)"
   ]
  },
  {
   "cell_type": "code",
   "execution_count": 127,
   "metadata": {},
   "outputs": [
    {
     "data": {
      "text/html": [
       "<img src=\"data:image/png;base64,iVBORw0KGgoAAAANSUhEUgAAAZAAAAEsCAYAAADtt+XCAAAABHNCSVQICAgIfAhkiAAAAAlwSFlzAAAPYQAAD2EBqD+naQAAIABJREFUeJzs3Xd4FPXWB/DvzOxuNtndJJCEllAEhNCkiST2AgFEwavkWnlFAb02lHhVrKDXLsRyxQb2DqjotYAU5QpEOgqhN0mAFEKyvc3Mef8I2UsLkGR3Z8v5PE8e51HYPfPddU9+Z6cIRERgjDHGGkjUugDGGGPRiRsIY4yxRtE19QFUVcX+/fthsVggCEIwamKMMRZhiAh2ux1t2rSBKNauPZrcQPbv34+2bds2uTjGGGORr6SkBFlZWQCC0EAsFgsAYNfK35DW9aymPhw7Ba/XixkzZmD8+PFISEjQupy4w/lri/PXxo97VVz/Yw3w0BmBz3wgCA2kbmzl++o1JD00HbpmGU19SHYSLpcL69atg8lkQlJSktblxB3OX1ucvzY+KZXRN1PFOuCoryqEph7Ga7PZkJKSgq2TrkVKaioyJkyDmGhqar2MMcYiQImD0OELGYW9nbjvnGawWq1ITk4GEMSjsNJueRRydSWqPngGpMjBelh2DK/XiylTpsDr9WpdSlzi/LXF+Yffu1tVJOmAUWccf5BU0BqIvlV7pI19At4df6J61mvg8xNDQ1VVlJaWQlVVrUuJS5y/tjj/8FJUwrtbVdzQSYTFcHwDCdoIq25Z41y1ENWfTkXy5f+H5LwbmvLQjDHGNPSfv1SM+FnB6qt0ODPBftRnPRCCEwlNAwYhedho2H78CM7Vi4L98HHP4/GgoKAAHo9H61LiEuevLc4/vN7arOLsdAH9M058jl+Tj8I6EUveDZCrylD9+cuQUtJhPLN3KJ6GMcZYiPxlJ/xUQnjnAqnePxP0EVYdUmQcfPtx+PZuQ4v7CqFv1b4pT8MYYyyMHlmlYHqxin036mDWCyf8rA/ZtbAESYe0Wx6DrlkGDr79OBTboVA9VVxxu90YN24c3G631qXEJc5fW5x/eHhkwowtKsZ0EWHW13+JqpBeTFFMNCHttn+BVAUHZ0yG6uW5ZVOJooisrKzAtWhYeHH+2uL8w2P2bsJBD3Bn95PnHLIR1pF8pTtR+e9/IqHzWUgb+wQEsf6ZGmOMMW3lfCvDogcWXP6/r8nDOsI6kiGrE5rf/Ag8m1eh5uu3+ByRJnC5XMjPz4fL5dK6lLjE+WuL8w+9NZWEFRWEu06x+gDCeD+QxO4DkDrqbjiX/geOX78O19PGHEmSkJubC0niVZwWOH9tcf6hN32TgrYm4Ip2p749R1hGWEey/uc92BfPRvMxjyKp9/lNeWrGGGNBVOUhZH0m4/G+Ih7pe3ST1myEdaTk4WOQ2OdCHPrkRXh3bwr300c9p9OJIUOGwOl0al1KXOL8tcX5h9b721SoBIzLPr3WEPYGIogimt9wPwxtz0TVzCchV+4PdwlRTa/XIz8/H3q9XutS4hLnry3OP3RUIry5ScXfOwpokXh6d5cN+wirjuK0ofKViQARMu57GZI5pSllMMYYa4If96oYPl9B0QgJOS2PX1tExAirjmRKRvrtT0P1OFH17pMgv0+rUqKK0+lEbm4uL+E1wvlri/MPnembVPRLBwa2OL3VB6BhAwEAXXprpI17Er7SHTj06UsgvkTzKRkMBhQUFMBgMGhdSlzi/LXF+YfGTlvtda/u6i4ddcfBU9FshHUk95/LUPX+0zBfcg1SR4xrSjmMMcYa6J+/K3hvm4rSG3RI0p24gUTUCOtIiWedh5SRt8GxeA4cS7/XupyI5nA40KNHDzgcDq1LiUucv7Y4/+BzyYT3tqm4tYtYb/OoT0gu594Ylov/BuVQGWq+egNSswwk9hiodUkRyWg0orCwEEajUetS4hLnry3OP/i+2Emo8QJ3nMaZ58eKiBFWHVIVVL33NLzb1iHjnpdgaHtmkx6PMcZY/YgIZ8+V0TJRwI9DT76eiNgRVh1BlND8/x6CrlU7HJzxBORD5VqXFHHsdjuysrJgt9u1LiUucf7a4vyDa0UFYe1BnNZ1r04kohoIAIgGI9LHPwlBn4CD7zwB1cWzziMlJiZi9uzZSExM1LqUuMT5a4vzD67pm1ScYQGGZjXsu486EddAAECyNEP6bf+CYqtC1ftPg2S/1iVFDJ1Oh9zcXOh0EfP1VVzh/LXF+QdPhZswaxfhjm4iJDGGGggA6Fu2RfrYyfDuKkb1l6/yJeAPs9lsSE5Ohs1m07qUuMT5a4vzD563NquQBODWro1vAxHbQAAgoVMvNL+hAK5VC2Gb94nW5UQEk8mEoqIimEwmrUuJS5y/tjj/4PDIhOmbam9Zm2Zs3OoDiKDDeOuT1P8SyIfKYfvhA+iat4RpYJ7WJWlKkiT06NFD6zLiFuevLc4/OD7bSahwA/f1bNoaIqJXIHUsg66FKWcoqr98FZ5t67QuR1M2mw2CIPASXiOcv7Y4/6YjIhRuUHBlOwFdUhu/+gCipIEIgoDU/LuR0KUPqt77F/wH9mhdkmbMZjNKSkpgNpu1LiUucf7a4vybbsE+QnE1UNCr6R//UdFAAECQdEgb8yh0zVvh4NuPQ7FWaV2SJgRBQHJycoMueMaCh/PXFuffdIUbVPRNAy5q3fQMo6aBAIBoTELabU8CRDg44wmoXrfWJYWd3W5HSkoKn0ilEc5fW5x/02w8RJhfSijo1bCr7tYnqhoIAOhSM5B2+1OQKw/g0IfPghRF65LCymKxwGq1wmKxaF1KXOL8tcX5N80rGxW0SQL+3jE4K7ioayAAYGjTEWm3PArPljWo+eqNuDpHhIhgs9niap8jCeevLc6/8cpdhE92ECb0EGGQ4riBAIAxuz+a/X0CnMt/gGPxHK3LCRuHw4G2bdvy5aw1wvlri/NvvDcPnzh4W7fgfexH/HkgJ2PKGQq5qgzW/7wLqVkLJPW7SOuSQi45OZl/+9IQ568tzr9x3DLhjU219/xolhC8AxCidgVSJ/nym5HU/xIc+mwqvLs2al1OyCmKguLiYihx9t1PpOD8tcX5N86nOwgHPcC9TTxx8FhR30AEQUCz6ycioUM3VM18Ev6KUq1LCimn04nc3Fw4nU6tS4lLnL+2OP+GqztxcGR7AZ1Tgnv4c9Q3EAAQdAak3fo4REszHHxjEuSD+7UuKWTqLiTX1Jt3scbh/LXF+Tfc/FLC5prgnDh4rJhoIAAgJlmQcedzEPQJqHz9QciVsdlEZFlGUVERZFnWupS4xPlri/NvuMINKs5OF3B+q+CffBkzDQQApJQ0ZNz9IgSDEZWvPwh/5T6tSwo6t9uN/Px8uN3xdxJlJOD8tcX5N8yGQ4QF+wgFvcSQnL0fUfdEDxbFWoXK6ZOgel3IuOsF6FtkaV0SY4yF3a1LZCzYR9h1nQ76Rt40qk7E3xM9WGpXIi9ANJpqVyLlJVqXFDSyLGP+/Pm8hNcI568tzv/0lbkInx4+cbCpzaM+MdlAAEBKbl7bRJLMqJz+UMw0EY/Hg4KCAng8Hq1LiUucv7Y4/9P38gYVRgkYnx26j/mYHGEdSbFX146zXDZk3PUi9C3bal0SY4yFVLWX0O5zGXd3F/HcOVJQHjNuRlhHkizNkHHXCxBNKbXjrLK9WpfUJH6/H7Nnz4bf79e6lLjE+WuL8z8904tVyGrT7zh4KjHfQABAsqQi467nIZnrmshfWpfUaD6fD4WFhfD5fFqXEpc4f21x/qfm9BNe2ahibFcRLZNCe9+UmB9hHUlx1ODg9ElQ7DXIuOt56Ft30LokxhgLqlc3Krj/dxU7rtWhgyV4DSQuR1hHksypSL/rBUjJzWq/WD+wR+uSGszn82HmzJn8G5hGOH9tcf4n51MIU/9UcWNnIajNoz5x1UAAQDKn1DaRlHRUvv4Q/Pt3a11Sg/AMWFucv7Y4/5P7ZAeh1Ak81Ds4X5yfSlyNsI6kOG04+ObDUKoPIv2u52Bo01HrkhhjrNEUldBttoyezQV8PTj4d+qI+xHWkSRTMjLueB5Ss3QcnD4Jvn27tC7ptHi9XhQWFsLr9WpdSlzi/LXF+dfv6z2E7Tbg4T7h+1iP2wYCAKLJUttEmrfEwekPwVe6U+uSTklRFBQVFfH9EDTC+WuL8z8xIsKz6xUMyhQwICN8H+txO8I6kuqyo/LNR6BUlSH9zudgyOqsdUmMMXba5pWoGDZPwaLLJVyaGZoGwiOseohJFmTc8Ryk9NaofGMSfCXbtS6pXl6vF1OmTOElvEY4f21x/if27HoVA1sIuKRN6I+8OpII1F5f5qqrrkKXLl3Qu3dvDB48GDt27AhrIVoTk8zI+Mez0KVnovKNhyO2iaiqitLSUqiqqnUpcYnz1xbnf7ylZSp+KyM83Ds0l2w/GYGIyOPxYPHixRg2bBgEQcDrr7+OOXPm4Ndffz3lA8TCCOtIqtuJg289Cn9FKTLueBaGdl20Lokxxuo1fJ6MPXbChlE6iCFsIPWOsIxGIy6//PJA98rJycGePXtCVkgkExNNSP/HM9C3yKpdiezdqnVJR+GrkWqL89cW53+09VWEH0sID/eRQto86nPC70BeffVVjBw58oR/wev1wmazHfUDIHCHMI/HE3hx3W53YFbpcrkC206nM3AmqdPpDJwU5HA4Atf5t9vtgW2bzRY46sJms0FVVRARbDYbiAiqqgbqUBQlsC3LMux2e2Db4XAAqD0Zyel0Aqg9s7Vu2+v1wuVyQUw0wXLrZEiHm4h96/qI2qe652nIPtVtx9LrxPsUn/tUN76KpX1q7Ov0r1UedDAD+R3UsO3TUegYzzzzDOXk5JDT6Tz2PxER0eTJkwnAcT+jR48mIqKJEyfSxIkTiYho7NixNHnyZCIiGjVqFE2bNo2IiPLy8mjGjBlERJSTk0OzZs0iIqLu3bvTvHnziIgoMzOTli9fTkREFouFNm7cSIePGKOSkhKyWq0EgKxWK5WUlFDdrmzcuJEsFgsRES1fvpwyMzOJiGjevHnUvXt3IiKaNWsW5eTkEBHRjBkzKC8vj4iIpk2bRqNGjQrs5x1jb6HyV++nXfcOpdfuGxcT+zR27NiYe514n3if4nGfft28n/CWm6YXy2HZp0mTJgWeu85RDeSll16i/v37U3V1NdXH4/GQ1WoN/NS9MGVlZURE5Ha7ye12ExGRy+Uij8dDREROpzOw7XA4yOv1BrZ9Ph8REdntdvL7/UREZLPZAttWq5VkWQ5sK4pCqqqS1WolVVVJUZTATsmyHNj2+/1ks9kC23a7nYiIfD4fORwOIiLyer2BbY/HE2icHo+HXC4XqV4Plb/9BJVMHEaOonma75PNZqPRo0eTy+Vq9D7F4usUrn1yOBx06623UllZWczsUzS9ThUVFXTLLbeQy+WKmX1q7Ot0/SI/ZX7sIbdfDcs+VVRU1N9Apk2bRv369aNDhw5RQxzZEWOVqsh06MtXqeTeIWSd/xmpqqpZLR6PhyZPnhx4U7Lw4vy1xfnXKj6kkvCOj94olsP2nCf6rBeIiEpLS9G2bVt07NgRFosFAJCQkIAVK1YcP/M6RqwdhVUfIoJ9/mewzfsYpvOvROrV/4AghueCZYwxdqTrFskoqiBs+7sOCVJ4vjyv9yisrKwsEBF27tyJ9evXY/369afVPOKJIAhIHnojUq+9F85lP+DQh8+B/OG/pLTL5UJ+fn7gSy8WXpy/tjh/YOMhwqxdhEf7SGFrHvXhM9EbyJw7DGljH4d700pUvvUoVJcjrM8vSRJyc3MhSbz60QLnry3OH3hyrYJ2ZmBMF22bB8DXwmo07+5NODjjCUgp6ci4/WlIqelal8QYi3F/VhF6fy1j5gUSxmaH9/d/vhZWECWc0R0tJhSC3E5UvDIR/rK9YXlep9OJIUOGBI7hZuHF+Wsr3vOfslZBRwvwfxGw+gC4gTSJvlU7ZNxXCCHRhIrXCuDdvSn0z6nXIz8/H3q9PuTPxY7H+WsrnvNfd5DwzR7C4/0k6MXIaCA8wgoC1WXHwZlPwl+yHc1vfhiJPXO0LokxFmNG/ixjUzVhc74OOg0aCI+wQqT2cvDPwtjtbFS9+xScRT+F7LmcTidyc3PjdgmvNc5fW/Ga/5pKwnd/EZ7oJ2nSPOrDDSRIBL0Bzcc8AtO5l6P6y1dhm/8pmri4OyGDwYCCggIYDIagPzY7Nc5fW/Ga/+Q1CrqkANd3ipzmAfAIK+iICPYFX8D244cwnTscqaPu5BMOGWONtrJCxcBvFXxyiYQbO2v3Oz+PsMJAEAQk512PZtfdB+fvP6Hq/WdAvuDdPc3hcKBHjx6BK2yy8OL8tRWP+U9ZqyI7FbiuY2StPgBuICFjyhmKtLGT4d2yBpVvPQLVZQ/K4xqNRhQWFsJoNAbl8VjDcP7airf8i8pV/FRCmNxPghRB333U4RFWiHn3bEbVO09ATG6G9PFPQZfWSuuSGGNRYsiPMva5CH9crdO8gfAISwMJHboh495CkOxHReEEeLb/0aTHs9vtyMrKCtwwhoUX56+teMr/l/0qft5HmBKhqw+AG0hY6Fu2RcuJr0Gf2QkH33wYjt++a/QRWomJiZg9ezYSExODXCU7HZy/tuIlf5UID65QcU6GgGvOiMzmAfAIK6xIUWD9dgYc/50LU+4wpF5zJwRd/J1Ryxg7uS93qrhusYJfr5BwUevI+D2fR1gaEyQJqVf/A82uL4Bz5UJUvjEJir2mQY9hs9mQnJwcuP8xCy/OX1vxkL9PITyySsHwtkLENI/6RHZ1Mco0MA8Zd78AuXI/KqbdA1/pjtP/uyYTioqKYDKZQlghqw/nr614yP/tzSr2OIDnz4n888d4hKUhuaYSVe8+BblsL5rdcD+S+l6odUmMMQ3ZfIROX8q4sp2A9y7SaV3OUXiEFWF0qRlocc9UGM86F4c+fBbWHz4AqepJ/47NZoMgCDG9hI9knL+2Yj3/l/5U4fADT/WP/NUHAERWi4tDgiEBzW96EI42HWH9/j34D+xB85segGg88RLdbDajpKQEZrM5vIUyAJy/1mI5/wMuQuEGFff2FJFljtwjr47EK5AIIAgCLJflI238k/Du+BMVr0yEfHB/vX82OTkZghAdb7BYw/lrK5bzn7JGhVECJvWOno/l6Kk0DiR2PwctJr4KKArKCyfAs3XtcX/GbrcjJSUlLk6kikScv7ZiNf/N1YSZW1U82kdEakL0NEduIBFG37ItWkx8BYZ2XXHw7cdgXzL3qJMOLRYLrFYrLBaLhlXGL85fW7Ga/8OrFLQzAXf1iK6P5OiqNk6ISRak3/YUzBf9DdZv3kL1Fy+DZB+A2svF22y2kNxrhJ0a56+tWMx/WZmKb/8iPD1AQoIUPasPgBtIxBJECakjx6PZDf+Ea80vqHz9ISi2Q3A4HGjbtm1cXc46knD+2oq1/IkID6xQ0Tct8m4WdTq4gUQ40zmD0OKeqZAPlaOicAKM1nIQEZ9zo5Hk5GTOX0Oxlv/cPYSiCsIL50gQo/DAAG4gUcDQvita3v9viMlpqHj1fmz79mMoiqJ1WXFJURQUFxdz/hqJpfxllfDwKgWDMwUMzorOj+LorDoOSSlpaHHPS9D3zEHSL5/i4Kx/g/w+rcuKO06nE7m5uXA6nVqXEpdiKf93t6rYagVeiIJLltSHL2USZYgIzmXfo2buO9C3aofmNz8CfUam1mUxxhrA6Sd0/lLGZZkCPrkkOs7n5kuZxABFUbBBSkfaPdNAXg8qpt4N15pftC4rbsiyjKKiIsiyrHUpcSlW8i/coOKQF3j67OhdfQDcQKKO2+1Gfn4+5Oat0eL+fyOxZw4OffwCqr94BarPo3V5Ma8uf7fbrXUpcSkW8t/vJLz4p4q7uovoYIm+L86PxCOsKEdEcK1cgJo50yGltULamEegb9Ve67IYY/W46RcZP5cStv1dF1VnnfMIKwbIsoz58+cHlvCCIMA0MA8tCl4FAFRMmwDnip9j6kSrSHJs/iy8oj3/pWUqPt1BeG6AFFXNoz7cQKKMx+NBQUEBPJ6jx1X61h3QouBVJPW/BNWfF6L605egelwaVRm76sufhUc056+ohHuWKxiQIeCWrtHfPAAeYcUk15pfUD3rNUjJzdH85kdgyOqkdUmMxb03Nym4c5mK30dKGNgi+n535xFWDPD7/Zg9ezb8fn+9fyap/yVo8c/XIRiMqHjlPjiWfs8jrSA5nfxZ6ERr/lUewmOrVdzSRYjK5lGf2NmTOOHz+VBYWAif7+QnEeozMtHivpdhyh2Gmjmv49AHz0B1xcb1g7R0uvmz0IjW/B9frUJWgecGRPdhu8fiEVYccP2xFNWfvwzRZEHazQ/D0K6r1iUxFjfWVxH6fyNj6kARE3tFbwPhEVYM8Pl8mDlzZoN+A0vqfT5aPjAdoikFFa/eD/uvX/NIq5Eakz8LnmjLn4hwzzIF2SnA3VF2r4/TEXt7FOMaOwPWpbVCiwlTYb5wJKxz30HVzClQnLYQVRm7onUGHyuiLf/PdhKWlhNeO1eCXoyNI6+OxCOsOOQuXoHqT6cCegOaXXsfErsP0LokxmKO3UfoOlvGuS0FzBkUHde7OhkeYcUAr9eLwsJCeL3eRj9GYo+BaPHgG9C37oCqdx7HoS9ehuqJ/qubhkMw8meNF035P71ORY0XmDYwer/3OBVuIFFGURQUFRU1+X4IutQMpN/+NFKvvRfudf9F+Qt3wLNtXZCqjF3Byp81TrTkv62G8PJGFZP6iGgf5de7OhkeYTHIVWWo/uJleLf/AdN5VyBlxFiICYlal8VYVCIiDJ+vYHM1YVO+Dom62GggPMKKAV6vF1OmTAnqEl6X1grpdzyH1GvuhGvVApS/eCe8OzcE7fFjSSjyZ6cvGvL/fi/hpxLCy7lSzDSP+nADiTKqqqK0tBSqqgb1cQVRhPmCEWj5wJuQUpqj8vUHUfPN23yJ+GOEKn92eiI9f49MuK+o9ja1I9vHdvMAeITFToBUBY7/fgvrDx9Al5qBZjfcj4QzumtdFmMR75l1CqasUbFhlA7ZqbHVQHiEFQPCcTVSQZRgufhqtPzndIhJFlS+9k/UfPcu34Md0X012FgQyfnvsBKeXqfivl5izDWP+nADYfXSt2yLjAnTkDz8ZjiWzEX5tLvh27tN67IYizhEhNt+U9A6CZjSL34+VnmExU6L/8AeHPp0Kvz7d8Ey6Fok590AQafXuizGIsJ7W1WM/a+Cn4dJGJwVmw2ER1gxwO12Y9y4cWG/J7S+dQe0mPgKkvNuhH3hLFQU3gvfvl1hrSESaJU/qxWJ+Ze5CPf/ruDmM4WYbR71ia+9jQGiKCIrKwuiGP6XTpB0SB56Y+3tc0lFReEE2H7+DKRE5+1FG0PL/Flk5j9huQK9CEzLid0zzuvDIyzWKCT7YZv/KeyLZkGf2QnNb7gf+tYdtC6LsbD6do+KqxYo+PxSCdd1ipymFgo8wooBLpcL+fn5cLm0vd+5oNMjZfgYtLjvZZDPi/KX7kLNd+9C9UbOaCEUIiX/eBVJ+Vt9hDuXKRjeVsC1HePjqKtjcQOJMpIkITc3F5IUGctlQ7uuaPnA60geehMcv32L8udug/uPpTF7v5FIyz/eRFL+D69UYfMDb5wvQRDis4HwCIsFjVxVhpqv34SneAUSss9Gs2vuhC6jjdZlMRZ0S8tUXPAfBf8+V8TdPbRvZuHAI6wY4HQ6MWTIEDidkXf5dV1aK6SPfxJp4yZDLt+Lshduh/Wnj0G+yL1uUUNFcv7xIBLy98iE8b8pyG0h4I5u8f0RGv13OYkzer0e+fn50Osj9xyMxJ65SOjSF/YFX8C+8Eu4Vi9G6jV3ILH7OVqX1mTRkH8si4T8n12vYqcNWPc3CVIM3mWwIXiExULKX16Cmq/egHfbOhjPOhepf/sHdM1aaF0WY42y4RCh39cyHu0rYkr/+Bhd1eERVgxwOp3Izc2NmhGKvmVbpN/xLJrf/Ah8f21F+XPjYVv4JUiOjntaHyva8o81WuavqLWjqy4pwMN9+KMT4BFW1DEYDCgoKIDBYNC6lNMmCAKS+l4IY7ezYZv3CWw/fgjXyoVIzb8bxjN7a11eg0Rj/rFEy/xf36RiZQVh2QgJCVJ8j67q8AiLhZ1//25Uz3kdvl3FSOx3MVJHjoeUkqZ1WYzVa4+d0HOOjFu6iPj3efE1uqrDI6wY4HA40KNHDzgcDq1LaTR9mzOQcc9UNLvhfni3rUPZs+NhXzIXFOH3uQZiI/9opkX+RIR/LFXQLAF4dgB/ZB6J04gyRqMRhYWFMBqNWpfSJIIgwHTOYLR6ZCaSzr4U1rlvo2LaPfDu3qR1aScVK/lHKy3y/3A7YX4p4c3zJFgMPLo6Eo+wWETw7d2G6jmvw793G5IG5iHlyrGQzClal8Xi3G4boffXMq7uIOCDi+P7K2MeYcUAu92OrKws2O12rUsJKkO7Lmhx38tIzb8H7g3LUf7sODiW/wiKsHtfx2r+0SKc+SsqYfSvCtISgNfOjc/vPU6FG0iUSUxMxOzZs5GYmKh1KUEniBLM5w1Hq0dmwtgzFzWzXkNF4QR4tq3TurSAWM4/GoQz/xf/VLG8nPDRxRKSeXR1QjzCYhHLu3sTrN/OgG/PZiRk90fKlWNhyOyodVksDqw9SBg4V8YDvUU8O4BXHwCPsGKCzWZDcnIybDab1qWEXMIZ3ZFxbyHSbnkMSlUZKqbehUOfToVcXaFZTfGUfyQKR/4umXDjLzLOSouv+5s3Rnx/KxSFTCYTioqKYDKZtC4lLARBQGLv82HsmQNn0TzY5n0C17olMF84EsmDroWYZAlrPfGWf6QJR/4PrVCxxw6s/ZsOBj5h8KR4hMWiiupxwf7LV3D88hWg0yF58PUwn38lBD2fGc6abn6JiqHzFLyWK+Kenjy6OhKPsGKAzWaDIAhxO0IRjUlIGTYarR57D0l9LoL1P++i7NlxcK5eFJYjtuI9f62FMv+DHsKYJQryMgXc1YM/Gk8HpxRlzGYzSkpKYDabtS5FU1JyczT7+z1o+dDb0LftjOpPXkKwYeB3AAAgAElEQVTFtHvg2bo2pM/L+WsrVPkTEW7/TYFPBd6/SIIYp3cYbChuIFFGEAQkJyfH7S00j6Vv2Rbptz6BjHsLIRgScPDNR1D55iPwle4IyfNx/toKVf4fbid8vYfw9vkS2pj4tT1d3ECijN1uR0pKCp/IdoyEM7ojY8I0pN36BJTqClRMvRuHPnkR8qHyoD4P56+tUOS/20aYsFzBzWcKGNWRPxIbgr9EjzJEBLvdDovFwr8F14MUBc7fa4/YUl0OmC8cgeRB10E0Nf2ILc5fW8HOX1EJF32vYJ+T8Mc1Oj5h8CT4S/QYQESw2WxoYt+PaYJ0+Iz2x95D8uDr4Fz2Aw48fQvsi2ZD9Xqa9Nicv7aCnf8Lf/DZ5k3BK5Aow3k3nGKvhm3+p3Au/wlikhmWS0fBdN4VEBMafjkMzl9bwcx/TSUh51sZ/zxLxHPn8CG7p3Ki7LmBsLghV5XBvvBLOFf8DDHRDPMlV8N8/pUQjUlal8bCzO4jDJgrI0kH/D6STxg8HTzCigGKoqC4uBhKFNx8KdLo0lqh2bX3otVj7yGx9/mw/fQxyp66GbYFX0D1nN49tjl/bQUjfyLCbUsV7HMBn1/KzaMpeAUSZWw2G7KyslBaWsp5N5FcXQn7oi/hLJoPISEBlov+BvOFV0FMrP8yGZy/toKR/5ubFNy5TMUXl0q4thP/Dn26eITF2AnINZWwL5oNZ9FPEPQJsFx0VW0jSeKTBWPNmkrCud/JGJctYnqc3tu8sU46wpowYQI6dOgAQRCwfv16zYpkJyfLMoqKiiDLstalxAxdagaaXXMnWj/+AUwDBsG2aBYOPHUzrD99DNV19PkGnL+2mpJ/jZeQv0hGr+YCCnN45REMgRRHjRqFpUuXon379lrWw07B7XYjPz8fbrdb61JijpSShtSr/4HWj70P08A8OBbPwYEnb4b1hw+gOGuvvcT5a6ux+RMRblmioNoLzL5MQgJ/7xEUx42wOnTogLlz56JPnz6n9QA8wmKxSrFXw754DpzLvgcEEeYLRsB88dV8r/YoVPingvtXqPg2T8KI9rz6aIygHIXl9Xphs9mO+gEQ+I3A4/HA4/EE/p3X6wUAuFyuwLbT6YTP5wts+/1+AIDD4QgsTe12e2DbZrMFjrqw2WxQVfWoE4pUVQ3UoShKYFuW5cAlD2RZhsPhAAD4/X44nbVH3fh8vsC21+uFy+UKbEfiPnk8HnzzzTeQZTlm9ilSXyfJ0gziJdci45H3YDrvCtj/OxdlT92M9S9PwsGdW6Jyn6L9daqpqcGPP/4YqOV09mlZmYqHVqq4p6sfI9qLEbdP0fY6HYWO0b59e1q3bt2x/zpg8uTJBOC4n9GjRxMR0cSJE2nixIlERDR27FiaPHkyERGNGjWKpk2bRkREeXl5NGPGDCIiysnJoVmzZhERUffu3WnevHlERJSZmUnLly8nIiKLxUIbN26kw6slKikpIavVSgDIarVSSUkJ1e3Kxo0byWKxEBHR8uXLKTMzk4iI5s2bR927dyciolmzZlFOTg4REc2YMYPy8vKIiGjatGk0atSowH6OHTs24vZp4cKFpNPpyG63x8w+Rcvr1Myop50fTaPiOwbRnnvy6MA7k6lk5ZKo3qdoe52ys7OpXbt2ZLfbT2+fzGmU+bGHBsx2ECRdRO5TtLxOkyZNCjx3nQY3EI/HQ1arNfBTtxNlZWVEROR2u8ntdhMRkcvlIo/HQ0RETqczsO1wOMjr9Qa2fT4fERHZ7Xby+/1ERGSz2QLbVquVZFkObCuKQqqqktVqJVVVSVGUwE7JshzY9vv9ZLPZAtt2u52IiHw+HzkcDiIi8nq9gW2Px0NOpzOw7XK5eJ94n47bJ9ntosoFs2j/v26hknuH0P7C+8j153Ly+3xRu08x+TopCg36zk3pH/noL5scE/uk5etUUVFxXAPh70CijN/vx9y5c3HVVVdBr9drXU7cOTJ/nSTCs/F32H/5Cr7dm6DLyIT54qthGjAIgiFB61JjUkPe/8+sU/D4ahXzhknIy+LvPZrqpN+B3H777YETdIYMGYLOnTtrViirn8/nQ2FhYWCWysLryPwFUULiWeehxb2FyLjvZejbnIGaOdNx4Mn/g/Wnj6HYa7QuN+ac7vt/8T4VT6xR8VhfkZtHCPGJhIwFkXzwABxLvoFzxXyQqsI0YBDMF18Nfcu2WpcWN3bZCOfMldEvXcBPQyVIIh+yGwx8LawY4PP5MHPmTF6BaORU+evSWyP1mjvRevInSB5yI9zFv6P8ufE4OGMyvDv+5MvAN9Gp8rf7CCN/lpGaAHxxKTePUOMGEmX8fj9mz54dOASQhdfp5i+aLEgefB1aP/Ehml1fAPlQOSpffxAVhRPgWrsExBdjbJST5a8S4f9+VfCXA/guT4fmRm4eocYjLMbCgIjg3bIG9l++gnfbOkjNWsB84UgknTMYkon/vwmGyWsU/Gtt7cmCV/LJgkHHI6wY4PV6UVhYeOKTeljINTZ/QRBg7HY2Mu58Di0eeAMJnXrB+v0HODD5Rhz6dCq8ezbzeOs01Jf/nF0qnlqr4pkBIjePMOKko4yiKCgqKuL7UWgkGPkbMjui+U0PoPWTHyN56Gh4d21E5SsTUTH1bjiW/QDVy9fZqs+J8l9fRbh5iYLrOgmY1Js/0sKJR1iMaYxUFd6ta+FY9j08xSshGIxIGnApzOddAX3rDlqXF9Eq3bV3FkwzAr9dqUOSjr/3CBUeYcUAr9eLKVOm8AhLI6HIXxBFGLudjfRxU9DqiQ9gvmgk3H8uQ/kL/0DFa/fDtXoxSOaj7oCj8/cphFELFbgVYO5gbh5a0GldAGsYVVVRWloKVVW1LiUuhTp/XbMWSLn85tpDgDcsh3PZDzj0yYsQv3kbSQPzYD73cujSW4fkuaPBkfkXFKkoqiD8MlxCWzM3Dy3wCIuxCOcvL4Fz+Y9wrlwAcjuQkN0f5vOugLH7ORCk+LyrXt1taWdeIGFsNg9SwoFHWDHA4/GgoKAgcJllFl5a5K9v2Rapf7sdrZ/8BM2uL4DqcqDq3SdR9q+bYZv/KRRrVdhq0ZrH48HVj7+FCcsV3NND5OahMR5hMRYlRIMRpoF5MA3Mg69kO5zLfoB90SzY5n8GY/cBMA0YBGOPcyDoDFqXGjLrqoDvs25CXhvwbWkjAI+wGItiqssB15rFcK5cAH/JdohJFiT2uwimAYOhb9cFghA73w3sthFyv5PR3ixg8XAJJn3s7Fs04BFWDHC73Rg3bhzfk1sjkZa/mGSG+YIRaHn/v9HyobeQlDMU7g1FqHj5XpQ/dxtsC76AXF2pdZlNVuUhDJsnwyQROs97AKLMI9xIwCOsKCOKIrKysiCK3Pu1EMn561t3QOqIsUi5Ygy829bDuWoh7D9/DtuPHyLhzN5IGjAIiWedDzHBqHWpDeKWCVfOV3DIC/w6lDBra0pE5h+PeITFWAxTPU641y+Fc9VC+HZugGAwIrH3+Ug6ZzASOvWCEOEfxIpae67Hz/tqD9c9p0Vk1xvLeIQVA1wuF/Lz8+FyubQuJS5FW/6i0QRTzhC0uOcltHr8A1guzYd3dzEOTn8IZf8aA+sPH8BfUap1mSdERLi3SMV3ewlfXlrbPKIt/1jHI6woI0kScnNzIcXp8f9ai+b8dWmtkDz0RliG3ADf7k1wrVoIx2/fwb7gCxjaZyPpnMFI6nshxCSL1qUCAF78Q8X0TSreuUDCFYcvkBjN+cciHmExFsfI54V74+9wrVoIz5Y1gCghsedAJA0YBGN2fwi6k993PFQ+3aHipl8UPN5XxFNnc7OIBDzCigFOpxNDhgyB0+nUupS4FGv5C4YEJPW7COm3/wutn/wEKVeMgVxRiqqZU7D/8etx6NOpcBevAMnhu4HZwn0qblmi4JYuAp7sf/RHVKzlH+14hBVl9Ho98vPzoddr85thvIvl/KXk5rBccg0sl1wD3/5dcK//De71v8G1aiEEowmJvXKR2OcCGLv2C9nKZH0V4eoFCi5rI+DtC6TjzmOJ5fyjEY+wGGP1IiLIB/bAdbiZyBUlxzSTvkE7832PnXDudzJaJwFLrtDBzCcKRpQTfdZzA4kyTqcTgwYNwsKFC2EymbQuJ+7Ec/5EBLnsL7jW/ffoZtIzB4l9L2xSMylxEC76XoYoAEuv1KFV0ombRzznr7UTfdbzCCvKGAwGFBQUwGCI3esdRbJ4zl8QBOhbd0BK6w5IHja6tpnUjblWL4JgTEJiz8Mrk+x+p91MDrgIl/0gQyXg1yvqbx5AfOcfiXgFwhhrMv+BI8Zc5XsPN5McJPa58KTNpMJNuPh7GTY/8N8rdOiYzGOrSMUjrBjgcDgwcOBArFixAmazWety4g7nf2qBZvLHb5DLDjeTHgNh7JEDY3Z/iEm1uVV5CJf8IKPCXds8uqSeunlw/trhEVYMMBqNKCwshNEYXdczihWc/6nVjblSho2Gv+yv2qO5/lwO15pfAFFCQqeeoK4DMba8Pw6obfDr8NNrHgDnH2l4BcIYCwu5uhKe4hVwbPgdru1/wKD6oaRlIeWsgUjsMRCGM3rE7R0WowGvQGKA3W5Ht27dsHnzZlgskXHJiXjC+TeerlkGhIHD8ffqodhmcGNB1z+RWboSrtWL4fjlKwhJZhi7Dagdd2X3P+ElVTj/yMINJMokJiZi9uzZSExM1LqUuMT5N55bJoz4WcHag4QFV5jQq+V5AM4DqSr8pdvh3rgCnuIVOLTmF0AUkdCxJ4w9BsLYYyD0LbIAcP6RhkdYjLGQ8yqEq35WsOQAYd4wCRe2rv8qSnJNJTzFK+Ep/h2ebesB2Q9dRiaMPXNg7H4OEjr25FGXBvgorBhgs9mQlZWF0tJSzlsDnH/D+Q/f02N+KeH7IRIGZZ7+JfhUrwfe7evg2bgC7k0roNqqYfXKSDv7Ilh65cLYtS+klLQQVs/q8HcgMcBkMqGoqIjPwtUI598wHplw3WIFP5UQ5g5uWPMAADHBWHtyYs9cpKoqPHu3wfPfH4CKXaj+bCoAQNe6A4xd+sKY3R+GTj0hGvgIrXDhFQhjLCQc/tqx1bJywpxBEoa3C+7FvxVHDbzb1sOzZS2829ZCqTkISHokdOyBhK59YezaD/rMThF/18VowSOsGMB5a4vzPz3VXsLweQo2VNeOrS46yXceDVFf/kQEubwEnq1r4d26Ft4df4J8HoimFCR06QNj135I6NoPumYZQakjHnEDiQGqqmL//v1o06YNRP7NKuw4/1MrdxGG/CSjxAn8NDS49zE/3fxJ9sO3ZzM8W9fCs3Ut/CXbASLoWrSFsWtfJGT3R0KnXhCNSUGrLdZxA4kBRAS73Q6LxXLcvRJY6HH+J7fXQRj8owybD1hwuQ49mwc3o8bmrzht8G5fD+/WdfBsWQOlugIQJRjad0VC57OQ0LEnDB17QEzgw4Prww0kBnDe2uL867fdShj0owwRwMLhOnQKwYURg5E/EUE+uB/eLWvg3fEnvDs3QHVYAVGEPutMJHTuhYROvZDQsSfERD5Yog43kBjAvwFri/M/sT+rCHk/yWiWACwYpkOWOTTZhCL/uu9PvDs3/K+h2A4Bggh9ZsfaZnJ4lSKa4vfsdz6MNwYQEWw2G8xmM3+AaYDzP97v5SqGzVNwhgWYP0yHjMTQ5RKK/AVBgL5VO+hbtYP5vOGBFYrvcDNx/7EUjiXfAIfvh5LQqRcMhxuKZEkNSg3RilcgUYbz1hbnf7TF+1SM+FlBnzQB3w+RkJoQ2qaqRf5EBOVQ+eHVyUZ4d26AUnUAAKBr2e7wCqV27BXLJzXyCIsxFjRf71Zxwy8KLmol4OvBEkxxdA9zuboSvp0bAmMvuXIfAECXkQnDGT1gOKMbEjp0g65lWwhibFx2hRtIDFAUBVu2bEF2djYkvh5Q2HH+tb+RF25Q8cAKFfkdBXx0sYQEKTzNI1LzV6xVgdWJb/cm+A/sAUiFkJAEQ/uuMHTIhqFDNxjaZ0MyRefnJDeQGMDXYtJWvOcvq4R7lqt4a7OKh/uIePpsEWIYvwuKlvxVrxu+vdvg27P58M8WqE4rgMOrlA7dAj/6Vu2j4uKQ3EAYY41m9xGuXazg51LCW+dLGJfNJ1KeLiKCUnUAvj1b4D3cVPz7dwGqCsFgrF2ltD+8SumQDckceV/OcwOJAbIsY9WqVRgwYAB0Oj6ILtziNf9SB2H4fBl77MCcQRIGZ2nTPGIpf9Xngb9k+1FNRbVXAwCk9NZIODzy0rftAkObMyAYEjStlxtIDOA7smkrHvNfd5BwxXwZOhH4YUjwzy5viFjOv+5oL99fW+DbsxnePVvg37cTUGRAFKFr0RaGrM7QZ3Wq/Wdmp7Ce6MgNhDHWID/sVXHtIgXdUgV8N0RC66T4OdIqEpDfB/+BPfDt2wl/yQ749+2Eb/8uwO8DULtSMWR2gj6r8+Hm0jlk56bwiYQxQJZlLFq0CJdddlnUL+GjUTzlP71YwYQiFVe2E/DpJZFxmG485Q8Agt4AQ7suMLTrAuTW/jtSFMgVJfCV7oC/dCd8pTvgWTQL5HEBAMSUtMAKpW7FIjVrEZITX3kFEmUcDgcGDhyIFStWwGw2a11O3ImH/BWV8MAKFS9vVDGxp4iXBoqQRO2bBxAf+TcGqSqUQ2Xwle6Ev3RH4J+qowYAICZZoM86vFI5vGLRZWQ26F4pPMJijJ3UQQ/hhsUKFu0nvJYr4q4ekX94KTsxIoJqO3R4pfK/pqJUVwAABIMR+syO/xt/ZXaCvlU7CDr9CR+PR1gxwO/3Y+7cubjqqqug15/4hWahE8v5r6kkXLNQhlMGfh4m4bIG3n42HGI5/2ATBAFSShoSU9KQ2GNg4N8rThv8+/63UvFuXQvn0v8ARICkh751+8DoK6FTL+hbd6j/OXgFEl2cTicGDRqEhQsX8n25NRCr+b+3VcWdyxSc1VzAnEES2oXoarpNFav5a031uuHft6v2S/rDX9b7D+yBoNOjzfNfQRAlHmExxo7mVQgTlqt4Z4uK8dkCXsuVYNRFZvNg4UWyD+T1Bi5hf6LP+shbo7KT8vl8mDlzJnw+n9alxKVYyr/EQbjwPwo+3K5i5gUS3rlAF/HNI5byj3SCznDK+59wA4kyfr8fs2fPht/v17qUuBQr+S/ep6L/NzLK3ISlV0oYGyWXJYmV/GMFj7AYiyNEhKl/qpi0SsWlbQR8fqmEdGNkrzpYZOARVgzwer0oLCyE1+vVupS4FM35232Evy9S8OBKFQ/1FjFvaPQ1j2jOPxZxA4kyiqKgqKgIiqJoXUpcitb8V1ao6PuNjPmlhK8HSXh2gBQxJwc2RLTmH6t4hMVYDFNUwvN/qJi8RkW/9NpLkpyZEn2Ng2mPR1gxwOv1YsqUKbyE10g05f+XnXDJDwoeX61iUm8Ry0ZEf/OIpvzjAZ+JHmVUVUVpaSlUVdW6lLgULfl/sVPFP5YqSDEAv14h4cLWsfG7YrTkHy94hMVYDLH5CPcsV/DRdsK1HQW8db6E1IToXnWwyMAjrBjg8XhQUFAAj8ejdSlxKZLzLypX0edrGd/sIXx0sYTPL4295hHJ+ccjHmExFuVklfDsehVPrVVxToaAhZdL6JgcW42DRSYeYTEWxTYeIoz/TcHKSsLjfUU81leELgoPz2WRj0dYMcDtdmPcuHFwu91alxKXIiV/p5/w0AoFfb+WUeMj/PcKCVP6SzHfPCIlf1aLR1hRRhRFZGVlQWzAncRY8ERC/j/sVXHXMgXlbmBKfxH/PEtEghTbjaNOJOTP/odHWIxFiVIH4d4iBV/vIeRlCnjjfAmd+LsOFiY8wooBLpcL+fn5cLlcWpcSl7TIX1YJr2xQ0G2OjOXlhC8ulTBvWHw2D37/RxYeYUUZSZKQm5sLSeJ7VWsh3PmvqlRx+28K1lcBd3YX8cwAESmG+Gscdfj9H1l4hMVYBLL6CI+uUvHGJhW904C3z5dwTgseGDDt8AgrBjidTgwZMgROp1PrUuJSqPMnIny5U0X2LBkfbldRmCNi1VU6bh6H8fs/svAIK8ro9Xrk5+dDr9drXUpcCmX+O22Eu5YpmF9KuLqDgFdzJWSZ43dcdSL8/o8sPMJiTGM+hfDSnyqeXqeiZSLw+rkSrmjPKw4WWXiEFQOcTidyc3N5Ca+RYOe/5EDt9aumrFExoYeI4lE6bh4nwe//yMIjrChjMBhQUFAAg8GgdSlxKVj5V7oJD65U8ME2wrktBay9WkKv5jyuOhV+/0cWHmExFkY1XsK0DSpe2ahCLwIvniPh1q4CRIGbB4tsPMKKAQ6HAz169IDD4dC6lLjU2PztPsLTaxWc8YWMaX+quLObiG1/12FctsjNowH4/R9ZQj7Ccjgc2L9/f9TfQUwURaSmpiI9PV3T6/AYjUYUFhbCaDRqVkM8a2j+LpnwxiYVz69XYfcDd3QXMam3iFZJ3DQag9//kSWkI6zff/8dBQUF8Pl8TSoykvTv3x9PPPEEMjMztS6FRTCvQnhns4pn16s46AHGZYt4tI/Ih+WyqHWiz/qQrUAcDgcKCgpw9tlnY/z48VF/3LaiKCgtLcX06dNx/fXXY+HChZp8kWe329GtWzds3rwZFosl7M8f706Vv18lvL+V8K91Cva7gP87U8ATfSWcEYfXrQoFfv9HlpA1kP3798Pn82H8+PHo1atXqJ4mrHr06IGWLVti3Lhx2Lt3Lzp37hz2GhITEzF79mwkJiaG/blZ/fnLKuHTHYSn1irYbQeu6yRgcj8JXVO5cQQTv/8jS2CYv337dpx77rno0qULBgwYgOLi4iY9cN13HtG+8jhW3exVlmVNnl+n0yE3Nxc6HR+BrYVj81eJ8MVOFT3nyBizREGfNAF/XqPDZ5fquHmEAL//I0uggdx+++247bbbsG3bNjz00EMYM2aMhmWF1549e3DxxRcjJSUFffr00bqck7LZbEhOTobNZtO6lLhUl7/VasPcPbUnAV6/WEGnZAGrr9Lhq8E69OTzOUKG3/+RRQSAiooKrF69GjfddBMA4JprrkFJSQl27NihaXHhkpycjKeffhqfffaZ1qWckslkQlFREUwmk9alxKWkpCS8+OMfuGxRIv62QEELo4DlIyT8MFSH/hncOEKN3/+RRQSAkpIStG7dOrAsFAQB7dq1w969e4/7C16vFzab7agfAIF7FHs8Hng8HgC1VxatG2UpinJa23UHhZ1qm4iO2657zvq2X3zxRdx2221QVRWKoqCmpgbp6elQFAXnn3/+UXNVVVUDdR27XVeLy+WC1+sFUHuJhbqjzZxOJ/x+P4Dagwnqxl12uz2wbbPZArXZbLbA49pstkBuddkqihLYJiK0a9cOkiRBluXA8fB+vz9weQefzxfY9nq9gZvveL3eE75Obrc7sB9a7JMsy7Db7YHtSNwnWSV8usmBi34g3LE5CwZBweLLRfw8TESPREdU7lM0vk5utxtdu3aFJEkxs0/R9jodhYho9erV1KVLFzrSgAEDaNGiRXSsyZMnE4DjfkaPHk1ERBMnTqSJEyfS5s2bqUOHDrRkyRIiItqxYwf9vqOc1lSq9PXq3bRwWxWtqVRpzsqdtHhHNa2pVOnLom30624rralU6fNlW+i3vxy0plKlT34rpmUlLlpTqdLHSzbS7/u9tLLMTx8v2Ugry/z0+34vfbP0DyIicrlctGbNGiIistvttH79eiIiqqmpoWXLllFGRgbt2rWLNm3aRIWFhXTDDTfQ1q1biYjoq6++om7duhER0b59+2j37t1ERLR3717au3cvEREtXLiQOnfuTJs3b6ZRo0bRtGnTiIgoLy+PZsyYQUREOTk5NGvWLCIi6t69O82bN4+IiDIzM2n58uVERGSxWGjjxo10+DBqKikpIavVSgDIarVSSUkJHX55aOPGjWSxWIiIaMGCBYE/M2/ePOrevTsREc2aNYtycnKIiGjGjBmUl5dHRETTpk2jUaNGBV67sWPHHvU6ERGNHTuWJk+eTESkyT4tX76cMjMziYgibp/MLdvRxHn7qN1nPsI7Pur7uZXQfXBU71M0v07Z2dmBOmNln6LldZo0aVLgueuAiKi8vJwsFgv5/X4iIlJVlVq2bEnbt2+nY3k8HrJarYGfup0oKysjIiK3201ut5s2b95M/fr1o+LiYiIiKnP4SZxR+z9hKH6kGT6qdKukqirJshzYj2O377jjDpo6dSr5/X4688wzafXq1YE/s2jRIurduzcRESmKQoqiHLddXFxM/fr1o82bN5PT6SSPx0NERA6Hg7xeb2Db5/MRUW0Tq8vVZrMFtq1Wa+B5rVYrKYpCqqqS1WolVVVJUZTACyXLcmDb6/XS5s2bSVEU8vv9ZLfbiYjI5/ORw+EI/Jm6bY/HQ06nM7DtcrmOep2Iaptu3X5osU9+v59sNltgOxL2aXW5j8Yu8ZPxXS8lvOujMb/6acnu2n3du3cvVVdXR90+xcLrZLVaaffu3aQoSszsU7S8ThUVFcc1kMCJhBdffDHGjBmDMWPGYM6cOXj++eexevXq45csx6jvRMItW7bgpptuwieffILs7GwAwC4boSZE5xSmGoCOp3Gs/ZYtWzBixAi8+uqrePrpp7Fs2bLAf/v1119x3333Yf369Sf9+8fuVzgREex2OywWCwS+BEZQySph7h7Ca8UqfisjZJmAO7qJGJ8tIiOxNmvOX1ucv3ZOeiLh22+/jTFjxuDZZ59FcnIy3n///aAXcDof8KGWnZ2Njh074rbbbsOLL76odTkNZrfb+eKVQVbpJszYouLNzSpKncAFrQTMvkzCVR0E6MSj37Ocv7Y4/8gSaCBdu3ZFUVGRlrWEzfjx43H33Xdj1KhRAGq/6OrSpQu8Xi+sViuysrIwevRoPPfccxpXejyLxQKr1cpn4QbB2oOEfxcr+HwnQQBwY2cB9/SQ0Dut/k0l3uQAAAw5SURBVF90OH9tcf6RJS7Pxvnll19w5513Bk5yTEpKQmlpqcZVnR46fBSG2WzmJXwj+FXC17trx1TLywntzMCT/USMyxaRZjx1npy/tjj/yBJXDWT//v249NJL0bx5c8yfP1/rchrF4XCgbdu2vIRvoL0OwofbVLy1WcV+F3BxawFfD5JwZfvjx1Qnw/lri/OPLHHVQNq0aYMtW7ZoXUaTJCcnB85DYSdX6SbM3q3i8x2EpeWERAkYfaaIu3uIjb77H+evLc4/ssRVA4kFiqJgy5YtyM7OhiRJWpcTcew+wty/CJ/tULFgX+0HTV6WgI8uljCyvYBkQ9PGHpy/tjj/yMINJMo4nU7k5uaitLSUl/CHeWTCTyWEz3aq+H4vwaMA57cU8O9zRYw643+H4AYD568tzj+ycAOJMnwhuVqySvhlf23T+Ho3weYH+qQBT/UXcW0nEe1CdOMmzl9bnH9k4QYSZWRZxqpVqzBgwIC4u6Q1EeH3CsLnOwlf7lJR4QY6JwP39hRxfScR3ZqF/qiceM4/EnD+kYVfgSjjdruRn58fV3dk23CI8PlOFZ/vULHHAbRJAm7sJOKGzgL6pwthPZwzHvOPJJx/ZOEGAmDx4sWYNGkSHA4HBEHA8OHD8fzzz0MUxVP/5TCzWCxRc85KY8kqYXUlYX4pYc5uFRurgWYJwKgzBNzQScQFrQRIDTj0NpjiIf9IxvlHlsj7hNRAs2bN8MUXX2DTpk1Ys2YNli9fjo8++kjrsk5IlmXMnz9fszsihspf9trLiYxaKCPjYxm53yl4eaOKXs0FfJcnoexGHd65QIeL24iaNQ8gdvOPFpx/ZImrFcjUqVOxbds2vPPOOwCAmpoadO7cGdu2bUPz5s0B1N6ytk+fPtizZ4+GldbP4/GgoKAAK1asgNls1rqcRnP4Cb/ur11l/LxPxTYrIArAwAwB9/YUMSRLwICMhp3kFw6xkn+04vwjS1gbiHzwAFS3IySPLSaaoUtvfdI/M27cOHTp0gUvvvgiUlNT8f7772PkyJGB5gEAZWVlmDNnDr7//vuQ1NlUZrO5yfer14JKhHUHgfmlKn7eR1heTvCrQAczMCRLxHMDBFzaRkBqQmQ1jGNFa/6xgvOPLGFrIIrDirJnxgKkhuYJRBGtn/ockjml3j+SmpqKUaNG4b333sPEiRPx5ptv4ssvvwz8d5vNhiuvvBIPPvggzj777NDU2UR+vx9z587FVVddFbiWV6QqdRAW7KtdYSwoJVR5AbMeuLSNgJdzRORlieicjKi6plE05R+LOP/IErYGIplT0OrRd0O6AjlZ86gzYcIEjBgxAt26dUNGRgb69u0LoPYy0UOHDsXIkSNRUFAQkhqDwefzobCwEJdffnnE/Q/kkgn/PUD4+fBYqrgaEACcnSHgH91E5GUJyGkhwCBFT8M4ViTnHw84/8gS1hHWqUZM4XCi+4E4HA4MHToUQ4cOxWOPPaZxhSdnMpki5rL7NV7CqkrCykrCrwcIv5URvAqQZQLyMgU83lfEZZkC0k/jKrfRIpLyj0ecf2SJy6Owxo8fD1mWA/cDefXV/2/v7kKbSNc4gP9n2ny1SWO/0u1XWqht3Qrd2GiPeHP0ZhXOhSALqze9EAShXoke0a4ggrogCgt+gR7kiFeWFgTh3PRwLgoKPSg9QmvZbjFNYkvr7rFJ2uZjmnn2YtKkX0psOplp8vwgZJJMmNe/03ky77zM+wuGhobQ398Pl8sFl8uFa9euadzKjcViMTx69AixmEpTO35GNE4YmpVxZySOrv8sofWZhNInS/j+X3HcfCvDIAI/7xMx+kMhvCcK8Y+/FuLHJjGnigegXf5MwfnrS16Nwlq2dj6Qnp4e9PT0aNyq9EiShN7eXpw4cQJGo1GVbchE+DUADM0qZxdDHwnDfygXvY0i4CoX8H2tiJ/2COisFNBsB8RtdB0jE9nIn30e568veVVAcmE+kOLi4i1v+/QirSoW//1ICCR+4LXagc5KAV3NIjorBXxXLsC0ja9hZEqN/Fn6OH99yasCkgvzgUSjUdy9exfd3d0wmUxf9V1JJvwWAEbnCKOflLOKoY8E/4Ly+TcW4C8OAX9vF9HpELC3Qv/DarMtk/xZ5jh/fcmrApIL4vE4Xr16hdOnT392nWhc6YIa/UTJYjH6SXlvKTEXT5kJaC9Tbg3S6VC6ouqKt9eQWi2kkz9TD+evL6oVkOX7SEmSpNYmNBGJRABAszuBFhUVobe3F4AybHZsbn2hmAgBcqJQfGMB2koFHKoR0b0baNshoK1UQKWZi8VmrMyfZR/nry+qHQVrampgNBrx8OFDnDp1atuP2Y7H4/D7/bhz5w6KiorgdDpV3yYR4WME8IQIk/PA5DxhYi6Of/9vAlJFEybnBSxP7llXrBSHvzlFtJUKaNsBfLtDQFmOjYLSWjQaxY0bN3Dx4kXuQtEA568vqhUQq9WK27dv4+zZs3j58qVam8k6t9uNBw8ebMkIEJkI04tKYfCElOfJEOCZp+RyOJ5a32oAGoqBSHgRPzgJ7ZWF+DZRKDKdqpWlR5Zl+P1+yLJKd1RgX8T564tAGc5QHwwGYbfbEQgENpxicn5+HlNTU9v+P1wURZSWlqK8vDyt27xLMuH3CDAbBmbCqUIxGSJ4EmcTvnkgtiKWMhPQYAUarAIabQIarEg8K8ulJu52YoxpY6Njveod+VarFS0tLWpvJisWJOXgPxuWMRMGZiPAzCIpz2FKFovZMPBHdP33HRagMVEM3BXiumJhS+MsIhKJ4NKlS7h+/TrMZrMK/0r2JZy/tjh/fcmbUVhEhIUlIBgDAjEgEFPm0Q7Elt8jBKTU8vJngRjwe4QwEwYW10xBIACoMANVFsBhEVBdBHxXLiqvzQKqLEBVUWrZXMhnD4yx3KF6F1ZcJsRkQJKV7ppYPLWceo9Wvxdf/bmUWGf9e2vXIyysOPAHJVqxnBqZtBGrAbAbgRIDYDcKK5aBCrMAhwWosqx4NivFQ8vJjRhjLFtU6cJarj+7/vl/xM0SpDXFYquIgnIbDYMIGAoAo5BYTjyMBYBBFFBUqBz4aw1Am02AzQCUGJWHrVApDDYjUGJIfWYzbKIQLAEL6txY+IvC4TDOnz+PmzdvwmKxZL8BeY7z1xbnr51gMAggdcwHtuAMxO/3o76+PrOWMcYY2xZ8Ph/q6uoAbEEBkWUZU1NTsNlsPEIoC4LBIOrr6+Hz+TbsMmTq4vy1xflrh4gQCoVQU1OTHImacReWKIrJasSyp6SkhP+ANMT5a4vz14bdvnrSvrycD4QxxljmuIAwxhjblIIrV65c0boR7OsUFBTg4MGDmt3QMd9x/tri/PUj44vojDHG8hN3YTHGGNsULiCMMcY2hQsIY4yxTeEComPj4+M4cOAAWlpasG/fPoyMjGy4nsfjQUFBAVwuV/IxMTGR5dbmlnSzf/HiBXbt2oXm5mYcO3YsebsHlpl08uf9XgeI6dahQ4fo8ePHRETU29tLe/fu3XC99+/fk91uz2LLcl862YdCIXI4HPTu3TsiIuru7qZz585ls5k5K538eb/XHhcQnZqZmSGbzUaSJBERkSzLVFVVRePj4+vW5T+krZVu9s+ePaPDhw8nX4+MjFBtbW1W25qL0s2f93vtcReWTvl8PlRXVyfHuguCAKfTCa/Xu+H6CwsLcLvd6OjowNWrVxGPb+GtkPNMutl7vV40NDQkXzc2NmJ6ehpLS2smjmFf5Wv2fd7vtcUFJAdUV1fjw4cPeP36NQYGBjA4OIhbt25p3SzGVMX7vfa4gOjIkydPkhcDBwYGVv2aJSJ4vV44nc513zOZTHA4HACAsrIynDx5EoODg1ltey6pr69PK3un04nJycnka4/Hs+qXM9ucdPPn/V57XEB0pKurC8PDwxgeHsaFCxfQ0dGBp0+fAgD6+vpQV1eHnTt3rvve7OwsJEkCAESjUfT392PPnj1ZbXsucTgcaWV/5MgRvHnzBmNjYwCAe/fu4fjx41lvb65JN3/e73VA42sw7AvGxsZo//791NzcTG63m96+fZv87PLly3T//n0iIurr66Pdu3dTe3s7tbW10ZkzZygSiWjV7JzwuexX5k5E9Pz5c2ptbaWmpiY6evQozc3NadXknJJO/rzfa4/vhcUYY2xTuAuLMcbYpvwJYVowBjrVwVkAAAAASUVORK5CYII=\" />"
      ]
     },
     "execution_count": 127,
     "metadata": {},
     "output_type": "execute_result"
    }
   ],
   "source": [
    "plot!(x->exp(-x), -1, 1)"
   ]
  },
  {
   "cell_type": "code",
   "execution_count": 128,
   "metadata": {},
   "outputs": [
    {
     "data": {
      "text/html": [
       "<img src=\"data:image/png;base64,iVBORw0KGgoAAAANSUhEUgAAAZAAAAEsCAYAAADtt+XCAAAABHNCSVQICAgIfAhkiAAAAAlwSFlzAAAPYQAAD2EBqD+naQAAIABJREFUeJzt3Xt8FPW5P/DPzF6yuWwSCASSbAIGCCHIRS6F2FaxIlh7ASmp1V70CFqPtlo4rednrWLtxZ5a6PHU/vydYmu1rW1BrXraUziittqTiIAohvud3VwhCXuZvc7M8/tjkwUUSDKZfPf2vF+vvFhzmcx8dt0n3+c78x2JiAiMMcbYIMnJ3gHGGGPpiQsIY4wxQ6xD3YCu62htbYXT6YQkSWbsE2OMMYGICH6/H+Xl5ZDlgY8rhlxAWltbUVlZOdTNMMYYSzK32w2XyzXg7x9yAXE6nQCAw4cPY9SoUUPdHBuASCSC9evX47bbbkNOTk6ydyfjcd7iceZinTp1ChMmTEi8nw/UkAtIX9sqLy8PhYWFQ90cG4BgMIidO3ciPz8feXl5yd6djMd5i8eZixUMBgFg0NMQ0lBP4/X5fCgqKoLX6+UCwhhjacjo+/iQRyB9IpGIWZti/YhEInjkkUdw33338fBeAM5bvFTKPBqN4vjx49A0Lan7MVSyLKOsrOy8bSqj79+mFRBd183aFOuHruvweDycuSCct3ipkrnH48FNN92UaPFkguuvvx733XffOWdbGc2ZW1iMMXYeuq7jjjvuQHt7Ox5++GE4HI5k79KQxGIx7Ny5Ez/72c+wdOlS3H///YmvGX4fpyHyer0EgDo6Ooa6KTZAoVCIVq1aRaFQKNm7khU4b/FSIfOOjg6aPXs2bdq0KWn7MByefvppmj17Nvl8vsTnOjo6CAB5vd5BbYuvRGeMsfM4ffo0AAzquoh0cNlllwEA2trahrwt0+ZA0n14l04cDgfWrVuX7N3IGpy3eKmQed+8gMViSep+mM1mswE4d97D6Pu3aSOQUChk1qZYP0KhEFauXMmZC8J5i8eZD86xY8ewYMECFBUVYebMmYP+eaM5m1ZABrN+ChsaWZbhcrk4c0E4b/E488EpLCzE97//fTz77LOGft5ozqY9O8k+Vzub5OTk4KGHHuLMBeG8xePMz+8nP/kJbr/99sR/nz59OrGE1Mc+9jHk5+cb2q7RnE2bAwkGg3waryDBYBA333wznn76aV7mQQDOW7xUzfyIj3A6av52i+1AdWH/y4isXLkSNTU1+PGPf4zi4mI89dRTWLJkCUaOHDmk32/0OhfTCkimTTSlMovFgvr6es5cEM5bvFTM/FSYMGmDCn0Y7uFqkYD2L1kxynHxIlJcXIzly5fjV7/6FVatWoUnnngCf/zjH4f++w3mbFoB4aGmODk5OVi9enWydyNrcN7ipWLmoxwSDn7eOmwjkP6KR5+7774bn/3sZzFlyhSMHj06cVruUCS9haUoCrewBFEUBcuWLcMLL7xguOfJBo7zFi9VMx9Im2m41dbWorq6Grfffjt+/OMfm7JNRVEM/Zxpk+h95xaz4Wez2dDQ0MCZC8J5i8eZX9xtt90GVVWxfPlyAPE5DJfLhYaGBuzZswculwv33XffgLdnNGfTRiB2u92sTbF+2O12rFy5Mtm7kTU4b/E484t7/fXXceeddybe+PPy8uDxeAxvz+j7t2kjEKNDIDZ4iqKgvr6eMxeE8xaPMz+/1tZW1NbW4p133sE3vvEN07ZrNGcegaQhu92O1atXc+aCcN7icebnV15ejn379pm+XaM5m1ZAuFcpTl9/mInBeYvHmYtl9P3btBZWIBAwa1OsH4FAAFOnTuXMBeG8xePMxTKas2kFhFfjFadvpVLOXAzOWzzOXCyjOZvWwrJaTdsU64fVasXixYuTvRtZg/MWjzMXy+j7t2kjEL/fb9amWD/8fj9cLhdnLgjnLR5nPjivvfYaPvKRj6Curg5Tp07FvffeO6j7nBvN2bQCkpuba9amWD9yc3OxceNGzlwQzls8znxwRowYgT/84Q/Ys2cPduzYgcbGRjzzzDMD/nmjOZtWQLiFJY7VakV9fT1nLgjnLR5nfn4XWs593LhxqK6uBhCfz5g5cyaOHTs24O0mvYXl8/nM2hTrh8/nQ2FhIWcuCOctHmd+fitXrsSLL76YuF/7+ZZzb29vx3PPPYdPf/rTA96u0ZxNK++ptOBZpsvPz0dTUxNnLgjnLV6qZq6eaoMeMv/UYjm3ANZRZf1+X3/Luft8PnzmM5/Bvffeizlz5gz49xvNme8HkoYsFgumTp2a7N3IGpy3eKmYuRbwov0HKwAa+OT0gMkyyh7+PSwFRf1+64WWc/f7/bj22muxZMmSQS+Fn/T7gfQNOdnw8/l8KCoqgtfr5cwF4LzFS8XMLQVFGHv/L4dtBDKQ4gGcfzn3QCCAa6+9Ftdeey2+853vDPr3J72FVVBQYNamWD8KCgrgdrs5c0E4b/FSNfOBtJlEuO222/C1r30tsZz7Y489hrfffhuKouCFF14AADQ0NOD+++8f0PaM5mxaAZGk5N9oJVtIkoTCwkLOXBDOWzzO/OI+uJz7/fffP+BicT5Gc+YLCdOQ3+9HUVERZy4I5y0eZ35+w7Wcu9GcTRuBOJ1OszbF+uF0OuH1ejlzQThv8Tjz8xuu5dyN5mzaCISIzNoU6wcRwefzceaCcN7iceZiGc2Zl3NPQ4FAAJWVlZy5IJy3eJy5WEZzNq2FlSqn2mWDwsJC/stMIM5bvFTIXJbjf1/HYrGk7ofZwuEwgHOXLzH6/m1aAdE0zaxNsX5omoZ9+/ahtraWL+AUgPMWLxUyLy8vh91ux/r163Hbbbel/V1XNU2Dx+PB448/jry8PFRVVZ3zNSMkGmKZ77vgx+12w+VyDWVTbIB8Ph9cLhc8Hg+P/ATgvMVLlczfeustrF69GtFoNGn7YLbZs2fjwQcfREVFReJzHo8HlZWVg75w07QCkkpXjDLGmFkCgQBaW1sHdX+NVCTLMkaMGIGSkpJEe66P0fdx01pYqqqatSnWD1VVsW3bNsydO5eXuxaA8xYvlTIvKChATU1NUvdhuBl9/zbtLKxQKGTWplg/QqEQGhoaOHNBOG/xOHOxjObMLSzGGMtyRt/HTRuBcAtLHFVVsXnzZs5cEM5bPM5crKS3sPrOLWbDLxwOY/Xq1Zy5IJy3eJy5WEZz5hYWY4xluaS3sDLtas1UFovFsHHjRs5cEM5bPM5cLKM5m1ZAMulCm1QXjUaxbt06zlwQzls8zlwsozlzC4sxxrJc0ltY/JeCONFoFE8++SRnLgjnLR5nLpbRnHkOJA1xf1gszls8zlwsozlzC4sxxrJc0ltYkUjErE2xfkQiEaxbt44zF4TzFo8zF8tozqYVEL4fiDiapqGpqYkzF4TzFo8zFyvp9wPhFhZjjKUnbmFlkUgkgoceeogzF4TzFo8zF2tILaxwOIylS5eipqYGM2bMwDXXXINDhw4NakPpfrOVdKLrOjweD2cuCOctHmcultGcJSKicDiM1157DZ/85CchSRIef/xxPPfcc/jb3/7W7wa4hcUYY+ltSC0sh8OB6667DpIkAQDmz5+PY8eODWoHeNVMcXilUrE4b/E4c7GM5nzeOZDHHnsMS5YsOe8PRCIR+Hy+cz6AM3e0CofDiZ0JhUKJ3lowGEw8VhQlceWjoiiJi1gCgUBiXXq/35947PP5EmcJ+Hw+6LoOIoLP5wMRQdf1xH5ompZ4rKoq/H5/4nEgEAAQv2hGURQA8Ssw+x5HIhEEg8HEYz4mPiY+puQdU98+ZtIxpfrzNGj0AT/4wQ9o/vz5pCjKB79ERERr1qwhAB/6+PKXv0xERKtWraJVq1YREdGKFStozZo1RES0fPlyWrt2LRERLVq0iNavX09ERPPnz6cNGzYQEVFdXR1t2rSJiIgqKiqosbGRiIicTic1NzdT7xlj5Ha7yev1EgDyer3kdrup71Cam5vJ6XQSEVFjYyNVVFQQEdGmTZuorq6OiIg2bNhA8+fPJyKi9evX06JFi4iIaO3atbR8+fLEca5YsYKPiY+Jj4mPKeOPacmSJYntDsY5BeTRRx+l2bNnU09PzwV/IBwOk9frTXz0HcTRo0eJiCgUClEoFCIiomAwSOFwmIiIFEVJPA4EAhSJRBKPo9EoERH5/X6KxWJEROTz+RKPvV4vqaqaeKxpGum6Tl6vl3RdJ03TEgeuqmricSwWI5/Pl3js9/uJiCgajVIgECAiokgkkngcDocThTMcDlMwGEzJY+ro6KAVK1aQz+fLmGNK5efJ7/fTihUrqL29PWOOKdWfp5MnT9Itt9xCwWAwY44plZ+no0ePDq2ArF27lmbNmkXd3d2D2kBfRezs7BzUzzHjwuEwrVmzJvHCZMOL8xaPMxers7PTUAGRiIg8Hg8qKytRXV0Np9MJAMjJycHWrVv7bYHxWViMMZbehnQWlsvlAhHh8OHDePfdd/Huu+8OqHiczfAkDBu0YDCIhoYGzlwQzls8zlwsozmbdiW6xWIxa1OsHxaLBfX19Zy5IJy3eJy5WEZz5rWwGGMsyyV9Lay+c4rZ8FMUBYsXL+bMBeG8xePMxTKas2kFxGazmbUp1g+bzYaGhgbOXBDOWzzOXCyjOXMLizHGshy3sLKIoiior6/nzAXhvMXjzMVKegvLbrebtSnWD7vdjtWrV3PmgnDe4nHmYhnNmVtYjDGW5ZLewupb8ZENv0AggKlTp3LmgnDe4nHmYhnN2bQC4nA4zNoU64fD4cC6des4c0E4b/E4c7GM5swtLMYYy3JJb2H13cCEDT+/3w+Xy8WZC8J5i8eZi2U0Z9MKSG5urlmbYv3Izc3Fxo0bOXNBOG/xOHOxjObMLSzGGMtySW9h9d2Plw0/n8+HwsJCzlwQzls8zlwsozmbVkDy8/PN2hTrR35+PpqamjhzQThv8ThzsYzmzC0sxhjLctzCyiI+nw+SJHHmgnDe4nHmYiW9hVVQUGDWplg/CgoK4Ha7OXNBOG/xOHOxjOZsWgGRJMmsTbF+SJKEwsJCzlwQzls8zlwsoznzhYRpyO/3o6ioiDMXhPMWjzMXK+kXEjqdTrM2xfrhdDrh9Xo5c0E4b/E4c7GM5mxaARniyVxsEIgIPp+PMxeE8xaPMxfLaM68nHsaCgQCqKys5MwF4bzF48zFMpqz1awd4GtAxCksLOS/zATivMXjzMUy+v5t2ghE0zSzNsX6oWkadu/ezZkLwnmLx5mLZTRn0wrIyf/8DpS3t0CPhs3aJLsARVFQX18PRVGSvStZgfMWjzMXy2jOpi1lcvjRe2D37IPkyEPerAXIn7cYtqoaPo+bMcZSXNKXMim+9UGM/c5TKLhiCcJ73kbnT+9Bx4//Gf6/vQAt4DXr1zAAqqqiqakJqqome1eyAuctHmcultGcTRuBeDweVFRUAABI1xDZvxPKW5sQan4LAJB76XzkzVsMR+0sSLJlKL8y6/n9fkyZMgV79+7l8+QF4LzF48zFamlpgcvlGvQIZNhX49UCXgS3vwZl62aobcdgKRqFvI8sRP68xbCOKhvKr2aMMWaCpLewLjQEshQUwbngeoy59wmUrn4MjqnzEHjzZbR//59w8vF7oWx/FRSNmLUbWUFVVWzevJmH94Jw3uJx5mIlvYXV0tKC8vLyAf2MHg0j9N4/ENz6P4gc2gXJkR+feJ+/GLbKSTzx3o9AIIB58+Zh69atvFqpAJy3eJy5WK2traioqEi9FlZ/1JOtUN7+HyhvvwLd2wVb+SXIm7cYeXM+AUs+X5zIGGPDLektrFgsZujnrKPLUfSpW1C25hmU3P4wrKMr4H35SbQ9+EV0/foHCO/dDtL5YqKzxWIxbNy40XDmbHA4b/E4c7GM5mzaCKS1tRVlZeZMimuB0/GJ97c2Q20/DkvxaOR95Brkz1sEa8lYU35HOlMUBQsXLsSWLVv4ntECcN7iceZitbW1oby8PP1aWBdDRIge34/g1s0IvvN3UCSInEkzkT9/MXKnXQ7JnmPq72OMsWyU9BZWNBo1a1MJkiQhZ3wtRtxwD8oefhYjbvomSNfQ/Zt/Q+uaL6LnuccRdR/MukXXotEonnzyyWHJnH0Y5y0eZy6W0ZyTPgcyUHKOA/kfWYjSrz+KMff/EgUf/RRCuxrRufbr6Hz0LgTeeAmaYuzG8OmG+8Nicd7iceZiJX0OZDhaWP0hTUN433YoWzcj3LwVkCQ4psxB3qyr4Lh0HmS7Q+j+MMZYOkp6CysSEX8xoGSxIHfqPIy69UGUffd3KPrMCmi+HnQ/8wjavvMFdP/m3xDa8zZIy6yLkSKRCNatW5eUzLMR5y0eZy6W0Zwz5n4gFmdx/Ir31Y9h7P2/gnPh5xH1HEbXLx5E24M3oWfDzxA53AzS9aTupxk0TUNTU1PSM88WnLd4nLlYRnNO6xZWf4gIsdajCO54HaGdf4fW0wlL8WjkzroSebOugq2imq96Z4xlvaxsYfVHkiTYK6pR/NkVGPvArzH67p/AMXUegltfQedP7kLHI7fDt/l3UE+2JntXByUSieChhx5KycwzEectHmcultGcTbsnup7irSFJlpFTfSlyqi9F8bI7EN6/E6F3Xof/tefg++tvYKuqQd6sq5B32RWwFJUke3cvStd1eDyelM88U3De4nHmYhnNOaNbWAOhR8MI734bwXf+hvCebYCuImfiDOTNXoDc6R+FnMf3ImCMZbakt7DC4fS8F7psdyDvsiswasWDKP/esxhxwz2ABPT88TG0PnATTj35XQR3vpFS93oPh8NYvXp12maebjhv8ThzsYzmbFoLKxPIeU7kz78W+fOvhebtQvDdNxHc8Tq6n/4hpJxc5E6rR+6sq+CYfBkkC0fHGMtuWd/CGgj1ZCuCO/+G4PbXoXa6IecXIXfmx5E3ewHs4+sgyaYN5BhjTLikt7BCoZBZm0o51tHlKFx0E8bc9wuUfvPnyJu3COHdW3HyP76J9odvxumXf4loyxFha3KFQiGsXLkyozNPJZy3eJy5WEZzNq0PI2fBX+GSJMHumgC7awKKPv1PiB7dg+A7f0Nw62YEXtsI65gq5M1egLxZC2AdNbC7MxohyzJcLldWZJ4KOG/xOHOxjObMLSwTkKYmTgsO7WoERcOwVU1G3uyrkDvjo7AWj072LjLG2AUlvYUVDAbN2lTakSxW5NbNxcgv3Yuy7/8BI2/+NiyFI+F9+Zdof+jL6Fh3N3yv/AGx9hOm/L5gMIiGhoaszlwkzls8zlwsozmb1sKyWCxmbSqt9Z0WnHfZFdCDAYT3bkNo1//C/8of4PvLr2EtdSF32uVwTLsc9qoaQxPwFosF9fX1nLkgnLd4nLlYRnPmFpYgFIsifGAnQrv+F+HmrdAVL+SiEuReWo/c6ZcjZ8I0SFZbsneTMZaFkt7CUhTFrE1lJMlmR+7UeRh542qUfe9ZjP76o8ibeQXCe7fh1BPfRmvv8vPBd9+EHrn4GRGKomDx4sWcuSCct3icuVhGczathWWz8V/PAyXJFuRMmIacCdNQtPR2xFqOIPR+I8LvNyK443XAaoNj8qx4q+vSebAUFJ/z8zabDQ0NDZy5IJy3eJy5WEZz5hZWilFPtSH0fiNC7zcienQPAAn26qnInXY5cqfVw1oyNtm7yBjLMEbfx00rIK2trSgrKxvKptgHaP7TCDc3xUcn+98FtBhsFRNgqZ2Du376JH758mYUFBQkezcznqIoWLhwIbZs2YL8/Pxk705W4MzFamtrQ3l5efIKyKlTp1BSktrLoKczPRxEeO/2eDHZ8zYoHIRl5FjkTr8cudMvh338FEgyn7EyHGKxGF588UUsXbqUWyqCcOZidXV1YdSoUckrINzCEofUKCIHd8VbXc1N0H09kAuKkXvpfDimXw5HzUxIVnuyd5MxliaMvo+bNokeCAS4gAiihKOYt/xmbN26FcXLv4bo8X3xkcmuRihvbYKUkwvHlLnInX45HFPmQs7lFsBQBAIBzJs3D1u3buWWoSCcuViBQMDQz5k2Aunq6sLIkSOHsik2QKqq4tVXX8XVV18Nq/XM3wBEBLX9eO8kfBNi7oOAxYqcSTPjS9FPq4elkJ+jwbpQ3mz4cOZidXd3o6SkhFtY7Ay1pxOhXY0INzchcvh9gAj2cbXxeZNpH4V19PAt+MgYSx9JPwvL4/GgoqJiKJtiA+T3+zFlyhTs3bsXTufAbrmrKT6Em99C6P0mhPfvAGJRWMeO6y0ml8PmmghJkoZ5z9OTkbzZ0HDmYrW0tMDlciWvgHALSxxVVbFt2zbMnTvX0PBej4QR2b8DoV2NCO3eCgoFIBeVwFE7G44pc+GouQxyHved+ww1bzZ4nLlY3MJihpCmInL4fYT3bEN473aoHScAWYZ9/BQ4aufAMWUObBUT+K6LjGWwpLew3G43XC7XUDbFBsjn88HlcsHj8ZhetNXuDoT3bkd43w5EDuwERUKQC4p7RydzkDN5FiwFRab+zlQ3nHmz8+PMxfJ4PKisrExeAenu7saIESOGsik2QJqmYd++faitrR3W5a5JjSFydA8i+3YgvHc7Yq1HAEmCrbIGjinx0Ul8SfrMvoBRVN7sDM5crJ6eHowcOZJbWGz4aN4uhHuLSXj/O/G5kzwncibPiheU2tl8mjBjaYhbWFkkFYo2aRqiJ/YjvDc+dxJzHwQA2FwTEnMn9vFTIFnSfwI0FfLONpy5WElvYfX09KC4uLj/H2BDpus6WltbUV5eDjlFJrc1/2mE9+9AZO92hPe9A13xQnLkwVFzWXzupHYOrCPS897wqZh3puPMxTp9+jRGjBiRvKVM+BoCcSRJQmFhYUplbnEWI3/O1cifczVI1xHzHIy3uvZuR8+GnwGkwzp2XGLuJKd6atqs15WKeWc6zlwsozlzCysNpdvwXlf8CB/YGW937dsO3dcDye5AzqQZvXMnc2Adlbq3Aki3vDMBZy5W0ltYp0+fRlFRdp3emSxEBL/fD6fTmXZ/oRERYi1HEN4XH51Ej+4BdA3W0RW9o5O58fvD23OSvasJ6Zx3uuLMxfJ6vSguLk5eC2uIdYgNAhHB5/OhoKAg7f7nkiQJdtcE2F0TULjwBughBZGD78bvdbKrEYE3XgJsduRMmBafjK+ZCevYcUm9kDGd805XnLlYRt+/uYWVhjJ1eE9EUDtOJOZOIoebAS0GuaAIORNnIGdS/MM6ukLom0qm5p3KOHOxkt7C4ieamU2PhhE9theRg+8hcuBdRN0HAF2HpWhUopjkTJoB68gxyd5VxtJa0m8opWmaWZti/ciWq3RluyN+GnDNZcCnAD2sIHK4GZFDuxA5+C6CO14DiGApKYPjrIJi9sWM2ZJ3KuHMxTL6/s0trDTE6wTFaYoP0UO7EO4tKGr7CQCAdWwVcibOiBeViTMg5w9tOXDOWzzOXCxuYbGsp/m64+2ug+8hfOg9aKfa4mt3VVQjZ9JM5EycjpwJl0J28C1+GTvbkJcyufvuu/Hyyy/j+PHj2LlzJ2bOnDmoX8z3AxGH75UwMGp3R6KgRA6+B817Kr5UfWUNcmriBcV+SR1ku+Pi2+G8hePMxRry/UDeeOMNVFdX42Mf+xhefPHFQRcQviOhOHy3tsEjIqinWhE58G68oBx6D3rAC1hssI+vhWPSTOTUzIC9ajIkq+2cn+W8xePMxTLtjoTjx483VEC4hcXSCek61PbjCPeNUA7tAoUVSPYc2C+ZipxJM+GomQFbxURIPInLMpzR9/FBX50ViUTg8/nO+QDifzEAQDgcRjgcBgCEQiFEIhEAQDAYTDxWFAXRaDTxOBaLAQACgQBUVU1sr++xz+dLnCXg8/mg63riQiMigq7rif3QNC3xWFXVxH6pqopAIAAAiMViUBQFABCNRhOPI5EIgsFg4nEoFErJY+rp6cHmzZsRDocz5phEP0+SLCNaVArH5Z/CqJVrUPjtX6Hknp+i8NovQdN1+P/nWXSuuwct316Ojv/7bez4+cM4+c4/oIaDKXtMmfQ8eb1e/PnPf4aqqhlzTKn8PPX97KDRB4wbN4527tz5wU8nrFmzhgB86OMLX/gCERGtWrWKVq1aRUREK1asoDVr1hAR0fLly2nt2rVERLRo0SJav349ERHNnz+fNmzYQEREdXV1tGnTJiIiqqiooMbGRiIicjqd1NzcTL2jJXK73eT1egkAeb1ecrvd1Hcozc3N5HQ6iYiosbGRKioqiIho06ZNVFdXR0REGzZsoPnz5xMR0fr162nRokVERLR27Vpavnx54jhXrFiRksdUXl5OdXV19Kc//Sljjinlnqc336Tw4Wb65sdq6eC/fY323XkNue9ZTO5V11Hro1+j73yshk699Qq59+9Jn2NKo+fp6quvprKyMvL7/RlzTKn8PH3qU59KbHcwBl1AwuEweb3exEffQbS3txMRUSgUolAoREREwWCQwuEwEREpipJ4HAgEKBKJJB5Ho1EiIvL7/RSLxYiIyOfzJR57vV5SVTXxWNM00nWdvF4v6bpOmqYlDlxV1cTjWCxGPp8v8djv9xMRUTQapUAgQEREkUgk8TgcDpOiKInHwWCQj4mPiVRVJV1TqXv/LvK98RKdevoR8jxwU7yg3LOYWr73T9T1+3Xka/wr9RzZT7qup8UxZeLzxMdk7Jja2toMFRDT5kBOnTqFkpISY8MgNiixWAwvvvgili5dCpvN1v8PsCG5UN5qTyeiR3YjcmQ3okeaEWs/DhBBdo5ATvXU+FxK9VTYKibwPMog8WtcrK6uLowaNcr4JPpXv/pV/OUvf0F7eztKSkrgdDpx6NChfjfQV0BaW1tRVpa6S3JnEkVRsHDhQmzZsgX5+XxNw3AbaN560I/Isb1nisqJ/YAag2R3wD6+NlFQ7ONqITvyBB5B+uHXuFhtbW0oLy/nCwkZSxWkRhF1H0L0aN8oZTf0oB+QZdjKq+PFpHoqci6ZCksRj95Z8iT9nugnT57EqFGjhrIpNkDRaBTPPPMMvvKVr8BuT4+7+qUzs/ImXYfa6UHk6O7EKEXragMAWErKziko1jGVWb2MOb8OEOOZAAAgAElEQVTGxTp16hRGjx6dvMUU+05JY8MvFoth48aNuPHGG/l/LgHMyluSZdjGVsE2tgqo/yQAQPN2nVNQgttfA0iHnF8I+yV1ibkUe+WkD13gmMn4NS6W0fdvbmExlkL0cBDR4/viLa+juxE9thcUjQA2O+xVk5Ezfgrs42phHzeZ217MNElvYXV2dmL06NFD2RQboEgkgp///Oe46667kJOTOrd+zVTJzJs0FbGWI4mCEjm6G7qvBwBgKR4Fe9Vk2MfVwlZVA3tVDeScXKH7N1z4NS7WyZMnUVpayvcDyQaapqGpqQl33HFHsnclKyQzb8lihb23OGDB9SAiaN5TiB7fj+jx/Yid2A/f5t+BomFAkmEdWxX//nG1sFdNhq1sfFqeQsyvcbGSfj8QbmExlhyka1A73L1FZR+iJw4g1nYU0HVIthzYKicmCoq9qgaWkWOyeoKefRi3sLJIJBLBI488gvvuu4+H9wKkY956JIxYy6HESCV6Yj+07g4AgFxQDPu4yfGP3qIi56XWirfpmHk6S3oLS9d1szbF+qHrOjweD2cuSDrmLec4kFN9KXKqL018TvP3IHriQHyUcnw//K+/AArFF9qzjq7oLSq9ra+KSyBZk3f2Uzpmns6M5swtLMayFBFBPdmC6In9iB3fj8jx/Yi1HAG0GGCxwVZRfc5IxTq6gltfGcro+7hpI5BwOMwFRJBwOIxvf/vb+OEPfwiH4+J302NDl6l5S5IEW6kLtlIXMOdqAPGr52MtRxE9EW99RfbtgPLmy/Hvzy3onaA/M1KxOIuHZd8yNfNU1bcU/WDxvSIZYwmS1Z4YdeDj8c/pQX+89dVbVJTGv8L/P78HAFhGlMLmmgh7xQTYXPEPS9EoHqmkkbBK+OluY88Xt7AYY4NCRNB6OuMF5cQBxDyHEfMciq/zBUDOL4oXk4oJsPf+ax1dAUke9P3r2DAiIrx0nLD6LQ0nTvqg3T2E1XiN6isg7e3tGDNmzFA2xQYoFArh61//On72s58hNzczLhxLZZx3/4gI2umTiHkOI+o5hFjLYcQ8h6GdPgkAkHJyYSu/5NzRythxF1yehTMfXnt7CPc0aXilhbDYJeE7E7vw8ZqxyZsDkfmvC2FkWYbL5eLMBeG8+ydJEqwjSmEdUYrcafWJz2sBb7yYtBxG1HMYkf07ofzjvwAiwGKFbey4MyMV1wTYyqshO/I482HijRK+u0PHz3brGOcEXl5kwaerJJw6ZSxnbmExxoTSIyHEWo8i5jmEaO9IJdZ2PH72lyTBOqocNtfEcwqLpWB4JuuzhU6EXx8g3LdNgxIDvnOZjFXTZORY4nMfST8LKxgMcgERJBgM4uabb8bTTz+NvDy+MdFw47zNJefkIueSOuRcUpf4HKkxxDrciPW2v8InDqJnx9/h6P3D2FI06kPzKnxF/cA0dei4u1HH9lOEL06U8G8fsaAi/9zcgsGgoW2bVkAsabjeTrqyWCyor6/nzAXhvIefZLXBXlENe0U1gPiV6M8+/ji++oVlkDrdidGK0vjf8AdOx38mr6B3PuXMvIq11AVJ5ucJANqChP/ztoZnDhIuKwH+8RkLPjr2/K0qo69tbmExxtIGEUH3dZ8zUR9tOQytqx0A4mt/lV8CW29BsVdMgHXsOMg52XMtSUQjPNas43s7dTgswA/nWnBrjQSLfOHRWtJbWIqicAERRFEULFu2DC+88ALfL1oAzlu8C2UuSRIsRSXILSpB7tR5ic/rQT+iLUcSLbDIkWYoTX8FKL5Eh6WkDLaycbCVjY9P3JdfEj+1OMNu0vXfJ3R8o0nDET9wV52Mh2bLGJHTf5tPURRDv8+0AmKzZdYTkcpsNhsaGho4c0E4b/EGm7mc54Rj0gw4Js1IfI6iEcTajyPWdizxb/DtLdC8p3p/yAJrqSteVMrGwTZ2PGzl42EZOTbtrlk56CWsatLwFzfhE+USXrjGgktHDnx+yOhrm1tYjLGsogf9iLX1FZZjvY+PgoLxhSUlew6sY6p6C8uZEYtcODLlJu17IoRH3tXx7806yvOAdfMtuH68NOj95BZWFlEUBQsXLsSWLVu4pSIA5y3ecGYu5zmRM+FS5Ew4s1Jx39xKrO1Y78dxxNqPIfTuG/FbCiM+aW8bO/7MiKVsPGxjx0POF78UflAl/KxZx4/e0xHT46flfmu6jFyrsQKX9BYW3/heHLvdjtWrV3PmgnDe4onOvG9uxVJUAkft7MTnSdehdXecVViOnZlf0eN38ZOLSuKjlLIzxcU6Zngm7lWd8NQBwkM7NHSGgK9OkfHAZTLG5A1tZGQ0Z25hMcbYIJEag3qy5UMjFq2rPX6VvSTBUjK2d8RyprhYS12QLIP/u52I8PxRwv3bNRzwAjdOkPC9ORZMKDSnpZb0FlYgEOACIkggEMC8efOwdetWFBQUJHt3Mh7nLV6qZy5ZbYmicDY9EobacfzMHEvbMShvvwLd2xX/Bos1PnE/dlz831IXrGMqYR3tuuCI5bUWHf9nm45tJwnXuiT88WoLZpaYOxcTCAQM/ZxpBYTX7BfH4XBg3bp1nLkgnLd46Zq5nOPovU3w5HM+ryk+qH1nhLUdR6z9OCKHdkH39yS+xzKi9JyicizHhe+5y7Hh1Ah8pFTG65+yYEH58JwdZjRnbmExxliS6EE/Yp0eqJ0eqB1uxDo9CLa5QV2tsFB8jkWz58IxxgXbmEpYSythHVMZLzKjy0277XDSW1h+v58LiCB+vx9TpkzB3r174XSKPwMk23De4mVL5nKeEznjpyBn/BS0Bwnf26njF6SjfLyKRyaexGfzWkAnPYh1uKGe9CC05+3E6caQZFhKxsB2dlEprYR1jAtyftGgTuX1+/2G9t+0AsJr9ouTm5uLjRs3cuaCcN7iZVPm3ijhJ7t0rHtfR44F+OFcGV+b6kCutQpA1TnfS0TQFS/UDg9ine7EyCX0fiMCXR2JK+/lPGd8bqXU1VtgeotLSRmk86x7ZTRnbmExxlgShFXC/92j44fv6giqwD2Xyrh3xsCWHjkfikWhnmqNt8Q63FA73fGRS6cHFAnFv8lihXVU+bkT+KWVCDkKMaKsInktLJ/PxwVEEJ/PB5fLBY/Hw5kLwHmLl8mZazrhN4cIa3ZoaFGAFZNlrJklozx/aGdWSTb7ec8MS1wk2VtUEnMt7/wNWk8nAMAfUQ39TtMKCF+hK05+fj6ampo4c0E4b/EyMXNVJ/z+MOEHOzXs9wLLL5Hw/U9aMLl4eJdHOfsiSdTMPOdreiQM9aQH8sE9wP97dfDb5hYWY4wNn6hG+M1BwiPvaTjsAz5TJeHBWTLmjE6dBRuNvo+bdgQ+n8+sTbF++Hw+SJLEmQvCeYuXCZlHNMITezRM2qBi5ZsaZpZI2LnMipcXW1OqeADG379Na2Gl4tWimaqgoABut5szF4TzFi+dMw+qhPX7dPz4PR1tQeALEyT892ILpg5ieXXRjOZsWgFJtWWOM5kkSSgsLOTMBeG8xUvHzAMxwhN7dPzkfR1dYeCLEyV8e+bwz3GYwWjOpl5IWFRUZNbm2EX0Zc3zTmJw3uKlU+beKOHx3Tp++r4ObxS4pUbCfTMtqDZpoUMRkn4hYSZfLZpqnE4nvF4vZy4I5y1eOmTeE4nfe/yx5vh1HCtrZfzrDBlVBelTOPoYzdm0AjLEk7nYIBARfD4fCgoK0mqIn644b/FSOfOTIcJPm3U8vjt+M6evTonfzKliiNdxJJPR929Tl3MvLi42a3PsIgKBACorK9NieJ8JOG/xUjHz9mB8yZEn9uqQANxZJ+Nfpg39Zk6pIOnLuafKk5wNCgsLecQnEOctXiplftBL+PdmHb/ar8MmA6sulfGNaTJGOdK/cPQx+v5t2snImqaZtSnWD03TsHv3bs5cEM5bvGRnTkR4o03H0v9RMXmDio1HdNw3U8bxG634/lxLRhUPwPj7t2kFxOhN2dngKYqC+vp6zlwQzlu8ZGUe0wm/P6TjIy9quPLPGg54Cb/4uAXHb7TiwVkWwwsdpjqjOXMLKw0VFham9RW66YbzFk905t5o/OK//2jW4VaAhRUS/vtaCxa7JMgpNok/HJLewlJVY6s5ssFTVRVNTU2cuSCct3iiMj/qI6xq0uB6VsW3t+n4RLmEd5dZ8cp1VnyyUs6K4gEYf/82rYCEQiGzNsX6EQqF0NDQwJkLwnmLN9yZv9Wh4/NbVEzcoOLpgzrunhqf3/j1AitmlGRH0Tib0Zx5NV7GWFbQdMKLxwlrd+lo6iRMLARWTZNx8yQZ+bbsKxpnS/pqvDy8F0dVVWzevJkzF4TzFs/MzP1Rwn80x1fFXb5Fg00GXrzGgn0NVtxZZ8n64gGkQAsrHA6btSnWj3A4jNWrV3PmgnDe4pmR+YkA4V+3aqj8vYrVb+mYXyph21IL/v4ZK5aMl2GRuXD0MZozt7AYYxlD0wmbPYT/t1fHX9yEAitw+xQZd0+VUZmGa1SJkvQWViwWM2tTrB+xWAwbN27kzAXhvMUbbObtQcIPd2qY8EcVn9qswa0QnvioBZ6brHh0noWLRz+MvrZNKyDRaNSsTbF+RKNRrFu3jjMXhPMWbyCZExFeb9Vxw6sqKp9V8b2dOq4ql/DWEgveud6K26fIcNq5cAyE0dc2t7AYY2mlO0x4+qCO/9yrY78XqC0G7pgi4yuT5Iy9Uny4Jb2FxX+diRONRvHkk09y5oJw3uJ9MHMiwlsdOm75m4qKZ1X869s6ZpZI+NunLdiz3Ip7Ls3cZUZEMPra5jmQNMQ9ebE4b/H6Mu8OxvCfezXM+pOK+pc1/L2NsGaWDPeNVvzhaiuuLJNT7n4h6cjoa5tbWIyxlPNeV/xMqt8eit/t79NVEu6YImNRhcSn3w6DpLewIpGIWZti/YhEIli3bh1nLgjnLUZIJTxzQMflL6mY+YKKZ3f7cPcUwrEvWPHSovjaVFw8hofR1zbfDyQNaZqGpqYmzlwQznv4EBHebNOx8g0VY3+r4ua/ayiwAc9+XMXCV/8Z909T+RRcAYy+trmFxRgT7oiP8MxBHc8c1HHUD4wvAL5SI+PLE2VMLOKCIRq3sLJIJBLBQw89xJkLwnmbwxslPLlPx8dfVjHhjyrWva/jqrL4mVSHv2DFd2dbEsWDMxfLaM6m3VBK13WzNsX6oes6PB4PZy4I522cqhO2tMSv23jxGCGiAddUSPjdVRYsHS8hz3r+0QZnLpbRnLmFxRgz3fvd8RbVbw/qaA8BdcXAzTUyvjhRRkU+t6hSTdJbWLxSqTi8OqxYnPfAdIYIjzVrmPVCDNOfV/HUfh0N1TK2LbWgebkV986wDLh4cOZiGc3ZtBYWYyz7RDTCn08Qnj6g469ugiTFr9lYM0vGJysl2C082shk3MJijA1KRCO82kJ4/qiOPx0n9ESAuaMl3DxJwg0TZIxycNFIN0lvYfH9osUJhUJYuXIlZy4I5w0oMcJzR3Tc9JqK0b+JL5n+Zjvhjiky9iy34u2lVtw11WJa8eDMxTKas2ktLFk2rRaxfsiyDJfLxZkLkq1590Ti7akXjurY5CGENWDGSOCb02V8bryMuhEYtnWosjXzZDGaM7ewGGMJHUHCS8cJLxzT8WoLQSVgfqmEz10i4frxMiYUcnsqEyW9hRUMBs3aFOtHMBhEQ0MDZy5Ipud9IhA/e+rK/1JR9jsV//y/GmI68O/1Mjw3WdG0xIpvTrcILR6ZnnmqMZqzaS0si8Vi1qZYPywWC+rr6zlzQTIx7wOn46OMF44Rtp0k2OX4BX5PXmHBZ8dJSZ8Iz8TMU5nRnLmFxVgWICLs6gZeOKbj+aM6dvcAeVbgukoJy8bLuK5KQhHf/jVrJb2FpSiKWZti/VAUBYsXL+bMBUnXvPXeu/jdu1XDpA3xJdIfa9Yxq0TCn66x4NSXrdi40IobJ8opVzzSNfN0ZTRn01pYNpvNrE2xfthsNjQ0NHDmgqRT3qpOeLOd8PxRwp+O6WgNAqW5wNJxMn5+uYSrytPj4r50yjwTGM2ZW1iMpbmzL+x76TihKwJU5gPLLpHxufESLh/Dd/FjF8ctrCyiKArq6+s5c0FSMW8lFi8YH7yw77ba+NpTx2+04t/rLfh4WXrexS8VM89kSW9h2e12szbF+mG327F69WrOXJBUyftUmPBX94cv7PvWdBnLhvnCPtFSJfNsYTRnbmExlqJCKuEf7fH7aWxp1bHzFEAA6kslLOML+5iJjL6PmzYCCQQCXEAECQQCmDdvHrZu3YqCgoJk707GE5W3phN2dvUWjBbCPzriN2AamwssrJBw91QZ11RIKM+C+2nwa1ysQCBg6OdMKyAOh8OsTbF+OBwOrFu3jjMXZDjzPuIjvNKiY0sL4bVWQncEyLcCC8ok/GiujGsqMqs1NVD8GhfLaM7cwmJMoK5wvFD0FY2jfsAiAfNKJSyskLCwXMK80vQ41ZZljqS3sPx+PxcQQfx+P6ZMmYK9e/fC6XQme3cy3lDyDqmE/+0gvOI5dx6jthj4dJWMhRUSrizjq8A/iF/jYvn9fkM/Z1oByc3NNWtTrB+5ubnYuHEjZy7IYPLWdMK7XcCWFh2vXGAe4+pyCa4CLhgXw69xsYzmnGhhHTx4EDfffDNOnTqFoqIi/PrXv8bUqVP73QC3sFi2O+Lrm/jW8epZ8xhXlkm4pkLCwgoZU7NwHoOljyG3sL761a/i9ttvxy233ILnnnsOt9xyC7Zt2zaoHeACIobP54PL5YLH4+HMBfhg3n3zGFta4nMZffMYHxkt4a66+JlSPI8xNPwaF8vn8xn6OYmIqLOzExMnTkR3dzesViuICGVlZfjHP/6BiRMn9vuLi4qK0N3djREjRhjaCTY4mqZh3759qK2t5eWuBQhEVPxhuxsHLC682oZz5jEWlsfnMRaU8zyGmfg1LlZPTw9GjhxpbCkTt9uNsrIyWK3xAYkkSaiqqsKJEyc+9AORSAQ+n++cDwCIRqMAgHA4jHA4DCB+n91IJAIgfsOSvseKoiS+X1EUxGIxAPFzkVVVBRCf1Ol77PP5oGla4rGu6yAi+Hw+EBF0XU/sh6ZpiceqqiYmh1RVTZzrHIvFEpfuR6PRxONIJJK4sUokEkncJzjVjikYDGLq1Kkgoow5plR6ntxdfvz1eAzf3aHhqpfDGP07wm17XHj6IKG2SMIvr5Cx5zMh7FluxWP1Eq4aGUCRXUrpY0q35ykcDmPSpEmwWCwZc0yp/Dz17eOgERFt376dampq6Gxz586lV199lT5ozZo1hPgfYOd83HDDDUREtGrVKlq1ahUREa1YsYLWrFlDRETLly+ntWvXEhHRokWLaP369URENH/+fNqwYQMREdXV1dGmTZuIiKiiooIaGxuJiMjpdFJzczP1zteQ2+0mr9dLAMjr9ZLb7abeQ6Hm5mZyOp1ERNTY2EgVFRVERLRp0yaqq6sjIqINGzbQ/PnziYho/fr1tGjRIiIiWrt2LS1fvjxxnCtWrEjJYyovLycA9Pzzz2fMMSXrefrDHzdQc5dOZQ3306LfHaO6DVHCf4YJv4jSyKejZPnGf9E9/3WEUHFp2hxTJjxPn/jEJxL7kynHlMrP03XXXZfY7mCAiKijo4OcTifFYjEiItJ1ncaMGUMHDx780A+Ew2Hyer2Jj76DaG1tJSKiUChEoVCIiIiCwSCFw2EiIlIUJfE4EAhQJBJJPI5Go0RE5Pf7E/vg8/kSj71eL6mqmnisaRrpuk5er5d0XSdN0xIHrqpq4nEsFiOfz5d47Pf7iYgoGo1SIBAgIqJIJJJ4HA6HSVGUxONgMJiSx3T69Glyu90UiUQy5phEPU/u7gC9fCRCD25X6RMvh6nwqSjhF1GS10do2sYoffUNlZ54V6HmU9HEvkejUXK73dTT05OSx5SJz5PP56PDhw+TpmkZc0yp/Dy1tLQYKiCJs7AWLFiAW265JTGJ/qMf/Qjbt2/vdwTTNwdy+vRpFBUVGRsGsUEhIvj9fjidTj6z5yI0nbDnNNDUQXirU0dTJ2Hf6fjXSnKA+aUS6sdIqC+VMHe0BOcF5jA4b/E4c7G8Xi+Ki4sHPQeSKCD79+/HLbfcgq6uLhQWFuKpp57CtGnT+t1AXwFxu91wuVzGj4ANGJ86fX7dYcJbnYSmTkJTB+HtkwR/DJAlYPpIoL5UThSNiYUDP62W8xaPMxfL4/GgsrLSeAExikcg4vFfZ/HRRXMP4iOLjnjROOCNf22UI75ibd/oYs5oCQU24zlx3uJx5mIZHYGYdiX6EOsQGwTqPROjoKAga/7nOhUmvNVxZnSx7RQhEItffzGjBLimQsYDl8WLRrXT3Iv2sjHvZOPMxTL6/m3qcu7FxcVmbY5dRCAQMDTcTBeBGOH97vjS5n1F41DvdU6lufHRxXdmypg/RsKcURLyhzC6GND+ZHjeqYgzFyvpy7nzkyxOYWFhRoz4dCIc8wPvdRF2dRPe647/e7i3WFglYGaJhGtdcqIdNd7k0cVAZEre6YQzF8vo+7dpBaTvghc2/NLxKl1/lPB+D/UWi3jReL8n3oYC4mdFzSiR8NkqGdNLJMwYKWFKMeCwJr99kY55pzvOXCyj79+mFRBFUXgpE0EURUF9fX1KrhOkE+GID2dGFF3xf4/2rhZtleJLgEwfKWHpeBnTR0qYUSJhbG7qLjaYynlnKs5crL6r0geLbyjFDPNF4y2nXd2EXV3Ae93xuQslvhIDRjvio4rpI+Mjiukl8VFFDi8yyFhKSfoNpfrWb2HDT1VVbNu2DXPnzk2sXzacdIrPS/TNVezqjreijvXOu1kloG5EfFSxbLycKBpj8zKjUIjOm3Hmohl9/zbtmelbVIwNv1AohIaGhmG5W9vpSHwUcWZSG3i/mxDsfX2NyY0XiuXVcmJkUVuMjF66fDjzZufHmYtl9P2bW1hZiIjQHgIOeuOnxx70Enb3xIvG8d5RhU0G6orPtKD6PsZkyKiCMXYGt7CyiKqqePXVV3H11VdfcHhPRGgNAod8hENe4KCPcMhHiaLRN6KQAFQWALVFEj5ffab9VFsM2GQuFsDA8mbm4szFMvr+bdoIpKWlBeXl5UPZFBugQCCAefPmoemtrfBJ+fHC4AMOeXuLhC8+Z3F2kagqACYVSZhYKGFSITCx93G1MzVOlU1lfXlv3boVBQUFyd6drMCZi9Xa2oqKiorkrYXFLazhoROhRUHv6KF3RNE7kjjsA0K9p2/LElCVf1aRKAImFvYWiUI+84kxdmFJb2H13V2LDZ5OBI8SH0HEW01nHh/2AeGzisS4AmCiEyhXjuCWWdWYPMKCiUUSLnFykRgusVgML774IpYuXQqbzZbs3ckKnLlYRt+/TSsgfbdqZOen6b1F4qx5iIM+wiEv4bAfiPQWCYsEjHfGRw8LymTcVovetlN8GQ+7RYKiKFi48BbcsWUL8vPzk3tgWSAajWLdunW47rrr+M1MEM5cLKPv39zCMklMJ7QFAY9C8ATi/7oV4HBvy+nIB4rEJc4zLaa+dtOkIgnjCjL7lFjGWOpJegsrk0cgEY3QqvQWB+VMcTj7v9uD8ZvD98m3Aq58oLpQwsIKOTFxPalQwjjn0M5wikajeOaZZ/CVr3wFdrt96AfILorzFo8zF8vo+3fWz4GE1PgkdV8xcJ9VFPo+1/mBa2yK7PHi4MqXMH0kcF2lDFe+lPicKz/+PcO1tlMsFsPGjRtx44038v9cAnDe4nHmYhl9/87oFlYgFi8OiaIQ+HBx6Iqc+zMjc3BWITi3KPT9e6F7ZzPGWDpKegsrEon0/00mUHVCVxjoDAMnQ4TOMNAZInSGgI7Q2QUCOP2BUdlox5nicPkY+ZyiUFkgoSIfyEuDayIikQh+/vOf46677kJOTk6ydyfjcd7iceZiGX3/Tvr9QHQinI4gUQhOnlUQzlckuiPnzjUAQI4FKHUAY3LjxWBBWW9xKJBQ2VskyvMy54I5TdPQ1NSEO+64I9m7khU4b/E4c7GMvn+b3sIiIvhjuGghOPtrJ8OA9oE9sEjxW5eOdgCluRJKe/9N/HduvGCM7v1agS117yXBGGOpLuktrCtejqJbjqEzfOZ01T4SgBLHuQVhcpHc+99nPtdXEIpzAJkLwgVFIhE88sgjuO+++3h4LwDnLR5nLlbSW1jTignjx8rnHTWUOAArL8xnGl3X4fF4oOt6snclK3De4nHmYhnNOaPPwmKMMdY/o+/jslk7EA6HzdoU60c4HMbq1as5c0E4b/E4c7GM5mxaAWGMMZZduIXFGGNZLmlnYfXVn87OzqFuig1QKBTCt771LTz66KPIzc1N9u5kPM5bPM5crL7378GOJ4Y8Ajly5AgmTJgwlE0wxhhLAYcPH0Z1dfWAv3/II5CRI0cCAE6cOIGioqKhbo4NgM/nQ2VlJdxuN7cNBeC8xePMxfJ6vaiqqkq8nw/UkAuILMfn4YuKiviJFqywsJAzF4jzFo8zF6vv/XzA3z9M+8EYYyzDcQFhjDFmiOWhhx56aMgbsViwYMECWK2mrYzC+sGZi8V5i8eZi2Uk7yGfhcUYYyw7cQuLMcaYIVxAGGOMGcIFhDHGmCEXLSAHDx7E5ZdfjpqaGsydOxe7d+8+7/cdO3YMFosFM2fOTHwcPnw48fWtW7dixowZqKmpwSc+8Qm0tLSYexQZZKCZv//++7jiiitQW1uLSy+9FLfeeitCoVDi65IkYdq0aYnn48033xR1CGljoFn/+c9/Rm1tLSZNmoRly5bB5/Mlvsav7cEZSOb82jbPQPIe0vs3XcRVV11FTz31FBERbdy4kebMmXPe7zt69CgVFRWd92uaptGECRPotddeIyKiRx99lJYvX36xX5vVBpr5gQMH6L333iMiIlVV6fOf/zytWbMm8XUA1NPTM9y7m9YGkrXf76fS0lLau3cvERHddddd9M1vfpOI+FZYc4MAAAMUSURBVLVtxEAy59e2eQaS91Devy9YQDo6OsjpdFIsFiMiIl3XacyYMXTw4MFB7cDbb79NkydPTvy3z+ejnJwcCoVCF/rVWWswmX/Qo48+SjfffHPiv/l/sosbaNYbNmygxYsXJ/579+7dVFFRQUT82h4so69vfm0bM9C8h/L+fcEWltvtRllZWeKcYEmSUFVVhRMnTpz3+xVFwezZszFr1iw8/PDD0LT4jdFPnDiBcePGJb7P6XSisLAQra2tAx+HZYnBZt5HURQ8+eSTWLJkyTmfv+qqqzBjxgysXr0aiqIM236no4Fm/cHX7/jx49HW1gZVVfm1PUhGXt/82jZuMHkbff82ZRK9rKwMLS0t2LFjB7Zs2YI333wTa9euNWPTrB/RaBQ33HADFi1ahOuvvz7x+ePHj2Pnzp1obGzEyZMn8a1vfSuJe8nY4PFrW4yhvH+fU0CeeeaZxCTKli1bEn9pAfF14k+cOIGqqqoPbSQnJwelpaUA4qvz3nrrrYmJraqqKhw/fjzxvX6/H16vF+Xl5caONsMYzRwAYrEYbrjhBpSVleGxxx4752t9P5Ofn48777yTJxo/oLKyckBZf/D1e+zYscRfdfzaHpyBZg7wa9sMA817SO/fF+uhXXnlledMwMyePfuCvbZoNEpEROFwmJYvX04PPPAAEcUnYaqrq8+ZhPnc5z53sV+b1QaaeSwWo2XLltGtt95Kuq6f87Xu7m5SFIWI4vnfc8899OUvf3lY9zsdDSRrn89Ho0ePPmcS/V/+5V+IiF/bRgwkc35tm2cgeQ/l/fuiBWTfvn00f/58mjRpEs2ePZt27dqV+NoDDzxATzzxBBERPf/88zR16lSaPn061dXV0de+9jUKh8OJ721sbKRp06bRpEmT6Morr6QTJ04YySIrDDTz3/72twSApk+fTjNmzKAZM2bQnXfeSURn8u57Pr70pS9RV1dXUo4nlV0o67NzJiJ66aWXaPLkyTRhwgRasmQJnT59OvE1fm0PzkAy59e2eQaS91Dev3ktLMYYY4bwleiMMcYM+f/ZxZhRHkcdzwAAAABJRU5ErkJggg==\" />"
      ]
     },
     "execution_count": 128,
     "metadata": {},
     "output_type": "execute_result"
    }
   ],
   "source": [
    "xlims!(-0.5, 0.5)"
   ]
  },
  {
   "cell_type": "code",
   "execution_count": 129,
   "metadata": {},
   "outputs": [
    {
     "data": {
      "text/html": [
       "<img src=\"data:image/png;base64,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\" />"
      ]
     },
     "execution_count": 129,
     "metadata": {},
     "output_type": "execute_result"
    }
   ],
   "source": [
    "ylims!(0.5, 1.5)"
   ]
  },
  {
   "cell_type": "code",
   "execution_count": 130,
   "metadata": {},
   "outputs": [
    {
     "data": {
      "text/html": [
       "<img src=\"data:image/png;base64,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\" />"
      ]
     },
     "execution_count": 130,
     "metadata": {},
     "output_type": "execute_result"
    }
   ],
   "source": [
    "t = linspace(-2, 3, 200)\n",
    "x = cos.(t*pi*2) .* exp.(t)\n",
    "y = sin.(t*pi*2) .* exp.(t)\n",
    "plot(x, y)"
   ]
  },
  {
   "cell_type": "code",
   "execution_count": 131,
   "metadata": {},
   "outputs": [
    {
     "data": {
      "text/html": [
       "<img src=\"data:image/png;base64,iVBORw0KGgoAAAANSUhEUgAAAZAAAAEsCAYAAADtt+XCAAAABHNCSVQICAgIfAhkiAAAAAlwSFlzAAAPYQAAD2EBqD+naQAAIABJREFUeJzsnXd8FHX6x98zuwkJKaCgUemI9GoACYp6p4L9LETvZzsL6ImeCnoKIsUCVlDPcodgOb0Kil1BsZ1C0NB7E5DeJZvdbHZ3Zr6/P74klLRNsrOz5ft+vXg5ZndnntnPzjzzfb7f53k0IYRAoVAoFIpaojttgEKhUCjiE+VAFAqFQlEn3JHeoWVZ7Nixg6ysLDRNi/TuFQqFQuEAQgiKi4s55ZRT0HU59oi4A9mxYwctWrSI9G4VCoVCEQNs3bqV5s2bAzY4kKysrPKDZGdnR3r3CgcJBAJMnTqVoUOH0qBBA6fNUUQYpW9iU199PR4PLVq0KL/Hgw0OpCxslZ2drRxIglFSUsLixYvJyMigYcOGTpujiDBK38QmUvoeOTWhRXoZr8fjoVGjRhQVFSkHolAoFAlCZfd2tQpLETaBQIDx48cTCAScNkVhA0rfxMYOfZUDUYSNZVls27YNy7KcNkVhA0rfxMYOfVUIS6FQKBQ1okJYinpRWlrKiBEjKC0tddoUhQ0ofRMbO/RVDkShUCgUdUKFsBQKhUJRIyqEpagXfr+fIUOG4Pf7nTZFYQNK38TGDn2VA1GEja7rNG/evLwOjiKxUPomNnboq0JYCoVCoagRFcJS1IuSkhLy8/MpKSlx2hSFDSh9Exs79FUORBE2LpeLvLw8XC6X06YobEDpm9jYoa8KYSkUCoWiRlQIS1EvfD4fgwYNwufzOW2KwgaUvomNHfoqB6IIm5SUFPLz80lJSXHaFIUNKH0TGzv0VSEshUKhUNRIrUJY99xzD61bt0bTNJYsWRI1IxWxi8/nIy8vT4U4EhSlb2Jjh75VOpDBgwfzww8/0KpVq4gdTBHfpKamMmLECFJTU502RWEDSt/Exg59awxhtW7dmg8++ICePXuGtUMVwlIoFIrEo7J7e717ogcCgaM6XHk8HgDMwSa0hFDjLXDSTlK6pFCaXYru0knNyaEkJwdXKESDn3/G7/fjdrtJSUmR2337kpKSgm/RIhoYBm63G5/PR4MGDXC3a4fH7SajpATXjh14vV4aNmyIpmn4dJ2Mnj0RhkFJQQGZmZmYponf7yczMxOjUyf8hkHWnj0Y+/cTDAZp2LAhIcMg2LQpGW3bEty9G3PDBtLT0wkGg5imSfrxxxNo2xbLskhfs4bAoXLIDRo0oLS0FK1zZxo0box/zRpcBw+Smpp6+JyaN8fXuDGpgQApmzdTUlJCamqqPKdgkAa9e+N2u/EWFJDuduNyuQ6fU/v2FANZHg9i1y58vhK8egZL95usIZsdJ5/GwYM+0teupMRykeaCTJfJcQ1T8HbpQct0g9/6NtFMFGOZRvk5GS1a0LBZMwJbtiC2bSMtLa1cwwYnnoj/lFPQTZMG69bh9/txuVykpqayf/9+zrnnHuYXFqL//DMpgQApbvfhc2rThuK0NNL9ftzbtuH1eklPT5fnJAQNe/WSOn3/PRkZGQghKCkpkTp16IDPNMnevx9j714CgQAZGRkYhkHg+OPJaNeO0P79GGvWkJ6eTigUwjAM0hs3JtCuHaZp0nDDBoIlJViWVX5O4rTTSGvaFP/69bj27y/XxuVykXrKKfiaNCElFCJ140apWUqKPKfSUlL79pU6FRbSQAipU9k5nXYaHl0n0+tF27kTn89Xfk6+lBSyevTA9PvxFxbK355hHD6nrl0pDQbJ3LGD0MGDGKFQ+TkFTzqJjFatCGzfjrV5c7lmlmWR1rQppS1bgmWRtmYNpaWl6Lpefk569+40yMqiZMUKUny+w9dTSgopLVvizcwkrbQU95Yth68ntxuvYZCem4vf7+eGrl35x9tvk5GRcficOnTAa1lkHzyIuXv34evJMCjNziazY0eMgwcJrlhRfj0ZoRDpWVkEO3YkFAqRsXkzweJieT2VXVtt2pCek0Pppk1ou3aVX0+6ru4Rdb1HlF9PpklJejpZXbtiFBcTWLIETdO48cYbmTJlCk1POIFQ164Eg0Eytmwh5PHI66nsHtG8BQ2LmxH6KgQ/Q8qeFMzdZkUHIGqgVatWYvHixVW+Pm7cOAFU+PdDsx+E6CNE0PWwEHD0vz7Xi6GXDBWvjxpV8TUQ06dPF0IIsTg9veLr77wjsrKyxI7Royu8NgtEUVGR2LZqVaX7/enTT0WzZs2EuOyyCq+90KqVEEKIOXfcUfGzvXqJcePGidtuu02I1NQKr798553ys61bV/zsyJGiX79+4ptx4yq8tkPXxbx584QQQmzTtAqvez/5RHDiaeKHm+6v8NrUfteLdv8JisufnFvhtYA7VRw3tUjwWlAsbNGzwuvP9esnhBBi1sCBFe297DJx2223iacfeKDS7/DBP/5RhEIhUdCoUcXXX35ZNGvWTKwbO7bCa/NAbN26VRQVFVW633WffSaysrKEuP76it9v06ZCCCG+e7iS39Kpp4pJkyaJwYMHC9G0aUVdr71WCCHE7C5dKn522DAxcOBAMfORRyq8VqzrYtasWUIIIda43RU/++GHAhAHH3qo4u/30GW1Zs6cSs919kcfic6dOwtxzjkVXpvcubO0Nz+/4mfPOUcMHz5cPPCnP1W63yljxsjvKSen4usTJ4rOnTuLhZX8DlfpulixYoUIhUKiqJL97vrsM8Gh76vCMTMyhBBCFEyeXPGYTZuKqVOnioEDBwpx6qkVz3XQIPk77Nev4mevv14MHjxY3SPCuUeAKB0+vMJrb6WkyO/oH/+oeMzUVDF9+nTRr18/IXr1qvB6Ueo0IRDC0A2xO2u3EGcLMbftXMGh76+MeoewKhuBtGjRgl27dpGTk0Ppxk1oS3bR4JcGhFYauJbp6IuagNkGq28Jet4a/Of7cZ+gni7Kni52/url+wNpTDHb8XVxFqd6tnOuaw+dMkPkntSALo0t0ho3POrpouxpPRgM0jAjg1DXruz2BtmydDOrtntZcUCw9FedoiCktGnFJb2akt9gO22Kwh+B+P1+XKefTmp6OiVLl6oRSIKNQFwuF94ffqBhWprUSY1AYvYeUZcRSGX3CGO+Qfq/N2P9z4e2SkMTGlZrC/O8lqQMPpHAGQGsNIv09HT27NlDTk7OUSEsZ+ZADgCfADOBWYAG3AIMB04L6zAJyZL9gqeWmHzwi8CwYFBzjT+cpnN5K400t1bv/QdNwZztgv/8bPH+LwJvSB5jdE+dASfXnBJUXFxMp06dWL16NVlZWfW2RxFbKH0Tm6P0XZMFjwBfAMcB5wODgIFAi8o/X9m9vUoHcscdd/Dpp5+ya9cumjRpQlZWFhs2bKjRyFpPou8D/ga8BOwFrgDGAL1q/miisPpXwbiFJjM2Cdplwx876VzfTuekhvV3GlXhNwQzN0uHteJXGHCSxsM9dQY119C0yo9rGAaFhYX06dMHt7ve02eKGEPpm9gYhsHK/6yk27vd0D/UoRPwOPKeG0Z5rFo5kLpS51VYpcA/gGeB9cBQ4AnghEhaF1ts8gjGLzL5xwZB8wwYd7qLm07TcOv2OY5jsYTgky2CCYstftorOCtH469nueh6fPRsUCgUNrMeGAf8B2gDjAeuIyzHUUZs18JKA4YAK4AXgP8C7ZEjE8NBu2zAsATPLDXp9K7BF9sEL+bprLvGza0d9Kg6DwBd07i8lc7837mYdaGLvaWCXjMNRv5k4gsd/Wzh8XjIzs4uX2mnSCyUvgnIVuR9tRNY31nck3oPnp88cCO1ch5VETsOpIwU4B6kx7wGuBfoA6xy0qjIsfyAIO9Dk1GFFnd11tlwrZu7u7ho4HL2iV/TNAa10Fl6tZtxp+u8uMKiy7sGn/xilb8nIyODgoICMjIyHLRUYRdK3wRCAK8DnYGPgOdArBPcsfAOMhpHTt/YCWFVxUKkt9wETALuRE66xxmGJcNEE5ZYtMuGN8520S8n9vx3GT97BHfNNZm9TXBbB42X+rtIj8BEvkKhsJk9wO3Ah8BtwGQgArfi2A5hVUUusAC4FbgLuBz5BcURu0sE539m8vhiiwe76yy+yh3TzgPg1GyNzy908frZLv61QdDvQ4NF24vRNE2FOBIUj8ej9I13Pge6AfOAD4BplDsPO/SN7btYGQ2BV4CPgR+BHsB8Ry0Km4LdFqe/b7DmoODrS1w80cf5cFW4aJrGrR10frrCTcCEc75M4+Uf95CZmem0aQobyMzMZOvWrUrfeEQAE4FLgN7AcuB3R7/FDn3jw4GUcSmwDDgVOBf4l6PWVIsQgldXmZzziUmbLI1FV7o5O4xci1ik6/EaC650c3lLjbuXNuZPBRaGFdHIpyIG0DSN7OzsKpdxK2IUH3AtMBoYi3zQzqn4Njv0jb872knAV8gv7HpkzohV7SeijmEJ/viDxV1zLe7spPP1JS5OyYjvizIzRePV3BL4xzBeW21xxRcVV2kp4pvi4mIaNWpEcXGx06YowmUz0B/4DJmYPZ4q7+p26Bt/DgSgAfAW8DQwAblay++kQYfxG4L8OSavr7V442wXL/Z3kRonIauayM7OoujjSXwyyMV3uwS/+dRkj185kUQhKyuLoqIilYUeLywH8gAvMqR/ZfVvt0Pf+HQgIFdiPQi8j5w4uhhw+MHpYEAw6HO5cunDgS5u6RC/X29lCCHweDxc0Ezju0vdbPEK+n9ksKFIOZFEoEzfCC/MVNjBPOBsZERmHtC15o/YoW/83+F+h6znsghZx+VXZ8zY4ROc/YnBil8FX13i4pKW8f/VHovX66VFixZ4vV5Ob6pRcLkblwb9PzJYuFfddOKdI/VVxDCfIWtXdQe+pdL5jsqwQ9/EuMudiZwXWQf8FllTK4ps9QrO+tjg1wD8cJmbvBhfoltXsrOzEUKUrwFvk60x93I3bbM1zv/MYNE+5UTimWP1VcQgM5APzRcgC9E2Cv+jduibOHe63khvvBM4B9gRncPu8Al++6mBJaTz6HxcYsx3VIZpmqxcuRLTPNxYpmmaxuyLXLRvJJ3I0v3KicQrlemriCE+AP4POef7HpBeu4/boW/iOBCQCTT/Q86FXADst/dwu0sE531mUGrCN5e4aZWVuM4DwOfzkZeXh8/nO+rvjVKlE2mbpXHepwbLDygnEo9Upa8iBvgU6TiuAv5OnXrJ2qFv7JcyqQvrgLOA1sjQlg2LSvaVCn7zicH+AHx3qZvTGiW28wiHA6XSoW73wbeXJvZoTKGIGl8gK3BcBExH1gt0gPgsZVIX2gOzgbXIeGFpZHd/MCC44DODPaXw9SXJ4zwMw6CgoADDqLw88vFpGnMudnNSQ/jtpwY/e9RIJJ6oSV+FA/yA7NdxHrIUez2chx36JqYDAdmQ6lPk+uhrgVBkdhs0BVfPMfnFC3MudtOxcXI4DwC/309+fj5+f9VJN03SNL662E12Clz0ucH+UuVE4oVw9FVEkbXIkccZyDmPBvXbnR36JmYI60hmIUW4DniTelXyFUJw83cm//lZ8OXFrrgtTRINfvbIAowdGmnMudgVkZa8CkXSsBuZJJgOzAUaO2sOJFMI60guRE46/R14sn67emyRxdvrBW+ek5zOwzAMZs+eHdYQ+NRsjY8Huli4TzpdSyWnxTy10VdhIz7gMmTo/XMi5jzs0Dc57oL/h6wRMxo5FKwDf19nMX6RxYTeOte1S46v7VhKS0sZMWIEpaXhTSr1y9H5529cTN8oeLgwxgqWKSpQW30VNmAg71erkCH4lpHbtR36Jn4IqwyBFOYj4Htkn5Ew+Wq7xYWfm9zcXuO1AS5VrbSWPL/cZMR8i7+dpXNHpwj00VQoEhGB7Hn0GrKi7kXOmnMsyRnCKkNDzoF0Q86JbA/vY6t/FVz1pcl5zTRePSu5nUcoFGLGjBmEQrVbkXBfV527O+sMm2vx+VY1EolV6qqvIkK8Cvz10D8bnIcd+iaPAwE5IfUB8qx/B5RU/3ZPUHDllwbNM2D6eS5S9OR1HgDBYJDJkycTDAZr9TlN03ghT+fiFhrXfW2q5b0xSl31VUSAH4D7gHuAofYcwg59kyeEdSRLkImGZYk5lfgFIQT5X5l8sU1QeIWbDkm0XNcuDgYEvT8wyHTDvN+5aahWZikUsuxSLjJ/bQ6OJQrWRHKHsI6kJ/AO8C7wQuVveW6ZxXubBG+f61LO4xDBYJBp06bV+QmmcQONmee7WVcEd/5gqrLhMUZ99VXUgSCQj7wT25xlboe+yelAQDZfuR/ZU6Tg6Je+3m4xstBiVE+dK1on71d0LJGIoXZvIhcivL1eMGW1mg+JJdQciAMMBwqRq0PDLMteV+zQNzlDWGWEkL3VtwCLgaayNPvp7xv0bKIx60IXriSf97CLP801mbLG4vvLXJxxonLSiiTkLeAWYApwu7OmhIMKYR1LCvBfZMLODRAICQbPMWnohn//VjmPYwkEAkyePJlAIFDvfU3qp9O7qcbgOSZ7VVvcmCCS+ipqYBnwR2AIUXMeduib3A4EoDnwT+ALmHO3YMl+wbvnu2iappzHsZimSUFBQUT6CaS6NKaf5yJowf99bWJayok4TST1VVRDCfB7oAPwUvQOa4e+yR3COoL19wravgQfTrO46laV7BYtvt5ucf5nJk/11Xmwh/reFUnAHchFPAuBTg7bUgtUCKsKdpcIzs41WN5dcOXDOuxx2qLYJBAIMH78+IgOgX/bTOfBHjqjCy3VV91h7NBXcQzvIjPN/0LUnYcd+ia9A7EOVdgVOjR/X0MzNZnIo+5lFbAsi23btmFZkV099ViuTo8mGtd9Y+ALqS/eKezSV3GIX5D3lnzgtugf3g59kz6E9eIKk/sKLD6/0MWFLXT4ENnAZSpygksRFdYelKvfbminM2WACmUpEgwDueJzGzKROQbKs9cWFcI6hqX7BQ/+aHFfV106D5AlTm5DlhXY4KBxMYid1Vo7NNZ4Ic/Fa2ss3t+knoCdQFXjtZHHkflm/8Qx52GHvknrQEoMwXVfG3RqDE/1PeZreB6Z1HMj8slBERWGdNC4opXGkO9NdvhUKEuRIMwHngDGAWc6bEuESdoQ1j3zTKatsVhwpZvOx1WyZLcAWS9rPDAmurYlM/tKBd3fM+hynMbsi1zoSVz9WJEA+JHttRshOwu6nTWnPqgQ1iG+22nx0kqLJ/vqlTsPkO0kRwOPIksNKPD7/QwZMsTWntlN0zTePtfFnO2Cl1eqUFY0iYa+ScdoYDMy69xh52GHvknnQHwhwa3fmQw4SeNPXWo4/THA6cAN1Fj6PRnQdZ3mzZuj6/b+bM5vpnNXZ51RhZYq/R5FoqVv0vA/ZLHWCcREvocd+iZdCOtPc01eX2ux7Go37RqFER5Zi6zeexfwnM3GKcrxhgTd3jVonaXx1SUqlKWIM7xAd+AU4DsgARYWJn0I67udFi+vsniqrx6e8wBZbuBR5MT6TzYaFweUlJSQn59PSYn9w7HMFI1pZ7v4dqeq2hstoqlvwvMgsBsZuooR52GHvknjQI4MXd1dU+jqWEYgJ8JuBZI4SdflcpGXl4fLFZ0r4rxmOrd31HnwJ4tfilUoy26irW/CMgfZlvZpoJ3DthyBHfomTQir1qGrY1mG7Br2MHJEoogKnqCg67sGHRvLVVnJ3JNeEQd4ga5AW6QjSaBH9KQNYdUpdHUs3ZHOYyLSmSQhPp+PQYMG4fP5onbM7FSNqQNcfLld8PpaNQqxEyf0TTjGImvpTSPm7q526Btjpxh5Sg3B0P+ZnJVTh9DVsYxGzoncSlImGKakpJCfn09KSnSbNg9qoXNLe43755ts8yonYhdO6ZswLABeROaOtXXWlMqwQ9+ED2E9tsjk8UUWS6+uImGwtvyEzBF5EjlRpogKBwOCLu8anN5U46OBKpSliDFCQN9D24U4nvNhB0kXwtpQJJi4xOKB7tUkDNaWvsg+xmOB9ZHZZbzg8/nIy8tzJMTRuIHGS/1dfLJF8NEvahRiB07qG/e8gAxtTyVmnYcd+iasAxFCcNdck5PTYczpET7Nx4CTgT+RVGXfU1NTGTFiBKmpqY4c/8rWGhc217i3wKTESKIvPko4rW/cshFZ5+peoLfDtlSDHfombAjrvz9b/P5rk48Huri0lQ1+8mPgcmSDmKsjv3tF5WwoEnR9z+D+bjoT+qjlpgqHEcAgYB2wAsh01hw7SZoQVlFQMHy+yZWtNXucB8Blh/7dh1y6lwR4vV66dOmC1+vcCbdrpDGyh86zyyzWHFSjkEgSC/rGHf8EvkTmfcS487BD34R0IGMWWHiC8GKezU+oLwL7kLX+k4C0tDQmT55MWlqao3Y81EOnRQbcPdckwgPopCZW9I0bDiDnQ38PXOSwLWFgh74JF8JauFfQ90ODZ/rq3N89CiGOJ5CJhUuBzvYfTiH5fKvFxbNM/vNbF9eempDPQYpYZxhyBLIWOMlhW6JAwoewTEvwxx9Muh4H93SN0qn9GWiNLLaY4A/DxcXFNG/enOLiYqdN4aIWOle21hg+38QTTPAvPkrEkr4xz0Lgb8joQ5w4Dzv0TSgH8rfVFgv2Cf56losUPUp5Ag2Al4FvgX9H55BOkZ6ezowZM0hPT3faFABeyHNRFITxC1WxxUgQa/rGLBZy9NHt0H/jBDv0TZgQ1q4SQYfpBteeqvHaAAcWYg9Gdhxbg+w+pogKTy8xGb3AYtGVbro3UcmFiigwDRgKfI/sWpokJHQIa8R8k1QXPOXU0s7ngWJkGYMExePxkJ2djcfjcdqUcoZ302nfCIbNNbHUhHq9iEV9Y479wEjgJuLOedihb0I4kDnbLf79s+C5M1wcn+bQU2gLZHb6SyRsscWMjAwKCgrIyMhw2pRyUl0ar5zpYu5uwdvrlQOpD7Gob8wxGlm25BmnDak9dugb9yGsgCk7153cUOPbSx2ukRREdi88HtnOMiHcc3xw/dcGX24XrMl3O/cQoUhsCoEzkGVL7nHYFgdIyBDWiyssNhbDq2fGQIG9VOBV5FzI286aYgcejwdN02IyxPFcPxcBE0YvUBPqdSWW9XUcC7nSMs4mzo/EDn3j2oHsLhE8sdhiWGedLsfHyFPnucB1yEq9vzprSqTJzMxk69atZGbGXsrtyQ01Hu+tM2W1ReFe5UTqQizr6zhvIUcgrxCzxRJrwg5949qBjFlo4tZhXKSLJdaX55Ctb0c7bUhk0TSN7Oxs50d6VTCss06PJjDsBwvTUvMhtSXW9XUMD7KZ3P8RdxPnR2KHvjF25w2fJfsF09YIxp+u0yTWYt4nI7PTpwDLHbYlghQXF9OoUaOYTTRz6xqvnuliwT7Bm+uUA6ktsa6vY0xEOpGnnTakftihb1w6ECEEwwtMOjSGOzvH6CkMA04F7idhMtSzsrIoKioiKyvLaVOqJC9H5/p2GmMWmBSrDPVaEQ/6Rp2fkUv0H0SutIxj7NA3Ru++1fPBZsG3OwWT+0Ux47y2pCJDWV8CnztsS4QQQuDxeGK+gOHEPi4OBuGZZWoupDbEi75R5c/AiSRE91E79I07BxIwBQ/8aHJhc42LWsS4+ZcBv0GOQkIO2xIBvF4vLVq0iPly3y0zNUZ003lumcVW1UM9bOJF36jxNfA+MuejocO2RAA79I3xO3BF/rLC4hcvTOoXB82ENGASslrnVIdtiQDZ2dkIIWKi131NjOyhk50KowtNp02JG+JJX9sxkL1++iPLtScAdugbVw5kd4ng8cUWd3aKYI9zu+kF3IzMUj/orCn1xTRNVq5ciWnG/k05K1Xj8VwX72wQLFDLesMinvS1nWnIBTAvIh8EEwA79I0rBzJ2oYVLg/G5cWW27BlSCkxw2pD64fP5yMvLw+fzOW1KWNzaQaPrcTBivqXi+mEQb/raxkFgDPLBL4Z7nNcWO/SNmzvx0v2CaWstxufG4LLdmjgFeAj4C3JVR5xSVogtXkIcbl1jUj8X3+8SfLBZOZCaiDd9bWMi4D/03wTCDn3jwoGULds9LVsmi8Ul9wMnICt5ximGYVBQUIBhGE6bEjYDm+tc2Fzjzz+ZBE3lRKojHvWNOJuRYauHkPlcCYQd+sbF3fjDXwTfxPqy3ZpoCDwJvIvsIxCH+P1+8vPz8fv9TptSK547w8WmYnhllZoLqY541TeijAKaAiOcNiTy2KFvzFfjDZiCLu8atMvW+PzCGCiYWB8sZDVPgB+JE/edGNz5g8l/N1psuEZV61VUwY9AP+AN4BaHbYlB4rIa70srLTYXw6Qz4tx5gPy2JwMLgH85bEsdMAyD2bNnx2WI49FcHcOCxxarUUhVxLO+9UYADwDdkc2iEhA79I1pB3KgVDBhscXtHWOo2m59GQBcjRwqlzhsSy0pLS1lxIgRlJaWOm1KrTkxXePhnjqvrLRYd1DNhVRGPOtbbz4AfkBWj4iDFLO6YIe+MR3C+vOPJn9bLcMOOQ0TxIGAXInVGXgEuVxQERVKDUHHGQa9mmi8PzBOa3IrIk8Q6AK0I2HKDtlBXIWwtngFL620eKCbnljOA2SRxXuAp4AdDttSC0KhEDNmzCAUis+6LGlujSf7uPjgF8G3O1Qo61jiXd86MwXYCDzrtCH2Yoe+MetAxiwwaZQKI7rFrIn1YzSQDoxz2pDwCQaDTJ48mWAw6LQpdeb3p2qccaLG/T+aWCq58CgSQd9acxDZeuFWoKvDttiMHfrGZAhr6X5Br5kGL5+pM6xzggYkQZaJ/jOwEujgsC1JxLzdFmd+ZPL3c1zc1D5BH1AU4TEKmeC7gYTL+4g0cRPCGvmTSbtsGNoxJs2LHHcis9TjZB4kGAwybdq0uH9C7Z+jk99G4+EFJn5DjULKSBR9w2YHMmlwBEnhPOzQN+bu0F9vt5i1TTCxTxwnDYZLGnL4PAO5tDfGSaQY+cQ+LnaXwMsr1VxIGYmkb1g8jgwjP+C0IdHBDn1jKoRlCcEZH5i4dCi4PAHyPsLBQK49bw584bAtScZdc03+/bPFxmvdNG6QBL81xWEb+SG1AAAgAElEQVQ2AJ2QC1nud9iWOCHmQ1gzNgoW7BM801dPDucB4EZW6f0S2cAmhgkEAkyePJlAIOC0KRFhTC+dgAlPL1WjEEg8fatlLJCDbD2dJNihb8w4kKApeLjQ5NKWGmefHDNmRYcrgL7ICb0YDsmbpklBQUHC9Is4qaHsXPjiCovtvhj+4qNEoulbJUuAfwPjkSGsJMEOfWMmhPXSCpP75lssu8qdOFnnteFr4DxgJnClw7YkEZ6goO1/DK5qo/HaAJVcmBRcjEzmXYmMACjCImZDWJ6g4LHFFjefpiWn8wD4LXABMj8kRksRBQIBxo8fn1AhjuxUjdG9dN5YK1ib5CVOElHfCnyHzDafQNI5Dzv0jQkH8twyC28IHs1N4JyPcJgIrAbecdqQyrEsi23btmFZiTVncGcnnWYZMHpBgoduaiBR9S1HIMPEuch6dEmGHfo6HsLaWSJo91+De7roPNk3yR0IQD7wE7AWucxXERX+vs7i5u9Mfvydi74nxsRzlSLSfAT8Drlg5XyHbYlDYjKE9ehCizQXPNTDcVNigyeA7cDfnDakIolcrfWGdrJ/+sifkrd/eiLri4kMD/+WpHUedujr6F173UHZ53x0T12twy+jA7KZzQTA47AtSYRL15jYx8U3OwVfbEtOB5LQ/AtYgewKqogYjoawrv3KoGC3YN01btLcyoGUsw1ZWnokcqmhIioIITj7Y5PikGDRVW70ZMlFSnQCQEfgdOA9h22JY2IqhLVon2D6RsH4XJdyHsfSHLgbmATsddiWI/D7/QwZMiRhe2ZrmsbTZ+gsPQD/+Tn5RiEJq+9rwBZkeDiJsUNfxxzI6EKTjo3hptOU86iUUUh1JjptyGF0Xad58+boeuLOV/XP0bm8lcaYBSZBM7mcSELqW4yseXUzsnRJEmOHvo6EsP630+KcT0xmnOdicNsE+rFGmieQP/51QCuHbUkiVh4QdJ9p8GKezt1d1MrAuOZx5HziOqClw7bEOTERwhJCMKrQIrepxtVt1OijWu4DGhMz8yAlJSXk5+dTUhJnzdxrSZfjNW46TePxxRbFweQZhSScvvuQPc6HoZwH9ugb9VzMT7cI5u0WzL4oSart1odMZK+Qe5GNpzo7a47L5SIvLw+XK/Gfyh/NdfGvDQYvrrB45PTEP19IQH2f4nDyYATxer3s2LEj7hIug8Egbdu2ZcOGDaSmplb6Hl3Xady4MU2bNg0r1BXVEJYlZKfB4xpofHOJciBhEUQu7e2FrJOliBr3FZi8udZi0+/dHJ+mfqtxxVbgNOBhZOXdCDF//nxGjBiR8E23cnNzGTt2LM2aNSv/W2X39qg6kH9tsLj+G5N5l7vIy1FzH2HzDnATMB84wzkzfD4fV111FTNnziQjI8M5Q6LEHr8stHh3F52nkqBKQkLpOwSZef4zkBWZXXq9XgYOHEjv3r0ZOnQoKSkpkdlxlDBNky1bttCyZcsqR5mmabJt2zZeeeUVDh48yJw5c8pHK5Xd26MWwgpZgrELTS5rqSnnUVuuA55B5oV8DTj0MJySkkJ+fn7cXTh15cR0jeHddCYts7i3q87JDRN7FJIw+q4B3gSeJ2LOA2DHjh0Eg0GGDh1Kt27dIrfjKGFZFieeeCJNmjSpNjzVpUsXcnJyGDJkCFu2bKFdu3ZVvjdqd/I31lps9MCEPon/JBdxXMjlvN8i6/g4RGpqKkOGDKkyfpqI3N9NJ80NTyyOr3h3XUgYfR8BWgB3RHa3ZXMe8epgdV3nhBNOCGtuIy1NFuIzjOpLg0fFgfgNwWOLLK5rp9EtWcu115dLgTxkTNehe5nP5yMvLw+fz+eMAQ7QuIHGQ911XlttsdGT2CuyEkLfQmS2+aNAA4dtcYgFCxZw7bXXVvi7aZqsXr06og2louJAXl5pscevyrXXCw25qmQhjpVjSE1NZcSIEfH/hFpL7u6i0zQNHl2U2OXeE0Lfh5GrFW9w2hDn6N27N//9738r/F3TNHJyciK6eMl2B1IUFDy11GJoR51Ts9Xoo16cDVyErCoaiv7hEyZGXksyUjQe6aXzznrBygOJOwqJe33nHPo3ERn2TQL8fj/XXnstnTt3pkePHgwcOJBvv/2Wnj17ArB582YaN27MuHHj6NOnD3379mXWrFkRO77tk+jPLbPwG/BILzVxHhEmIpf0vgUMje6hvV4vZ5xxBj/++COZmZnRPbjDDO2o89wyi7ELTd67IDFb2cW1vmX5Hv2Ay6N32I0ewUGbVvQ2ToW2NTx0z5o1i4MHD7Jq1SoADhw4wLJly456T1FREd27d2fs2LFMnTqV4cOHc/HFF0fERluvhN0lgueXW/ypi84pGWr0ERF6Ar9HZqffAKRH79BpaWlMnjy5fIItmUh1aTya6+IP35kU7rXoc0LiPRDFtb4zgQXIhSZRutXsKxWcNt3AsmlQ6tJg1w1umlaTg9SjRw9Wr17NsGHDOOeccyp1DGlpaVx11VUAXHzxxdx9990Rs9FWB/LkUgu3rppFRZzHkYXhXgEeiN5h3W43gwYNit4BY4zr22k8tRRGF1p8cXHi/abjVl8DGdYdBJwTvcM2TdNYf43b1hFIdc4DoG3btqxatYqvv/6aOXPm8OCDD/LCCy8c9Z4GDRqUz3scf/zxEZ1Et82BbPUK/rrKYkwvXWXxRpp2yESpiYf+2zg6hy0uLqZTp06sXr2arKwILrCPE1y6xhO9XVw9x+SbHRa/OSWxnEjc6vs2sgX0v6J/6JpCTHazbds2jjvuOC6//HIuvPBCPvjgA7Zu3Vrpe03TZPny5RE9vm1XwNNLTRqlwn3dEusiixnGAKXIYnFRIj09nRkzZpCeHsW4WYxxZWuN3KYaowsTr/VtXOpbCowDrkU2jEoyli9fzplnnkmPHj3o1asXN954I927d6/0vbqu06ZNm4ge37YRyD83CCadq5OZokYftnAKcA8y2/Zu4CT7D+l2u8nLy7P/QDGMpmlM7KMz6HOTT7cILm2VOL/vuNT3VWAnMqybhFx00UVcdNFFFf6+ZMkSAFq3bs3BgwcB+ds96aSTIvrgU+XwYP369fTv35/27dvTp08fVq5cWasdn5QOf+ykRh+28hCQiux3EAU8Hg/Z2dl4PMndrP2CZhrnnqwxeoGJlUCjkLjTt4jDYdzTHLYlDjBNk0WLFkUnkfCOO+7g9ttvZ926dTz00EPcfPPNtdrxyJ6qVa3tHId0IlOAjfYfLiMjg4KCgvgvtFdPNE1jQh+dZQfgvwnU+jbu9J0E+JDhXEWN6LpOp06dItqRsNI97dmzhwULFnDDDTKd8+qrr2br1q1s2LAh7B1f1045j6hwD9AUGQe2GZfLRZcuXRKnX0Q96J+jc2lLjbELTUJ2reOMMnGl7x5gMvL336yG9yoA+eCTnp5ufyb61q1bOfnkk3G73eUHbtmyJVu2bKnw3kAggMfjOeofgBEoBaC0tJTSUrnt9/sJBAKA7I5Vtu3z+crr6/t8PkIhmWbt9XrLi3kVFxeXb3s8nvJhmMfjwbLkhKbH40EIgWVZ5XaYpnnYJsOguLi4fNvr9QIQCoXK6/8Eg8Hy7UAgUN69KxAIlDejj6lzSjUofbAU/gnGInvPaefOnWiahsfjUToBIzv62eCBt9ZaCXFOHo8HTdM4ePBgzOtkPm6CG7x3Re+3V2a7ZVnl+z52u6zgYlXbpmmGtV02T1HTthCiwjZQ6bZpmixYsKD8e6zuPMq2g8HgUTpVQFTCggULRPv27Y/6W58+fcRXX31V4b3jxo0TyDzQo/7deOONQgghhg8fLoYPHy6EEOK2224T48aNE0IIMXjwYDFp0iQhhBADBw4UU6dOFUII0a9fPzF9+nQhhBCdO3cWs2bNEkII0axZMzFv3jwhhBBZWVlixYoV4lAvE7F161ZRVFQkAFFUVCS2bt0qyk5txYoVIisrSwghxLx580SzZs2EEELMmjVLdO7cWQghxPTp00W/fv2EEEJMnTpVDBw4UAghxKRJk8TgwYPLz/O2226LyXNqdUorIU4VYvcZu209pwsuuEA888wzwjRNpdOhc7r8Y49o9k6pwN0g7s/JNE0BiF9++SWmdbqi5xXCdJlCTIjub69Hjx4iNzdXzJ07V6xdu1YIIcTOnTvFhg0bhBBCbN++XWzatEkIIcSWLVvEli1bhBBCbNq0SWzfvl0IIcSGDRvEzp07hRBCrF27VuzZs0cIIcSqVavE/v37hRBCLF++XBw8eFAIIcSSJUtEcXGxEEKIhQsXipKSEiGEEIWFhSIQCAjDMERhYaEwDEMEAgFRWFgohBCipKRELFy4UAghRHFxsViyZImwLEvs27dPLF++XAghxP79+8WqVauEEELs2bPnqHOaPXu2yM3NFXfddVe5TsOGDSv//sqo1IHs3r1bZGVliVAoJIQQwrIskZOTI9avX1/hvaWlpaKoqKj8X5kwu3btEkII4ff7hd/vLz+p0tJSIYQQPp+vfNvr9YpAIFC+HQwGy0+8zAaPx1O+XVRUJAzDKN82TVNYliWKioqEZVnCNM3ykzQMo3w7FAoJj8dTvl0mTDAYFF6vVwghRCAQKN8uLS0VPp+vfLtMvJg8p39JNX1f+Gw7p+LiYrF3715hWZbS6dD26gOGcE0Niid/8sb9OVmWJbZu3Vq+Has6Ba8PCivHEsIb3d/ewoULRW5urli5cmX5vk3TPGrbNM1qtw3DCGvbsqywti3LqrAthKh027IsEQqFqrT9yO0VK1aI3NxcsXTp0nKdvl67OzwHIoQQ55xzjnjzzTeFEELMmDFD5ObmVvXWozjSyyuiiCmE6CGEGCCEsOw5hNK2coZ8FxInvB0UnoBNX3yUiAt9lwshNCHEK9E/9OrVq0Vubq5YvXp19A8eAY4crdTEsecaMCzR6vV9FX4fVU7HT5kyhSlTptC+fXueeuop3nzzzareqogFdOSSxu+ByBXbPIqsrCyKioriK0s5Cow93UVREF5cEd9Np+JC30eA1silu4paoes6vXr1qtMqrNfXWvzirfj3KhMJO3ToQEFBQa0PpHCQi4CzkD0RBhHxOgPi0CRkZmZmRFdyxDstMjWGddZ5dpnFsM7xW7on5vWdD3wI/AOZ/6SoNaZp1tqB+A3B44strmmrMf2Y11SmXyKhAU8CS6CC0hHA6/XSokWL8pUpisOM6qljCnhmWfyOQmJaXwGMBLoD/+ewLTFGQUEBZ511Fj169KB79+58+OGHLFiwgP79+9O9e3f69u3L3LlzsSyL7777joEDB9KtWze6d+/OLbfcUuP+X1llsdcPo3pWXN6dmI0NkpmzgEuQyVVXAxHsDZSdnZ1w9Z8ixYnpGsO76UxaZnFvV52TG8bgE3wNxLS+XwDfAR8TW4+9G4GDNu27MdC2+rccOHCAK664gnfffZcBAwZgWRb79u2jd+/eTJ06lUGDBvHDDz9w9dVXs2HDBlasWEHbtm358ssvyz9fHd6g4MklFrd10CstHKkcSCIyAdk35A3gjsjt1jRN1qxZQ8eOHeMj2SzK3N9N55VVFhMWW7x8Zvx9PzGrr4UMy56JfDiKFfYhS6jYNeh0AbuQicJVUFBQQIcOHRgwYAAg5zl2796NruvlpfnPOusscnJyWLx4Mb169eL555/n/vvv5+yzz+bCCy+s1oS31lv4DBhzug6VVEBRDiQR6QFcBzwG3ETEmk75fD7y8vLYtm0b2dnZkdlpAtG4gcZD3XXGLLS4v5tOmzhr4Ryz+r4LLEIuEImlr7QpsB57RyDVOI/aoGkalmWRnZ3NwoUL+eabb5g5cyZjxoxh8eLFlT4wWALeXGdx9290mmVoVFYiTTmQROUxoCPwMvDnyOwyrgrtOcTdXXReWGHx6CKTt86Nr8srJvUNIVdeXYwMz8YaNYSY7KZ///6sX7+e77//vjyElZOTg2VZfPnll1xwwQXMmzePXbt2kZuby969e2nUqBHXXHMNF154ISeeeCJer5dGjRpV2HfRoUZZI3tWHTOMpWiiIpKciuyZ/iQRe0IyDIOCgoLychGKimSkaDzSS+edDYJVv8bofEIVxKS+byGf8ic6bEeMctxxx/H+++8zcuRIunfvzumnn86PP/7IzJkzGTduHN27d+e+++7j3XffJSMjg1mzZpGbm0vPnj3p378/zz77bKXOI2gKikOCW9rr1XZFjK9HJEXtGIO8AJ8Dnqj/7vx+P/n5+fHXsS7KDO2o89wyi7ELTd49P34usZjT1w+MR4ZjezhrSizTr18/5s6dW+Hv8+bNO+r/TdOkf//+3H777TXOce0tBU2DW06rfoyhRiCJzMnAvcimU7vqv7usrCy2bdsWGzeXGCbVpTE+18V7mwQL9sbPst6Y0/cVZNXdx5w2JDFwuVz06NGjRudRagh+DQgapWhkpFY/6aQcSKLzIBFrOmUYBrNnz46tEEeMckM7jU6N4ZEF8eNAYkrfg8iw1VBkOFZRb4QQFBUV1bhUe3sJpOiQFUaypnIgic6RTac21W9XpaWljBgxovKyzoqjcOkaj/d2MXub4Lud8eFEYkrf55D9zlWzqIhhWRZbt24tLxtfGb6QHH2ckKaFteBNOZBk4B6gCfVuOpWZmcnKlSvJzMyMhFUJz1WtNXKbajxcaMVugt4RxIy+u5Fh13uRYdgYoawESFl/lXjD5XLRtWvXakNY20sgzQXpQj5ElPWEqor4meFT1J2GwFjgLuSS3m51200oFOKDDz7giiuuICUlginuCYqmaUzsozPoc5NPtgguaxVLSQwViRl9n0CGXR90zoTKOOWUU0hNTWXq1KkMHTo07q6BsiZa2dnZldbD8gUFG4oMXEXb+fuUV2jYsCEtW7asdp+aiPCjkcfjoVGjRhQVFcVWMlKyEwQ6AV2RBenqgM/n4/zzz2fOnDnx0zfbYYQQnP+ZyW6/YOlVblx67DqRmNB3E9ABOXE+0hkTqmP+/PmMGDGivKtfPCGEYPfu3eTk5FRaLHNXiSw5dnJDyM3NZezYsTRrdrhfcGX3duVAkol/AdcD84A8h21JIgr3WvT9wOStc1z8ob2KGlfLTcAcYANy5ByDeL1eduzYUe1cQrzxzXaLYXNNXj83hcs6NaFJkyYVRinKgSQ7FtALObH+DbUuCxEMBnn77be56aabSE1V9bRrw+A5BoV7BWvz3aS5Y3MU4ri+y5H5Hq8Cf4z+4ROdqvS1hKDnTIMmDTS+vsRVZSn/yu7t6nEomdCRy3m/Q1Y3rSWhUIgZM2bE7SSik0zo7WK7D/66OnafWh3XdzSyNMhtzhw+0alK33//LFh+AJ7so9e6D4wagSQbAhgAlAALUI8QUeT27w1mbhL8/Hs3jWpI0Eo65iGr7f4L1e8jigRNQacZBl2P1/hwYPVrqtQIRHG46dRiZJXTWhAIBJg8eTKBQMAGwxKfcae78BkwKUabTjmmrwBGIcNX10b30MlEZfq+vtZiU7EcIdcF5UCSkQHI6qaPIKudholpmhQUFGCalTQGUNRIswyNe7vqTF5usbsk9vJCHNN3NvA/ZOa5uiPZxrH6+kKyVe0N7TS6Hl+3EbEKYSUrS5AT6q8hy0UoosKvAUHb/xhc306Py6ZTEccCcoEs5NyciuxFjQmLTR5dZLE23x1W7xoVwlIcpicy1vwosuppGAQCAcaPH69CWPXguAYaI3voTFlt8bMntkYhjug7Hfkw8yTKedjMkfru9QueXmpxV+f6NT5TDiSZeQxZNuKV8N5uWRbbtm1LqPXvTvCnrjonpsOYBbEVCoy6viFkratLkRPoCls5Ut8nFltowOhe9XMBKoSV7NyJfArcCFTsK6OwialrLG7/3mTRlW56NU3SR+8pyN/fEqC7w7YkERs9go4zDB7N1RnVM/wwqgphKSoyBhnCeq7mt8ZUtdY455b2Gh0awcOFsTMKiaq+Jcjw6fUo5xElyvQd+WOQE9Lg3q71v/0rB5LsnIKs1vs8MpyliApuXWNCHxeztgm+3ZGEIcGXgb1IJ6KIGrvTmjFjs86juS4aRqAiggphKeBXoA2yDtFfHLYliRBCcMaHJhow/3dVl5BIOH5FZpxfj3QkiqgghOCCz0x2lAiWXe3GXcvCniqEpaicsqZTfwM2V/02v9/PkCFD8PvDXLalqBZN03iqj85PewXvb3Z+RVbU9H0WWR36EXsPoziajzcG+GqH4NEeZq2dR1UoB6KQlDWdqqYDnK7rNG/evNJeAoq68dtmOgObaTxcaBKynHUiUdF3J/AicB9wkn2HURyNJQRjFuu0DGzhspaRG+mqEJbiMFOQVVALgd4O25JELN0v6DXT4KX+Ond1SfDkwruAfyNX/TV22JYk4p31Fjd9azLvchd5OXV7QFAhLEX13AZ0Ae5H1ic6hpKSEvLz8ykpKYmyYYlNjyYaN7fXGL/Ioijo3CjEdn03IisfjEI5jyhSaggeWWByeQuLyXdfG1F9lQNRHMaNXM77PyrtWuhyucjLy6u2p7KibjzR20WJARMXO7ciy3Z9RwMnAnfbs3tF5byyymK7D544nYjrq0JYiooMQrYWXYHsTa2ICuMXmjy5xGJNmLWJ4oofgX7AG8AtDtuSRPwaEJz6X4Nr2uj8bUD9HIcKYSnC4zngZ+SqrCPw+XwMGjQIn8/nhFUJz5+76zRJg1EOJRfapq9AhkV7IJeKK6LGU0ssAiaMy9Vt0Vc5EEVFuiHnQx5Frtk/REpKCvn5+aSkpDhkWGKTkaIxobeL/24UzN8d/VCWbfrOBOYiH0xU9DNqbC4WvLjS4v5uOic31GzRV4WwFJWzCzgNuB2Y5LAtSYRpCXLfN2jo1ph7eQIkFwaBzkAH4FOHbUkyrv3K4PtdgnXXuMlMqf/vSIWwFOFzEjK58CVkOAsZ4sjLy1MhLBtx6RqT+rko2CN4d1N0V2TZou+ryPm0ZyK3S0XN/LDLYvpGwZN9XOXOww59lQNRVM0I5KqZkfJ/U1NTGTFiBKmpambdTs5rpnNJC42HfjIJmNFzIhHX91dky4AhyOXhiqhgCcHwAovcpho3nnZ45GHH9atCWIrqeQc58fkDqmdDFFn9q6DbewZP9dV5oHucThzcj8z7WI/KOo8iZUmD/7vUxYCTIzdGUCEsRe25HtlydAR4PV66dOmC1+t12qqEp9NxGrd31HliscW+0uiMQrzeCOq7ERn+fAjlPKKILyQY+ZPJ4DZaBecRUX0PoRyIonp05CT6T5D+UTqTJ08mLS3NaauSgvG5OkLAY4uisyIrLS0tcvr+GchBhkEVUePZZRb7SuHpvhVHrRHV9xAqhKUIjyuQnePWAMp/RI2nl5g8ssBixWA3HRrHyYqsb4DfAv8ErnPYliRim1fQfrrBPV11nqrEgdQXFcJS1J1nQGwXTMyZSHFxsdPWJA33dtVplgEP/mR/cmFxcTHNmzevn74mstJuHvB/ETJMERajCk2yUuHhnpXf1iOi7zEoB6IIj/Yg/ih40HiQ9OJ0p61JGtLcGk/2cfHRL/Z3LkxPT2fGjBmkp9dD32nAMmTJ9jgZMCUCP+2x+McGweO5LrJTK//iI6LvMagQliJ89gPtkE+WrzpsSxIhhKDfh7JfSOEVblwRagYUcQ4ik08vAd5y1pRkQgjBWR+beEOCRVfa9/tQISxFvfCkeBjlH4WYImCp09YkD5qm8XyezuL98Ppa+1ZkeTwesrOz8Xg8ddvBY4AfmBhJqxQ1MX2jYN5uweR+rmqdR731rQTlQBRhk5GRwQ3zb4COwDDAucrjSUf/HJ0/nKYxqtC0bVlvRkYGBQUFZGRk1P7Da5DLdh8GTomwYYoq8RuCh34yubyVxnnNqr+d10vfKlAORBE2LpeLLj27oL2iwTzgbactSi6e7uvCFPCwTdV6XS4XXbp0qVu/iPuB5qhlu1Fm8nLZ6+PZMFZd1UvfKlAORBE2Ho8HTdPwnO6RyzMf5KhqvQp7yWmo8URvnWlrBD/uifzwr1zf2oY4PgU+Q1bbVUu8o8bmYsGExRb3dtVpH8YS7zrrWw3KgSjCJjMzk61bt5KZmQnPAqXAGKetSi7+2EmnRxO4a66FaUU2lHWUvuFSCtwDnA9cFVFzFDVwX4HJ8Wkw7vTwbuN10rcGlANRhI2maWRnZ8sS46cg+4X8FVjksGFJhFvXeOVMFwv3Caauiewo5Ch9w+UZYCty/iNGF4clIp/8YvHhL4Ln+7nIqmLZ7rHUSd8aUA5EETbFxcU0atTocCLS3cheD2pCPar0z9G5pb3Gwwss9vojNwqpoG9NbAKeRM57dIyYGYoa8BuCewpMLmimMbhN+M6g1vqGgXIgirDJysqiqKiIrKws+YcU4BVkv+s3HTQsCXmqrwshItv+toK+NXEf0BR4JGImKMLgySVy4vzl/rVrOFZrfcNAORBF2Agh8Hg8HJV7ejZwI7Lq6gGHDEtCTkzXmNBH5/W1kWt/W6m+VfEp8BEwGYhcSF1RA+uLBE8vtXiwR3gT50dSK33DRDkQRdh4vV5atGhRsRz0M0AIGO2EVcnLHR11ejWBYXPNiEyoV6nvsRw5cT643odVhIkQgrvnmpzSEEZVUe+qOsLWtxYoB6IIm+zsbIQQFUvUnAQ8DkwBFjhgWJLi0jVePdPF4v0wJQIT6lXqeyxq4twR3tsk+GK74C/9XTR01/6LD1vfWqAciCJsTNNk5cqVmGYlcfdhQLdD/7W/cKziEP1ydG7roDG60GJPPSfUq9W3jJ+RE+fDURPnUcQbEtw33+SylhqXtarbbTssfWuJciCKsPH5fOTl5eHz+Sq+6EZOqBcCr0fZsCTnyT4uNA1G1rPke7X6Agjgj8hGUWPrdShFLXlskcWBUngxr+5Z5DXqWweUA1GETVkhtiqHwGcBfwBGAfuiaFiSc0K6xsTeOm+uE8yrx4R6jfr+A5iDzP2JXDklRQ2sPL+uyLIAABoDSURBVCB4frnF6F46bbLrHjOsUd86oByIImwMw6CgoADDMKp+09PIENbD0bJKATC0o05uU4276jGhXq2++5D5Hr8HLqqPpYraIIRg2FyTttnwQPf63a7Dun5riXIgirDx+/3k5+fj9/urflMOMAGYiiy4qIgKckJdZ+l+eHFF3UYh1er7AGAAL9TLTEUteXu94H+7BC/3d9HAVb8VC2Fdv7VENZRSRB4T6A8UIfuoqwJ7UePeeSZT11gsH+zm1HqEO47ia+A85EPBkMjsUlEzu0oEnd81uLiFxj9+43baHNVQSlE/DMNg9uzZNQ+BXcAbwEZkkyFF1JjQRycnHYb+z6x1wlil+vqBO4ABwK2RtFRRE3+aZ+LW4IV6TJwfSdjXby1QDkQRNqWlpYwYMYLS0tKa39wFWeLiGWCxzYYpyslM0XhtgItvdopady+sVN8JwBZkjo+6W0SNmZss3t0keKm/i6ZpkRlJ1ur6DRMVwlLYRxDojRyR/ISsnaWICrd+Z/DeJsGqfDfNMup4A1oEnIF8EBgXQeMU1fJrQNBphsEZJ2p8cEHt6l3ZiQphKepFKBRixowZhEKh8D6QigxlLUP2D1FEjUn9XDR0w50/hB/KOkrfIHAzciQ5ykZDFRUYMd+k1IS/nhlZ51Hr6zcMlANRhE0wGGTy5MkEg8HwP9QbuYLnUWC1TYYpKnBcA1nm5OMtgukbw3MgR+n7OFKvvyMfBBRRYfZWi7fWCZ47w8UpdR05VkGdrt8aUCEshf34gZ5AE+B7ZEhLERWumWPw7U4Zygo7lr4A6IfMNlcZ51GjOCjo+p5Bu2yNORfHTuiqDBXCUtSLYDDItGnTav8Ek44sbzIf+IsNhimq5KX+LiwBd3xfcygrGAzyxl/fwPqDBd1RoasoM2K+yf5SmDrAHudR5+u3GpQDUYRNvWKoZyFLgI8CVkTYMEWV5DTUmDLAxczNgnfWV+9AQqEQDZ9tiLZek6Erteghanz0i8W0tYLn81y0jVT+zjHYMQeiQliK6OFHzom4kauyGjhrTjLxh28N3t8sWHa1m9ZZVdygfgLykLk7qrdL1NjjF3R7z6DvCRofDYy90FUZKoSlqBeBQIDJkycTCATqtoN04J/IydkxETRMUSN/6e/i+Abwh2+rqJVVAtZNFrtO2UXgvjrqq6g1Qghu/97EEjDNptBVGfW+fitBORBF2JimSUFBQf36CfREJqc9B3wTIcMUNdIoVePv57r4fpfg+cpqZY0AbYvGU52fwtRUQ5do8eY6wYe/CF47y0VOQ3tHHhG5fo9BhbAU0cdEtkPdgMwROc5Zc5KJB380eXGFReEVbro3OXTDmglcjcw2v91B45KMjR5Bj5kG+W003jjH+VpXNaFCWIp6EQgEGD9+fP2HwC7kJG0xcFcEDFOEzeO9dTo0hhu+NSg1hGxNOwS4CgI3RUhfRY2YluAP35o0bRC5Wlc1EbHr9wiUA1GEjWVZbNu2Dcuqf/9tWiIbE/0b+Ff9d6cIjwYujX/+xs3agzCywIIbkc2hpoIlIqivoloeXWQxb4/g7XNdZKdGZ9I8otfvIVQIS+Es1wGfAguBdg7bkkS8stJk52h4/CMd7RsNznHaouThy20Wgz43eby3zuhe8ZNVq0JYinphRzVP/gqcCAxGLvNVRIVhRTqPfqzz7KUWP/eSz5C26Ks4ih0+wfXfmJzfTGNUz+jefu3QVzkQhbM0At4F1gJ/ctiWZOEAaNdriL7wxu8t8uccmg9R2IphCa77xsStwz9+40KP0XyP2qBCWIrY4C3gFmT13lucNSWhMYFLgEJgISzJEvT70ODW9jqvnhU/4ZR4ZOwCkwlLLL6+xMU5J8ffs7sKYSnqhd/vZ8iQIRHtqVzOzcBtwDBgaeR3rzjEOOBL4D9Aa/j/9u49OqrqXuD498wjk0kyAQEJEsIjPORlNQVsUFCwJTx84RVuW9H2erFSH1VEvdrWCqut3Hapub7WKtRHe33cLkEeoiIoKkoRLbWgRkgxSCQxBpFKkplkHuecff/YGKSTypDMyUwmv89aWQs4zDl7n1/2+c3e+5x9zuht8MBEN7/bbfP47rBz8e3mXq61+fUOm1+Oc6UseTjRfiWBiIS5XC4GDBiAy+XQr82DwEj0fEiDM4fo1taiH+K8C5h29J9/NNLgsqEG173lInvwN5yLbze1P5i6eY+vcqL9yhCWSC97gXHAt9FzI11/mDg9/B2YgH6AcxVx5zUYU0xYa6IUvHWxh54+OfHJEIopzl5n0hCF7ZecwJL6aUiGsESHNDc3M3fuXJqbm507yFD0Q4argaXOHaZbaQIuAQrRc01tXMPyvAZPT47x0edB5rwcxWxrvSxxQmyl+OHrFlWNsG566pOHE+1XEohImNvtZuLEibjdDk+2XgwsQb+Le4Wzh8p4Cn1TQi2wBviaQYFTT3IzP/Yym+sNFr0lDxN21K932Kzap3hyqpvTeqW+5+FE+5UhLJGeFPop6WeAzeg35IkT9zPgv9E9uksS+8jvdllcu9Vm2SQXC0bJnVntsXqfzaWbLH41zsUd38yMcyhDWKJDQqEQ06dPJxQKOX8wA/0WwwnARcA+5w+ZcZajk8fdJJQ8vozvDwaFuW60i+u32rxWJz2RE/XuIcUVmy2+W2zw85L0ucQ60X7Tp3Yi7Xm9XubOnYvX20mvqvOhh10CwAXInVknYj36lujrgJsT+8hX43vfRBdT+htcusniwwaZD0lUTVBx4UaTU3vAY+em18uhnGi/MoQl0l8l+k15E9DrZsmrVr/eO+i1rb6NHrpq5wjKFxH9kKFpw58v8nCKw++r6Oo+DysmP2cSNmHrRR7652bW+ZIhLNEhoVCIiRMnds4Q1leNRF8IXwN+jJ4fEW2rRj9pPga90vEJJI9/ju9JPoONMz2ELZj+oskXETnx/0owpjh/g8U/IvDSrPRMHk60X0kgImFZWVksWrSIrKyszj/4VPQyJ48BC5Ek0pbPgVno5dmfA3JO7ONtxXdwwODlWR7qQnD+BotQTE78P4tYin972WL3YcWGGR6G90i/5AHOtF8ZwhJdy3J0L+Q29ARxerbVzncIPWRVB/wZGJHc3W8/aHPeCxZn9TVYN92Nzy0nHvSLob7/qsW6/YoNM9xM6Z+538llCEt0SDAYZMyYMQSDwdQVYgHwP8BvgV+nrhhp5Qv00iSfAK/S7uTxdfGdcLKLdWVuXq9XXPGahSUPGqKU4vo3bVZVK/40Nf2ThxPtN71rLNJKdnY25eXlZGdnp7YgC9HrOd0J3JPaoqTcYXTy2A+8Aoxt/66OF9+p/V08fZ6b1dWKH2y2iHXjJGLZih9tsVi22+b3k9xcMiT9L6VOtF8ZwhJd1x3oRHIvsCjFZUmFBqAMqEInjzM657DPfGRz2WsWM4sMnj7PTbanew1nxWydQFd8pHjsHDc/HJH+ySMZZAhLdEhTUxMDBgygqakp1UXRfgX8FP2cw+10r4n1z9A9jz3o5dmTkDwSje+cYhfPlrl5qVZxwUaLYDeaWA+bijmbLFbtUzx9XtdKHk60365Te5Fyfr+flStX4vf7U10UzUAvuFiOnhP5T8BMaYk6RxVwFkeHrb6ZnN2eSHxnFrnYONPNXw4qytZbHO4Gt/iGYjphvlSreLbMzZzirnX5dKL9yhCWyAxPoV9KNQN4mhO+hbXLeBv9VH5v4EVgSGqL89eDNtNftCjKhfUz0vP5h2T4PKy4+CWL9/6heK4s/SfMnSBDWKJDGhsbyc/Pp7GxMdVFiTcPeB79sOE04GBqi+OI59DPw4wAtpL05NGe+I4/2cXrF3j4PALj1phsO5B5a2ftPKQYv8ZkT4Ni06yumzycaL9d80yIlMjNzWXbtm3k5uamuihtm46+jfVD9LDOW6ktTtIo9N1ms9E9rE3oHkiStTe+Y3sZ/HW2h6H5BlOet3i0MnOSyJ+qbM561qSXD965xMO3+nbdS6YT7bfrng3R6dxuN2PGjHH+fSAdcSawAygCzgEeomtPrv8D/X6UW4FbgJWAQ1NQHYlvvxyDV893c+UIF1dtsbhua9e+zdeyFf/1tsVlr1lcOsRg60UeBuZ17eE5J9qvJBCRsMbGRgzDSM8hrK8qRL9D5FrgJ8BlQAqffWy3t4AS9HDVc+gbBRzM3R2Nb5bbYNlkN8smuXi40ubbL1h83NT1kshnLYpZGyzufd+mvNTF41Pc+DPgVmUn2q8kEJGwvLw8ampqyMvLS3VRji8LuA89of4ceiXfN1NaosRZ6GdbJqOT4Q70xLnDkhXfBaPcvHq+m31NirGrTJbvtkjyvTqOUErx5Ic2o1aa/O2QYuNMNzedll5LsneEE+1XEohImGEY5Ofnd60G9e/AdiAPmITulaTze0XeQb998RbgRuB1YGDnHDqZ8Z3Uz0XFHA/fH2rw4z/bTFtvUZ3GvZGaoL5F94rNFmUDDHbN8fCdwsy6PDrRfjPrDAlHNTU10aNHj/R5kDBRo9DDQfcBTxz5+zOk19xIA3ADeg4niu4t3UOnvvsk2fHtkWXw+8keNs50s6dBMfYZkwcrLKJW+px4WymW7bIY84zJzkP6+Y4/nefhZH8X+pKUICfaryQQkbBAIEBDQwOBQCDVRTlxbvQFehf6Ij0XmAn8JZWFQieLx9BJ7TH062ffQb9Aq5M5Fd+yAbo3cvkwFzdusxm50uR/99iYKZxkV0rx3Mc249eYXLPV5ntDDT6Y4+GiQZl7SXQivpl7tkTSKaVobGzsEuPZ/1IRsBb9qtyPgW+hb43t7PmRZuABYCgwHz28thu9ppenk8tyhJPxzc/SE+zvXeqhpLfBf7xuMfYZk6f32tid+PuklOLFGpsz11pc9JJFwGuw5UI3v5/soacv83odX+VEfNtMIDfccAODBw/GMAx27tyZtIOJri0YDFJUVJTa5dyTZTZQgZ5k/wQ4G/2Q3hM4e8dWNXoNr0HoZDH1SDlWoJNbCnVGfMf2Mlg1zdP63Mj3XtXDR7/daVETdC6RfB5W3F9hUbLaZNYGC58bXpnlZvMFbib16x7fo52Ib5tLmbzxxhsUFxczadIk1q5dyxlnJL5SmyxlIrocG90ruQ/Ygn6j3yXop9vPoePLolSj51xWoCf0s4Er0c92pHgpklTbdsDm/gqbZz9WhC049xSDy4e5uHSIwUkd7BF8HlZsrlP8316b5/fry9yFAw1+PMrFdwqNrnUzSBpo69r+tWthDR48WBKIaGVZFpWVlYwcOTK9HybsiGr0ulpPAH9HDyeVoHsoZ6GHnE4B+hL/TEYM/WbA94Gd6NtvdwCV6KQxEz33cgGQhtNIqYxvY1SxplrxVJXNK3UKpWBEDxjXx9A/JxuMPckg4AWvi2Mu/jFb8Wkz1IYU+5pga73ijXqbD77Q28/oDVeOcHHZMBd9srtv0uhofB1JIJFIhEgkcsxBioqKqK+vp6CggPC+fRj19fh8PsLhMC6Xi6yCApoLCnDHYvj27qWlpQWPx4PX69V/PvNMvF4vob/9DZ9p4vF4CIVC+Hw+PMOG0ejxkNvcjLuujmAwSE5ODoZhEHK5yD3jDJRp0rxtG3l5eViWRUtLC3l5eZijRtFimgQ++wzz0CGi0Sg5OTnETJNonz7kFhcTPXAAq6oKv99PNBrFsiz8vXoRKS7Gtm38lZVEwmGA1joZo0fj69mTlspK3IcPk5WVdbROAwYQ6tmTrEgEb3U1zc3NZGVl6TpFo/jGj8fj8RDctg2/x4Pb7T5apxEjaAICjY2o+nqam5tb69Ts9xMYOxazqYnIzp3k5uZimqauU24usbFjiUaj5O7fT6yxEdM0W+tkFhWRU1hIZP9+VG0t2dnZrTH09e1LS//+uCwL3549tLS04Ha7ycrK4uDBgwy79FJq6urw7NuHNxLB6/EcrdOQITRlZ+NvacFTW0swGMTv9+s6KUVOSYmO05Yt5ObmopQ6WqdTTyVkWeQfOoR58CCRSKS1TpFevcgdNozYoUOYlZX4/X5isZiuU8+eRIYNw7IscqqqiDY3Y9t2a53U8OFk9+lDy4cf4j50qDU2brebrP79CfXujTcWI+ujj3TMvF5dp5YwWTln4nnLQ2zdu3jeMzHqvnLxMYqx++ZjGAcgWAdhMMwvt/eEvGLU2AjmKTvxTvBiTjSJuI/UaexYwtEoeXV1xA4fxozFWusU7deP3EGDiHzyCXZ1dWvMbNsmu08fwgMHgm2TXVl5tD0dqZPrG9/AFwjQXFGBNxQ62p68XrwDBxLMyyM7HMazf//R9uTxEDRN/OPGEQqFmNGvHxtffJG8vDxCoZCO06mnErRt8g8fxjpw4Gh7Mk3C+fnkjRyJefgw0YqK1vZkxmL4AwGiI0cSi8XIra4m2tSk29OXbWvIEPxtXCMORV28aZ3MK55CdtVHMXdVEraOnnq3ofj70G+S44HiukoijS3H3FDnKR7EqEH5zMo5zDlWHQE7JNeInTtRSjFjxgzWrFnDyX37JnaNiER0nfx+PvvsMwoKCo7tHKivMWjQILVjx46v+y9q8eLFCn1D5DE/V1xxhVJKqQ2lpUrBsT/z5qk5c+aoR3/60/htoFasWKGUUmqH3x+//YknVCAQUHU//3nctg2gGhoaVO2uXW3u9y8vvKAKCwuVuvDCuG33DRqklFJq04IF8Z8tKVGLFy9W8+fPVyorK277Q9dcoz87eHD8Z2+/XZWWlqrXFi+O21bncqk333xTKaVUrWHEbQ8+/7wCVPimm+K2/dHr1efoySfjj5mVpVasWKFKS0uVKimJ235PaamOTVlZ/GcvvFDNnz9f/faWW9o8h3984AGllFLbevSI3/7QQ6qwsFDtufPOuG1vgqqpqVENDQ1t7nfP+vUqEAgoNW9e/Pnt00cppdTrP/tZ/GeHDlX33nuvmjNnjlJ9+sTH9bvfVUoptXHMmPjPXnutKisrU6vvuCNuW5PLpTZs2KCUUqrS42njs8+qO7lTtZwVX9f15CplKVW5aVObdd24bp0aPXq0UueeG7etfPRoXd65c+M/e+656qabblK3/OQnbe53+S9+oc9TQUH89qVL1ejRo9U7bfwe7nK5VEVFhVJKqYY29lu/fr3iyPmKO2Zurv59KC+PP2afPurhhx9WZWVlSg0dGl/X6dPbfY34wePvqF+9Y6rtJw+K3y7XCKVIzjWitU5KqWuvvVZx5Px9yVBKqccff5zy8nIAbrzxRq688krpgXSxbxed0QNpampih21z1uTJRD/4ILN7IOEwWWeeqeO0fTs+pXScvqzT8OE0ulzkBYMYn3569Nu6UoS8XgKnn47V0kLL9u2t39Zb65SmPRClFH995BHGlZS0trlU9EDkGuHMNcLn8/Hee+8xfPhwAvn5SemByByISFhTUxOjRo1i9+7dXfNZEPG1JL6ZraPxTXgOZMGCBbzwwgvU19fTu3dvAoEAVVVV7T6IEEKIri3hF0otX76c2tpaTNPkwIEDCScPkdlM02Tjxo2YZnd4b2z3I/HNbE7Et3s8QSOSIhwOs2jRIsJHxndFZpH4ZjYn4ivvRBdCCHFc8k500SGxWIyVK1cSi8VSXRThAIlvZnMivpJARMKi0Sjl5eVEo9FUF0U4QOKb2ZyIrwxhCSGEOC4ZwhIdEo1GeeSRR+QbaoaS+GY2J+IrCUQkTMbIM5vEN7M5EV8ZwhJCCHFcMoQlOiQSiVBeXn7M2mcic0h8M5sT8ZUEIhJmWRbbtm3Dsqzj/2fR5Uh8M5sT8ZUhLCGEEMclQ1iiQyKRCEuWLJEhjgwl8c1sTsRXEohImG3b1NbWYtt2qosiHCDxzWxOxFeGsIQQQhyXDGGJDpHVWjObxDezORFfSSBCCCHaRYawhBBCHFdb13ZPsg/yZT5qbGxM9q5FirW0tHDrrbdy99134/f7U10ckWQS38zW0fh+eU3/ap8j6T2Q2tpaioqKkrlLIYQQaaKmpoYBAwYADiQQ27apq6sjEAhgGEYydy1SrLGxkaKiImpqamR4MgNJfDNbR+OrlKKpqYn+/fvjcunp86QPYblcrtbsJDJTfn6+XGAymMQ3s3Ukvj169Djm73IXlhBCiHaRBCKEEKJd3EuWLFmS6kKIrsPtdjNlyhQ8nqSPfoo0IPHNbMmOb9In0YUQQnQPMoQlhBCiXSSBCCGEaBdJIEIIIdpFEohISDgcZvbs2YwYMYLTTz+dadOmUVVVlepiiST7wx/+gGEYrF27NtVFEUkUiUS4/vrrGT58OKeddhqXX355UvYrt1qIhF199dXMnDkTwzB46KGHuOqqq9i8eXOqiyWSpLq6mocffpjS0tJUF0Uk2e23345hGOzZswfDMKivr0/KfqUHIhKSnZ3NrFmzWpenKS0tpbq6OrWFEklj2zZXXXUVDz74ID6fL9XFEUkUCoV49NFHueuuu1rbb79+/ZKyb0kgol3uv/9+Lr744lQXQyRJeXk5Z599NuPGjUt1UUSS7d27l169erF06VLGjx/P5MmTeeWVV5KybxnCEids6dKlVFVVJe2XUKRWRUUFq1at4o033kh1UYQDTNPk448/ZvTo0fzmN79hx44dTJs2jQ8++ICCgoIO7VsSiDgh99xzD6tXr2bTpk3k5OSkujgiCbZs2UJ1dTXDhw8HoL6+nquvvppPP/2Ua665JsWlEx01cOBAXC4X8+bNA6CkpIQhQ4bw/vvvdziByJPoImHl5eU89dRTbNq0iZNOOinVxREOmTJlCgsXLmT27NmpLopIkrKyMhYuXMisWbPYt28fEyZM4N1336WwsLBD+5UeiEhIbW0tN998M8XFxUydOhUAn8/H22+/neKSCSGOZ9myZcyfP5/bbrsNl8vF8uXLO5w8QHogQggh2knuwhJCCNEu/w8NreRxSx4I6gAAAABJRU5ErkJggg==\" />"
      ]
     },
     "execution_count": 131,
     "metadata": {},
     "output_type": "execute_result"
    }
   ],
   "source": [
    "plot(sin, 0, 2pi, label=\"sin\")\n",
    "plot!(cos, 0, 2pi, label=\"cos\", c = :magenta)\n",
    "plot!(x->1, 0, 2pi, c=:red, l=:dash, label=\"\")\n",
    "plot!(x->-1, 0, 2pi, c=:red, l=:dash, label=\"\")\n",
    "ylims!(-1.2, 1.2)"
   ]
  },
  {
   "cell_type": "code",
   "execution_count": 132,
   "metadata": {},
   "outputs": [
    {
     "data": {
      "text/html": [
       "<img src=\"data:image/png;base64,iVBORw0KGgoAAAANSUhEUgAAAZAAAAEsCAYAAADtt+XCAAAABHNCSVQICAgIfAhkiAAAAAlwSFlzAAAPYQAAD2EBqD+naQAAIABJREFUeJzsnXl4VNX5xz/3ziQkZAGFGpVVRfbVABLEpVXBvS6ktm51Af2JO7ZuqOCCWquoVdtSbLXVbqC4KyhuVQgadtlXhbAqmEwymczk3vv+/jgmCkkgy8zcOzPn8zw8zJOZuee933vnvPe855z3NURE0Gg0Go2miZhuG6DRaDSaxEQ7EI1Go9E0C3+0D+g4Dtu2bSMnJwfDMKJ9eI1Go9G4gIhQXl7O4YcfjmmqsUfUHci2bdvo1KlTtA+r0Wg0Gg+wZcsWOnbsCMTAgeTk5NQ2kpubG+3DaxogHA4zbdo0xo4dS6tWrdw2J2XQuruD1j3+BAIBOnXqVNvHQwwcSE3YKjc3VzuQOFJZWcnixYvJysqidevWbpuTMmjd3UHr7h4/npowor2MNxAI0KZNG8rKyrQD0Wg0miShvr5dr8JKEsLhMJMmTSIcDrttSkqhdXcHrbs30A4kSXAch5KSEhzHcduUlELr7g5ad2+gQ1gajUajOSA6hJXEVFVVMX78eKqqqtw2JaXQuruD1t0baAei0Wg0mmahQ1gajUajOSA6hJXEhEIhxowZQygUctuUlELr7g5ad2+gHUiSYJomHTt2rM1Ro4kPWnd30Lp7Ax3C0mg0Gs0B0SGsJKayspLCwkIqKyvdNiWl0Lq7g9bdG2gHkiT4fD4KCgrw+Xxum5JSaN3dQevuDXQIS6PRaDQHRIewkphgMMioUaMIBoNum5JSaN3dQevuDbQDSRLS0tIoLCwkLS3NbVNSCq27O2jdvYEOYWk0Go3mgDQphHXjjTfStWtXDMNgyZIlcTNS0zyCwSAFBQV6SB9ntO7uoHX3Bg06kNGjR/PZZ5/RpUuXeNqjaSbp6emMHz+e9PR0t01JKbTu7qB19wYHDGF17dqV1157jYEDBzbqgDqEpdFoNMlHfX17i2uih8PhvaqCBQIBAOzRNnSG6rab4dDtpPVJoyq3CtNnkp6XR2VeHr7qalpt2EAoFMLv95OWlqZeDx1KWloawUWLaGVZ+P1+gsEgrVq1wt+tGwG/n6zKSnzbtlFRUUHr1q0xDIOgaZI1cCBiWVQWFZGdnY1t24RCIbKzs7F69SJkWeTs2oW1ezeRSITWrVtTbVlE2rcn68gjiezcib1+PZmZmUQiEWzbJvPggwkfeSSO45C5ejXh71NIt2rViqqqKozevWnVti2h1avxlZaSnp7+wzl17EiwbVvSw2HSvvqKyspK0tPT1TlFIrQaPBi/309FURGZfj8+n++Hc+renXIgJxBAduwgGKykwsxi6W6b1eSy7bCjKS0NkrlmBRWWweovlzB8UF9+kptBRZ8BdM60+FlwEx2kHMe2as/J6tSJ1h06EN68GSkpISMjo/YatjrkEEKHH45p27Rau5ZQKITP56s9J98xx5CemUnl0qWkhcOk+f0/nNMRR1CekUFmKIS/pISKigoyMzPVOYnQetAgdZ0+/ZSsrCxEhMrKSnWdevQgaNvk7t6N9c03hMNhsrKysCyL8MEHk9WtG9W7d2OtXk1mZibV1dVYlkVm27aEu3XDtm1ar19PpLISx3Fqz0mOPpqM9u0JrVuHb/fuH87D5yP98MMJtmtHWnU16Rs3qmuWlqbOqaqK9KFD1XUqLqaViLpONed09NEETBNj504uHzmSP//5z7Rv3x4RIZiWRs6AAdihEKHiYnXvWdYP59S3L1WRCNnbtlFdWopVXV17TpFDDyWrSxfCW7fifPVV7TVzHIeM9u2p6twZHIeM1aupqqrCNM3aczL796dVTg6Vy5eTFgz+8HtKSyOtc2cqsrPJqKrCv3nzD78nv58KyyIzP19dp88+o3VGhrpOwaC6Tj16UOE45JaWYu/c+cPvybKoys0lu2dPrNJSIsuX1/6erOpqMnNyiPTsSXV1NVlffUWkvFz9nmp+W0ccQWZeHlWbNmHs2FH7ezLNA/cRVb17M2LECD6eOpWDan5Puo/44fdk21RmZpLTty9WeTnhJUtqf0+RSITWWVlU9+1LJBIha/NmqgMB9Xuq6SM6dqJ1eQeqP6iGDZC2Kw17p13XAcgB6NKliyxevLjB9ydOnChAnX+fdfhMZIhIxHeXCOz9b8jFMvbMsfLXO++s+x7I9OnTRURkcWZm3fdffFFycnJk24QJdd6bBVJWViYlK1fWe9wv3n5bOnToIHL22XXee7JLFxERmXPNNXW/O2iQTJw4Ua666iqR9PQ67z9z7bXqu1271v3uHXfIsGHD5KOJE+u8t800Zd68eSIiUmIYdd6veOst4ZCj5bPLbq3z3rRhF0u3/0TknIfn1nkv7E+Xg6aVCX+JyMJOA+u8/9iwYSIiMmvkyLr2nn22XHXVVfK73/ymXg1f+MMfRESkqE2buu8/84x06NBB1t57b5335oFs2bJFysrK6j3u2nfekZycHJGLL66rb/v2IiLyyV313EtHHSWPP/64jB49WqR9+7rX9cILRURkdp8+db87bpyMHDlSZt59d533yk1TZs2aJSIiq/3+ut99/XUBZM9vf1v3/v3+Z7V6zpx6z3X2G29I7969RU48sc57U3r3VvYWFtb97oknyi233CK/ueGGeo879Z57lE55eXXff+gh6d27tyys5z5caZqyfPlyEREpq+e4O955R/herzptZmWp+2HKlLpttm8v06ZNk5EjR4ocdVTdcx01St2Hw4bV/e7FF8vo0aMb7CP+/e9/y6xZs3Qf8dZbAkjVLbfUee+FtDTVj770Ut0209Nl+vTpMmzYMJFBg+q8X5b+nAgilmnJzpydIieIzD1yrvC9fjW0OIRV3wikU6dO7Nixg7y8PKo2bsJYsoNWX7eieoWFb5mJuagd2EfgDK3ELFhN6JQQ/p/oEUjN08X27yr4dE8GU+1ufFiew1GBrZzk20Wv7GryD21Fn7YOGW1bH/DpYmdFhM1Lv2Ll1gqW7xGWfmdSFoG0I7pw5qD2FLbayhFlegTSkhFIdkUFxvbtPzytix6BxGMEkup9RLRGINZ8i8x/f4XzvyDGSgNDDJyuDvbJnUkbfQjhY8M4GQ6ZmZns2rWLvLy8vUJY7syB7AHeAmYCswADuAK4BTi6Uc0kJUt2C48ssXnta8FyYFRHg18fbXJOF4MMv7Hf75aXl9OrVy9WrVpFTk5OvZ+J2MKcrcJ/Nji8+rVQUa3amDDQ5PjD9Jag5tAY3TXRR+veQoqBu4H3gIOAU4BRwEigU/1fqa9vb9CBXHPNNbz99tvs2LGDdu3akZOTw/r16w9oV5Mn0b8F/gw8DXwDnAvcAww68FeThVXfCRMX2szYJHTLhf/rZXJxN5NDW+/fafwYy7IoLi5myJAh+P0HntoKWcLMr5TDWv4dHH+owV0DTUZ1NDCMxreb6jRVd0100Lo3ky+Be4HXgF7AA6g+txEpxZrkQJpLs1dhVQEvAb8H1gFjgQeBn0TTOm+xKSBMWmTz0nqhYxZMPMbHZUcb+M34deCOCG9tFiYvdvjiG2FEnsGfRvjoe7B2IhpN0rAOmAj8BzgCmARcRKMcRw3ezoWVAYwBlgNPAv8FuqNGJpaLdsUAyxEeXWrT62WL90qEpwpM1v7Cz5U9zGY7j0AgQG5ubu0quMZiGgbndDGZ/3Mfs07z8U2VMGimxR1f2ASro/pskZQ0V3dNy9C6N5ItqH61F/A/VLRnNXApTXIeDeEdB1JDGnAjymP+ArgJGAKsdNOo6PHlHqHgdZs7ix2u622y/kI/1/fx0crXsif+rKwsioqKyMrKatb3DcNgVCeTpRf4mXiMyVPLHfq8bPHW106L7Ep2Wqq7pnlo3Q+AAH8FegNvAI8B64GrUX1slPBOCKshFqK85SbgceBa1KR7gmE5Kkw0eYlDt1z42wk+huV5z3/XsCEgXDfXZnaJcFUPg6eH+8g8wES+RqPxALtQjuJ14CpgChCFrtjbIayGyAcWAFcC1wHnoARKIHZWCqe8Y/PAYofb+pssPt8fdecRCAQwDCNqQ/qjcg3ePc3HX0/w8a/1wrDXLdaW6pDWvkRbd03j0Lo3wLtAP2AeaqL8OaLiPBrC+w4EoDXwLPAm8DkwAJjvqkWNpminwzGvWqwuFT4808eDQ1oerqqP7OxstmzZQnZ2dtSOaRgGV/Yw+eJcP2Eb8l+z+M8GHdL6MbHQXXNgtO77IMBDwJnAYNRqq5/HvtnEcCA1nAUsA44CTgL+5ao1+0VE+ONKmxPfsjkix2DReX5OiOFeC8MwyM3NjckS3L4HGyw4z885nQ1+9aHN9XNtLEePRiC2umsaRuv+I4LAhcAE1BLdN4G8+DSdWA4E4FDgA5RgF6P2jHjsodhyhP/7zOG6uQ7X9jL58Ewfh2fF9kYvLy+nTZs2lJeXx+T42WkGL/3Ux59HmExd5XDue3qVFsRed039aN2/5ytgOPAOamP2JOLaqyfmDpxWwAtAH+AOYBXwIpDpok3fE7KEiz60eXOz8LcTfFzRIz5XMycnh7KyspjuyjUMg2t6+Tgix+CCOTY/fdvmrVE+DslM3afAeOiuqYvWHRWmGokK8c8H+sbfhMQbgdRgALcBr6Imjs4AXH4YKQ0Lo95VK5deHxk/5wEqZBYIBIjyorp6GdnR5JOz/GyuEIa/YbG+LHVHIvHUXfMDKa/7POAEVERmHq44D0hkB1LDz1H5XBahvPF37pixLSic8JbF8u+ED870cWbn+EpbUVFBp06dqKioiEt7x7Q3KDrHj8+A4W9YLPwmNX/I8dZdo0hp3d9B5a7qD3xM3OY76iPxHQjAcah5kbXAz1A5teLIlgphxJsW34Xhs7P9FLiwvyM3NxcRiWsRryNyDeae4+fIXINT3rFY9G3qORE3dNeksO4zUA/Np6IS0bZx15zkcCCglq59DGwHTgS2xafZbUHhZ29bOKKcR++D3JkPsG2bFStWYNv1FH2JIe0zDGaf7qN7G+VElu5OLSfilu6pTkrq/hrwK1SGjlfwxJxv8jgQUBto/oeaCzkV2B3b5nZWCie/Y1Flw0dn+umS495kcjAYpKCggGAwGPe226QrJ3JkjsHJb1t8uSd1nIibuqcyKaf72yjHcT7wdzyz/Mn7qUyaw1pgBNAVFdqKwUKNb6uEn75lsTsMn5zl5+g2qbsSqYY9Vcqhbg3Cx2e5NxrTaJKK91AZOE4HphPVXFZNITFTmTSH7sBsYA0qXlgV3cOXhoVT37HYVQUfnukN52FZFkVFRViWe6mLD84wmHOGn0Nbw8/ettgQSP6RiBd0T0VSRvfPUPU6TkalYnfJeTREcjoQUAWp3katj74QqI7OYSO2cMEcm68rYM4Zfnq2dd95AIRCIQoLCwmFQq7a0S7D4IMz/OSmwenvWuyuSm4n4hXdU42U0H0NauRxLGrOo5W75tRHcoawfsws1EW4CHieFmXyFREu/8TmPxuE98/wxTQ1SaKzIaASMPZoYzDnDN8BS/JqNJofsRMoQE2UzwXaumsOpFII68echpp0+jvwcMsOdf8ih3+sE54/0XvOw7IsZs+e7Zkh/VG5Bm+O9LHwW+V0nSTd8OU13VOFpNY9CJyNCr2/iyecR0N4qxeMFb9C5YiZgBoKNoO/r3WYtMhh8mCTi7p5T7aqqirGjx9PVVWUJ3xawLA8k3/+1Mf0jcJdxR5LWBYlvKh7KpC0uluo/molKgTf2V1zDkTyh7BqENSFeQP4FFVnpJF8sNXhtHdtLu9u8JfjfToDaBN54kub8fMd/jzC5JpeUaijqdEkI4KqefQXVEbd0901Z19SM4RVg4GaA+mHmhPZ2rivrfpOOP99m5M7GPxxhHedR3V1NTNmzKC6OkqrBaLIzX1Nru9tMm6uw7tbkmsk4mXdk5mk1P2PwJ++/+cx59EQqeNAQE1IvYY6658Dlfv/eCAinPe+RccsmH6yjzTTm84DIBKJMGXKFCKRiNum1MEwDJ4sMDmjk8FFH9pJtbzXy7onM0mn+2fAzcCNwFiXbWkCqRPC+jFLUBsNazbm1OMXRITCD2zeKxGKz/XTwyPLdROZ0rAw+DWLbD/M+7mf1npllkaj0i7lo/avzcFzez1qSO0Q1o8ZiKof8jLwZP0feWyZwyubhH+c5EsI5xGJRHjuuec8/UTWtpXBzFP8rC2Daz+zkyIVdyLonowkje4RoBDVE7u4y7y5pKYDATgPuBVVU6Ro77c+3OpwR7HDnQNNzu2aGBIlSky4fzu1EOEf64SpqxJ/PiRRdE82kkb3W4Bi1OpQF9OyN5fUDGHVUI2qrb4ZWAy0V6nZj3nVYmA7g1mn+fB5eN4jkblhrs3U1Q6fnu3j2EMSw0lrNFHlBeAKYCpwtbumNAYdwtqXNOC/qA07l0C4Whg9x6a1H/79s8RyHuFwmClTphAOh902pVE8PsxkcHuD0XNsvgklbigr0XRPFhJe92XA/wFjSAjn0RCp7UAAOgL/BN6DOdcLS3YLL5/io31G4jgPUPURioqKEqY+QrrPYPrJPiIO/OpDG9tJTCeSaLonCwmteyXwS6AH8LTLtrSQ1A5h/Yh1NwlHPg2vP+dw/pV6s1u8+HCrwynv2Dwy1OS2AVp3TQpwDWoRz0Kgl8u2NAEdwmqAnZXCCfkWX/YXzrvLhF1uW9R0wuEwkyZNSrgh/c86mNw2wGRCsZOQddUTVfdEJ2F1fxm10/wPJJTzaIiUdyDO9xl2xYSOrxoYtqE28iRYX+Y4DiUlJThO4q1suj/fZEA7g4s+sghWJ5bwiax7IpOQun+N6lsKgatctiVKpHwI66nlNjcXObx7mo/TOpnwOqqAyzTUBJcmLqwpVavfLulmMvV4HcrSJBkWasVnCWojs4cz7DaEDmHtw9Ldwm2fO9zc11TOA1SKk6tQaQXWu2hcE0n07KQ92ho8WeDjL6sdXt2UOE+Via57opJwuj+A2m/2TxLSeTREyjqQSku46EOLXm3hkaH7yPAEalPPpagnB01cGNPD4NwuBmM+tdkWTKxQlkbTIPOBB4GJwHEu2xJlUjaEdeM8m+dWOyw4z0/vg+pZsluEypc1CbgnvralMt9WCf1fsehzkMHs032YHs1+rNE0ihCqvHYbVGVBv7vmtAQdwvqeT7Y7PL3C4eGhZv3OA1Q5yQnAfahUAx4nFAoxZsyYhK8R3T7D4B8n+ZizVXhmhfdDWcmie6KRMLpPAL5C7TpPYOfRECnnQILVwpWf2Bx/qMENfQ5w+vcAxwCXcMDU725jmiYdO3bENBP/kp7SweS63iZ3FjueT/2eTLonEgmh+/9QyVonkxRLdusj5UJYN8y1+esah2UX+OnWphHhkTWo7L3XAY/F2DhNLRXVQr+XLbrmGHxwpg5laRKMCqA/cDjwCZAECwtTPoT1yXaHZ1Y6PDLUbJzzAJVu4D7UxPoXMTSuhVRWVlJYWEhlpceHSo0kO83guRN8fLzd21l7k033RMHzut8G7ESFrpLAeTREyjiQH4eurj9Q6GpfxqMmwq4EPLrx1efzUVBQgM+XPHfryR1Mru5pctsXDl+XezOUlYy6JwKe1n0Oqizt74BuLtsSY1ImhNXk0NW+LENVDbsLNSLRxIVAROj7skXPtmpVlldr0ms0gApd9QWORDmSJHpET9kQVrNCV/vSH+U8HkI5E48RDAYZNWoUwWDQbVOiSm66wbTjfby/VfjrGu+NQpJVd6/jWd3vReXSe46U6F2T/hSrLGHs/2xG5DUjdLUvE1BzIlfiuQ2GaWlpFBYWkpaWYDUxG8GoTiZXdDe4db5NSYW3nEgy6+5lPKn7AuAp1N6xI901JV4kfQjr/kU2DyxyWHpBAxsGm8oXqD0iD6MmyjRxoTQs9HnZ4pj2Bm+M1KEsjceoBoZ+/7qYpNzzkXIhrPVlwkNLHH7Tfz8bBpvKUFQd43uBddE5ZDQIBoMUFBR4b0gfJdq2Mnh6uI+3NgtvfO2dUUiy6+5VPKf7k6jQ9jSS0nk0RNI6EBHhurk2h2XCPcdE+TTvBw4DbsAzad/T09MZP3486enpbpsSM87ranBaR4ObimwqLW8Inwq6exFP6b4RlefqJmCwy7bEmaQNYf13g8MvP7R5c6SPs7rEwE++CZyDKhBzQfQPr6mf9WVC31csbu1nMnmIB5dwalILAUYBa4HlQLa75sSSlAlhlUWEW+bbnNfViI3zADj7+383o5buuUxFRQV9+vShosIDxsSQbm0M7hhg8vtlDqtL3R+FpIruXsMzuv8TeB+17yOJnUdDJKUDuWeBQyACTxXE+An1KeBbVK5/l8nIyGDKlClkZGS4bUrMuX2ASacsuH6uTZQH0E0mlXT3Ep7QfQ9qPvSXwOnumeEmSRfCWviNMPR1i0eHmtzaPw4hjgdRGwuXAr1j35xG8e4WhzNm2fznZz4uPCopn4M0XmccagSyBjjUZVviQNKHsGxH+L/PbPoeBDf2jdOp/Rboikq26OLDcHl5OR07dqS8vNw9I+LI6Z1MzutqcMt8m0DEPeFTTXev4LruC4E/o6IPKeA8GiKpHMifVzks+Fb40wgfaWac9gm0Ap4BPgb+HZ8m6yMzM5MZM2aQmZnpnhFx5skCH2URmLTQvWSLqai7F3BVdwc1+uj3/f8pTNKEsHZUCj2mW1x4lMFfjndhIfZoVMWx1ajqY5q48LslNhMWOCw6z0//dnpzoSYOPAeMBT5FVS1NEZI6hDV+vk26Dx5xa2nnE0A5Ko2BCwQCAXJzcwkEAu4Y4BK39DPp3gbGzbVxXJhQT1Xd3cY13XcDdwCXkVLOoyGSwoHM2erw7w3CY8f6ODjDpafQTqjd6U/jSrLFrKwsioqKyMrKin/jLpLuM3j2OB9zdwr/WBd/B5KquruNa7pPQKUteTS+zXqVhA9hhW1Vue6w1gYfn+VyjqQIqnrhwahylknhnhODiz+0eH+rsLrQ795DhCa5KQaORaUtudFlW1wgKUNYTy132FgOfzzOAwn20oE/ouZC/hHfpgOBAIZhpGwo5bFhPsI2TFgQ3wn1VNfdLeKuu4NaaaknzvcioR3IzkrhwcUO43qb9DnYI0+dJwEXoTL1fhe/ZrOzs9myZQvZ2Sm4HRY4rLXBA4NNpq5yKP4mfk4k1XV3i7jr/gJqBPIsKZUs8UAktAO5Z6GN34SJ0U6W2FIeQ5W+nRC/Jg3DIDc31/1RmIuM620yoB2M+8zBduIzH6J1d4e46h5AFZP7FXrifB881vM2niW7hedWC5OOMWnntZj3Yajd6VOBL+PTZHl5OW3atEnpDW1+0+CPx/lY8K3w/Nr4OBCtuzvEVfeHUE7kd7FvKtFISAciItxSZNOjLVzb26OnMA44CriVuOxQz8nJoaysjJycnNg35mEK8kwu7mZwzwKb8jjsUNe6u0PcdN+AWqJ/G2qlpWYvPNr77p/XvhI+3i5MGRbHHedNJR0VynofeDf2zYkIgUDA9eSCXuChIT5KI/DostjPhWjd3SFuuv8WOARdfbQBEs6BhG3hN5/bnNbR4PROHjf/bOCnqFFIdWybqqiooFOnTu6nt/YAnbMNxvczeWyZw5YY11DXurtDXHT/EHgVteejdeyaSWQ83gPX5Q/LHb6ugMeHJUAxIQN4HJWtc1psm8rNzUVEPFGH3gvcMcAkNx0mFNsxbUfr7g4x191C1foZjkrXrqmXhHIgOyuFBxY7XNsrijXOY80g4HLULvXS2DVj2zYrVqzAtmPbYSYKOekGD+T7eHG9sCCGy3q17u4Qc92fQy2AeQr1IKipl4RyIPcudPAZMCk/ocxWNUOqgMmxayIYDFJQUEAwGIxdIwnGlT0M+h4E4+c7MYuVa93dIaa6lwL3oB78UqzGeVNJmJ546W7huTUOk/I9uGz3QBwO3A78AbWqIwbUJJbToZQf8JsGjw/z8ekO4bWvYuNAtO7uEFPdHwJC3/+v2S8J4UBqlu0enas2iyUktwI/QWXyjAGWZVFUVIRlWbFpIEEZ2dHktI4Gv/3CJmJH34lo3d0hZrp/hQpb3Y7az6XZLwnRG7/+tfCR15ftHojWwMPAy6g6AlEmFApRWFhIKBSK/sETnMeO9bGpHJ5dGf25EK27O8RM9zuB9sD46B42WfF8Nt6wLfR52aJbrsG7p3kgYWJLcFDZPAE+J0Hcd3Jw7Wc2/93osP4XOluvpgE+B4YBfwOucNkWD5KQ2XifXuHwVTk8fmyCOw9Qak8BFgD/iu6hLcti9uzZOpTSAPflm1gO3L84uqMQrbs7RF13AX4D9EcVi9I0Ck87kD1VwuTFDlf39FC23ZZyPHABaqhcGb3DVlVVMX78eKqqqqJ30CTikEyDuwaaPLvCYW1p9AbdWnd3iLrurwGfobJHJMAWM6/g6RDWbz+3+fMqFXbIa50kDgTUSqzewN2o5YKauFBlCT1nWAxqZ/DqSJ2TW/M9EaAP0I24pB1KVBIqhLW5Qnh6hcNv+pnJ5TxAJVm8EXgE2BadQ1ZXVzNjxgyqq2OcMyWByfAbPDzEx2tfCx9vi04oS+vuDlHVfSqwEfh9yw+VanjWgdyzwKZNOozv51kTW8YEIBOYGJ3DRSIRpkyZQiQSic4Bk5RfHmVw7CEGt35u40Rh8K11d4eo6V6KKr1wJdA3CoalGJ4MYS3dLQyaafHMcSbjeidxQPIJVLbPFUAPl21JIebtdDjuDZu/n+jjsu5J+oCiaRx3ojb4rkfv+zgACRPCuuMLm265MLanJ82LHteidqlHYR4kEonw3HPP6SfhRjA8z6TwCIO7FtiErJY9P2nd3SEqum9DbRocj3YezcRzPfSHWx1mlQgPDUngTYONJQM1fJ6BWtrbAnQsvmk8NMTHzkp4ZkXL5kK07u4QFd0fQIWRfxMtq1IPT4WwHBGOfc3GZ0LROUmw76MxWKi15x2B91y2JcW4bq7Nvzc4bLzQT9tWKXCvaX5gPdALtZDlVpdtSRA8H8KasVFY8K3w6FAzNZwHgB+aivoGAAAgAElEQVSVpfd9VAGbZhIOh5kyZQrhcDhKhiU/9wwyCdvwu6XNH4Vo3d2hxbrfC+ShSk9rmo1nHEjEFu4qtjmrs8EJh3nGrPhwLjAUNaHXzPGgbdsUFRXpuhRN4NDWqnLhU8sdtgabJ7zW3R1apPsS4N/AJFQIS9NsPBPCenq5zc3zHZad70+eXedN4UPgZGAmcJ7LtqQQgYhw5H8szj/C4C/H682FKcEZqM28K1ARAE2j8GwIKxAR7l/scPnRRmo6D4CfAaei9oc0I71POBxm0qRJOpTSRHLTDSYMMvnbGmFNM1KcaN3dodm6f4LabT4Z7TyigCccyGPLHCqq4b78JN7z0RgeAlYBLzb9q47jUFJSguPErnxrsnJtL5MOWTBhQdPDIVp3d2iW7oIKE+ej8tFpWozrIaztlUK3/1rc2Mfk4aEp7kAACoEvgDWoZb6auPD3tQ6Xf2Lz+c99DD3EE89VmmjzBvBz1IKVU1y2JQHxZAjrvoUOGT64fYDrpniDB4GtwJ+b9jWdFbZlXNJN1U+/44um1U/XurtDk3W3UeHhn6GdRxRxtddeW6rqnE8YaOp1+DX0QBWzmQwEXLYlhfCZBg8N8fHRduG9ktjUT9e4yL+A5aiqoJqo4WoI68IPLIp2Cmt/4SfDrx1ILSWo1NJ3oJYaauKCiHDCmzbl1cKi8/2YqbIXKdkJAz2BY4BXXLYlgfFUCGvRt8L0jcKkfJ92HvvSEbgeeBz4pnFfCYVCjBkzRtfmbgGGYfC7Y02W7oH/bGjcc5XW3R2apPtfgM2o8LAmqrjmQCYU2/RsC5cdrZ1HvdyJujoPNe7jpmnSsWNHTFPPJbWE4Xkm53QxuGeBTcQ+sBPRurtDo3UvR+W8uhyVukQTVVwJYf1vu8OJb9nMONnH6CP1D69BHkTd/GuBLi7bkkKs2CP0n2nxVIHJ9X30ysCE5gHUfOJaoLPLtiQ4nghhiQh3Fjvktze44Ag9+tgvNwNtadQ8SGVlJYWFhVRWRrHQeorS52CDy442eGCxQ3lk/89XWnd3aJTu36JqnI9DO48YEfe9mG9vFubtFGafniLZdltCNqpWyE2owlO9G/6oz+ejoKAAn08/MUeD+/J9/Gu9xVPLHe4+pmFNte7u0CjdH+GHzYNRpKKigm3btiXl5lHTNGnbti3t27dvVFg2riEsR1SlwYNaGXx0pnYgjSKCWto7CJUnSxM3bi6yeX6Nw6Zf+jk4Q9+rCcUW4GjgLlTm3Sgxf/58xo8fn/QFxPLz87n33nvp0KFD7d/q69vj6kD+td7h4o9s5p3joyBPz300mheBy4D5wLH1fyQYDHL++eczc+ZMsrKy4mhc8rIrpBItXt/H5JEGsiRo3d3hgLqPQe083wDkRKfNiooKRo4cyeDBgxk7dixpaWnRObCHsG2bkpISnn32WUpLS5kzZw7p6elA/X173EJY1Y5w70Kbszsb2nk0lYuAR1H7Qj4E6nkYTktLo7CwMClvarc4JNPgln4mjy9zuKmvyWGt6wqvdXeH/eq+GngeeIKoOQ+Abdu2EYlEGDt2LP369YvegT1Gnz59yMvLY8yYMWzevJlu3bo1+Nm49eR/W+OwMQCTh+hYcZPxoZbzfozK41MP6enpjBkzpvZpQRMdbu1nkuGHBxfXH+/WurvDfnW/G+gEXBPdNmvmPFLhYSEjQyXis6z9pwaPiwMJWcL9ixwu6mbQL1XTtbeUs4ACVEy3nr4sGAxSUFBAMBiMs2HJTdtWBrf3N/nLKoeNgbrRXq27OzSoezFqt/l9QCsXDPMACxYs4MILL4xLW3FxIM+scNgV0unaW4SBWlWykHrTMaSnpzN+/Hj9JBwDru9j0j4D7ltUN9271t0dGtT9LtRqxUvcsMobDB48mP/+979xaSvmDqQsIjyy1GFsT5OjcvXoo0WcAJyOyipavfdbOhYfO7LSDO4eZPLiOmHFnr1HIVp3d6hX9znf/3sIFfZNAUKhEBdeeCG9e/dmwIABjBw5ko8//piBAwcC8NVXX9G2bVsmTpxIfn4+3bp145133ola+zGfRH9smUPIgrsH6YnzqPAQaknvC8DYH/5cUVHBsccey+eff052drY7tiUxY3uaPLbM4d6FNq+c+sPPRuvuDnV0r9nvMQw4J352bAwIpTFa0ds2HY48wEP3rFmzKC0tZeXKlQDs2bOHZcuW7fWZsrIy+vfvz3333cesWbO46aabOOOMM6JiY0wdyM5K4YkvHW7oY3J4lh59RIWBwC9Ru9MvATLVnzMyMpgyZUrt5JcmuqT7DO7L9/HrT2yKv3EY8hP1QKR1d4c6us8EFqAWmsSpq/m2Sjh6uoUTo+z/PgN2XOKn/X72IA0YMIBVq1Yxbtw4TjzxxHodQ0ZGBueffz4ABQUFbNiwIWo2xtSBPLzUwW/qYlFR5wFUYrhngd+oP/n9fkaNGuWiUcnPxd0MHlkKE4od3jtD3dNad3fYS3cLFdYdBZwYPxvaZxis+4U/piOQ/TkPgCOPPJKVK1fy4YcfMmfOHG677TaefPLJvT7TqlWr2k3bPp8P22566eaGiJkD2VIh/Gmlwz2DTL2LN9p0Q22Ueuj7/9tCeXk5vXr1YtWqVeTkRHHxu6YWn2nw4GAfF8yx+Wibw08PN7XuLrGX7jNyVAnof8XfjgOFmGJNSUkJBx10EOeccw6nnXYar732Glu2bIlb+zEbGvxuqU2bdLi5nx59xIR7gCpUsjggMzOTGTNmkJmZ6aZVSc95XQ3y2xtMKFalb7Xu7lCru5EJE4ELUQWjUowvv/yS4447jgEDBjBo0CAuvfRS+vfvH7f2YzYC+ed64fGTTLLT9OgjJhwO3IjabXs9+A/1U1BQ4LJRyY9hGDw0xGTUuzZvbxbO6qJ1dwO//3vdpwDbUWHdFOT000/n9NNPr/P3JUuWANC1a1dKS0tr/56dnU00s1c1ODxYt24dw4cPp3v37gwZMoQVK1Y06cCHZsL/9dKjj5hyO5AOTFZ5anJzcwkEdCH1WHNqB4OTDjOYsMCmtEzr7gaBQICOOR1xJjsqjHu02xalJg328Ndccw1XX301a9eu5fbbb+fyyy9v0oHvGKhL1cacg1BOZCpk7cyiqKhIJ/SLA4ZhMHmIybI98PbO1lp3F8jKymLRJYswKg0VztW4Qr0OZNeuXSxYsIBLLlHbOS+44AK2bNnC+vXrG33gi7pp5xEXbgTag+9+H3369NF1KeLE8DyTszobTFosdO/VW+seZ3y7fRzy4iEYNxrQ4cCf18SGeh3Ili1bOOyww/D71RSJYRh07tyZzZs31/lsOBwmEAjs9Q/AClcBUFVVRVWVeh0KhQiHw4CqKFbzOhgM1ubXDwaDVFerbdYVFRW1ybzKy8trXwcCgdqlaIFAAMdRE5qBQAARwXGcWjts2/7BJsuivLy89nVFRQUA1dXVtTl1IpFI7etwOFxb8SwcDhMKhbx3TukWVbdVIf8U+hv92bZtW+KfU4Jcpzt6hlgfgPQTr6KkpCQpzilRrlPonhClwVK2X7Y9budUY7vjOLXH3vd1TcLFhl7btt2o1zXzFAd6LSJ1XgONer2/86h5HYlE9rpOdZB6WLBggXTv3n2vvw0ZMkQ++OCDOp+dOHGioPaB7vXv0ksvFRGRW265RW655RYREbnqqqtk4sSJIiIyevRoefzxx0VEZOTIkTJt2jQRERk2bJhMnz5dRER69+4ts2bNEhGRDh06yLx580REJCcnR5YvXy7f1zKRLVu2SFlZmQBSVlYmW7ZskZpTW758ueTk5IiIyLx586RDhw4iIjJr1izp3bu3iIhMnz5dhg0bJiIi06ZNk5EjR4qIyOOPPy6jR4+uPc+rrrrKk+fU5fAu4hzlyJZBW5LmnBLlOp3zRpkc+kJQ8LdKmnPy+nU6d+C5YvksKb2tNK7nNGDAAMnPz5e5c+fKmjVrRERk+/btsn79ehER2bp1q2zatElERDZv3iybN28WEZFNmzbJ1q1bRURk/fr1sn37dhERWbNmjezatUtERFauXCm7d+8WEZEvv/xSSktLRURkyZIlUl5eLiIiCxculMrKShERKS4ulnA4LJZlSXFxsViWJeFwWIqLi0VEpLKyUhYuXCgiIuXl5bJkyRIRESktLZUvv/xSRER2794tK1euFBGRXbt27XVOs2fPlvz8fLnuuutqr9O4ceNq9auhXgeyc+dOycnJkerqahERcRxH8vLyZN26dXU+W1VVJWVlZbX/ai7Mjh07REQkFApJKBSqPamqqioREQkGg7WvKyoqJBwO176ORCK1J15jQyAQqH1dVlYmlmXVvrZtWxzHkbKyMnEcR2zbrj1Jy7JqX1dXV0sgEKh9XXNhIpGIVFRUiIhIOByufV1VVSXBYLD2dc3F8+I5Of90RBAJvhdMmnNKhOu0cne1+KaF5aEvKpLmnLx+nSIXR8TJc6RsW9le5xHrc1q4cKHk5+fLihUrao9t2/Zer23b3u9ry7Ia9dpxnEa9dhynzmsRadTrfW3/8evly5dLfn6+LF26tPY6fbhmZ+MciIjIiSeeKM8//7yIiMyYMUPy8/Mb+uhe/NjLa+JH2XdlspjFUj28WsRx25rUoaysTLj0T9L+72EJhLXwMedLETFEKh+rjHs/s2rVKsnPz5dVq1bFrU232Pdcw5YjXf76bR3NG1yFNXXqVKZOnUr37t155JFHeP755xv6qMYD5LTJofuM7vjn+WGW29akDjk5Oax49GIC1QZPLa+/6JQmitwNdIWM6zMoKyvTu//jxF/XOHxdUffvDW4k7NGjB0VFRbG0SRNFRIQ9x+4hc0Qmxl2Gygukt+HEHBEh1yrj2l6Z/H6Zw7jeOnVPzJgPvA68BJImBL4JkJ2dXZvnSRMbQpbwwGKHXxxpMH2f93QXkyRUVFTQqXMnKu+uhCVQ50prYkJFRQWdOnXihm6V2AKPLtOjkJggwB1Af+BXP+hes0oqlSkqKmLEiBEMGDCA/v378/rrr7NgwQKGDx9O//79GTp0KHPnzgXgm2++YeTIkfTr14/+/ftzxRVXHPD4z650+CYEdw6su1Q95vVANPEhNzf3hxQFZ6I2V10A6DpHMeXHut/Sz+bxZQ439TU5rLV+Ko4q7wGfAG8C5j73u5tsBEoP+Knm0RY4cv8f2bNnD+eeey4vv/wyxx9/PI7j8O233zJ48GCmTZvGqFGj+Oyzz7jgggtYv349L730EkcccQTvvfde7ff3R0VEeHiJw1U9zHoTR2oHkiTYts3q1avp2bMnvsk+VTfkb8A1bluW3PxY91v7mTy70mHyYodnjtMbC6OGgypVexzq4Yh97ne3NnF+i0qhEqtBpw/YAbRv+CNFRUX06NGD448/HgDTNNm5cyemadamux8xYgR5eXksWbKEYcOG8cQTT3DrrbdywgkncNppp+3XhBfWOQQtuOcYE+rJAq8dSJIQDAYpKCigpKSE3AG5cBFwP3AZtUWnNNHnx7q3zc3l9v4m9yx0uLWfyRG6hHN0eBlYBHxKbbGove733Fx37GoPrCO2I5D9OI+mUDNPVFBQwJIlS5gzZw4zZ87knnvuYfHixfU6YUfg+bUO1//UpEOWQX3p3rQDSRLqJPS7H+gJPAP81iWjUoB9db++j8mTyx3uW2Tzwkn659ViqlErr84ARvzwZ88ksDxAiCnWDB8+nHXr1vHpp5/WhrDy8vJwHIf333+fU089lXnz5rFjxw4GDhzIpk2b6NChA7/4xS847bTTOOSQQ6ioqKBNmzZ1jl32faGsOwY2PFWuJ9GTBMuyKCoqqk3lwFGomukPE7snJE0d3bPSDO4eZPLiemHldx6I0Sc6L6Ce8h/a+8917vcU5aCDDuLVV1/ljjvuoH///hxzzDF8/vnnzJw5k4kTJ9K/f39uvvlmXn75ZbKzs/n444/Jz89n4MCBDB8+nN///vf1Oo+ILZRXC1d0N/dfFTHaG1D0RkJ3CAQC0qFDh9pdtCIisk1EMkVkgltWJT/16R62HOn6r4hc8H61i5YlAZUicriIXFT3rXrv9xiTShsJ5yxYKYf0PEYWLF1Z+7f6+nY9AkkScnJyKCkp2Xtj1WHATaiiUztcMizJqU/3dJ/BpHwfr2wSFnyjl/U2m2eBXahw7D7Ue79rokKVJXwXFtqkGWSl738eTzuQJMGyLGbPnl13SH8btUWnNNGnId0v6WbQqy3cvUA7kGZRigpbjUWFY/ehwftd02K2VkKaCTnpB/6sdiBJQlVVFePHj6+bcvlHRafY5IJhSU5DuvtMgwcG+5hdInyyXTuRJvMYUEWDxaIavN81LSJYrUYfP8kwaMwaQu1AkoTs7GxWrFhBdnZ23TdvBNoBE+NtVfKzP93P72qQ397grmLHG5veEoWdqLDrTagwbD3s936PEaapusua+irJyNZKyPBBpijHXFMTqiH0OsMkobq6mtdee41zzz2XtLR9tp+3Bu4FrkMt6e0Xf/uSlf3pbhgGDw0xGfWuzVubhbO76H0hjeJBVNj1toY/st/7PUYcfvjhpKenM23aNMaOHRu3duNFMCKsL7PwlW3l71OfpXXr1nTu3Hm/3zEkyo9GgUCANm3aUFZW5t4GnxQkGAxyyimnMGfOnPrrc0eAXkBfVEI6TVQ4kO4iwinv2OwMCUvP9+MztRPZL5uAHqiJ8zsa/tgB7/cYMX/+fMaPH19bHTGZ2FGpUo4d1hry8/O599576dDhh3rB9fXt2oGkEv8CLgbmAQUu25JCFH/jMPQ1mxdO9PHr7jpqvF8uA+YA61EjZw9SUVHBtm3bakvQJgMfbXUYN9fmryelcXavdrRr1642ZFeDdiBJTCQS4R//+AeXXXYZ6ekNLJ9wgEGoifWPoFGzZJr90ijdgdFzLIq/EdYU+snwa+Hr5UtgAPBH4P/2/9HG6q45MI4IA2datGtl8OGZvgbT49fXt+vHoSShurqaGTNm7H+Cz0Qt5/0Eld1U02IapTswebCPrUH406rkeWqNOhNQqUGuOvBHG6u75sD8e4Pw5R54eIjZ5NoqegSSaghwPFAJLEA/QsSRqz+1mLlJ2PBLP20OsEEr5ZiHyrb7L+BXLtuSQkRsodcMi74HG7w+cv9rqvQIJIkJh8NMmTKFcDi8/w8aqPxYi1FZTjUtotG6AxOP8RG04HFddGpvBLgTFb66sHFfaYrumob56xqHTeVqhNwctANJEmzbpqioCNuuJ2n/vhyPym56NyrbqabZNEX3DlkGN/U1mfKlw85KvS+kltnA/1A7zxvZIzXpftfUS7Balaq9pJtB34ObNyLWIaxUZQlqQv0vqHQRmrjwXVg48j8WF3czddEpUAs78oEc1NycjuzFjcmLbe5b5LCm0N+o2jU6hJXEhMNhJk2a1Pgh/UBUrPk+IBRDw5Kcpup+UCuDOwaYTF3lsCGgRyFMRz3MPEyTnEeT73fNXnwTEn631OG63i0rfKYdSJLgOA4lJSVNW5t+PyptxLOxsir5aY7uN/Q1OSQT7lmQ4uGXalSuq7NQE+hNoFn3u6aWBxc7GMCEQS1zATqElepci3oK3AjUrSujiRHTVjtc/anNovP8DGqfonGbqaj7bwnQ32VbUoiNAaHnDIv78k3uHNj4MKoOYSUxzc5Oeg8qhPVYLKxKfpqr+xXdDXq0gbuKU3QUUokKn15Ms5yHzsbbfCYssPlJBtzUt+Xdv3Ygqc7hqGy9T6DCWZq44DcNJg/xMatE+HhbCoZhngG+QTkRTdxY+I3wnw3Cffk+WkchI4IOYWngO+AIVB6iP7hsSwohIhz7uo0BzP95wykkko7vUDvOL0Y5Ek1cEBFOfcdmW6Ww7AI//iYm9tQhrCQmFAoxZswYQqFmLKmqKTr1Z+Cr6NqV7LREd8MweGSIyRffCK9+lUIrsn6Pyg59d/MP0aL7PUV5r0T4YJvwyFBfk51HQ2gHkiSYpknHjh3rZNBsNDVFpxqoAKepn5bq/rMOJiM7GNxVbFPtpIAT2Q48BdwMHNr8w7T4fk8xHBFu/8JmRJ7B2Z2jN9LVISzND0xFZUEtBga7bEsKsXS3MGimxdPDTa7rk+SbC68D/o1a9dfWZVtSiBfXOVz2sc28c3wU5DXP6eoQVhJTWVlJYWEhlZWVzT/IVUAf4FZUfiLNAYmG7gPaGVze3WDSIoeySBILvxGV+eBOWuw8onK/pwhVlnD3ApvzuhrNdh4NoR1IkuDz+SgoKMDna8ETrB+1nPd/6KqFjSQqugMPDvZRacFDi5N4RdYE4BDg+pYfKlq6pwLPrnTYGoSHh0RfKx3C0tRlFKq06HJUbWpNXJi00ObhJQ6rG5mbKKH4HBgG/A24wmVbUojvwsJR/7X4xREmfz6+ZQ5Eh7CSmGAwyKhRowgGgy0/2GPABtSqLM1+iabuv+1v0i4D7ky2zYWCCosOQC0VjwJRvd+TmEeWOIRtmJgfm65eO5AkIS0tjcLCQtLS0lp+sH6o+ZD7UGv2NQ0STd2z0gwmD/bx343C/J1JFMqaCcxFPZhEKYoS1fs9SfmqXHhqhcOt/UwOax2bEa0OYWnqZwdwNHA18LjLtqQQtiPkv2rR2m8w95wk2FwYAXoDPYC3XbYlxbjwA4tPdwhrf+EnO63l95EOYSUxwWCQgoKC6A3pD0VtLnwaFc7S1Eu0dfeZBo8P81G0S3h5UxKsyPojaj7t0egeNur3e5Lx2Q6H6RuFh4f4ouI8GkI7kCQhPT2d8ePHk54exVnv8ahVM3dE75DJRix0P7mDyZmdDG7/wiZsJ7AT+Q5VMmAManl4FInJ/Z4kOCLcUuSQ397g0qNjO4LVISzN/nkRNfH5GU2u2aBpPqu+E/q9YvHIUJPf9E/Qpaq3ovZ9rKNFu841TaNm0+D/zvJx/GHRGyPoEFYSU1FRQZ8+faioqIjugS9GlRwdjyo/qtmLWOne6yCDq3uaPLjY4duqBByFbESFP28nJs4jZvd7ghOsFu74wmb0EUZUnUdDaAeSJGRkZDBlyhQyMjKie2ATNYn+BfDf6B46GYiZ7sCkfBMRuH9RAnru3wJ5qAePGBBL3ROZ3y9z+LYKfjc0PqNWHcLSNI5zUZXjVgP6Nxs3frfE5u4FDstH++nRNkFWZH0E/Az4J3CRy7akECUVQvfpFjf2NXkkBg5Eh7CSmPLycjp27Eh5eXlsGngU2IrKpKqpJda639TXpEMW3PZFgmwutFGZdguAX8WumZjf7wnIncU2Oelw18D4devagSQJmZmZzJgxg8zMzNg00B0YB0wGdsWmiUQk1rpn+A0eHuLjja8TpHLhc8Ay1INGDAdMMb/fE4wvdjm8tF54IN9Hbnr8Rqo6hKVpPLuBbqgnyz+6bEsKISIMe13VCyk+148vSsWAok4pavPpmcAL7pqSSogII960qagWFp0Xu/tDh7CSmEAgQG5uLoFAIHaN1BScmgosjV0ziUQ8dDcMgycKTBbvhr+u8fCKrPuBEPBQ7JuKy/2eIEzfKMzbKUwZ5ov7w4V2IElCVlYWRUVFZGVlxbahG4CeqHBWAkRUYk28dB+eZ/Lrow3uLLa9uax3NWrZ7l3A4bFvLm73u8cJWarS4DldDE7uEP/uXDuQJMHn89GnT5/Y10dIA54F5gH/iG1TiUDcdEctzbQF7vJitt5bgY7EbNnuvsRTdy8z5UtV6+P3cVq2uy/agSQJgUAAwzDiM6Q/CbU88zZSPltvPHXPa23w4GCT51YLn+/y0PDvbeAdVLbdOC3xjuv97lG+KhcmL3a4qa9Jd5eWeGsHkiRkZ2ezZcsWsrOz49Pg74Eq1JxIChNv3f+vl8mAdnDdXAfb8UAoqwq4ETgFOD9+zcb9fvcgNxfZHJwBE49xrxvXDiRJMAyD3Nzc+KX/PhxVL+RPwKL4NOlF4q273zR49jgfC78Vpq32wCjkUWALav4jjg/Bcb/fPcZbXzu8/rXwxDAfOXFctrsv2oEkCeXl5bRp0ya+G6uuR9V6SOEJdTd0H55nckV3g7sWOHwTcnEUsgl4GDXv0TO+Tbtyv3uEkCXcWGRzageD0Ue460C1A0kScnJyKCsrIycnJ36N1kyofw48H79mvYQrugOPDPUh4nL525uB9sDd8W/aLd29wMNL1MT5M8PdLzimHUiSICIEAgGivC/0wJwAXIrKuronvk17Abd0PyTTYPIQk7+ucan87dvAG8AUwIVpCNfud5dZVyb8bqnDbQPcmzj/MdqBJAkVFRV06tTJnfTWjwLVwIT4N+02bup+TU+TQe1g3Fw7vhPqP544Hx2/Zn+Mq/e7S4gI18+1Obw13BnHfFf7wxtWaFpMbm4uIuJO+phDgQdQO9QXxL95N3FTd59p8MfjfCzeDVPjOaHu0sT5j3H1fneJVzYJ720V/jDcR2u/+6MP0A4kabBtmxUrVmDbLsXExwH9vv/fg/vcYoXbug/LM7mqh8GEYodd8ZhQ34CaOL+FuE+c/xi3dY83FdXCzfNtzu5scHYX73Tb3rFE0yKCwSAFBQUEg0F3DPCjJtSLgb+6Y4IbuK478PAQH4YBd8Q65bsA/4cqFHVvbJs6EF7QPZ7cv8hhTxU8VeCtnffagSQJNYnlXB3SjwB+DdwJfOueGfHEC7r/JNPgocEmz68V5sVyQv0lYA5q74/LKai8oHu8WLFHeOJLhwmDTI7I9UboqgbtQJIEy7IoKirCsix3DfkdKoR1l7tmxAuv6D62p0l+e4PrYjWh/i1qv8cvgdOjf/im4hXdY42IMG6uzZG58Jv+3uuuvWeRplmEQiEKCwsJhULuGpKHKjo1DZVwMcnxiu5qQt1k6W54ankMRiG/ASzgyegfujl4RfdY8491wv92CM8M99HK563RB+iCUppYYAPDgTJUHXVdQz1u3DTPZtpqhy9H+zkqWuGOD4GTUQ8FY6JzSM2B2VEp9H7Z4oxOBi/91HYU+noAACAASURBVO+2ObqgVDJjWRazZ8/2xpDeB/wN2IgqMpTEeEp3YPIQk7xMGPs/Ozqb7ELANcDxwJUtP1y08JruseCGeTZ+A5702MT5j9EOJEmoqqpi/PjxVFVVuW2Kog8qxcWjwGKXbYkhXtM9O83gL8f7+Gi7RKd64WRgM2qPj4d6C6/pHm1mbnJ4eZPw9HAf7TO8F7qqQYewNLEjAgxGjUi+QOXO0sSFKz+xeGWTsLLQT4esZnZAi4BjUQ8CE6NonGa/fBcWes2wOPYQg9dOdT/fVQ06hJXEVFdXM2PGDKqrq9025QfSUaGsZaj6IUmIJ3UHHh/mo7Ufrv2smaGsCHA5aiR5Z3RtiwZe1T0ajJ9vU2XDn47zjvNoCO1AkoRIJMKUKVOIRCJum7I3g1EreO4DVrlsSwzwqu4HtVJpTt7cLEzf2AwH8gDqev0d9SDgMbyqe0uZvcXhhbXCY8f6OLy5I8c4okNYmtgTAgYC7YBPUSEtTVz4xRyLj7erUFajY+kLgGGo3eYu7zhPJcojQt9XLLrlGsw5w3ujDx3CSmIikQjPPfecN5/IMlHpTeYDf3DZlijjad2Bp4f7cASu+bSRoawwKnTVH0+Grmrwuu7NYfx8m91VMO147zmPhtAOJEnwfEx4BCoF+J3AcpdtiSJe1z2vtcHU433M/Ep4cV0jHMh9wFpU6MrDix68rntTeeNrh+fWCE8U+DjSY+lK9ocOYWniRwg1J+JHrcpq5a45qcSvP7Z49Sth2QV+uuY00EF9ARSg9u6kYG0Xt9gVEvq9YjH0JwZvjPTu6EOHsJKYcDjMlClTCIfDbpvSMJnAP1GTs/e4bEuUSAjdgT8M93FwK/j1xw3kyqpEJcIchKou6XESRfcDISJc/amNI/BcAoWuatAOJEmwbZuioiLv10cYiNqc9hjwkcu2RIFE0b1NusHfT/Lx6Q7hifpyZY0HvgZeRI0QPU6i6H4gnl8rvP618JcRPvJaJ5bzAB3C0riBjSqHuh61R+Qgd81JJW773Oap5Q7F5/rp3+77DmsmcAFqt/nVLhqXYmwMCANmWhQeYfC3E73vtXUIK4kJh8NMmjQpMYb0PtQkbTlwncu2tJCE0h14YLBJj7ZwyccWVZao0rRjgPOBsS4b1wQSTfd9sR3h1x/btG/l7VxXB0I7kCTBcRxKSkpwnDjWxm4JnVGFif4N/MtlW1pAouneymfwz5/6WVMKdxQ5cCmqONQ0XKtv3hwSTfd9uW+Rw7xdwj9O8pGbnkDC74MOYWnc5SLgbWAh0M1lW1KIZ1fYbJ8AD7xhYnxkwIluW5Q6vF/iMOpdmwcGm0wYlDijDx3CSmISNjvpn4BDgNGoZb4JRqLqPq7M5L43TX5/lsOGQTGoYBhjElX3bUHh4o9sTulgcOfAxO9+E/8MNIlNG+BlYA1wg8u2pAp7wLjYQIbC337pUDjn+/kQTUyxHOGij2z8Jrz0Ux9mgi3ZrQ8dwtJ4gxeAK1DZe69w15SkxgbOBIqBhbAkRxj2usWV3U3+OCJxwimJyL0LbCYvcfjwTB8nHpZ4z+46hJXEhEIhxowZk7g1oi8HrgLGAUvdNaUpJJzuE4H3gf8AXWFgO4M/FPj40yqH/2xInAnpRNP9/RKHBxc73J9vJqTzaIjkOZMUxzRNOnbsiGkm8CV9GuiJmg8pc9mWRpJQur+G2sQ5GTj1hz+P7Wlw0VEGYz+1WVOaGKGsRNJ9c0VyzXv8GB3C0niLDUA+cDJqbiTxw8TeYA0wBLWB8xXq6FpRLQx5zUIE5v/cT9tWWvhoEKwWjnvDoiwCxec1IaW+B9EhrCSmsrKSwsJCKisr3TalZRyF2mQ4E3jIZVsaQULoXg6cB3RAzTXV04dlpxm8MdLPriq48AMbq758WR4iEXR3RPj1JzbrA/DGqMR2Hg2hHUiS4PP5KCgowOdLgonQnwOTULW4p7tryoHwvO6CWpRQArwK7CcocHQbg5dP9vHBNmH8fG/Ph3hed+DBxQ6vbBJe+qmPfv/f3pmHNXXlffx7k0AIIbghKBhWRZbIIsUio+JSsVJrN/raus3rOO/YWqcdbcdxqhZnplNnppXaZWyt3a32UdzqNlCh1tHq2FahrryKigR5waWyJJDt3t/7x9WrMREBgcRwPs/Do8m559xzvif3/O75na2n5xkPgLmwGO4KQVwlvQHAtxBPyGO0npcBLIXYo3usZVHeO8Fj9ncC3h8mw6xY922g3ZlN5wQ8UcjjLykyLBrsGRoyF5YHYzQaMW7cOBiNRldnpX3gIJ5imApgIoBzrs3O7XBr3VdCNB6vo8XGAwCejZPjuTgZ5nwnYHeVe/ZE3Fn3n64Qpn3LY1Ikh4XJnt3EenbpuhBeXl548skn4eXlxsfItRYlRLeLBsAEuOXMLLfVfSfEKdHPAXix9dGXD5VhZDCHJwp5nK5zv/EQd9VdbyA8XGDDwG7Axxn33vkerYW5sBjuTynEk/JSIe6b5V5thvtxCOLeVmMguq7a6EG5ahYXGdoEYN9EBfreg+dVdCaXTYTh22ww2YDvJioQrPYsvZgLy4MxGo0YOnSoW3bp75oYiA3hbgDPQBwfcRPcTvdyiCvN4yHudHwX7vceSg4F4xUw8cC4f9lw1ew+wrub7gYr4aF8Hj+bga+zPM943A5mQDwEb29vzJs3D97e3q7OSscwCuI2Jx8D+B3cxoi4le6XAWRB3J59GwDfu08yXMNhV5YCVUbgoXweRqt7CO9Oupt5wuO7eJysJeQ/qMCAbl3DeADMhcW411gJsRfyB4gDxF3nWW2eKxBdVlUA9gGIbt/kf7gkYPQOHumBHLaOk0MpZ8ID4sFQT3/DY2sFIf9BOUYGe+47OXNheTAGgwHx8fEwGAyuzkrHMgvAmwD+DuBVF+cFbqL7VYhbk1wA8A3a3XgAQGpvGbZmyrGnmjBtNw/exQsN3UF3IsKc/QI2lhO+HOXZxuN2dL0Seyg+Pj7Izc2Fj4+Pq7PS8fwO4n5OrwB4w7VZcbnutRCNRwWAIgC6jrvVqGAZ1o2WY1M5Yfq3PKwuNCKu1p0XCP+zl8f7JwV8MEyOxyK6ZlPKXFiMe5dFEA3JMgDzXJwXV1AHIBNAGUTjkdQ5t91wVsDk3TzGazmsGy2Hj6JrubOsgmhA158lfDxCjl9Gdw3jwVxYHkxDQwP69euHhoYGV2el8/gLgD9CXOewAC4ZWHeZ7hch9jxOQdyevZOMBwBkR8rwVaYcX1cSJhTwMLhgYN1VuptshOxCHhvPEdaN7jrG43Z07dJ7ECqVCnl5eVCpVK7OSufBQdxwMRfimMivANg6Nwsu0b0MQDpuuK0Gd96trzNeK0PBeDm+v0TI3MmjtpOn+LpCd6NVNJhfVxK+ypQjO5I1n8yFxfAM1kA8lOpBAOvQLlNY3ZKDEFfl9wLwLwARrs3Oj5cEjPsXD60a2Pmg565/uGwiPPI1jyM/E7Zlds0Bc+bC8mDq6+vh7++P+vp6V2fFNUwBsB3iYsOxAC51zm07VfdtENfDRAP4Di43HgBwX28Z9kxQ4LIZSNlsw4Gaztk7qzN1L7lCuG+zDafqCIVZXdN43A6mhIegVqtx4MABqNVqV2fFdYyDOI31NES3zn86/padojtBnG32KMQeViHEHoiboOvJ4cdHFYjy5zByO4+PSjveiHTW7/3LMgHpX9nQUwkcekyB+wNZk3kzTA0PQS6XIz4+3q3PR+gUhgAoBqAFMALAu+jQwfUO1/1niOej/B7ASwDyALjhMFcfXw7fPCTHjGgZfr2Xx3Pfdew0347WnRcI8w/ymLybxxMRHL6bqECon2e65+4GZkA8hPr6enAc13VdWDcTAvEMkdkAfgtgMoAOWm/Wobr/B0AyRHfVNogTBdz4/cBbzuH94XK8P0yGVaUCxuzgcb6hY4xIR+p+sYmQlc9j2VEBuWkyfD5SDlUXm6rcUpgB8RD8/Pyg1+vh5+fn6qy4B94AlkMcUN8GcSff/e1/mw7RnYe4tmU4RGNYDHHg/B5hVqwc3zwkx7kGgm6jDStP8mjnuTodojsR4YvTAmLzbDh8hVAwXo65gzx/S/a7gRkQD4HjOPj7+7Mf+638F4AfAPgBGAaxV9KO54q0u+6HIJ6++BKAFwDsARDaPkl3JsP6yHAsW4Gnozg8s0/A2J08ytuxN9LeuusN4hTdad/yyOzH4US2Ag+EsObxTjCFPISGhgZ069atay0kbCmxEN1BywGsvvZ5A9plbKTddK8D8DzEMRwLxN7SG7inzz7p5s3hg+EKFIyX41QdQbfBhneO8bDwdy98e+kuEOH9EzziN9hQckVc3/HlaAV6q9iLWEtgBsRD0Gg0qKurg0ajcXVW3BM5xAb6BMRG+kkA4wF8f3fJ3rXuFohb1Mde+/d1iL2QoXeXL3cis5/YG5naX4YXDgiIybPhs1MCbHcxyH63uhMRtp0XcN9mG579TsBTURyOZyswMYw1ia2BqeUhEBHq6+vb3dfscWgBbIF4VO55APdDnBrbxvGRNuveCOBtAFEAZkJ0r52EuKeXom15cWf8vcUB9iNPKJDci8N/7+Gh22DDujMChDb8ZtuqOxHhX3oBQ7bwmPg1D40Xh70Py/HBcAW6K1mvo7U4NSDPP/88wsPDwXEcSkpKOjtPjDZgMBig1Wo9fzv39uJRAMcgDrJfAPALiIv0VqNVM7ZarXs5xD28wiAai1HX8rEeonHzcHQ9OWwcq5DWjTz1jeg++nsJD72h5cagtbpfNhHeOsYjeZMNWfk8lHKgKEuObyfIMawPe49uK063Mvn3v/+NyMhIDBs2DFu2bEFSUst3amNbmTDuOQSIvZLlAPZCPNHvMYir20fg7rdFKYc45rIe4oC+D4AZENd2uMFqcldyoEbAW8cEfHWeYOKBjL4cpvaX4YkIDj3uskdw2UT4toqw9oyA7RViM/dwKIdnYmV4IIRjE05aibO2vdm9sMLDw5kBuUfgeR6lpaWIiYlhiwnvhnKI+2qtBvC/EN1JyRB7KOkQXU59AQQCkN+iuyAXTwY8CqAE4vTbYgClEI3GeIhjLxMAsKEqO+othM3lhDVlAoqqCERAdDcgJYAT/3pz0PXgoPECvGSAIAiS7gInw/81ApVGwrkG4Ltqwr+rBRy/Kqad1AuYES3D5P4yBPgwo9FWnLXtd+1tNZvNMJvNdjcBgKamJvj7+8N07hy46moolUqYTCbIZDJ4BwWhMSgIcqsVyjNn0NTUBIVCAS8vL/H/Q4bAy8sLxsOHobTZoFAoYDQaoVQqoejfH/UKBdSNjZBXVcFgMMDX1xccx8Eok0GdlASy2dB44AD8/PzA8zyamprg5+cHW2wsmmw2aC5ehO3KFVgsFvj6+sJqs8ESEAB1ZCQsNTXgy8qgUqlgsVjA8zxUPXvCHBkJQRCgKi2F2WQCAKlMXFwclN27o6m0FPLaWnh7e98oU79+MHbvDm+zGV7l5WhsbIS3t7dYJosFyvvug0KhgOHAAagUCsjl8htlio5GAwBNfT2ouhqNjY1SmRpVKmh0OtgaGmAuKQERYdaDD2Lz5s3oHRgIq04Hi8UCdUUFrPX1sNlsUplsWi18Q0JgrqgAVVbCx8dHqkNlYCCagoMh43koT51CU1MT5HK5VCb54MHwVqnQ+NNP8DKb4aVQ3ChTRAQafHygamqCorISBoMBKpVKLBMRfJOTxXrauxdqtRpEdKNMAwfCyPPwv3IFtkuXYDaboVarYbPZYO7ZE+r+/WG9cgW20lKoVCpYrVaxTN27w9y/P3ieh29ZGSyNjRAEQSoTDRgAn4AANJ0+DfmVKzfKIZfDOzgYxl694GW1wvvsWbHOvLzgNV6BxpEmePsOgeI/Cli3/gTFehu45Tc1PlwkhEB/cKiBtuYSZAoTYLse3h3wiwTpzLDFlsBruhdsQ20wy6+VSamDyWCBX1UVrLW1sFmtUpksffpAHRYG84ULEMrLpToTBAE+AQEwhYYCggCf0tIbz9O1MskSEqDUaNB47Bi8jMYbz5OXF7xCQ2Hw84OPyQRFRcWN50mhgMFmgyolRaynffvg6+Mj1pPRKNbTwIEwCAL8a2vB19TceJ5sNpj8/eEXEwNbbS0sx45Jz5PNaoVKo4ElJgZWqxXq8nJYGhrE5+n6sxURAVVQEEznzkFZXY1fKpWY1N2EK74y7Od7o0gRghPVFpzbU4ov+BvSyzlCaWQyjD93w/3bT8DS0GQ3oU4RGYaUMH8sDqnFCL4KGsEIX5MvuOMcDF24jbj+PFksFviq1S1rI8xmsUwqFUzXymQHNUNYWBgVFxc3dwnl5OQQxAmRdn/Tpk0jIqL8tDQiwP5vyhTKzs6mj/74R8cwgNavX09ERMUqlWP46tWk0WioauFCh7B8gOrq6qjyxAmn6X6/YweFhIQQPfywQ9jysDAiIiqcNcsxbnIy5eTk0MyZM4m8vR3C3332WTFueLhj3AULKC0tjXbn5DiEVclktH//fiIiquQ4h3DD9u0EgExz5zqEferlJWr0xReO9/T2pvXr11NaWhpRcrJD+BtpaWLdZGY6xn34YZo5cyb9/aWXnGr46dtvExHRgW7dHMPffZdCQkLo1CuvOITtB0iv11NdXZ3TdE/t3EkajYZoyhRHfQMCiIhoz8svO8aNiqJly5ZRdnY2UUCAY71OmkRERAXx8Y5xZ8+mzMxM2rRokUNYg0xG+fn5RERUqlA4ifsVvYJXqCndsaw7oSbiiUoLC52WtWDrVoqLiyPKyHAIy42LE/P75JOOcTMyaO7cufTSb3/rNN2VixeLOgUFOYa/9hrFxcXRISe/wxMyGR07doyIiOqcpFu9cyfhml4O91Srxd9Dbq7jPQMCaNWqVZSZmUkUFeVY1nHj2txGTP/8EP3lkI1+6B3mGM7aCCK0TxshlYmIZs+eTbim33U4IqLPP/8cubm5AIAXXngBM2bMANAyF5azHohWq0V1dTWCrr1dsB5Ix79dKJVKHDlyBAMGDIDG35/1QO6mB6JQoNFkgveQIWI9/fADlERiPV0v04ABqJfJ4FNbi5NFRQgPD4e/vz+ICEYvL2gSE8E3NaHphx+kt3WpTDodTBbWA7m5B9LaNgKDB6OkpATxCgV8r9UNayM6tgdy8eJFBAUFsTEQT6ShoQGxsbE4efIkWwvSiTDdXQPTvfNp8SD6rFmzsGPHDlRXV6NXr17QaDQoKytr800YDAaDcW/T4gOlVq5cicrKSthsNtTU1LTYeDBch81mQ0FBAWy2Tj7TtYvDdHcNTHf3gK2g8RBMJhPmzZvnfKYEo8NgursGprt7wM5EZzAYDMYdYWeiezBWqxV5eXmwWq2uzkqXgunuGpju7gEzIB6CxWJBbm4uLBaLq7PSpWC6uwamu3vAXFgMBoPBuCPMheXBWCwWfPjhh+yNrJNhursGprt7wAyIh8B8wq6B6e4amO7uAXNhMRgMBuOOMBeWB2M2m5Gbm2u3Lxmj42G6uwamu3vADIiHwPM8Dhw4AJ7n73wxo91gursGprt7wFxYDAaDwbgjzIXlwZjNZixZsoR16TsZprtrYLq7B8yAeAiCIKCyshKCILg6K10KprtrYLq7B8yFxWAwGIw7wlxYHgzbndQ1MN1dA9PdPWAGhMFgMBhtgrmwGAwGg3FHnLXtiva+yXV7VF9f395JM5qhqakJv//97/H6669DpVK5OjtdBqa7a2C6dz7X2/Sb+xzt3gOprKyEVqttzyQZDAaD4Sbo9Xr069cPQAcYEEEQUFVVBY1GA47j2jNpRjPU19dDq9VCr9cz12EnwnR3DUz3zoeI0NDQgODgYMhk4vB5u7uwZDKZZJ0YnY+/vz97oFwA0901MN07l27dutl9ZrOwGAwGg9EmmAFhMBgMRpuQL1myZImrM8FoH+RyOUaOHAmFot09k4xmYLq7Bqa762n3QXQGg8FgdA2YC4vBYDAYbYIZEAaDwWC0CWZAGAwGg9EmmAHpAJ5//nmEh4eD4ziUlJQ4vaa8vBxyuRxJSUnS35kzZwAAR48etfs+PDwcPXv2lOKePn0a6enpiI6ORmpqKo4fPy6F3X///VI8nU4HjuNw5MgRKd7YsWORmJiI+Ph4rFu3zi5PGzduxKBBg6DT6aDT6VBeXg4A2Lx5MxISEpCUlIS4uDgsXLgQ7jp0lpmZKeV1+PDhKC4udrjGYDBg3LhxCAgIQPfu3W+bVk5OjkMdNle3I0eOREREhKT/m2++KYU1p/3bb78NnU6HQYMGISEhAV988YUU9te//tXut+Dv74958+a1SZvO4JNPPgHHcdiyZYtDWEFBgV1ZgoODMXjwYCk8OzsbwcHB4DgOtbW10vcmkwmPPvoooqOjkZiYiLFjx6KsrEwKnzFjhlTnqampKCoqksJOnz6NUaNGISkpCTExMXjxxRelM0Rqamrw+OOPIyEhAbGxsVi+fLldfl999VVERUUhKioKCxcubDeNPApitDt79uwhvV5PYWFhVFxc7PSac+fOUbdu3VqU3nPPPUdz5syRPo8aNYo++eQTIiLKy8uj++67z2m8vLw80ul00uf09HRatWoVERFdvHiRQkNDqbKykoiIDh8+TAMHDqQLFy4QEVF9fT0ZjUbp/zzPExGR2Wym1NRU2rRpU4vy3tlcvXpV+v+mTZsoISHB4RqTyURFRUVUXFx82zo4ePAgjR8/3qEOm6vbjIwM2rx5s9P0mtO+sLCQamtriYiooqKCevXqRWVlZU7z3bNnT/rxxx+bk8BlnDt3joYOHUppaWm31eFmHnroIXrjjTekz7t27aKamhoCYFePTU1NtGPHDhIEgYiI3nnnHcrIyJDCb7728OHD1KNHD+n3+sgjj9Bbb70lpaPT6WjHjh1ERDR58mRauHAhEREZDAZKTEyk77//nojEeo6LiyODwUAmk4lSUlJo+/btbZHFo2E9kA5gxIgR7bYa32QyYc2aNZg5cyYA4OLFi/jxxx8xdepUAMATTzwBvV5v90Z2nY8++kiKBwA//fQTsrKyAAC9e/dGYmKi9Ca8bNkyzJs3D8HBwQAAjUYDX19f6f/Xty4wmUwwm81uu03NzT2Kuro6p/lUKpUYPXr0bXsfjY2NmDNnDlauXOkQ1ta6bU77MWPGSCt8tVot+vTpA71e75DGli1boNVqkZKS0ur7dzSCIODXv/413nnnHSiVyjteX1VVhaKiIkybNk367oEHHkBgYKDDtT4+PsjKypLqMi0tTeodA451fjMcx0nfNTU1wWq1om/fvgDs60StVmPEiBFYvXo1AGDdunWYNm0a1Go1lEolfvWrX+HLL79siRRdCmZAXIjRaERKSgoGDx6MP//5z+B53uGaTZs2ITIyEklJSQDEjcz69u0rzX3nOA6hoaGoqKiwi6fX67Fnzx7J0ABASkqK5B45e/Ys9u/fLz2IJ06cQEVFBTIyMpCcnIzFixfb5Wf//v0YNGgQAgMDMXr0aDzyyCPtqkV7Mn36dGi1WixevFhqEFrD/Pnz8eyzz7ZpU9D58+dj0KBBmDRpEs6ePSt935z2N1NYWIirV68iNTXVIezWFwJ3Ijc3F7/4xS9abNw+/fRTZGVlOTUYd+Ktt95y+P0tWLAAUVFRePzxx7Fx40bphWf58uXIy8tDcHAwgoODMX36dCQnJwMQ62Tt2rUQBAGXLl1CQUGBVCcVFRUICwuT0g8PD3d4xhjMgLiMvn374sKFCzh06BAKCwuxd+9eLFu2zOG6tjYan376KSZMmICAgADpu88++wwHDx5EUlIS5s6dizFjxkiGyGazobi4GPn5+di3bx/279+P9957T4qbnp6Oo0ePQq/X49ChQ9i7d28bSt05fP7559Dr9Xj11Vfxhz/8oVVxd+3ahfPnz2PGjBmtvu/q1atx6tQpHDlyBMOHD8eECROksOa0v87Ro0cxY8YMrFu3Dmq12i7s/Pnz2LdvH6ZMmdLqfHU0x44dw8aNG7Fo0aIWXU9E+Pjjj9v0u37ttddQVlaGpUuX2n3/t7/9DWfOnMH69esxf/58WCwWAMCKFSvw9NNPo6qqCufPn8eaNWuwa9cuAGKv22AwIDk5GZMnT2aLEtuCq31onkxzYyC3snbtWpowYYLdd2fPniVfX187H29NTQ1pNBqyWq1ERCQIAgUFBdHp06elawRBoIiICMrPz2/2nuPGjaMPP/yQiER/9EcffSSFvfvuuzRlyhSn8ZYuXWo3JuPO+Pj40OXLl52GORuHWrBgAQUHB1NYWBiFhYWRXC6nvn370tatW+2ua0ndKpXK2977Zu2JiI4fP06hoaH09ddfO70+JyeHnnrqqWbv5ypWrFhBffr0kTRTKpXUu3dvWrFihdPrd+/eTSEhIWSz2ZyG45YxkOu8/vrrlJKS4jTsZgYOHCiNE6nVamlcj4jopZdeopdfftlpvFmzZtGiRYuIiGj27Nm0dOlSKeyf//znbZ+HrgwzIB1Ic41MTU0NWSwWIhIHR7Ozs2nx4sV21yxatMjpjzYjI8NuED0lJcUuvLCwkLRarTSQeJ3q6mrpu/z8fNJqtdTY2EhERGvWrKFJkyYRz/NktVpp4sSJ9I9//IOIiE6ePCnFq6+vp2HDhtEHH3zQGik6hatXr9o1Fps3b6aQkBBp8PVWWjKR4XZ1eOv3VquVqqurpc8bNmyg0NBQ6XNz2p84cYLCwsJua/B5nqfQ0FDatWtXs3l1F5qbTEBENHXqVGnw2hnODMiyZcto8ODB9PPPP9t9b7FY7F6eDh48SD169JCuGzRokPRiZDAYKCUlhdauXUtERJcvX5aewcOHD1NQUBBVVVURkWjkbh1E37ZtW0sl6DIwA9IB/OY3v6GQkBCSy+UUGBhIUVFRRES0ePFieu+994iIaOPGjRQfH08JCQkUFxdHc+bMIZPJJKXB8zz169ePvvnmG4f0S0tLKS0tjQYM5lNn+wAAAUhJREFUGEApKSl05MgRu/Cnn36aXnnlFYd4q1atoqioKIqOjqaRI0fS0aNH7e734osvUkxMDMXHx9MzzzxDZrOZiIiWLFlCsbGxlJCQQPHx8ZSTk3PbRtmVlJeXU2pqKul0OkpISKAxY8ZIjfzN2hOJDUufPn2I4zgKCQmhqVOnOk3zVkNxu7q93jhdv/fo0aOppKREitec9g888AB1796dEhMTpb+bjUlBQQGFh4e7pebOuNmA3Kp7bW0t+fr60pkzZxziZWVlUUhICAGg4OBgaaaVXq8nABQZGSnpM2TIECIiMhqNlJ6eTvHx8ZSYmEjp6elUVFQkpXn48GFKT0+nhIQEiomJofnz50s67ty5k/r3708xMTGUmppKe/bsscvPn/70J4qIiKCIiAhasGBBu2rkKbC9sBgMBoPRJtggOoPBYDDaxP8DhA0n3T9r5pcAAAAASUVORK5CYII=\" />"
      ]
     },
     "execution_count": 132,
     "metadata": {},
     "output_type": "execute_result"
    }
   ],
   "source": [
    "xticks!(0:pi/2:2pi)"
   ]
  },
  {
   "cell_type": "code",
   "execution_count": 133,
   "metadata": {},
   "outputs": [
    {
     "data": {
      "text/html": [
       "<img src=\"data:image/png;base64,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\" />"
      ]
     },
     "execution_count": 133,
     "metadata": {},
     "output_type": "execute_result"
    }
   ],
   "source": [
    "xticks!(0:pi/2:2pi, [\"0\", \"\\\\pi /2\", \"\\\\pi\", \"3\\\\pi/2\", \"2\\\\pi\"])"
   ]
  },
  {
   "cell_type": "code",
   "execution_count": 134,
   "metadata": {},
   "outputs": [
    {
     "name": "stderr",
     "output_type": "stream",
     "text": [
      "\u001b[1m\u001b[36mINFO: \u001b[39m\u001b[22m\u001b[36mSaved animation to /home/abel/disciplinas/cm103/material/exemplo.gif\n",
      "\u001b[39m"
     ]
    },
    {
     "data": {
      "text/html": [
       "<img src=\"exemplo.gif?0.3218133550668749>\" />"
      ],
      "text/plain": [
       "Plots.AnimatedGif(\"/home/abel/disciplinas/cm103/material/exemplo.gif\")"
      ]
     },
     "execution_count": 134,
     "metadata": {},
     "output_type": "execute_result"
    }
   ],
   "source": [
    "x = linspace(0, 2*pi, 100)\n",
    "anim = Animation()\n",
    "for i = 1:5:100\n",
    "    plot(x[1:i], sin.(x[1:i]))\n",
    "    frame(anim)\n",
    "end\n",
    "gif(anim, \"exemplo.gif\", fps=10)"
   ]
  },
  {
   "cell_type": "code",
   "execution_count": 135,
   "metadata": {},
   "outputs": [
    {
     "name": "stderr",
     "output_type": "stream",
     "text": [
      "\u001b[1m\u001b[36mINFO: \u001b[39m\u001b[22m\u001b[36mSaved animation to /home/abel/disciplinas/cm103/material/exemplo2.gif\n",
      "\u001b[39m"
     ]
    },
    {
     "data": {
      "text/html": [
       "<img src=\"exemplo2.gif?0.4440400166649534>\" />"
      ],
      "text/plain": [
       "Plots.AnimatedGif(\"/home/abel/disciplinas/cm103/material/exemplo2.gif\")"
      ]
     },
     "execution_count": 135,
     "metadata": {},
     "output_type": "execute_result"
    }
   ],
   "source": [
    "x = linspace(0, 2*pi, 100)\n",
    "anim = Animation()\n",
    "for i = 1:3:100\n",
    "    plot(x[1:i], sin.(x[1:i]))\n",
    "    xlims!(x[1], x[end])\n",
    "    ylims!(-1, 1)\n",
    "    frame(anim)\n",
    "end\n",
    "gif(anim, \"exemplo2.gif\", fps=12)"
   ]
  },
  {
   "cell_type": "code",
   "execution_count": 136,
   "metadata": {
    "scrolled": true
   },
   "outputs": [
    {
     "name": "stderr",
     "output_type": "stream",
     "text": [
      "\u001b[1m\u001b[36mINFO: \u001b[39m\u001b[22m\u001b[36mSaved animation to /home/abel/disciplinas/cm103/material/exemplo3.gif\n",
      "\u001b[39m"
     ]
    },
    {
     "data": {
      "text/html": [
       "<img src=\"exemplo3.gif?0.2754529886309287>\" />"
      ],
      "text/plain": [
       "Plots.AnimatedGif(\"/home/abel/disciplinas/cm103/material/exemplo3.gif\")"
      ]
     },
     "execution_count": 136,
     "metadata": {},
     "output_type": "execute_result"
    }
   ],
   "source": [
    "x = linspace(0, 2*pi, 100)\n",
    "anim = Animation()\n",
    "for i = 1:3:100\n",
    "    plot(x, sin.(x), leg=false)\n",
    "    a = x[i]\n",
    "    scatter!([a], [sin(a)], c=:red)\n",
    "    plot!(x, sin(a) + cos(a)*(x-a), c=:red, l=:dash)\n",
    "    xlims!(x[1], x[end])\n",
    "    ylims!(-2, 2)\n",
    "    frame(anim)\n",
    "end\n",
    "gif(anim, \"exemplo3.gif\", fps=12)"
   ]
  },
  {
   "cell_type": "markdown",
   "metadata": {},
   "source": [
    "## Exercícios\n",
    "\n",
    "1. Crie uma função que resolve $ax^2 + bx + c = 0$ por Bháskara, mas se $\\Delta < 0$, ele retorna as soluções complexas.\n",
    "2. Faça uma função para calcular o máximo dividor comum de dois números inteiros positivos.\n",
    "1. Crie um vetor x aleatório, e crie y = 2x + 3. Crie um plot e depois um scatter de x vs y. Qual a diferença?\n",
    "2. Faça o gráfico de $e^x$ no intervalo [-1,1] em vermelho.\n",
    "3. Faça no mesmo gráfico os gráficos de $1$, $1+x$ e $1+x+0.5x^2$ em azul, com linha pontilhada."
   ]
  }
 ],
 "metadata": {
  "kernelspec": {
   "display_name": "Julia 0.6.0",
   "language": "julia",
   "name": "julia-0.6"
  },
  "language_info": {
   "file_extension": ".jl",
   "mimetype": "application/julia",
   "name": "julia",
   "version": "0.6.0"
  }
 },
 "nbformat": 4,
 "nbformat_minor": 1
}
