{
 "cells": [
  {
   "cell_type": "code",
   "execution_count": null,
   "metadata": {},
   "outputs": [],
   "source": [
    "f4(x) = 4*(4*x.^4 -12*x.^2+ 3).*exp(-x.^2)\n",
    "using PyPlot\n"
   ]
  },
  {
   "cell_type": "code",
   "execution_count": null,
   "metadata": {},
   "outputs": [],
   "source": [
    "x = linspace(0, 1, 1000)\n",
    "plot(x, abs(f4(x)))"
   ]
  },
  {
   "cell_type": "code",
   "execution_count": 7,
   "metadata": {},
   "outputs": [
    {
     "data": {
      "text/plain": [
       "TC (generic function with 2 methods)"
      ]
     },
     "execution_count": 7,
     "metadata": {},
     "output_type": "execute_result"
    }
   ],
   "source": [
    "function SC(f, a, b, n=10)\n",
    "    h = (b - a)/n\n",
    "    integral = f(a) + f(b)\n",
    "    x = a + h\n",
    "    for i = 1:n-1\n",
    "        if i % 2 == 0\n",
    "            integral += 2*f(x)\n",
    "        else\n",
    "            integral += 4*f(x)\n",
    "        end\n",
    "        x += h\n",
    "    end\n",
    "    return (h/3)*integral\n",
    "end\n",
    "\n",
    "function TC(f, a, b, n=10)\n",
    "    h = (b - a)/n\n",
    "    integral = 0.5*(f(a) + f(b))\n",
    "    x = a + h\n",
    "    for i = 1:n-1\n",
    "        integral += f(x)\n",
    "        x += h\n",
    "    end\n",
    "    return h*integral\n",
    "end\n",
    "\n"
   ]
  },
  {
   "cell_type": "code",
   "execution_count": 8,
   "metadata": {},
   "outputs": [
    {
     "name": "stdout",
     "output_type": "stream",
     "text": [
      "I = F(1) - F(0) => 0.746824132812427\n",
      "aproxSC = SC(f,0,1,6) => 0.7468303914893449\n",
      "abs(I - aproxSC) => 6.258676917947348e-6\n"
     ]
    },
    {
     "data": {
      "text/plain": [
       "6.258676917947348e-6"
      ]
     },
     "execution_count": 8,
     "metadata": {},
     "output_type": "execute_result"
    }
   ],
   "source": [
    "f(x) = exp(-x.^2)\n",
    "F(x) = sqrt(pi)/2.0*erf(x)\n",
    "\n",
    "@show I = F(1) - F(0)\n",
    "@show aproxSC = SC(f, 0, 1, 6)\n",
    "@show abs(I - aproxSC)"
   ]
  },
  {
   "cell_type": "code",
   "execution_count": 9,
   "metadata": {},
   "outputs": [
    {
     "data": {
      "text/plain": [
       "0.7451194124361793"
      ]
     },
     "execution_count": 9,
     "metadata": {},
     "output_type": "execute_result"
    }
   ],
   "source": [
    "aproxTC = TC(f, 0, 1, 6)"
   ]
  },
  {
   "cell_type": "code",
   "execution_count": 10,
   "metadata": {},
   "outputs": [
    {
     "name": "stdout",
     "output_type": "stream",
     "text": [
      "I = F(1) - F(-1) => 1.493648265624854\n",
      "aproxGL = GL(f) => 1.4330626211475785\n",
      "abs(I - aproxGL) => 0.060585644477275435\n"
     ]
    },
    {
     "data": {
      "text/plain": [
       "0.060585644477275435"
      ]
     },
     "execution_count": 10,
     "metadata": {},
     "output_type": "execute_result"
    }
   ],
   "source": [
    "function GL(f)\n",
    "    arg = sqrt(3)/3\n",
    "    return f(-arg) + f(arg)\n",
    "end\n",
    "\n",
    "@show I = F(1) - F(-1)\n",
    "@show aproxGL = GL(f)\n",
    "@show abs(I - aproxGL)"
   ]
  },
  {
   "cell_type": "code",
   "execution_count": 17,
   "metadata": {},
   "outputs": [
    {
     "name": "stdout",
     "output_type": "stream",
     "text": [
      "aproxT = TC(f,-1,1,3) => 1.4383720498667878\n",
      "abs(I - aproxT) => 0.05527621575806618\n"
     ]
    },
    {
     "data": {
      "text/plain": [
       "0.05527621575806618"
      ]
     },
     "execution_count": 17,
     "metadata": {},
     "output_type": "execute_result"
    }
   ],
   "source": [
    "@show aproxT = TC(f, -1, 1, 3)\n",
    "@show abs(I - aproxT)"
   ]
  },
  {
   "cell_type": "code",
   "execution_count": null,
   "metadata": {},
   "outputs": [],
   "source": []
  }
 ],
 "metadata": {
  "kernelspec": {
   "display_name": "Julia 0.6.2",
   "language": "julia",
   "name": "julia-0.6"
  },
  "language_info": {
   "file_extension": ".jl",
   "mimetype": "application/julia",
   "name": "julia",
   "version": "0.6.2"
  }
 },
 "nbformat": 4,
 "nbformat_minor": 2
}
