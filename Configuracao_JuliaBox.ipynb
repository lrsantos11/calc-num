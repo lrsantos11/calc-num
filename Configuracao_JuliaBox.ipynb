{
 "cells": [
  {
   "cell_type": "markdown",
   "metadata": {},
   "source": [
    "# Configurando o Julia para permitir o uso de gráficos\n",
    "\n",
    "Para essas notas de aulas queremos usar cadernos (ou *notebooks*) de Julia baseados na versão 1.x da linguagem. \n",
    "\n",
    "Vamos usar o ambiente *online* O ambiente ideal para isso é o [JuliaBox](https://juliabox.org).\n",
    "\n",
    "O objetivo desse pequeno caderno é justamente instalar um pacote que é fundamental para o nosso curso, que permite a geração simples de gráficos. Para conseguir isso basta colocar o cursor na caixa abaixo e apertar `shift-enter`."
   ]
  },
  {
   "cell_type": "code",
   "execution_count": null,
   "metadata": {},
   "outputs": [
    {
     "name": "stdout",
     "output_type": "stream",
     "text": [
      "\u001b[32m\u001b[1m  Building\u001b[22m\u001b[39m CMake → `~/.julia/packages/CMake/ULbyn/deps/build.log`\n"
     ]
    }
   ],
   "source": [
    "# Instala alguns pacotes fundamentais para o geração de gráficos.\n",
    "using Pkg\n",
    "Pkg.add(\"Plots\")\n",
    "Pkg.add(\"PyPlots\")\n",
    "println(\"---------------- Pronto ----------------\")"
   ]
  },
  {
   "cell_type": "markdown",
   "metadata": {},
   "source": [
    "Se você está de fato rodando os comandos acima a primeira vez ele pode demorar um pouco. Vá tomar um café e espere até aparecer a mensagem\n",
    "\n",
    "`---------------- Pronto ----------------`\n",
    "\n",
    "Depois disso, devido a um pequeno bug no sistema, você precisa reiniciar o programa que roda os códigos em Julia que é chamado de Kernel. Para isso selecione o menu `Kernel` acima e em seguida a opção `Restart` e confirme. Depois de alguns segundos você verá piscar no canto superior direito a mensagem `Kernel ready`. Agora está tudo pronto.\n",
    "\n",
    "Para testar se os pacotes foram instalados corretamente. Rode o código abaixo mais uma vez colocando o cursor lá e apertando `shift-enter` no teclado. Se deu tudo certo aparecerá o gráfico de uma função linear. Tenha um pouco de paciência, a primeira vez que você tenta gerar um gráfico é demorado. Os próximos gráficos devem aparecer mais rapidamente.\n",
    "\n",
    "Caso gráfico da função não apareça sugiro que você feche esse caderno com `File -> Close and halt` e tente de novo."
   ]
  },
  {
   "cell_type": "code",
   "execution_count": null,
   "metadata": {},
   "outputs": [],
   "source": [
    "# Carrega a biblioteca Plots para uso\n",
    "using Plots\n",
    "\n",
    "# Gera um vetor de 100 pontos equiespaçados começando no 2 e terminando no 5.\n",
    "x = r   (2, 5, 100)\n",
    "plot(x, 2*x + 3)"
   ]
  },
  {
   "cell_type": "markdown",
   "metadata": {},
   "source": [
    "Por fim, para provar que você chegou até aqui rode o código abaixo para saber a resposta para obter a resposta para o primeiro quizz no Moodle"
   ]
  },
  {
   "cell_type": "code",
   "execution_count": null,
   "metadata": {},
   "outputs": [],
   "source": [
    "A = [pi 2*pi; 1 0]\n",
    "b = [1, e]\n",
    "sol = A \\ b\n",
    "@printf \"A resposta é %.2f\\n\" sol[1]"
   ]
  },
  {
   "cell_type": "code",
   "execution_count": null,
   "metadata": {},
   "outputs": [],
   "source": []
  }
 ],
 "metadata": {
  "kernelspec": {
   "display_name": "Julia 1.3.0",
   "language": "julia",
   "name": "julia-1.3"
  },
  "language_info": {
   "file_extension": ".jl",
   "mimetype": "application/julia",
   "name": "julia",
   "version": "1.3.0"
  }
 },
 "nbformat": 4,
 "nbformat_minor": 4
}
